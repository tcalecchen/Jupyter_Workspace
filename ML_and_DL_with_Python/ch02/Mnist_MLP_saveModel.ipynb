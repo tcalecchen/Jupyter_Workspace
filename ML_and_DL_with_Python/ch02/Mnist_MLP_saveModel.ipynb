{
 "cells": [
  {
   "cell_type": "code",
   "execution_count": 1,
   "metadata": {},
   "outputs": [
    {
     "name": "stderr",
     "output_type": "stream",
     "text": [
      "Using TensorFlow backend.\n"
     ]
    }
   ],
   "source": [
    "import numpy as np\n",
    "from keras.utils import np_utils\n",
    "np.random.seed(10)\n",
    "from keras.datasets import mnist\n",
    "from keras.models import Sequential\n",
    "from keras.layers import Dense"
   ]
  },
  {
   "cell_type": "code",
   "execution_count": 2,
   "metadata": {},
   "outputs": [],
   "source": [
    "#建立訓練資料和測試資料，包括訓練特徵集、訓練標籤和測試特徵集、測試標籤\t\n",
    "(train_feature, train_label),\\\n",
    "(test_feature, test_label) = mnist.load_data()"
   ]
  },
  {
   "cell_type": "code",
   "execution_count": 3,
   "metadata": {},
   "outputs": [],
   "source": [
    "#將 Features 特徵值換為 784個 float 數字的 1 維向量\n",
    "train_feature_vector =train_feature.reshape(len(train_feature), 784).astype('float32')\n",
    "test_feature_vector = test_feature.reshape(len( test_feature), 784).astype('float32')"
   ]
  },
  {
   "cell_type": "code",
   "execution_count": 4,
   "metadata": {},
   "outputs": [],
   "source": [
    "#Features 特徵值標準化\n",
    "train_feature_normalize = train_feature_vector/255\n",
    "test_feature_normalize = test_feature_vector/255"
   ]
  },
  {
   "cell_type": "code",
   "execution_count": 5,
   "metadata": {},
   "outputs": [],
   "source": [
    "#label 轉換為 One-Hot Encoding 編碼\n",
    "train_label_onehot = np_utils.to_categorical(train_label)\n",
    "test_label_onehot = np_utils.to_categorical(test_label)"
   ]
  },
  {
   "cell_type": "code",
   "execution_count": 6,
   "metadata": {},
   "outputs": [
    {
     "name": "stderr",
     "output_type": "stream",
     "text": [
      "WARNING: Logging before flag parsing goes to stderr.\n",
      "W0827 11:42:27.804261  4536 deprecation_wrapper.py:119] From D:\\Anaconda3\\lib\\site-packages\\keras\\backend\\tensorflow_backend.py:74: The name tf.get_default_graph is deprecated. Please use tf.compat.v1.get_default_graph instead.\n",
      "\n"
     ]
    }
   ],
   "source": [
    "#建立模型\n",
    "model = Sequential()"
   ]
  },
  {
   "cell_type": "code",
   "execution_count": 7,
   "metadata": {},
   "outputs": [
    {
     "name": "stderr",
     "output_type": "stream",
     "text": [
      "W0827 11:42:29.677307  4536 deprecation_wrapper.py:119] From D:\\Anaconda3\\lib\\site-packages\\keras\\backend\\tensorflow_backend.py:517: The name tf.placeholder is deprecated. Please use tf.compat.v1.placeholder instead.\n",
      "\n",
      "W0827 11:42:29.879272  4536 deprecation_wrapper.py:119] From D:\\Anaconda3\\lib\\site-packages\\keras\\backend\\tensorflow_backend.py:4115: The name tf.random_normal is deprecated. Please use tf.random.normal instead.\n",
      "\n"
     ]
    }
   ],
   "source": [
    "#輸入層：784, 隱藏層：256，輸出層：10\n",
    "model.add(Dense(units=256, \n",
    "                input_dim=784, \n",
    "                kernel_initializer='normal', \n",
    "                activation='relu'))\n",
    "model.add(Dense(units=10, \n",
    "                kernel_initializer='normal', \n",
    "                activation='softmax'))"
   ]
  },
  {
   "cell_type": "code",
   "execution_count": 8,
   "metadata": {},
   "outputs": [
    {
     "name": "stderr",
     "output_type": "stream",
     "text": [
      "W0827 11:42:34.252442  4536 deprecation_wrapper.py:119] From D:\\Anaconda3\\lib\\site-packages\\keras\\optimizers.py:790: The name tf.train.Optimizer is deprecated. Please use tf.compat.v1.train.Optimizer instead.\n",
      "\n",
      "W0827 11:42:34.306506  4536 deprecation_wrapper.py:119] From D:\\Anaconda3\\lib\\site-packages\\keras\\backend\\tensorflow_backend.py:3295: The name tf.log is deprecated. Please use tf.math.log instead.\n",
      "\n"
     ]
    }
   ],
   "source": [
    "#定義訓練方式\n",
    "model.compile(loss='categorical_crossentropy', \n",
    "              optimizer='adam', metrics=['accuracy'])"
   ]
  },
  {
   "cell_type": "code",
   "execution_count": 9,
   "metadata": {},
   "outputs": [
    {
     "name": "stderr",
     "output_type": "stream",
     "text": [
      "W0827 11:42:35.822360  4536 deprecation.py:323] From D:\\Anaconda3\\lib\\site-packages\\tensorflow\\python\\ops\\math_grad.py:1250: add_dispatch_support.<locals>.wrapper (from tensorflow.python.ops.array_ops) is deprecated and will be removed in a future version.\n",
      "Instructions for updating:\n",
      "Use tf.where in 2.0, which has the same broadcast rule as np.where\n",
      "W0827 11:42:35.863553  4536 deprecation_wrapper.py:119] From D:\\Anaconda3\\lib\\site-packages\\keras\\backend\\tensorflow_backend.py:986: The name tf.assign_add is deprecated. Please use tf.compat.v1.assign_add instead.\n",
      "\n"
     ]
    },
    {
     "name": "stdout",
     "output_type": "stream",
     "text": [
      "Train on 48000 samples, validate on 12000 samples\n",
      "Epoch 1/10\n",
      " - 2s - loss: 0.4409 - acc: 0.8821 - val_loss: 0.2186 - val_acc: 0.9405\n",
      "Epoch 2/10\n",
      " - 1s - loss: 0.1914 - acc: 0.9455 - val_loss: 0.1562 - val_acc: 0.9553\n",
      "Epoch 3/10\n",
      " - 1s - loss: 0.1359 - acc: 0.9616 - val_loss: 0.1264 - val_acc: 0.9643\n",
      "Epoch 4/10\n",
      " - 1s - loss: 0.1035 - acc: 0.9704 - val_loss: 0.1124 - val_acc: 0.9679\n",
      "Epoch 5/10\n",
      " - 1s - loss: 0.0817 - acc: 0.9775 - val_loss: 0.0986 - val_acc: 0.9718\n",
      "Epoch 6/10\n",
      " - 1s - loss: 0.0663 - acc: 0.9815 - val_loss: 0.0947 - val_acc: 0.9718\n",
      "Epoch 7/10\n",
      " - 1s - loss: 0.0547 - acc: 0.9850 - val_loss: 0.0907 - val_acc: 0.9742\n",
      "Epoch 8/10\n",
      " - 1s - loss: 0.0460 - acc: 0.9876 - val_loss: 0.0830 - val_acc: 0.9760\n",
      "Epoch 9/10\n",
      " - 1s - loss: 0.0381 - acc: 0.9901 - val_loss: 0.0815 - val_acc: 0.9763\n",
      "Epoch 10/10\n",
      " - 1s - loss: 0.0316 - acc: 0.9917 - val_loss: 0.0798 - val_acc: 0.9765\n"
     ]
    }
   ],
   "source": [
    "#以(train_feature_normalize,train_label_onehot)資料訓練，\n",
    "#訓練資料保留 20% 作驗證,訓練10次、每批次讀取200筆資料，顯示簡易訓練過程\n",
    "train_history =model.fit(x=train_feature_normalize,\n",
    "                         y=train_label_onehot,validation_split=0.2, \n",
    "                         epochs=10, batch_size=200,verbose=2)"
   ]
  },
  {
   "cell_type": "code",
   "execution_count": 10,
   "metadata": {},
   "outputs": [
    {
     "name": "stdout",
     "output_type": "stream",
     "text": [
      "10000/10000 [==============================] - 0s 16us/step\n",
      "\n",
      "準確率= 0.9759\n"
     ]
    }
   ],
   "source": [
    "#評估準確率\n",
    "scores = model.evaluate(test_feature_normalize, test_label_onehot)\n",
    "print('\\n準確率=',scores[1])"
   ]
  },
  {
   "cell_type": "code",
   "execution_count": 11,
   "metadata": {},
   "outputs": [
    {
     "name": "stdout",
     "output_type": "stream",
     "text": [
      "Mnist_mlp_model.h5 模型儲存完畢!\n"
     ]
    }
   ],
   "source": [
    "#將模型儲存至 HDF5檔案中\n",
    "model.save('Mnist_mlp_model.h5')\n",
    "print(\"Mnist_mlp_model.h5 模型儲存完畢!\")\n",
    "del model"
   ]
  }
 ],
 "metadata": {
  "kernelspec": {
   "display_name": "Python 3",
   "language": "python",
   "name": "python3"
  },
  "language_info": {
   "codemirror_mode": {
    "name": "ipython",
    "version": 3
   },
   "file_extension": ".py",
   "mimetype": "text/x-python",
   "name": "python",
   "nbconvert_exporter": "python",
   "pygments_lexer": "ipython3",
   "version": "3.7.3"
  }
 },
 "nbformat": 4,
 "nbformat_minor": 2
}
