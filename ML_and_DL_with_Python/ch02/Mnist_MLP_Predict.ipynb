{
 "cells": [
  {
   "cell_type": "code",
   "execution_count": 1,
   "metadata": {},
   "outputs": [
    {
     "name": "stderr",
     "output_type": "stream",
     "text": [
      "Using TensorFlow backend.\n"
     ]
    }
   ],
   "source": [
    "import numpy as np\n",
    "np.random.seed(10)\n",
    "import matplotlib.pyplot as plt\n",
    "from keras.models import load_model\n",
    "import glob,cv2"
   ]
  },
  {
   "cell_type": "code",
   "execution_count": 2,
   "metadata": {},
   "outputs": [],
   "source": [
    "def show_images_labels_predictions(images,labels,\n",
    "                                  predictions,start_id,num=10):\n",
    "    plt.gcf().set_size_inches(12, 14)\n",
    "    if num>25: num=25 \n",
    "    for i in range(0, num):\n",
    "        ax=plt.subplot(5,5, 1+i)\n",
    "        #顯示黑白圖片\n",
    "        ax.imshow(images[start_id], cmap='binary')\n",
    "        \n",
    "        # 有 AI 預測結果資料, 才在標題顯示預測結果\n",
    "        if( len(predictions) > 0 ) :\n",
    "            title = 'ai = ' + str(predictions[i])\n",
    "            # 預測正確顯示(o), 錯誤顯示(x)\n",
    "            title += (' (o)' if predictions[i]==labels[i] else ' (x)') \n",
    "            title += '\\nlabel = ' + str(labels[i])\n",
    "        # 沒有 AI 預測結果資料, 只在標題顯示真實數值\n",
    "        else :\n",
    "            title = 'label = ' + str(labels[i])\n",
    "            \n",
    "        # X, Y 軸不顯示刻度    \n",
    "        ax.set_title(title,fontsize=12) \n",
    "        ax.set_xticks([]);ax.set_yticks([])        \n",
    "        start_id+=1 \n",
    "    plt.show()"
   ]
  },
  {
   "cell_type": "code",
   "execution_count": 10,
   "metadata": {},
   "outputs": [],
   "source": [
    "#建立測試特徵集、測試標籤\t    \n",
    "files = glob.glob(\"imagedata\\*.jpg\" )\n",
    "test_feature=[]\n",
    "test_label=[]\n",
    "for file in files:\n",
    "    img=cv2.imread(file)\n",
    "    img=cv2.cvtColor(img,cv2.COLOR_BGR2GRAY)  #灰階    \n",
    "    _, img = cv2.threshold(img, 120, 255, cv2.THRESH_BINARY_INV) #轉為反相黑白 \n",
    "    test_feature.append(img)\n",
    "    label=file[10:11]  # \"imagedata\\1.jpg\" 第 10 個字元 1 為 label\n",
    "    test_label.append(int(label))"
   ]
  },
  {
   "cell_type": "code",
   "execution_count": 11,
   "metadata": {},
   "outputs": [],
   "source": [
    "test_feature=np.array(test_feature) # 串列轉為矩陣 \n",
    "test_label=np.array(test_label)     # 串列轉為矩陣"
   ]
  },
  {
   "cell_type": "code",
   "execution_count": 12,
   "metadata": {},
   "outputs": [],
   "source": [
    "#將 Features 特徵值換為 784個 float 數字的 1 維向量\n",
    "test_feature_vector = test_feature.reshape(len( test_feature), 784).astype('float32')"
   ]
  },
  {
   "cell_type": "code",
   "execution_count": 13,
   "metadata": {},
   "outputs": [],
   "source": [
    "#Features 特徵值標準化\n",
    "test_feature_normalize = test_feature_vector/255"
   ]
  },
  {
   "cell_type": "code",
   "execution_count": 14,
   "metadata": {},
   "outputs": [
    {
     "name": "stdout",
     "output_type": "stream",
     "text": [
      "載入模型 Mnist_mlp_model.h5\n"
     ]
    }
   ],
   "source": [
    "#從 HDF5 檔案中載入模型\n",
    "print(\"載入模型 Mnist_mlp_model.h5\")\n",
    "model = load_model('Mnist_mlp_model.h5')"
   ]
  },
  {
   "cell_type": "code",
   "execution_count": 15,
   "metadata": {},
   "outputs": [],
   "source": [
    "#預測\n",
    "prediction=model.predict_classes(test_feature_normalize)"
   ]
  },
  {
   "cell_type": "code",
   "execution_count": 16,
   "metadata": {},
   "outputs": [
    {
     "data": {
      "image/png": "[encoded data removed]",
      "text/plain": [
       "<Figure size 864x1008 with 19 Axes>"
      ]
     },
     "metadata": {},
     "output_type": "display_data"
    }
   ],
   "source": [
    "#顯示圖像、預測值、真實值 \n",
    "show_images_labels_predictions(test_feature,test_label,prediction,0,len(test_feature))"
   ]
  }
 ],
 "metadata": {
  "kernelspec": {
   "display_name": "Python 3",
   "language": "python",
   "name": "python3"
  },
  "language_info": {
   "codemirror_mode": {
    "name": "ipython",
    "version": 3
   },
   "file_extension": ".py",
   "mimetype": "text/x-python",
   "name": "python",
   "nbconvert_exporter": "python",
   "pygments_lexer": "ipython3",
   "version": "3.7.3"
  }
 },
 "nbformat": 4,
 "nbformat_minor": 2
}
