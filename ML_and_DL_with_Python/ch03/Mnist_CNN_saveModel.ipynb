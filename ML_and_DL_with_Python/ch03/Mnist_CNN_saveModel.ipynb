{
 "cells": [
  {
   "cell_type": "code",
   "execution_count": 1,
   "metadata": {},
   "outputs": [
    {
     "name": "stderr",
     "output_type": "stream",
     "text": [
      "Using TensorFlow backend.\n"
     ]
    }
   ],
   "source": [
    "import numpy as np\n",
    "from keras.utils import np_utils\n",
    "np.random.seed(10)\n",
    "from keras.datasets import mnist\n",
    "from keras.models import Sequential\n",
    "from keras.layers import Conv2D,MaxPooling2D,Dropout,Flatten,Dense"
   ]
  },
  {
   "cell_type": "code",
   "execution_count": 2,
   "metadata": {},
   "outputs": [],
   "source": [
    "#建立訓練資料和測試資料，包括訓練特徵集、訓練標籤和測試特徵集、測試標籤\t\n",
    "(train_feature, train_label),\\\n",
    "(test_feature, test_label) = mnist.load_data() "
   ]
  },
  {
   "cell_type": "code",
   "execution_count": 3,
   "metadata": {},
   "outputs": [],
   "source": [
    "# 將 Features 特徵值換為 60000*28*28*1 的 4 維矩陣\n",
    "train_feature_vector =train_feature.reshape(len(train_feature), 28,28,1).astype('float32')\n",
    "test_feature_vector = test_feature.reshape(len( test_feature), 28,28,1).astype('float32')"
   ]
  },
  {
   "cell_type": "code",
   "execution_count": 4,
   "metadata": {},
   "outputs": [],
   "source": [
    "# Features 特徵值標準化\n",
    "train_feature_normalize = train_feature_vector/255\n",
    "test_feature_normalize = test_feature_vector/255"
   ]
  },
  {
   "cell_type": "code",
   "execution_count": 5,
   "metadata": {},
   "outputs": [],
   "source": [
    "# label 轉換為 One-Hot Encoding 編碼\n",
    "train_label_onehot = np_utils.to_categorical(train_label)\n",
    "test_label_onehot = np_utils.to_categorical(test_label)"
   ]
  },
  {
   "cell_type": "code",
   "execution_count": 6,
   "metadata": {},
   "outputs": [
    {
     "name": "stderr",
     "output_type": "stream",
     "text": [
      "WARNING: Logging before flag parsing goes to stderr.\n",
      "W0829 16:48:09.398148 36708 deprecation_wrapper.py:119] From D:\\Anaconda3\\lib\\site-packages\\keras\\backend\\tensorflow_backend.py:74: The name tf.get_default_graph is deprecated. Please use tf.compat.v1.get_default_graph instead.\n",
      "\n"
     ]
    }
   ],
   "source": [
    "# 建立模型\n",
    "model = Sequential()"
   ]
  },
  {
   "cell_type": "code",
   "execution_count": 7,
   "metadata": {},
   "outputs": [
    {
     "name": "stderr",
     "output_type": "stream",
     "text": [
      "W0829 16:48:12.183421 36708 deprecation_wrapper.py:119] From D:\\Anaconda3\\lib\\site-packages\\keras\\backend\\tensorflow_backend.py:517: The name tf.placeholder is deprecated. Please use tf.compat.v1.placeholder instead.\n",
      "\n",
      "W0829 16:48:12.186422 36708 deprecation_wrapper.py:119] From D:\\Anaconda3\\lib\\site-packages\\keras\\backend\\tensorflow_backend.py:4138: The name tf.random_uniform is deprecated. Please use tf.random.uniform instead.\n",
      "\n"
     ]
    }
   ],
   "source": [
    "# 建立卷積層 1\n",
    "model.add(Conv2D(filters=10, \n",
    "                 kernel_size=(5,5),\n",
    "                 padding='same',\n",
    "                 input_shape=(28,28,1), \n",
    "                 activation='relu'))"
   ]
  },
  {
   "cell_type": "code",
   "execution_count": 8,
   "metadata": {},
   "outputs": [
    {
     "name": "stderr",
     "output_type": "stream",
     "text": [
      "W0829 16:48:13.534589 36708 deprecation_wrapper.py:119] From D:\\Anaconda3\\lib\\site-packages\\keras\\backend\\tensorflow_backend.py:3976: The name tf.nn.max_pool is deprecated. Please use tf.nn.max_pool2d instead.\n",
      "\n"
     ]
    }
   ],
   "source": [
    "# 建立池化層 1\n",
    "model.add(MaxPooling2D(pool_size=(2, 2))) #(10,14,14)"
   ]
  },
  {
   "cell_type": "code",
   "execution_count": 9,
   "metadata": {},
   "outputs": [],
   "source": [
    "# 建立卷積層 2\n",
    "model.add(Conv2D(filters=20, \n",
    "                 kernel_size=(5,5),  \n",
    "                 padding='same',\n",
    "                 activation='relu'))"
   ]
  },
  {
   "cell_type": "code",
   "execution_count": 10,
   "metadata": {},
   "outputs": [],
   "source": [
    "# 建立池化層 2\n",
    "model.add(MaxPooling2D(pool_size=(2, 2))) #(20,7,7)"
   ]
  },
  {
   "cell_type": "code",
   "execution_count": 11,
   "metadata": {},
   "outputs": [
    {
     "name": "stderr",
     "output_type": "stream",
     "text": [
      "W0829 16:48:18.629522 36708 deprecation_wrapper.py:119] From D:\\Anaconda3\\lib\\site-packages\\keras\\backend\\tensorflow_backend.py:133: The name tf.placeholder_with_default is deprecated. Please use tf.compat.v1.placeholder_with_default instead.\n",
      "\n",
      "W0829 16:48:18.637524 36708 deprecation.py:506] From D:\\Anaconda3\\lib\\site-packages\\keras\\backend\\tensorflow_backend.py:3445: calling dropout (from tensorflow.python.ops.nn_ops) with keep_prob is deprecated and will be removed in a future version.\n",
      "Instructions for updating:\n",
      "Please use `rate` instead of `keep_prob`. Rate should be set to `rate = 1 - keep_prob`.\n"
     ]
    }
   ],
   "source": [
    "# Dropout層防止過度擬合，斷開比例:0.2\n",
    "model.add(Dropout(0.2))"
   ]
  },
  {
   "cell_type": "code",
   "execution_count": 12,
   "metadata": {},
   "outputs": [],
   "source": [
    "# 建立平坦層：20*7*7=980 個神經元\n",
    "model.add(Flatten()) "
   ]
  },
  {
   "cell_type": "code",
   "execution_count": 13,
   "metadata": {},
   "outputs": [],
   "source": [
    "# 建立隱藏層\n",
    "model.add(Dense(units=256, activation='relu'))"
   ]
  },
  {
   "cell_type": "code",
   "execution_count": 14,
   "metadata": {},
   "outputs": [],
   "source": [
    "# 建立輸出層\n",
    "model.add(Dense(units=10,activation='softmax'))"
   ]
  },
  {
   "cell_type": "code",
   "execution_count": 15,
   "metadata": {},
   "outputs": [
    {
     "name": "stdout",
     "output_type": "stream",
     "text": [
      "_________________________________________________________________\n",
      "Layer (type)                 Output Shape              Param #   \n",
      "=================================================================\n",
      "conv2d_1 (Conv2D)            (None, 28, 28, 10)        260       \n",
      "_________________________________________________________________\n",
      "max_pooling2d_1 (MaxPooling2 (None, 14, 14, 10)        0         \n",
      "_________________________________________________________________\n",
      "conv2d_2 (Conv2D)            (None, 14, 14, 20)        5020      \n",
      "_________________________________________________________________\n",
      "max_pooling2d_2 (MaxPooling2 (None, 7, 7, 20)          0         \n",
      "_________________________________________________________________\n",
      "dropout_1 (Dropout)          (None, 7, 7, 20)          0         \n",
      "_________________________________________________________________\n",
      "flatten_1 (Flatten)          (None, 980)               0         \n",
      "_________________________________________________________________\n",
      "dense_1 (Dense)              (None, 256)               251136    \n",
      "_________________________________________________________________\n",
      "dense_2 (Dense)              (None, 10)                2570      \n",
      "=================================================================\n",
      "Total params: 258,986\n",
      "Trainable params: 258,986\n",
      "Non-trainable params: 0\n",
      "_________________________________________________________________\n"
     ]
    }
   ],
   "source": [
    "model.summary()"
   ]
  },
  {
   "cell_type": "code",
   "execution_count": 16,
   "metadata": {},
   "outputs": [
    {
     "name": "stdout",
     "output_type": "stream",
     "text": [
      "載入模型失敗，開始訓練一個新模型!\n"
     ]
    }
   ],
   "source": [
    "# 這些訓練會累積，準確率會愈來愈高\n",
    "try:\n",
    "    model.load_weights(\"Mnist_cnn_model.weight\")\n",
    "    print(\"載入模型參數成功，繼續訓練模型!\")\n",
    "except :    \n",
    "    print(\"載入模型失敗，開始訓練一個新模型!\")"
   ]
  },
  {
   "cell_type": "code",
   "execution_count": 17,
   "metadata": {},
   "outputs": [
    {
     "name": "stderr",
     "output_type": "stream",
     "text": [
      "W0829 16:48:30.262273 36708 deprecation_wrapper.py:119] From D:\\Anaconda3\\lib\\site-packages\\keras\\optimizers.py:790: The name tf.train.Optimizer is deprecated. Please use tf.compat.v1.train.Optimizer instead.\n",
      "\n",
      "W0829 16:48:30.284268 36708 deprecation_wrapper.py:119] From D:\\Anaconda3\\lib\\site-packages\\keras\\backend\\tensorflow_backend.py:3295: The name tf.log is deprecated. Please use tf.math.log instead.\n",
      "\n"
     ]
    }
   ],
   "source": [
    "# 定義訓練方式\n",
    "model.compile(loss='categorical_crossentropy', \n",
    "              optimizer='adam', metrics=['accuracy'])"
   ]
  },
  {
   "cell_type": "code",
   "execution_count": 18,
   "metadata": {},
   "outputs": [
    {
     "name": "stderr",
     "output_type": "stream",
     "text": [
      "W0829 16:48:32.961814 36708 deprecation.py:323] From D:\\Anaconda3\\lib\\site-packages\\tensorflow\\python\\ops\\math_grad.py:1250: add_dispatch_support.<locals>.wrapper (from tensorflow.python.ops.array_ops) is deprecated and will be removed in a future version.\n",
      "Instructions for updating:\n",
      "Use tf.where in 2.0, which has the same broadcast rule as np.where\n"
     ]
    },
    {
     "name": "stdout",
     "output_type": "stream",
     "text": [
      "Train on 48000 samples, validate on 12000 samples\n",
      "Epoch 1/10\n",
      "48000/48000 [==============================] - 20s 420us/step - loss: 0.3325 - acc: 0.9030 - val_loss: 0.0886 - val_acc: 0.9733\n",
      "Epoch 2/10\n",
      "48000/48000 [==============================] - 20s 410us/step - loss: 0.0869 - acc: 0.9730 - val_loss: 0.0647 - val_acc: 0.9804\n",
      "Epoch 3/10\n",
      "48000/48000 [==============================] - 20s 410us/step - loss: 0.0633 - acc: 0.9801 - val_loss: 0.0509 - val_acc: 0.9845\n",
      "Epoch 4/10\n",
      "48000/48000 [==============================] - 20s 409us/step - loss: 0.0514 - acc: 0.9838 - val_loss: 0.0475 - val_acc: 0.9859\n",
      "Epoch 5/10\n",
      "48000/48000 [==============================] - 20s 410us/step - loss: 0.0408 - acc: 0.9871 - val_loss: 0.0421 - val_acc: 0.9864\n",
      "Epoch 6/10\n",
      "48000/48000 [==============================] - 20s 411us/step - loss: 0.0348 - acc: 0.9894 - val_loss: 0.0381 - val_acc: 0.9878\n",
      "Epoch 7/10\n",
      "48000/48000 [==============================] - 20s 408us/step - loss: 0.0306 - acc: 0.9899 - val_loss: 0.0361 - val_acc: 0.9887\n",
      "Epoch 8/10\n",
      "48000/48000 [==============================] - 20s 412us/step - loss: 0.0268 - acc: 0.9913 - val_loss: 0.0373 - val_acc: 0.9893\n",
      "Epoch 9/10\n",
      "48000/48000 [==============================] - 20s 418us/step - loss: 0.0239 - acc: 0.9919 - val_loss: 0.0355 - val_acc: 0.9882\n",
      "Epoch 10/10\n",
      "48000/48000 [==============================] - 20s 416us/step - loss: 0.0204 - acc: 0.9933 - val_loss: 0.0330 - val_acc: 0.9897\n"
     ]
    }
   ],
   "source": [
    "# 以(train_feature_normalize,train_label_onehot)資料訓練，\n",
    "# 訓練資料保留 20% 作驗證,訓練 10 次、每批次讀取 200 筆資料，顯示完整訓練過程\n",
    "train_history =model.fit(x=train_feature_normalize,\n",
    "                         y=train_label_onehot,validation_split=0.2, \n",
    "                         epochs=10, batch_size=200,verbose=1)"
   ]
  },
  {
   "cell_type": "code",
   "execution_count": 19,
   "metadata": {},
   "outputs": [
    {
     "name": "stdout",
     "output_type": "stream",
     "text": [
      "10000/10000 [==============================] - 1s 131us/step\n",
      "\n",
      "準確率= 0.9907\n"
     ]
    }
   ],
   "source": [
    "#評估準確率\n",
    "scores = model.evaluate(test_feature_normalize, test_label_onehot)\n",
    "print('\\n準確率=',scores[1])"
   ]
  },
  {
   "cell_type": "code",
   "execution_count": 20,
   "metadata": {},
   "outputs": [
    {
     "name": "stdout",
     "output_type": "stream",
     "text": [
      "\n",
      "Mnist_cnn_model.h5 模型儲存完畢!\n",
      "Mnist_cnn_model.weight 模型參數儲存完畢!\n"
     ]
    }
   ],
   "source": [
    "# 儲存模型\n",
    "model.save('Mnist_cnn_model.h5')\n",
    "print(\"\\nMnist_cnn_model.h5 模型儲存完畢!\")\n",
    "model.save_weights(\"Mnist_cnn_model.weight\")\n",
    "print(\"Mnist_cnn_model.weight 模型參數儲存完畢!\")"
   ]
  },
  {
   "cell_type": "code",
   "execution_count": 21,
   "metadata": {},
   "outputs": [],
   "source": [
    "del model     "
   ]
  },
  {
   "cell_type": "code",
   "execution_count": null,
   "metadata": {},
   "outputs": [],
   "source": []
  }
 ],
 "metadata": {
  "kernelspec": {
   "display_name": "Python 3",
   "language": "python",
   "name": "python3"
  },
  "language_info": {
   "codemirror_mode": {
    "name": "ipython",
    "version": 3
   },
   "file_extension": ".py",
   "mimetype": "text/x-python",
   "name": "python",
   "nbconvert_exporter": "python",
   "pygments_lexer": "ipython3",
   "version": "3.7.3"
  }
 },
 "nbformat": 4,
 "nbformat_minor": 2
}
