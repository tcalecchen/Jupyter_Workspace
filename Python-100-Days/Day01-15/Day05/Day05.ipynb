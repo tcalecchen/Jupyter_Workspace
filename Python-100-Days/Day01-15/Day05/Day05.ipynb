{
 "cells": [
  {
   "cell_type": "markdown",
   "metadata": {},
   "source": [
    "## chicken"
   ]
  },
  {
   "cell_type": "code",
   "execution_count": null,
   "metadata": {},
   "outputs": [],
   "source": [
    "\"\"\"\n",
    "求解《百錢百雞》问题\n",
    "1 隻公雞 5 元、1 隻母雞 3 元、3 隻小雞 1 元，用 100 元買 100 隻雞\n",
    "問公雞、母雞、小雞各有多少隻\n",
    "\"\"\"\n",
    "\n",
    "for x in range(0, 20):  # 公雞最多可買 20 隻\n",
    "    for y in range(0, 33): # 母雞最多可買 33 隻\n",
    "        z = 100 - x - y    # 小雞為 100 減去公雞和母雞 \n",
    "        if 5 * x + 3 * y + z / 3 == 100:\n",
    "            print('公雞: %d隻, 母雞: %d隻, 小雞: %d隻' % (x, y, z))\n",
    "\n",
    "# 要理解程序背后的算法 - 窮舉法"
   ]
  },
  {
   "cell_type": "markdown",
   "metadata": {},
   "source": [
    "## craps"
   ]
  },
  {
   "cell_type": "code",
   "execution_count": null,
   "metadata": {},
   "outputs": [],
   "source": [
    "\"\"\"\n",
    "Craps赌博遊戲\n",
    "玩家摇两颗骰子，如果第一次摇出 7 點或 11 點 玩家勝\n",
    "如果摇出2點 3點 12點 莊家勝 其他情况遊戲繼續\n",
    "玩家再次要骰子 如果摇出 7 点 莊家勝\n",
    "如果摇出第一次摇的點数 玩家勝\n",
    "否则遊戲繼續 玩家繼續摇骰子\n",
    "玩家進入遊戲時有 1000 元的赌注 全部輸光遊戲结束\n",
    "\"\"\"\n",
    "\n",
    "from random import randint\n",
    "\n",
    "money = 1000\n",
    "while money > 0:\n",
    "    print('你的總資產為:', money)\n",
    "    needs_go_on = False\n",
    "    while True:\n",
    "        debt = int(input('請下注: '))\n",
    "        if debt > 0 and debt <= money:\n",
    "            break\n",
    "    first = randint(1, 6) + randint(1, 6)\n",
    "    print('玩家摇出了%d點' % first)\n",
    "    if first == 7 or first == 11:\n",
    "        print('玩家勝!')\n",
    "        money += debt\n",
    "    elif first == 2 or first == 3 or first == 12:\n",
    "        print('莊家勝!')\n",
    "        money -= debt\n",
    "    else:\n",
    "        needs_go_on = True\n",
    "\n",
    "    while needs_go_on:\n",
    "        current = randint(1, 6) + randint(1, 6)\n",
    "        print('玩家摇出了%d點' % current)\n",
    "        if current == 7:\n",
    "            print('莊家勝')\n",
    "            money -= debt\n",
    "            needs_go_on = False\n",
    "        elif current == first:\n",
    "            print('玩家勝')\n",
    "            money += debt\n",
    "            needs_go_on = False\n",
    "\n",
    "print('你破產了, 遊戲结束!')"
   ]
  },
  {
   "cell_type": "markdown",
   "metadata": {},
   "source": [
    "## fibonacci\n",
    "\n",
    "在數學上，費波那契數列是以遞迴的方法來定義：\n",
    "\n",
    " * $F_{0} = 0$\n",
    "\n",
    " * $F_{1} = 1$\n",
    "\n",
    " * $F_{n} = F_{{n-1}}+F_{{n-2}}（n≧2）$\n",
    "\n",
    "用文字來說，就是費波那契數列由0和1開始，之後的費波那契系數就是由之前的兩數相加而得出。"
   ]
  },
  {
   "cell_type": "code",
   "execution_count": null,
   "metadata": {},
   "outputs": [],
   "source": [
    "\"\"\"\n",
    "輸出費波那契數列的前 20 個數\n",
    "1 1 2 3 5 8 13 21 ...\n",
    "\"\"\"\n",
    "\n",
    "a = 0\n",
    "b = 1\n",
    "for _ in range(20):\n",
    "    (a, b) = (b, a + b)\n",
    "    print(a, end=' ')"
   ]
  },
  {
   "cell_type": "markdown",
   "metadata": {},
   "source": [
    "## guess"
   ]
  },
  {
   "cell_type": "code",
   "execution_count": null,
   "metadata": {},
   "outputs": [],
   "source": [
    "\"\"\"\n",
    "猜數字遊戲\n",
    "電腦出一個 1~100 之間的随機數由人来猜\n",
    "電腦根據人猜的數字分别给出提示大一點/小一點/猜对了\n",
    "\"\"\"\n",
    "\n",
    "import random\n",
    "\n",
    "answer = random.randint(1, 100)\n",
    "counter = 0\n",
    "while True:\n",
    "    counter += 1\n",
    "    number = int(input('請輸入: '))\n",
    "    if number < answer:\n",
    "        print('大一點')\n",
    "    elif number > answer:\n",
    "        print('小一點')\n",
    "    else:\n",
    "        print('恭喜你猜對了!')\n",
    "        break\n",
    "print('你總共猜了%d次' % counter)\n",
    "if counter > 7:\n",
    "    print('你的智商餘額明顯不足')"
   ]
  },
  {
   "cell_type": "markdown",
   "metadata": {},
   "source": [
    "## lily"
   ]
  },
  {
   "cell_type": "code",
   "execution_count": null,
   "metadata": {},
   "outputs": [],
   "source": [
    "\"\"\"\n",
    "找出 100~999 之間的所有水仙花數\n",
    "水仙花數是各位數立方和等于這個數本身的數字\n",
    "如: 153 = 1**3 + 5**3 + 3**3\n",
    "\"\"\"\n",
    "\n",
    "for num in range(100, 1000):\n",
    "    low = num % 10        # 取個位數\n",
    "    mid = num // 10 % 10  # 取十位數\n",
    "    high = num // 100     # 取百位數\n",
    "    if num == low ** 3 + mid ** 3 + high ** 3:\n",
    "        print(num)"
   ]
  },
  {
   "cell_type": "markdown",
   "metadata": {},
   "source": [
    "## palindrome"
   ]
  },
  {
   "cell_type": "code",
   "execution_count": null,
   "metadata": {},
   "outputs": [],
   "source": [
    "\"\"\"\n",
    "判斷輸入的正整數是不是回文數\n",
    "回文數是指將一個正整數從左往右排列和從右往左排列，其數值一樣的數\n",
    "如：14641\n",
    "\"\"\"\n",
    "\n",
    "num = int(input('請輸入一個正整數: '))\n",
    "temp = num\n",
    "num2 = 0\n",
    "while temp > 0:\n",
    "    num2 *= 10\n",
    "    num2 += temp % 10\n",
    "    temp //= 10\n",
    "if num == num2:\n",
    "    print('%d是回文數' % num)\n",
    "else:\n",
    "    print('%d不是回文數' % num)"
   ]
  },
  {
   "cell_type": "code",
   "execution_count": 4,
   "metadata": {},
   "outputs": [
    {
     "name": "stdout",
     "output_type": "stream",
     "text": [
      "temp1 14641\n",
      "num2-1 0\n",
      "num2-2 1\n",
      "temp2 1464\n",
      "temp1 1464\n",
      "num2-1 10\n",
      "num2-2 14\n",
      "temp2 146\n",
      "temp1 146\n",
      "num2-1 140\n",
      "num2-2 146\n",
      "temp2 14\n",
      "temp1 14\n",
      "num2-1 1460\n",
      "num2-2 1464\n",
      "temp2 1\n",
      "temp1 1\n",
      "num2-1 14640\n",
      "num2-2 14641\n",
      "temp2 0\n",
      "14641是回文數\n"
     ]
    }
   ],
   "source": [
    "num = 14641\n",
    "temp = num\n",
    "num2 = 0\n",
    "while temp > 0:\n",
    "    print('temp1', temp)\n",
    "    num2 *= 10\n",
    "    print('num2-1', num2)\n",
    "    num2 += temp % 10\n",
    "    print('num2-2', num2)\n",
    "    temp //= 10\n",
    "    print('temp2', temp)\n",
    "if num == num2:\n",
    "    print('%d是回文數' % num)\n",
    "else:\n",
    "    print('%d不是回文數' % num)"
   ]
  },
  {
   "cell_type": "markdown",
   "metadata": {},
   "source": [
    "## perfect"
   ]
  },
  {
   "cell_type": "code",
   "execution_count": 8,
   "metadata": {},
   "outputs": [
    {
     "name": "stdout",
     "output_type": "stream",
     "text": [
      "1\n",
      "6\n",
      "28\n",
      "496\n",
      "8128\n",
      "執行時間: 0.078125 秒\n"
     ]
    }
   ],
   "source": [
    "\"\"\"\n",
    "找出 1~9999 之間的所有完美數\n",
    "完美數是除自身外其他所有因子的和正好等於這個數本身的數\n",
    "例如: 6 = 1 + 2 + 3, 28 = 1 + 2 + 4 + 7 + 14\n",
    "\"\"\"\n",
    "import time\n",
    "import math\n",
    "\n",
    "start = time.process_time()\n",
    "for num in range(1, 10000):\n",
    "    sum = 0\n",
    "    for factor in range(1, int(math.sqrt(num)) + 1):\n",
    "        if num % factor == 0:\n",
    "            sum += factor\n",
    "            if factor > 1 and num / factor != factor:\n",
    "                sum += num / factor\n",
    "    if sum == num:\n",
    "        print(num)\n",
    "end = time.process_time()\n",
    "print(\"執行時間:\", (end - start), \"秒\")\n",
    "\n",
    "# 通過比較上面兩種不同的解决方案的執行時間 意識到優化程式的重要性"
   ]
  },
  {
   "cell_type": "markdown",
   "metadata": {},
   "source": [
    "## prime"
   ]
  },
  {
   "cell_type": "code",
   "execution_count": 9,
   "metadata": {},
   "outputs": [
    {
     "name": "stdout",
     "output_type": "stream",
     "text": [
      "2 3 5 7 11 13 17 19 23 29 31 37 41 43 47 53 59 61 67 71 73 79 83 89 97 "
     ]
    }
   ],
   "source": [
    "\"\"\"\n",
    "輸出 2~99 之間的質數（質數：所謂質數或稱素數，就是一個正整數，除了本身和 1 以外並沒有任何其他因子。）\n",
    "\"\"\"\n",
    "\n",
    "import math\n",
    "\n",
    "for num in range(2, 100):\n",
    "    is_prime = True\n",
    "    for factor in range(2, int(math.sqrt(num)) + 1):\n",
    "        if num % factor == 0:\n",
    "            is_prime = False\n",
    "            break\n",
    "    if is_prime:\n",
    "        print(num, end=' ')"
   ]
  },
  {
   "cell_type": "markdown",
   "metadata": {},
   "source": [
    "## table"
   ]
  },
  {
   "cell_type": "code",
   "execution_count": 19,
   "metadata": {},
   "outputs": [
    {
     "name": "stdout",
     "output_type": "stream",
     "text": [
      "1*1=1\t\n",
      "2*1=2\t2*2=4\t\n",
      "3*1=3\t3*2=6\t3*3=9\t\n",
      "4*1=4\t4*2=8\t4*3=12\t4*4=16\t\n",
      "5*1=5\t5*2=10\t5*3=15\t5*4=20\t5*5=25\t\n",
      "6*1=6\t6*2=12\t6*3=18\t6*4=24\t6*5=30\t6*6=36\t\n",
      "7*1=7\t7*2=14\t7*3=21\t7*4=28\t7*5=35\t7*6=42\t7*7=49\t\n",
      "8*1=8\t8*2=16\t8*3=24\t8*4=32\t8*5=40\t8*6=48\t8*7=56\t8*8=64\t\n",
      "9*1=9\t9*2=18\t9*3=27\t9*4=36\t9*5=45\t9*6=54\t9*7=63\t9*8=72\t9*9=81\t\n"
     ]
    }
   ],
   "source": [
    "\"\"\"\n",
    "輸出乘法口訣表(九九乘法表)\n",
    "\"\"\"\n",
    "\n",
    "for i in range(1, 10):\n",
    "    for j in range(1, i + 1):\n",
    "        print('%d*%d=%d' % (i, j, i * j), end='\\t')\n",
    "    print()"
   ]
  },
  {
   "cell_type": "code",
   "execution_count": null,
   "metadata": {},
   "outputs": [],
   "source": []
  }
 ],
 "metadata": {
  "kernelspec": {
   "display_name": "Python 3",
   "language": "python",
   "name": "python3"
  },
  "language_info": {
   "codemirror_mode": {
    "name": "ipython",
    "version": 3
   },
   "file_extension": ".py",
   "mimetype": "text/x-python",
   "name": "python",
   "nbconvert_exporter": "python",
   "pygments_lexer": "ipython3",
   "version": "3.7.3"
  }
 },
 "nbformat": 4,
 "nbformat_minor": 2
}
