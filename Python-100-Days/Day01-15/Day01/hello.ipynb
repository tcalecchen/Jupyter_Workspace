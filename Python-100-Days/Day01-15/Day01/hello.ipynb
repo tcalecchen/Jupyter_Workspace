{
 "cells": [
  {
   "cell_type": "code",
   "execution_count": null,
   "metadata": {},
   "outputs": [],
   "source": [
    "\"\"\"\n",
    "第一个Python程序 - hello, world!\n",
    "向伟大的Dennis M. Ritchie先生致敬\n",
    "\n",
    "Version: 0.1\n",
    "Author: 骆昊\n",
    "Date: 2018-02-26\n",
    "\n",
    "请将该文件命名为hello.py并在终端中通过下面的命令运行它\n",
    "python hello.py\n",
    "\"\"\"\n",
    "\n",
    "print('hello, world!')\n",
    "# print(\"你好,世界！\")\n",
    "print('你好', '世界')\n",
    "print('hello', 'world', sep=', ', end='!')\n",
    "print('goodbye, world', end='!\\n')\n"
   ]
  },
  {
   "cell_type": "code",
   "execution_count": null,
   "metadata": {},
   "outputs": [],
   "source": [
    "import this"
   ]
  },
  {
   "cell_type": "code",
   "execution_count": null,
   "metadata": {},
   "outputs": [],
   "source": [
    "from turtle import Screen, Turtle\n",
    "from random import random\n",
    "\n",
    "TRIANGLE_EDGE = 100\n",
    "CURSOR_EDGE = 20\n",
    "\n",
    "TRIANGLE_HEIGHT = TRIANGLE_EDGE * 3 ** 0.5 / 2\n",
    "\n",
    "def repeat_triangle(turtle, repetitions):\n",
    "    for _ in range(repetitions):\n",
    "        turtle.color(random(), random(), random())\n",
    "        turtle.stamp()\n",
    "        turtle.forward(TRIANGLE_HEIGHT)\n",
    "\n",
    "screen = Screen()\n",
    "\n",
    "otto = Turtle('triangle', visible=False)\n",
    "otto.penup()\n",
    "otto.setheading(90)\n",
    "otto.shapesize(TRIANGLE_EDGE / CURSOR_EDGE)\n",
    "\n",
    "repeat_triangle(otto, 4)\n",
    "\n",
    "screen.mainloop()"
   ]
  },
  {
   "cell_type": "code",
   "execution_count": 1,
   "metadata": {},
   "outputs": [],
   "source": [
    "import turtle\n",
    "\n",
    "screen = turtle.Screen()\n",
    "star = turtle.Turtle()\n",
    "star.color('red', 'yellow')\n",
    "star.begin_fill()\n",
    "while True:\n",
    " star.forward(200)\n",
    " star.left(170)\n",
    " if abs(star.pos()) < 1:\n",
    "    break\n",
    "star.end_fill()\n",
    "screen.exitonclick()\n"
   ]
  }
 ],
 "metadata": {
  "kernelspec": {
   "display_name": "Python 3",
   "language": "python",
   "name": "python3"
  },
  "language_info": {
   "codemirror_mode": {
    "name": "ipython",
    "version": 3
   },
   "file_extension": ".py",
   "mimetype": "text/x-python",
   "name": "python",
   "nbconvert_exporter": "python",
   "pygments_lexer": "ipython3",
   "version": "3.7.3"
  }
 },
 "nbformat": 4,
 "nbformat_minor": 2
}
