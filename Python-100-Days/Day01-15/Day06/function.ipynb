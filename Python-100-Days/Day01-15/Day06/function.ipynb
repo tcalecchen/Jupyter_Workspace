{
 "cells": [
  {
   "cell_type": "markdown",
   "metadata": {},
   "source": [
    "## function1"
   ]
  },
  {
   "cell_type": "markdown",
   "metadata": {},
   "source": [
    "### 組合數\n",
    "\n",
    "從m個不同元素中，任取n(n≤m)個元素並成一組，叫做從m個不同元素中取出n個元素的一個組合；所有可能的組合種數就是組合數。組合數的計算公式如下圖：\n",
    "\n",
    ">> $$C_m^n = \\frac {m!}{n!(m-n)!}$$"
   ]
  },
  {
   "cell_type": "code",
   "execution_count": 1,
   "metadata": {},
   "outputs": [
    {
     "name": "stdout",
     "output_type": "stream",
     "text": [
      "35\n"
     ]
    }
   ],
   "source": [
    "\"\"\"\n",
    "函数的定義和使用 - 計算組合數 C(7,3)  m = 7, n = 3\n",
    "\"\"\"\n",
    "\n",
    "\n",
    "# 將求階乘的功能封装成一個函数\n",
    "def factorial(n):\n",
    "    result = 1\n",
    "    for num in range(1, n + 1):\n",
    "        result *= num\n",
    "    return result\n",
    "\n",
    "\n",
    "print(factorial(7) // factorial(3) // factorial(4))"
   ]
  },
  {
   "cell_type": "code",
   "execution_count": 2,
   "metadata": {},
   "outputs": [
    {
     "name": "stdout",
     "output_type": "stream",
     "text": [
      "m = 7\n",
      "n = 3\n",
      "35\n"
     ]
    }
   ],
   "source": [
    "\"\"\"\n",
    "輸入 M 和 N 計算 C(M,N)\n",
    "\"\"\"\n",
    "\n",
    "m = int(input('m = '))\n",
    "n = int(input('n = '))\n",
    "fm = 1\n",
    "for num in range(1, m + 1):\n",
    "    fm *= num\n",
    "fn = 1\n",
    "for num in range(1, n + 1):\n",
    "    fn *= num\n",
    "fmn = 1\n",
    "for num in range(1, m - n + 1):\n",
    "    fmn *= num\n",
    "print(fm // fn // fmn)"
   ]
  },
  {
   "cell_type": "markdown",
   "metadata": {},
   "source": [
    "## function2"
   ]
  },
  {
   "cell_type": "code",
   "execution_count": 16,
   "metadata": {},
   "outputs": [
    {
     "name": "stdout",
     "output_type": "stream",
     "text": [
      "x = 9\n",
      "y = 50\n",
      "9 與 50 的最大公約數是 1\n",
      "9 與 50 的最小公倍數是 450\n"
     ]
    }
   ],
   "source": [
    "\"\"\"\n",
    "函数的定義和使用 - 求最大公约數和最小公倍數\n",
    "\"\"\"\n",
    "\n",
    "x = int(input('x = '))\n",
    "y = int(input('y = '))\n",
    "\n",
    "def gcd(x, y):  # 最大公约數\n",
    "    if x > y:\n",
    "        (x, y) = (y, x)\n",
    "    for factor in range(x, 1, -1):\n",
    "        if x % factor == 0 and y % factor == 0:\n",
    "            return factor\n",
    "    return 1\n",
    "\n",
    "\n",
    "def lcm(x, y):  # 最小公倍數\n",
    "    return x * y // gcd(x, y)\n",
    "\n",
    "\n",
    "print('{0} 與 {1} 的最大公約數是'.format(x, y) , gcd(x, y))\n",
    "print('{0} 與 {1} 的最小公倍數是'.format(x, y), lcm(x, y))"
   ]
  },
  {
   "cell_type": "markdown",
   "metadata": {},
   "source": [
    "## function3"
   ]
  },
  {
   "cell_type": "markdown",
   "metadata": {},
   "source": [
    "filter() 函數用於過濾序列，過濾掉不符合條件的元素，返回由符合條件元素組成的新列表。 該接收兩個參數，第一個為函數，第二個為序列，\n",
    "序列的每個元素作為參數傳遞給函數進行判，然後返回 True 或 False，最後將返回 True 的元素放到新列表中。\n",
    "\n",
    "以下是 filter() 方法的语法:\n",
    "\n",
    "    filter(function, iterable)\n",
    "    \n",
    "* function -- 判斷函數。 \n",
    "* iterable -- 可迭代對象。 \n",
    "\n",
    "返回值：返回列表。"
   ]
  },
  {
   "cell_type": "code",
   "execution_count": 18,
   "metadata": {},
   "outputs": [
    {
     "name": "stdout",
     "output_type": "stream",
     "text": [
      "陳\n",
      "0x9673\n",
      "1.2345\n",
      "-1\n",
      "2.8671833852463537\n",
      "['peach', 'durian']\n",
      "['orange', 'peach', 'durian', 'watermelon']\n",
      "['orange', 'durian']\n"
     ]
    }
   ],
   "source": [
    "\"\"\"\n",
    "Python的内建函數\n",
    "- 數學相關: abs / divmod / pow / round / min / max / sum\n",
    "- 序列相關: len / range / next / filter / map / sorted / slice / reversed\n",
    "- 類型轉換: chr / ord / str / bool / int / float / complex / bin / oct / hex\n",
    "- 資料結構: dict / list / set / tuple\n",
    "- 其他函數: all / any / id / input / open / print / type\n",
    "\"\"\"\n",
    "\n",
    "def myfilter(mystr):\n",
    "    return len(mystr) == 6\n",
    "\n",
    "# help()\n",
    "print(chr(0x9673))\n",
    "print(hex(ord('陳')))\n",
    "print(abs(-1.2345))\n",
    "print(round(-1.2345))\n",
    "print(pow(1.2345, 5))\n",
    "fruits = ['orange', 'peach', 'durian', 'watermelon']\n",
    "print(fruits[slice(1, 3)])\n",
    "fruits2 = list(filter(myfilter, fruits))\n",
    "print(fruits)\n",
    "print(fruits2)"
   ]
  },
  {
   "cell_type": "markdown",
   "metadata": {},
   "source": [
    "## function4"
   ]
  },
  {
   "cell_type": "code",
   "execution_count": null,
   "metadata": {},
   "outputs": [],
   "source": [
    "\"\"\"\n",
    "Python常用模組\n",
    "- 運行時服務相關模組: copy / pickle / sys / ...\n",
    "- 數學相關模組: decimal / math / random / ...\n",
    "- 字符串處理模組: codecs / re / ...\n",
    "- 文件處理相关模組: shutil / gzip / ...\n",
    "- 操作系统服務相关模組: datetime / os / time / logging / io / ...\n",
    "- 進程和執行緒相關模組: multiprocessing / threading / queue\n",
    "- 網路應用相關模組: ftplib / http / smtplib / urllib / ...\n",
    "- Web编程相關模組: cgi / webbrowser\n",
    "- 資料處理和編碼模組: base64 / csv / html.parser / json / xml / ...\n",
    "\"\"\"\n",
    "\n",
    "import time\n",
    "import shutil\n",
    "import os\n",
    "\n",
    "seconds = time.time()\n",
    "print(seconds)\n",
    "localtime = time.localtime(seconds)\n",
    "print(localtime)\n",
    "print(localtime.tm_year)\n",
    "print(localtime.tm_mon)\n",
    "print(localtime.tm_mday)\n",
    "asctime = time.asctime(localtime)\n",
    "print(asctime)\n",
    "strtime = time.strftime('%Y-%m-%d %H:%M:%S', localtime)\n",
    "print(strtime)\n",
    "mydate = time.strptime('2018-1-1', '%Y-%m-%d')\n",
    "print(mydate)\n",
    "\n",
    "shutil.copy('/Users/Hao/hello.py', '/Users/Hao/Desktop/first.py')\n",
    "os.system('ls -l')\n",
    "os.chdir('/Users/Hao')\n",
    "os.system('ls -l')\n",
    "os.mkdir('test')"
   ]
  },
  {
   "cell_type": "code",
   "execution_count": null,
   "metadata": {},
   "outputs": [],
   "source": []
  },
  {
   "cell_type": "code",
   "execution_count": null,
   "metadata": {},
   "outputs": [],
   "source": []
  },
  {
   "cell_type": "code",
   "execution_count": null,
   "metadata": {},
   "outputs": [],
   "source": []
  },
  {
   "cell_type": "code",
   "execution_count": null,
   "metadata": {},
   "outputs": [],
   "source": []
  }
 ],
 "metadata": {
  "kernelspec": {
   "display_name": "Python 3",
   "language": "python",
   "name": "python3"
  },
  "language_info": {
   "codemirror_mode": {
    "name": "ipython",
    "version": 3
   },
   "file_extension": ".py",
   "mimetype": "text/x-python",
   "name": "python",
   "nbconvert_exporter": "python",
   "pygments_lexer": "ipython3",
   "version": "3.7.3"
  }
 },
 "nbformat": 4,
 "nbformat_minor": 2
}
