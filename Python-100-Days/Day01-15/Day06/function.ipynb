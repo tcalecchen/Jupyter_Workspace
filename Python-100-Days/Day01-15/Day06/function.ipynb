{
 "cells": [
  {
   "cell_type": "markdown",
   "metadata": {},
   "source": [
    "## function1"
   ]
  },
  {
   "cell_type": "markdown",
   "metadata": {},
   "source": [
    "### 組合數\n",
    "\n",
    "從m個不同元素中，任取n(n≤m)個元素並成一組，叫做從m個不同元素中取出n個元素的一個組合；所有可能的組合種數就是組合數。組合數的計算公式如下圖：\n",
    "\n",
    ">> $$C_m^n = \\frac {m!}{n!(m-n)!}$$"
   ]
  },
  {
   "cell_type": "code",
   "execution_count": 1,
   "metadata": {},
   "outputs": [
    {
     "name": "stdout",
     "output_type": "stream",
     "text": [
      "35\n"
     ]
    }
   ],
   "source": [
    "\"\"\"\n",
    "函数的定義和使用 - 計算組合數 C(7,3)  m = 7, n = 3\n",
    "\"\"\"\n",
    "\n",
    "\n",
    "# 將求階乘的功能封装成一個函数\n",
    "def factorial(n):\n",
    "    result = 1\n",
    "    for num in range(1, n + 1):\n",
    "        result *= num\n",
    "    return result\n",
    "\n",
    "\n",
    "print(factorial(7) // factorial(3) // factorial(4))"
   ]
  },
  {
   "cell_type": "code",
   "execution_count": 2,
   "metadata": {},
   "outputs": [
    {
     "name": "stdout",
     "output_type": "stream",
     "text": [
      "m = 7\n",
      "n = 3\n",
      "35\n"
     ]
    }
   ],
   "source": [
    "\"\"\"\n",
    "輸入 M 和 N 計算 C(M,N)\n",
    "\"\"\"\n",
    "\n",
    "m = int(input('m = '))\n",
    "n = int(input('n = '))\n",
    "fm = 1\n",
    "for num in range(1, m + 1):\n",
    "    fm *= num\n",
    "fn = 1\n",
    "for num in range(1, n + 1):\n",
    "    fn *= num\n",
    "fmn = 1\n",
    "for num in range(1, m - n + 1):\n",
    "    fmn *= num\n",
    "print(fm // fn // fmn)"
   ]
  },
  {
   "cell_type": "markdown",
   "metadata": {},
   "source": [
    "## function2"
   ]
  },
  {
   "cell_type": "code",
   "execution_count": 16,
   "metadata": {},
   "outputs": [
    {
     "name": "stdout",
     "output_type": "stream",
     "text": [
      "x = 9\n",
      "y = 50\n",
      "9 與 50 的最大公約數是 1\n",
      "9 與 50 的最小公倍數是 450\n"
     ]
    }
   ],
   "source": [
    "\"\"\"\n",
    "函数的定義和使用 - 求最大公约數和最小公倍數\n",
    "\"\"\"\n",
    "\n",
    "x = int(input('x = '))\n",
    "y = int(input('y = '))\n",
    "\n",
    "def gcd(x, y):  # 最大公约數\n",
    "    if x > y:\n",
    "        (x, y) = (y, x)\n",
    "    for factor in range(x, 1, -1):\n",
    "        if x % factor == 0 and y % factor == 0:\n",
    "            return factor\n",
    "    return 1\n",
    "\n",
    "\n",
    "def lcm(x, y):  # 最小公倍數\n",
    "    return x * y // gcd(x, y)\n",
    "\n",
    "\n",
    "print('{0} 與 {1} 的最大公約數是'.format(x, y) , gcd(x, y))\n",
    "print('{0} 與 {1} 的最小公倍數是'.format(x, y), lcm(x, y))"
   ]
  },
  {
   "cell_type": "markdown",
   "metadata": {},
   "source": [
    "## function3"
   ]
  },
  {
   "cell_type": "markdown",
   "metadata": {},
   "source": [
    "filter() 函數用於過濾序列，過濾掉不符合條件的元素，返回由符合條件元素組成的新列表。 該接收兩個參數，第一個為函數，第二個為序列，\n",
    "序列的每個元素作為參數傳遞給函數進行判，然後返回 True 或 False，最後將返回 True 的元素放到新列表中。\n",
    "\n",
    "以下是 filter() 方法的语法:\n",
    "\n",
    "    filter(function, iterable)\n",
    "    \n",
    "* function -- 判斷函數。 \n",
    "* iterable -- 可迭代對象。 \n",
    "\n",
    "返回值：返回列表。"
   ]
  },
  {
   "cell_type": "code",
   "execution_count": 18,
   "metadata": {},
   "outputs": [
    {
     "name": "stdout",
     "output_type": "stream",
     "text": [
      "陳\n",
      "0x9673\n",
      "1.2345\n",
      "-1\n",
      "2.8671833852463537\n",
      "['peach', 'durian']\n",
      "['orange', 'peach', 'durian', 'watermelon']\n",
      "['orange', 'durian']\n"
     ]
    }
   ],
   "source": [
    "\"\"\"\n",
    "Python的内建函數\n",
    "- 數學相關: abs / divmod / pow / round / min / max / sum\n",
    "- 序列相關: len / range / next / filter / map / sorted / slice / reversed\n",
    "- 類型轉換: chr / ord / str / bool / int / float / complex / bin / oct / hex\n",
    "- 資料結構: dict / list / set / tuple\n",
    "- 其他函數: all / any / id / input / open / print / type\n",
    "\"\"\"\n",
    "\n",
    "def myfilter(mystr):\n",
    "    return len(mystr) == 6\n",
    "\n",
    "# help()\n",
    "print(chr(0x9673))\n",
    "print(hex(ord('陳')))\n",
    "print(abs(-1.2345))\n",
    "print(round(-1.2345))\n",
    "print(pow(1.2345, 5))\n",
    "fruits = ['orange', 'peach', 'durian', 'watermelon']\n",
    "print(fruits[slice(1, 3)])\n",
    "fruits2 = list(filter(myfilter, fruits))\n",
    "print(fruits)\n",
    "print(fruits2)"
   ]
  },
  {
   "cell_type": "markdown",
   "metadata": {},
   "source": [
    "## function4"
   ]
  },
  {
   "cell_type": "code",
   "execution_count": 7,
   "metadata": {},
   "outputs": [
    {
     "name": "stdout",
     "output_type": "stream",
     "text": [
      "seconds: 1559014374.9703085\n",
      "localtime: time.struct_time(tm_year=2019, tm_mon=5, tm_mday=28, tm_hour=11, tm_min=32, tm_sec=54, tm_wday=1, tm_yday=148, tm_isdst=0)\n",
      "localtime.tm_year: 2019\n",
      "localtime.tm_mon: 5\n",
      "localtime.tm_mday: 28\n",
      "asctime: Tue May 28 11:32:54 2019\n",
      "strtime: 2019-05-28 11:32:54\n",
      "mydate: time.struct_time(tm_year=2018, tm_mon=1, tm_mday=1, tm_hour=0, tm_min=0, tm_sec=0, tm_wday=0, tm_yday=1, tm_isdst=-1)\n"
     ]
    }
   ],
   "source": [
    "\"\"\"\n",
    "Python常用模組\n",
    "- 運行時服務相關模組: copy / pickle / sys / ...\n",
    "- 數學相關模組: decimal / math / random / ...\n",
    "- 字符串處理模組: codecs / re / ...\n",
    "- 文件處理相关模組: shutil / gzip / ...\n",
    "- 操作系统服務相关模組: datetime / os / time / logging / io / ...\n",
    "- 進程和執行緒相關模組: multiprocessing / threading / queue\n",
    "- 網路應用相關模組: ftplib / http / smtplib / urllib / ...\n",
    "- Web编程相關模組: cgi / webbrowser\n",
    "- 資料處理和編碼模組: base64 / csv / html.parser / json / xml / ...\n",
    "\"\"\"\n",
    "\n",
    "import time\n",
    "import shutil\n",
    "import os\n",
    "\n",
    "seconds = time.time()\n",
    "print('seconds:', seconds)\n",
    "localtime = time.localtime(seconds)\n",
    "print('localtime:', localtime)\n",
    "print('localtime.tm_year:', localtime.tm_year)\n",
    "print('localtime.tm_mon:', localtime.tm_mon)\n",
    "print('localtime.tm_mday:', localtime.tm_mday)\n",
    "asctime = time.asctime(localtime)\n",
    "print('asctime:', asctime)\n",
    "strtime = time.strftime('%Y-%m-%d %H:%M:%S', localtime)\n",
    "print('strtime:', strtime)\n",
    "mydate = time.strptime('2018-1-1', '%Y-%m-%d')\n",
    "print('mydate:', mydate)\n",
    "\n",
    "shutil.copy('../Day01/hello.ipynb', '../Day01/first.ipynb')\n",
    "os.system('ls -l')\n",
    "os.chdir('../Day01')\n",
    "os.system('ls -l')\n",
    "os.mkdir('test')"
   ]
  },
  {
   "cell_type": "markdown",
   "metadata": {},
   "source": [
    "## function5"
   ]
  },
  {
   "cell_type": "code",
   "execution_count": 14,
   "metadata": {},
   "outputs": [
    {
     "name": "stdout",
     "output_type": "stream",
     "text": [
      "41\n",
      "14\n",
      "530\n",
      "140\n",
      "13\n",
      "6\n",
      "15\n",
      "0\n",
      "歡迎你陳信榮!\n",
      "没找到你的個人資料!\n",
      "你的聯絡電話是: 0988188288!\n",
      "没找到你的個人資料!\n"
     ]
    }
   ],
   "source": [
    "\"\"\"\n",
    "函數的参數\n",
    "- 位置参數\n",
    "- 可變参數\n",
    "- 關鍵字参數\n",
    "- 命名關鍵字参數\n",
    "\"\"\"\n",
    "\n",
    "\n",
    "# 参数預設值\n",
    "def f1(a, b=5, c=10):\n",
    "    return a + b * 2 + c * 3\n",
    "\n",
    "print(f1(1))\n",
    "print(f1(1, 2, 3))\n",
    "print(f1(100, 200))\n",
    "print(f1(100))\n",
    "print(f1(c=2, b=3, a=1))\n",
    "\n",
    "\n",
    "# 可變参數\n",
    "def f2(*args):  # 在参數名前面的 * 表示 args 是一個可變参數，即在調用 f2 函數時可以傳入 0 個或多個参數\n",
    "    sum = 0\n",
    "    for num in args:\n",
    "        sum += num\n",
    "    return sum\n",
    "\n",
    "\n",
    "print(f2(1, 2, 3))\n",
    "print(f2(1, 2, 3, 4, 5))\n",
    "print(f2())\n",
    "\n",
    "\n",
    "# 關鍵字参數\n",
    "def f3(**kw):\n",
    "    if 'name' in kw:\n",
    "        print('歡迎你%s!' % kw['name'])\n",
    "    elif 'tel' in kw:\n",
    "        print('你的聯絡電話是: %s!' % kw['tel'])\n",
    "    else:\n",
    "        print('没找到你的個人資料!')\n",
    "\n",
    "\n",
    "param = {'name': '陳信榮', 'age': 28}\n",
    "f3(**param)\n",
    "f3(names='陳信榮', age=28, tel1='0988188288')\n",
    "f3(user='陳信榮', age=28, tel='0988188288')\n",
    "f3(name1='陳信榮', age=28, mobile='0988188288')"
   ]
  },
  {
   "cell_type": "markdown",
   "metadata": {},
   "source": [
    "## function 6"
   ]
  },
  {
   "cell_type": "code",
   "execution_count": 15,
   "metadata": {},
   "outputs": [
    {
     "name": "stdout",
     "output_type": "stream",
     "text": [
      "10\n",
      "100\n",
      "10\n",
      "200\n",
      "200\n"
     ]
    }
   ],
   "source": [
    "\"\"\"\n",
    "作用域問题\n",
    "\"\"\"\n",
    "\n",
    "# 局部作用域\n",
    "def foo1():\n",
    "    a = 5\n",
    "\n",
    "foo1()\n",
    "# print(a)  # NameError\n",
    "\n",
    "# 全局作用域\n",
    "b = 10\n",
    "\n",
    "def foo2():\n",
    "    print(b)\n",
    "\n",
    "foo2()\n",
    "\n",
    "def foo3():\n",
    "    b = 100     # 局部變量\n",
    "    print(b)\n",
    "\n",
    "foo3()\n",
    "print(b)\n",
    "\n",
    "def foo4():\n",
    "    global b\n",
    "    b = 200     # 全局變量\n",
    "    print(b)\n",
    "\n",
    "foo4()\n",
    "print(b)"
   ]
  },
  {
   "cell_type": "markdown",
   "metadata": {},
   "source": [
    "## function7"
   ]
  },
  {
   "cell_type": "code",
   "execution_count": 19,
   "metadata": {},
   "outputs": [
    {
     "name": "stdout",
     "output_type": "stream",
     "text": [
      "m = 9\n",
      "n = 5\n",
      "9! =  362880\n",
      "5! =  120\n",
      "(9-5)! =  24\n",
      "9! // 5! // (9-5)! = 126\n"
     ]
    }
   ],
   "source": [
    "def factorial(num):\n",
    "    \"\"\"\n",
    "    求階乘\n",
    "    :param num: 非負整數\n",
    "    :return: num 的階乘\n",
    "    \"\"\"\n",
    "    result = 1\n",
    "    for n in range(1, num + 1):\n",
    "        result *= n\n",
    "    return result\n",
    "\n",
    "\n",
    "m = int(input('m = '))\n",
    "n = int(input('n = '))\n",
    "# 當需要計算階乘的時候不用再寫循環求階乘，而是直接調用已經定義好的函數\n",
    "print('%d! = ' % m, factorial(m))\n",
    "print('%d! = ' % n, factorial(n))\n",
    "print('({0}-{1})! = '.format(m, n), factorial(m - n))\n",
    "print('{0}! // {1}! // ({2}-{3})! ='.format(m, n, m, n), factorial(m) // factorial(n) // factorial(m - n))"
   ]
  },
  {
   "cell_type": "markdown",
   "metadata": {},
   "source": [
    "## function8"
   ]
  },
  {
   "cell_type": "markdown",
   "metadata": {},
   "source": [
    "if&nbsp;&nbsp;&nbsp;*\\__name*\\__ == '*\\__main*\\__':\n",
    "\n",
    "如果一個 python script 是被別的 python script 當成 module 來 import 的話，那麼這個被 import 的 python script 的 *\\__name*\\__ 就會是那個 python script 的名稱。而如果這個 python script 是直接被執行的話，*\\__name*\\__ 就會是 *\\__main*\\__。"
   ]
  },
  {
   "cell_type": "code",
   "execution_count": 26,
   "metadata": {},
   "outputs": [
    {
     "name": "stdout",
     "output_type": "stream",
     "text": [
      "请输入正整数: 97\n",
      "97不是回文\n",
      "97是質數\n"
     ]
    }
   ],
   "source": [
    "# 判斷是否為回文數\n",
    "def is_palindrome(num):\n",
    "    temp = num\n",
    "    total = 0\n",
    "    while temp > 0:\n",
    "        total = total * 10 + temp % 10\n",
    "        temp //= 10\n",
    "    return total == num\n",
    "\n",
    "# 判斷是否為質數\n",
    "def is_prime(num):\n",
    "    for factor in range(2, num):\n",
    "        if num % factor == 0:\n",
    "            return False\n",
    "    return True if num != 1 else False\n",
    "    \n",
    "# __name__ 是 Python中一個隱含的變量，它代表了模組的名字。只有被 Python 解譯器直接執行的模組的名字才是 __main__\n",
    "\n",
    "if __name__ == '__main__':  \n",
    "    num = int(input('请输入正整数: '))\n",
    "    if is_palindrome(num):\n",
    "        print('%d是回文' % num)\n",
    "    else:\n",
    "         print('%d不是回文' % num)\n",
    "    if is_prime(num):     \n",
    "        print('%d是質數' % num)\n",
    "    else:\n",
    "        print('%d不是質數' % num)"
   ]
  }
 ],
 "metadata": {
  "kernelspec": {
   "display_name": "Python 3",
   "language": "python",
   "name": "python3"
  },
  "language_info": {
   "codemirror_mode": {
    "name": "ipython",
    "version": 3
   },
   "file_extension": ".py",
   "mimetype": "text/x-python",
   "name": "python",
   "nbconvert_exporter": "python",
   "pygments_lexer": "ipython3",
   "version": "3.7.3"
  }
 },
 "nbformat": 4,
 "nbformat_minor": 2
}
