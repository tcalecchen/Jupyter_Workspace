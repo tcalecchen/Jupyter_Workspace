{
 "cells": [
  {
   "cell_type": "markdown",
   "metadata": {},
   "source": [
    "## function1"
   ]
  },
  {
   "cell_type": "markdown",
   "metadata": {},
   "source": [
    "### 組合數\n",
    "\n",
    "從m個不同元素中，任取n(n≤m)個元素並成一組，叫做從m個不同元素中取出n個元素的一個組合；所有可能的組合種數就是組合數。組合數的計算公式如下圖：\n",
    "\n",
    ">> $$C_m^n = \\frac {m!}{n!(m-n)!}$$"
   ]
  },
  {
   "cell_type": "code",
   "execution_count": 1,
   "metadata": {},
   "outputs": [
    {
     "name": "stdout",
     "output_type": "stream",
     "text": [
      "35\n"
     ]
    }
   ],
   "source": [
    "\"\"\"\n",
    "函数的定義和使用 - 計算組合數 C(7,3)  m = 7, n = 3\n",
    "\"\"\"\n",
    "\n",
    "\n",
    "# 將求階乘的功能封装成一個函数\n",
    "def factorial(n):\n",
    "    result = 1\n",
    "    for num in range(1, n + 1):\n",
    "        result *= num\n",
    "    return result\n",
    "\n",
    "\n",
    "print(factorial(7) // factorial(3) // factorial(4))"
   ]
  },
  {
   "cell_type": "code",
   "execution_count": 2,
   "metadata": {},
   "outputs": [
    {
     "name": "stdout",
     "output_type": "stream",
     "text": [
      "m = 7\n",
      "n = 3\n",
      "35\n"
     ]
    }
   ],
   "source": [
    "\"\"\"\n",
    "輸入 M 和 N 計算 C(M,N)\n",
    "\"\"\"\n",
    "\n",
    "m = int(input('m = '))\n",
    "n = int(input('n = '))\n",
    "fm = 1\n",
    "for num in range(1, m + 1):\n",
    "    fm *= num\n",
    "fn = 1\n",
    "for num in range(1, n + 1):\n",
    "    fn *= num\n",
    "fmn = 1\n",
    "for num in range(1, m - n + 1):\n",
    "    fmn *= num\n",
    "print(fm // fn // fmn)"
   ]
  },
  {
   "cell_type": "markdown",
   "metadata": {},
   "source": [
    "## function2"
   ]
  },
  {
   "cell_type": "code",
   "execution_count": 16,
   "metadata": {},
   "outputs": [
    {
     "name": "stdout",
     "output_type": "stream",
     "text": [
      "x = 9\n",
      "y = 50\n",
      "9 與 50 的最大公約數是 1\n",
      "9 與 50 的最小公倍數是 450\n"
     ]
    }
   ],
   "source": [
    "\"\"\"\n",
    "函数的定義和使用 - 求最大公约數和最小公倍數\n",
    "\"\"\"\n",
    "\n",
    "x = int(input('x = '))\n",
    "y = int(input('y = '))\n",
    "\n",
    "def gcd(x, y):  # 最大公约數\n",
    "    if x > y:\n",
    "        (x, y) = (y, x)\n",
    "    for factor in range(x, 1, -1):\n",
    "        if x % factor == 0 and y % factor == 0:\n",
    "            return factor\n",
    "    return 1\n",
    "\n",
    "\n",
    "def lcm(x, y):  # 最小公倍數\n",
    "    return x * y // gcd(x, y)\n",
    "\n",
    "\n",
    "print('{0} 與 {1} 的最大公約數是'.format(x, y) , gcd(x, y))\n",
    "print('{0} 與 {1} 的最小公倍數是'.format(x, y), lcm(x, y))"
   ]
  },
  {
   "cell_type": "code",
   "execution_count": null,
   "metadata": {},
   "outputs": [],
   "source": []
  },
  {
   "cell_type": "code",
   "execution_count": null,
   "metadata": {},
   "outputs": [],
   "source": []
  },
  {
   "cell_type": "code",
   "execution_count": null,
   "metadata": {},
   "outputs": [],
   "source": []
  },
  {
   "cell_type": "code",
   "execution_count": null,
   "metadata": {},
   "outputs": [],
   "source": []
  }
 ],
 "metadata": {
  "kernelspec": {
   "display_name": "Python 3",
   "language": "python",
   "name": "python3"
  },
  "language_info": {
   "codemirror_mode": {
    "name": "ipython",
    "version": 3
   },
   "file_extension": ".py",
   "mimetype": "text/x-python",
   "name": "python",
   "nbconvert_exporter": "python",
   "pygments_lexer": "ipython3",
   "version": "3.7.3"
  }
 },
 "nbformat": 4,
 "nbformat_minor": 2
}
