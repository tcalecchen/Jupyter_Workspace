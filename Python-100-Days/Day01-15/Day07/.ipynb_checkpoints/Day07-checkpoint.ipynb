{
 "cells": [
  {
   "cell_type": "markdown",
   "metadata": {},
   "source": [
    "## avgscore"
   ]
  },
  {
   "cell_type": "code",
   "execution_count": null,
   "metadata": {},
   "outputs": [],
   "source": [
    "\"\"\"\n",
    "輸入學生考試成績計算平均分\n",
    "\"\"\"\n",
    "\n",
    "\n",
    "def main():\n",
    "    number = int(input('請輸入學生人數: '))\n",
    "    names = [None] * number  # list 內生成 number 個 None，如 [None, None, None, None, None] \n",
    "    scores = [None] * number\n",
    "    for index in range(len(names)):\n",
    "        names[index] = input('請輸入第%d個學生的名字: ' % (index + 1))          # 把姓名放進 list\n",
    "        scores[index] = float(input('請輸入第%d個學生的成績: ' % (index + 1)))  # 把成績放進 list\n",
    "    total = 0\n",
    "    for index in range(len(names)):\n",
    "        print('%s: %.1f分' % (names[index], scores[index]))\n",
    "        total += scores[index]\n",
    "    print('平均成績是: %.1f分' % (total / number))\n",
    "\n",
    "\n",
    "if __name__ == '__main__':\n",
    "    main()"
   ]
  },
  {
   "cell_type": "markdown",
   "metadata": {},
   "source": [
    "## dict1"
   ]
  },
  {
   "cell_type": "code",
   "execution_count": 4,
   "metadata": {},
   "outputs": [
    {
     "name": "stdout",
     "output_type": "stream",
     "text": [
      "95\n",
      "82\n",
      "陳信榮\t--->\t95\n",
      "白元芳\t--->\t78\n",
      "狄仁杰\t--->\t82\n",
      "{'陳信榮': 95, '白元芳': 65, '狄仁杰': 82, '諸葛王朗': 71, '冷面': 67, '方啟鶴': 85}\n",
      "scoresB: None\n",
      "87\n",
      "('方啟鶴', 85)\n",
      "('冷面', 67)\n",
      "95\n",
      "{'白元芳': 65, '狄仁杰': 82, '諸葛王朗': 71}\n",
      "{}\n"
     ]
    }
   ],
   "source": [
    "\"\"\"\n",
    "定義和使用字典\n",
    "\"\"\"\n",
    "\n",
    "\n",
    "def main():\n",
    "    scores = {'陳信榮': 95, '白元芳': 78, '狄仁杰': 82}  # key:value\n",
    "    # 通過 key 可以獲取字典中對應的 value\n",
    "    print(scores['陳信榮'])\n",
    "    print(scores['狄仁杰'])\n",
    "    # 對字典進行遍歷(遍歷的其實是鍵再通過鍵取對應的值)\n",
    "    for elem in scores:\n",
    "        print('%s\\t--->\\t%d' % (elem, scores[elem]))\n",
    "    # 更新字典中的元素\n",
    "    scores['白元芳'] = 65\n",
    "    scores['諸葛王朗'] = 71\n",
    "    scores.update(冷面=67, 方啟鶴=85)\n",
    "    print(scores)\n",
    "    if '武則天' in scores:\n",
    "        print('scoresA:', scores['武則天'])\n",
    "    print('scoresB:', scores.get('武則天'))\n",
    "    # get方法也是通過鍵獲取對應的值但是可以設置默認值\n",
    "    print(scores.get('武則天', 87))\n",
    "    # 删除字典中的元素\n",
    "    print(scores.popitem())\n",
    "    print(scores.popitem())\n",
    "    print(scores.pop('陳信榮', 100))\n",
    "    print(scores)\n",
    "    # 清空字典\n",
    "    scores.clear()\n",
    "    print(scores)\n",
    "\n",
    "\n",
    "if __name__ == '__main__':\n",
    "    main()"
   ]
  },
  {
   "cell_type": "code",
   "execution_count": null,
   "metadata": {},
   "outputs": [],
   "source": []
  },
  {
   "cell_type": "code",
   "execution_count": null,
   "metadata": {},
   "outputs": [],
   "source": []
  },
  {
   "cell_type": "code",
   "execution_count": null,
   "metadata": {},
   "outputs": [],
   "source": []
  },
  {
   "cell_type": "code",
   "execution_count": null,
   "metadata": {},
   "outputs": [],
   "source": []
  },
  {
   "cell_type": "code",
   "execution_count": null,
   "metadata": {},
   "outputs": [],
   "source": []
  },
  {
   "cell_type": "code",
   "execution_count": null,
   "metadata": {},
   "outputs": [],
   "source": []
  }
 ],
 "metadata": {
  "kernelspec": {
   "display_name": "Python 3",
   "language": "python",
   "name": "python3"
  },
  "language_info": {
   "codemirror_mode": {
    "name": "ipython",
    "version": 3
   },
   "file_extension": ".py",
   "mimetype": "text/x-python",
   "name": "python",
   "nbconvert_exporter": "python",
   "pygments_lexer": "ipython3",
   "version": "3.7.3"
  }
 },
 "nbformat": 4,
 "nbformat_minor": 2
}
