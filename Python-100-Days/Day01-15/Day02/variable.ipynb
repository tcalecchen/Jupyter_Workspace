{
 "cells": [
  {
   "cell_type": "code",
   "execution_count": 2,
   "metadata": {},
   "outputs": [
    {
     "name": "stdout",
     "output_type": "stream",
     "text": [
      "a + b =  444\n",
      "a - b =  198\n",
      "a * b =  39483\n",
      "a / b =  2.6097560975609757\n",
      "a // b =  2\n",
      "a % b =  75\n",
      "a ** b =  199580904170858944588683464608694075062943107082809027605498347841561605181074274426665986623764972439807786764739130193391688887305693295698132008415537889753720415793877902074665765736230030622222862498385818118244547668141388643750880896837470534556730014314212951333550122949806119583030226121714710874561\n"
     ]
    }
   ],
   "source": [
    "\"\"\"\n",
    "使用变量保存数据并进行操作\n",
    "\"\"\"\n",
    "\n",
    "a = 321\n",
    "b = 123\n",
    "print('a + b = ', a + b)\n",
    "print('a - b = ', a - b)\n",
    "print('a * b = ', a * b)\n",
    "print('a / b = ', a / b)\n",
    "print('a // b = ', a // b)\n",
    "print('a % b = ', a % b)\n",
    "print('a ** b = ', a ** b)"
   ]
  },
  {
   "cell_type": "code",
   "execution_count": 4,
   "metadata": {},
   "outputs": [
    {
     "name": "stdout",
     "output_type": "stream",
     "text": [
      "a = 20\n",
      "b = 10\n",
      "a + b =  30\n",
      "a - b =  10\n",
      "a * b =  200\n",
      "a / b =  2.0\n",
      "a // b =  2\n",
      "a % b =  0\n",
      "a ** b =  10240000000000\n"
     ]
    }
   ],
   "source": [
    "\"\"\"\n",
    "将input函数输入的数据保存在变量中并进行操作\n",
    "\"\"\"\n",
    "\n",
    "a = int(input('a = '))\n",
    "b = int(input('b = '))\n",
    "print('a + b = ', a + b)\n",
    "print('a - b = ', a - b)\n",
    "print('a * b = ', a * b)\n",
    "print('a / b = ', a / b)\n",
    "print('a // b = ', a // b)\n",
    "print('a % b = ', a % b)\n",
    "print('a ** b = ', a ** b)"
   ]
  },
  {
   "cell_type": "code",
   "execution_count": 1,
   "metadata": {},
   "outputs": [
    {
     "name": "stdout",
     "output_type": "stream",
     "text": [
      "a = 10\n",
      "b = 10\n",
      "10 + 10 = 20\n",
      "10 - 10 = 0\n",
      "10 * 10 = 100\n",
      "10 / 10 = 1.000000\n",
      "10 // 10 = 1\n",
      "10 % 10 = 0\n",
      "10 ** 10 = 10000000000\n"
     ]
    }
   ],
   "source": [
    "\"\"\"\n",
    "格式化输出\n",
    "\"\"\"\n",
    "\n",
    "a = int(input('a = '))\n",
    "b = int(input('b = '))\n",
    "print('%d + %d = %d' % (a, b, a + b))\n",
    "print('%d - %d = %d' % (a, b, a - b))\n",
    "print('%d * %d = %d' % (a, b, a * b))\n",
    "print('%d / %d = %f' % (a, b, a / b))\n",
    "print('%d // %d = %d' % (a, b, a // b))\n",
    "print('%d %% %d = %d' % (a, b, a % b))\n",
    "print('%d ** %d = %d' % (a, b, a ** b))"
   ]
  },
  {
   "cell_type": "code",
   "execution_count": 3,
   "metadata": {},
   "outputs": [
    {
     "name": "stdout",
     "output_type": "stream",
     "text": [
      "type(a)： <class 'int'>\n",
      "type(b)： <class 'int'>\n",
      "type(c)： <class 'float'>\n",
      "type(d)： <class 'complex'>\n",
      "type(e)： <class 'str'>\n",
      "type(f)： <class 'str'>\n",
      "type(g)： <class 'bool'>\n"
     ]
    }
   ],
   "source": [
    "\"\"\"\n",
    "检查变量的类型\n",
    "\"\"\"\n",
    "\n",
    "a = 100\n",
    "b = 1000000000000000000\n",
    "c = 12.345\n",
    "d = 1 + 5j\n",
    "e = 'A'\n",
    "f = 'hello, world'\n",
    "g = True\n",
    "print('type(a)：', type(a))\n",
    "print('type(b)：', type(b))\n",
    "print('type(c)：', type(c))\n",
    "print('type(d)：', type(d))\n",
    "print('type(e)：', type(e))\n",
    "print('type(f)：', type(f))\n",
    "print('type(g)：', type(g))"
   ]
  },
  {
   "cell_type": "code",
   "execution_count": 4,
   "metadata": {},
   "outputs": [
    {
     "name": "stdout",
     "output_type": "stream",
     "text": [
      "a= 100\n",
      "type(a)： <class 'int'>\n",
      "b= 100\n",
      "type(b)： <class 'str'>\n",
      "c= 12.345\n",
      "type(c)： <class 'float'>\n",
      "d= 12.345\n",
      "type(d)： <class 'str'>\n",
      "e= 123\n",
      "type(e)： <class 'str'>\n",
      "f= 123\n",
      "type(f)： <class 'int'>\n",
      "g= 123.456\n",
      "type(g)： <class 'str'>\n",
      "h= 123.456\n",
      "type(h)： <class 'float'>\n",
      "i= False\n",
      "type(i)： <class 'bool'>\n",
      "j= False\n",
      "type(j)： <class 'str'>\n",
      "k= hello\n",
      "type(k)： <class 'str'>\n",
      "m= True\n",
      "type(m)： <class 'bool'>\n"
     ]
    }
   ],
   "source": [
    "\"\"\"\n",
    "类型转换\n",
    "\"\"\"\n",
    "\n",
    "a = 100\n",
    "b = str(a)\n",
    "c = 12.345\n",
    "d = str(c)\n",
    "e = '123'\n",
    "f = int(e)\n",
    "g = '123.456'\n",
    "h = float(g)\n",
    "i = False\n",
    "j = str(i)\n",
    "k = 'hello'\n",
    "m = bool(k)\n",
    "print('a=', a)\n",
    "print('type(a)：', type(a))\n",
    "print('b=', b)\n",
    "print('type(b)：', type(b))\n",
    "print('c=', c)\n",
    "print('type(c)：', type(c))\n",
    "print('d=', d)\n",
    "print('type(d)：', type(d))\n",
    "print('e=', e)\n",
    "print('type(e)：', type(e))\n",
    "print('f=', f)\n",
    "print('type(f)：', type(f))\n",
    "print('g=', g)\n",
    "print('type(g)：', type(g))\n",
    "print('h=', h)\n",
    "print('type(h)：', type(h))\n",
    "print('i=', i)\n",
    "print('type(i)：', type(i))\n",
    "print('j=', j)\n",
    "print('type(j)：', type(j))\n",
    "print('k=', k)\n",
    "print('type(k)：', type(k))\n",
    "print('m=', m)\n",
    "print('type(m)：', type(m))"
   ]
  },
  {
   "cell_type": "code",
   "execution_count": 5,
   "metadata": {},
   "outputs": [
    {
     "name": "stdout",
     "output_type": "stream",
     "text": [
      "请输入华氏温度: 78\n",
      "78.0华氏度 = 25.6摄氏度\n"
     ]
    }
   ],
   "source": [
    "\"\"\"\n",
    "将华氏温度转换为摄氏温度\n",
    "F = 1.8C + 32\n",
    "\"\"\"\n",
    "\n",
    "f = float(input('请输入华氏温度: '))\n",
    "c = (f - 32) / 1.8\n",
    "print('%.1f华氏度 = %.1f摄氏度' % (f, c))"
   ]
  },
  {
   "cell_type": "code",
   "execution_count": 6,
   "metadata": {},
   "outputs": [
    {
     "name": "stdout",
     "output_type": "stream",
     "text": [
      "请输入圆的半径: 3\n",
      "周长: 18.85\n",
      "面积: 28.27\n"
     ]
    }
   ],
   "source": [
    "\"\"\"\n",
    "输入半径计算圆的周长和面积\n",
    "\"\"\"\n",
    "\n",
    "import math\n",
    "\n",
    "radius = float(input('请输入圆的半径: '))\n",
    "perimeter = 2 * math.pi * radius\n",
    "area = math.pi * radius * radius\n",
    "print('周长: %.2f' % perimeter)\n",
    "print('面积: %.2f' % area)"
   ]
  },
  {
   "cell_type": "code",
   "execution_count": 3,
   "metadata": {},
   "outputs": [
    {
     "name": "stdout",
     "output_type": "stream",
     "text": [
      "请输入年份: 2020\n",
      "2020 年是閏年\n"
     ]
    }
   ],
   "source": [
    "\"\"\"\n",
    "输入年份 如果是闰年输出 True 否则输出 False\n",
    "\"\"\"\n",
    "\n",
    "# 西元年份除以 4 不可整除，為平年。\n",
    "# 西元年份除以 4 可整除，且除以 100 不可整除，為閏年。\n",
    "# 西元年份除以 100 可整除，且除以 400 不可整除，為平年。\n",
    "# 西元年份除以 400 可整除，為閏年。\n",
    "\n",
    "year = int(input('请输入年份: '))\n",
    "# 如果代码太长写成一行不便于阅读 可以使用 \\ 或 () 折行\n",
    "is_leap = (year % 4 == 0 and year % 100 != 0 or\n",
    "           year % 400 == 0)\n",
    "if is_leap == True:\n",
    "    string = '年是閏年'\n",
    "else:\n",
    "    string = '年不是閏年'\n",
    "    \n",
    "print(year, string)"
   ]
  },
  {
   "cell_type": "code",
   "execution_count": 9,
   "metadata": {},
   "outputs": [
    {
     "name": "stdout",
     "output_type": "stream",
     "text": [
      "a1 =  15\n",
      "a2 =  12\n",
      "a3 =  48\n",
      "a4 =  9.6\n",
      "flag1 =  True\n",
      "flag2 =  False\n",
      "flag3 =  False\n",
      "flag4 =  True\n",
      "flag5 =  False\n",
      "True\n",
      "False\n"
     ]
    }
   ],
   "source": [
    "\"\"\"\n",
    "运算符的使用\n",
    "\"\"\"\n",
    "\n",
    "a = 5\n",
    "b = 10\n",
    "c = 3\n",
    "d = 4\n",
    "e = 5\n",
    "a += b\n",
    "print(\"a1 = \", a)\n",
    "a -= c\n",
    "print(\"a2 = \", a)\n",
    "a *= d\n",
    "print(\"a3 = \", a)\n",
    "a /= e\n",
    "print(\"a4 = \", a)\n",
    "\n",
    "flag1 = 3 > 2\n",
    "flag2 = 2 < 1\n",
    "flag3 = flag1 and flag2\n",
    "flag4 = flag1 or flag2\n",
    "flag5 = not flag1\n",
    "\n",
    "print(\"flag1 = \", flag1)\n",
    "print(\"flag2 = \", flag2)\n",
    "print(\"flag3 = \", flag3)\n",
    "print(\"flag4 = \", flag4)\n",
    "print(\"flag5 = \", flag5)\n",
    "print(flag1 is True)\n",
    "print(flag2 is not False)"
   ]
  },
  {
   "cell_type": "code",
   "execution_count": 5,
   "metadata": {},
   "outputs": [
    {
     "name": "stdout",
     "output_type": "stream",
     "text": [
      "字符串的长度是: 13\n",
      "单词首字母大写:  Hello, World!\n",
      "字符串变大写:  HELLO, WORLD!\n",
      "字符串是不是大写:  False\n",
      "字符串是不是以hello开头:  True\n",
      "字符串是不是以hello结尾:  False\n",
      "字符串是不是以驚嘆號開頭:  False\n",
      "字符串是不是一感嘆號结尾:  True\n",
      "Hello, World! - 信榮\n"
     ]
    }
   ],
   "source": [
    "\"\"\"\n",
    "字符串常用操作\n",
    "\"\"\"\n",
    "\n",
    "str1 = 'hello, world!'\n",
    "print('字符串的长度是:', len(str1))\n",
    "print('单词首字母大写: ', str1.title())\n",
    "print('字符串变大写: ', str1.upper())\n",
    "# str1 = str1.upper()\n",
    "print('字符串是不是大写: ', str1.isupper())\n",
    "print('字符串是不是以hello开头: ', str1.startswith('hello'))\n",
    "print('字符串是不是以hello结尾: ', str1.endswith('hello'))\n",
    "print('字符串是不是以驚嘆號開頭: ', str1.startswith('!'))\n",
    "print('字符串是不是一感嘆號结尾: ', str1.endswith('!'))\n",
    "str2 = '- \\u4fe1\\u69ae'\n",
    "str3 = str1.title() + ' ' + str2.lower()\n",
    "print(str3)"
   ]
  }
 ],
 "metadata": {
  "kernelspec": {
   "display_name": "Python 3",
   "language": "python",
   "name": "python3"
  },
  "language_info": {
   "codemirror_mode": {
    "name": "ipython",
    "version": 3
   },
   "file_extension": ".py",
   "mimetype": "text/x-python",
   "name": "python",
   "nbconvert_exporter": "python",
   "pygments_lexer": "ipython3",
   "version": "3.7.3"
  }
 },
 "nbformat": 4,
 "nbformat_minor": 2
}
