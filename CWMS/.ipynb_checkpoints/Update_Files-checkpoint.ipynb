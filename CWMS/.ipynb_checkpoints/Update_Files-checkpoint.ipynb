{
 "cells": [
  {
   "cell_type": "code",
   "execution_count": 36,
   "id": "b49432a0",
   "metadata": {},
   "outputs": [],
   "source": [
    "from os.path import join\n",
    "import os, fnmatch"
   ]
  },
  {
   "cell_type": "code",
   "execution_count": 37,
   "id": "67f5dc6b",
   "metadata": {},
   "outputs": [],
   "source": [
    "#--- 尋找某目錄(包括子目錄)下全部檔案\n",
    "#--- 傳入參數 nPath目錄名稱 / txtFile 將結果存檔 \n",
    "#--- 傳回一個 list fList 全部的檔案名稱 \n",
    "def findAll( nPath,txtFile ):\n",
    "    ''' os.walk 遞迴找出所有檔案\n",
    "    fTree 傳回一個tuple，包含三元素\n",
    "      dirs     該層的 path\n",
    "      subdirs  該層的 目錄s\n",
    "      files    該層的 檔案s\n",
    "    topdown = True 從上向下找 '''\n",
    "    fTree = os.walk( nPath, topdown=True )\n",
    "    dList = []  # 某檔案的 path\n",
    "    sList = []  # 該檔案同一層的 目錄\n",
    "    fList = []  # 該檔案的fullPathName \n",
    "    \n",
    "    # 逐層從上向下\n",
    "    for dirs, subdirs, files in fTree:\n",
    "        for f in files: \n",
    "            # 添加入 list\n",
    "            dList.append(dirs)\n",
    "            sList.append(subdirs)\n",
    "            # dirs+f 組合成 檔案的fullpathname \n",
    "            fullpath = join(dirs,f)\n",
    "            fList.append(fullpath)\n",
    "    '''       \n",
    "    # 此時的 dirs, subdirs,files 只是最後一個folder的搜尋結果\n",
    "    # 並不是全部檔案的 path，可將他們印出來看看\n",
    "      print(f'len(dirs): {len(dirs)}')\n",
    "      print(f'len(subdirs): {len(subdirs)}')\n",
    "      print(f'len(files): {len(files)}')\n",
    "    '''\n",
    "\n",
    "    # 檢視成果        \n",
    "    print(f'dir count目錄數量 : {len(dList)}')\n",
    "    print(f'sList count: {len(sList)}')\n",
    "    print(f'file count : {len(fList)}')\n",
    "\n",
    "    # 印出來看看\n",
    "    for f in range(len(fList)):\n",
    "        print(dList[f],sList[f],fList[f])\n",
    "\n",
    "    # 把結果存檔，以供驗證\n",
    "    txt = open(txtFile,'w',encoding='utf-8') \n",
    "    for f in range(len(fList)):\n",
    "        print(f'{dList[f]}  {sList[f]} {fList[f]}',file=txt)\n",
    "    txt.close()\n",
    "    \n",
    "    return fList  # 傳回這個list"
   ]
  },
  {
   "cell_type": "code",
   "execution_count": 39,
   "id": "2025bd17",
   "metadata": {},
   "outputs": [
    {
     "ename": "IndentationError",
     "evalue": "unindent does not match any outer indentation level (<tokenize>, line 16)",
     "output_type": "error",
     "traceback": [
      "\u001b[1;36m  File \u001b[1;32m<tokenize>:16\u001b[1;36m\u001b[0m\n\u001b[1;33m    filepath = os.path.join(dirs, filename)\u001b[0m\n\u001b[1;37m    ^\u001b[0m\n\u001b[1;31mIndentationError\u001b[0m\u001b[1;31m:\u001b[0m unindent does not match any outer indentation level\n"
     ]
    }
   ],
   "source": [
    "#--- 找某些類型的檔案\n",
    "#--- 傳入參數 nPath目錄名稱 / fTypes檔案類型 / txtFile 將結果存檔 \n",
    "#--- 傳回一個 list allFiles 符合的檔案名稱 \n",
    "def findSome(nPath, fTypes, txtFile):\n",
    "    allFiles = []\n",
    "    line = []\n",
    "    for dirs, subdirs, files in os.walk( nPath ):\n",
    "        for extension in ( tuple(fTypes) ):\n",
    "            # 找出 Json 檔\n",
    "            for filename in fnmatch.filter(files, extension):\n",
    "                print(filename)\n",
    "                filepath = os.path.join(dirs, filename)\t\t\n",
    "                if os.path.isfile( filepath ):\n",
    "                    allFiles.append(filepath)\n",
    "                    print(filepath)\n",
    "    \n",
    "    # 把結果存檔，以供驗證\n",
    "    f = open( txtFile,'w',encoding='utf-8' ) \n",
    "    for i in allFiles:\n",
    "        print(f'{i} 更新完成',file=f)\n",
    "    f.close()\n",
    "    \n",
    "    return allFiles  # 傳回這個list"
   ]
  },
  {
   "cell_type": "code",
   "execution_count": 40,
   "id": "5e280d22",
   "metadata": {},
   "outputs": [
    {
     "name": "stdout",
     "output_type": "stream",
     "text": [
      "從哪個資料夾 開始搜尋 ? D:\\Temp\\CWMS\n",
      "搜尋資料夾: D:\\Temp\\CWMS (包含子目錄)所有檔案\n",
      "os.walk + filter 使用fnmatch的寫法\n"
     ]
    },
    {
     "ename": "FileNotFoundError",
     "evalue": "[Errno 2] No such file or directory: 'filename'",
     "output_type": "error",
     "traceback": [
      "\u001b[1;31m---------------------------------------------------------------------------\u001b[0m",
      "\u001b[1;31mFileNotFoundError\u001b[0m                         Traceback (most recent call last)",
      "Input \u001b[1;32mIn [40]\u001b[0m, in \u001b[0;36m<cell line: 17>\u001b[1;34m()\u001b[0m\n\u001b[0;32m     15\u001b[0m txt2 \u001b[38;5;241m=\u001b[39m \u001b[38;5;124m'\u001b[39m\u001b[38;5;124mresultSome.txt\u001b[39m\u001b[38;5;124m'\u001b[39m\n\u001b[0;32m     16\u001b[0m \u001b[38;5;28mprint\u001b[39m(\u001b[38;5;124m'\u001b[39m\u001b[38;5;124mos.walk + filter 使用fnmatch的寫法\u001b[39m\u001b[38;5;124m'\u001b[39m)\n\u001b[1;32m---> 17\u001b[0m retSome \u001b[38;5;241m=\u001b[39m \u001b[43mfindSome\u001b[49m\u001b[43m(\u001b[49m\u001b[43mpath\u001b[49m\u001b[43m,\u001b[49m\u001b[43m \u001b[49m\u001b[43mfiletypes\u001b[49m\u001b[43m,\u001b[49m\u001b[43m \u001b[49m\u001b[43mtxt2\u001b[49m\u001b[43m)\u001b[49m\n\u001b[0;32m     18\u001b[0m \u001b[38;5;28mprint\u001b[39m(\u001b[38;5;124mf\u001b[39m\u001b[38;5;124m'\u001b[39m\u001b[38;5;124m搜尋完成，符合的檔案: \u001b[39m\u001b[38;5;132;01m{\u001b[39;00m\u001b[38;5;28mlen\u001b[39m(retSome)\u001b[38;5;132;01m}\u001b[39;00m\u001b[38;5;124m 個\u001b[39m\u001b[38;5;124m'\u001b[39m)\n",
      "Input \u001b[1;32mIn [34]\u001b[0m, in \u001b[0;36mfindSome\u001b[1;34m(nPath, fTypes, txtFile)\u001b[0m\n\u001b[0;32m      8\u001b[0m \u001b[38;5;28;01mfor\u001b[39;00m extension \u001b[38;5;129;01min\u001b[39;00m ( \u001b[38;5;28mtuple\u001b[39m(fTypes) ):\n\u001b[0;32m      9\u001b[0m     \u001b[38;5;66;03m# 找出 Json 檔\u001b[39;00m\n\u001b[0;32m     10\u001b[0m     \u001b[38;5;28;01mfor\u001b[39;00m filename \u001b[38;5;129;01min\u001b[39;00m fnmatch\u001b[38;5;241m.\u001b[39mfilter(files, extension):\n\u001b[0;32m     11\u001b[0m         \u001b[38;5;66;03m# 打開 Json 檔\u001b[39;00m\n\u001b[1;32m---> 12\u001b[0m         \u001b[38;5;28;01mwith\u001b[39;00m \u001b[38;5;28;43mopen\u001b[39;49m\u001b[43m(\u001b[49m\u001b[38;5;124;43m'\u001b[39;49m\u001b[38;5;124;43mfilename\u001b[39;49m\u001b[38;5;124;43m'\u001b[39;49m\u001b[43m,\u001b[49m\u001b[38;5;124;43m'\u001b[39;49m\u001b[38;5;124;43mr\u001b[39;49m\u001b[38;5;124;43m'\u001b[39;49m\u001b[43m,\u001b[49m\u001b[43m \u001b[49m\u001b[43mencoding\u001b[49m\u001b[38;5;241;43m=\u001b[39;49m\u001b[38;5;124;43m'\u001b[39;49m\u001b[38;5;124;43mutf-8\u001b[39;49m\u001b[38;5;124;43m'\u001b[39;49m\u001b[43m)\u001b[49m \u001b[38;5;28;01mas\u001b[39;00m f1:\n\u001b[0;32m     13\u001b[0m             \u001b[38;5;66;03m# 讀出檔案內容\u001b[39;00m\n\u001b[0;32m     14\u001b[0m             line \u001b[38;5;241m=\u001b[39m f1\u001b[38;5;241m.\u001b[39mreadline()\n\u001b[0;32m     15\u001b[0m             \u001b[38;5;28mprint\u001b[39m(line)\n",
      "\u001b[1;31mFileNotFoundError\u001b[0m: [Errno 2] No such file or directory: 'filename'"
     ]
    }
   ],
   "source": [
    "#--- 流程 主軸 -----\n",
    "pathHere = os.getcwd() # 當前目錄位置\n",
    "\n",
    "# 指定搜尋之目錄 (或者預設為當前目錄)\n",
    "path = input('從哪個資料夾 開始搜尋 ? ') or pathHere\n",
    "print(f'搜尋資料夾: {path} (包含子目錄)所有檔案')\n",
    "#--- call the function findAll()\n",
    "#--- txt1 = 'resultAll.txt'\n",
    "#--- retAll = findAll(path, txt1)\n",
    "#--- print(f'搜尋完成，全部檔案: {len(retAll)} 個')\n",
    "\n",
    "#--- call the function findSome()\n",
    "# 要篩選的檔案類型\n",
    "filetypes = ['*.json']  \n",
    "txt2 = 'resultSome.txt'\n",
    "print('os.walk + filter 使用fnmatch的寫法')\n",
    "retSome = findSome(path, filetypes, txt2)\n",
    "print(f'搜尋完成，符合的檔案: {len(retSome)} 個')"
   ]
  },
  {
   "cell_type": "code",
   "execution_count": null,
   "id": "c17b0cc2",
   "metadata": {},
   "outputs": [],
   "source": []
  }
 ],
 "metadata": {
  "kernelspec": {
   "display_name": "Python 3 (ipykernel)",
   "language": "python",
   "name": "python3"
  },
  "language_info": {
   "codemirror_mode": {
    "name": "ipython",
    "version": 3
   },
   "file_extension": ".py",
   "mimetype": "text/x-python",
   "name": "python",
   "nbconvert_exporter": "python",
   "pygments_lexer": "ipython3",
   "version": "3.9.12"
  }
 },
 "nbformat": 4,
 "nbformat_minor": 5
}
