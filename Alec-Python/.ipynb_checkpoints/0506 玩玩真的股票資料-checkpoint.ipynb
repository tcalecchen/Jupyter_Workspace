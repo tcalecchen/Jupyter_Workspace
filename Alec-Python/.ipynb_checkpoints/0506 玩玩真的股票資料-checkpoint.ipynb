{
 "cells": [
  {
   "cell_type": "code",
   "execution_count": 1,
   "metadata": {},
   "outputs": [],
   "source": [
    "%matplotlib inline\n",
    "\n",
    "import numpy as np\n",
    "import matplotlib.pyplot as plt\n",
    "import pandas as pd"
   ]
  },
  {
   "cell_type": "markdown",
   "metadata": {},
   "source": [
    "## 安裝 `pandas-datareader`\n",
    "\n",
    "注意要安裝 pandas-datareader 套件\n",
    "\n",
    "    conda install pandas-datareader\n",
    "    \n",
    "如果之前裝過, 但有陣子沒用, 請更新\n",
    "\n",
    "    conda update pandas-datareader"
   ]
  },
  {
   "cell_type": "code",
   "execution_count": 2,
   "metadata": {},
   "outputs": [],
   "source": [
    "import pandas_datareader.data as web"
   ]
  },
  {
   "cell_type": "code",
   "execution_count": 5,
   "metadata": {},
   "outputs": [],
   "source": [
    "df = web.DataReader(\"AAPL\", \"yahoo\", start=\"2012-9-1\", end=\"2018-8-31\")  # AAPL 蘋果的股票"
   ]
  },
  {
   "cell_type": "code",
   "execution_count": 6,
   "metadata": {},
   "outputs": [
    {
     "data": {
      "text/html": [
       "<div>\n",
       "<style scoped>\n",
       "    .dataframe tbody tr th:only-of-type {\n",
       "        vertical-align: middle;\n",
       "    }\n",
       "\n",
       "    .dataframe tbody tr th {\n",
       "        vertical-align: top;\n",
       "    }\n",
       "\n",
       "    .dataframe thead th {\n",
       "        text-align: right;\n",
       "    }\n",
       "</style>\n",
       "<table border=\"1\" class=\"dataframe\">\n",
       "  <thead>\n",
       "    <tr style=\"text-align: right;\">\n",
       "      <th></th>\n",
       "      <th>High</th>\n",
       "      <th>Low</th>\n",
       "      <th>Open</th>\n",
       "      <th>Close</th>\n",
       "      <th>Volume</th>\n",
       "      <th>Adj Close</th>\n",
       "    </tr>\n",
       "    <tr>\n",
       "      <th>Date</th>\n",
       "      <th></th>\n",
       "      <th></th>\n",
       "      <th></th>\n",
       "      <th></th>\n",
       "      <th></th>\n",
       "      <th></th>\n",
       "    </tr>\n",
       "  </thead>\n",
       "  <tbody>\n",
       "    <tr>\n",
       "      <th>2012-08-31</th>\n",
       "      <td>95.514282</td>\n",
       "      <td>93.892860</td>\n",
       "      <td>95.321426</td>\n",
       "      <td>95.034286</td>\n",
       "      <td>84580300.0</td>\n",
       "      <td>65.324036</td>\n",
       "    </tr>\n",
       "    <tr>\n",
       "      <th>2012-09-04</th>\n",
       "      <td>96.448570</td>\n",
       "      <td>94.928574</td>\n",
       "      <td>95.108574</td>\n",
       "      <td>96.424286</td>\n",
       "      <td>91973000.0</td>\n",
       "      <td>66.279495</td>\n",
       "    </tr>\n",
       "    <tr>\n",
       "      <th>2012-09-05</th>\n",
       "      <td>96.621429</td>\n",
       "      <td>95.657143</td>\n",
       "      <td>96.510002</td>\n",
       "      <td>95.747147</td>\n",
       "      <td>84093800.0</td>\n",
       "      <td>65.814034</td>\n",
       "    </tr>\n",
       "    <tr>\n",
       "      <th>2012-09-06</th>\n",
       "      <td>96.898575</td>\n",
       "      <td>95.828575</td>\n",
       "      <td>96.167145</td>\n",
       "      <td>96.610001</td>\n",
       "      <td>97799100.0</td>\n",
       "      <td>66.407150</td>\n",
       "    </tr>\n",
       "    <tr>\n",
       "      <th>2012-09-07</th>\n",
       "      <td>97.497147</td>\n",
       "      <td>96.538574</td>\n",
       "      <td>96.864288</td>\n",
       "      <td>97.205711</td>\n",
       "      <td>82416600.0</td>\n",
       "      <td>66.816620</td>\n",
       "    </tr>\n",
       "  </tbody>\n",
       "</table>\n",
       "</div>"
      ],
      "text/plain": [
       "                 High        Low       Open      Close      Volume  Adj Close\n",
       "Date                                                                         \n",
       "2012-08-31  95.514282  93.892860  95.321426  95.034286  84580300.0  65.324036\n",
       "2012-09-04  96.448570  94.928574  95.108574  96.424286  91973000.0  66.279495\n",
       "2012-09-05  96.621429  95.657143  96.510002  95.747147  84093800.0  65.814034\n",
       "2012-09-06  96.898575  95.828575  96.167145  96.610001  97799100.0  66.407150\n",
       "2012-09-07  97.497147  96.538574  96.864288  97.205711  82416600.0  66.816620"
      ]
     },
     "execution_count": 6,
     "metadata": {},
     "output_type": "execute_result"
    }
   ],
   "source": [
    "df.head()"
   ]
  },
  {
   "cell_type": "code",
   "execution_count": 7,
   "metadata": {},
   "outputs": [],
   "source": [
    "P = df[\"Adj Close\"]  # 調整收盤價"
   ]
  },
  {
   "cell_type": "code",
   "execution_count": 8,
   "metadata": {},
   "outputs": [
    {
     "data": {
      "text/plain": [
       "Date\n",
       "2012-08-31    65.324036\n",
       "2012-09-04    66.279495\n",
       "2012-09-05    65.814034\n",
       "2012-09-06    66.407150\n",
       "2012-09-07    66.816620\n",
       "Name: Adj Close, dtype: float64"
      ]
     },
     "execution_count": 8,
     "metadata": {},
     "output_type": "execute_result"
    }
   ],
   "source": [
    "P.head()"
   ]
  },
  {
   "cell_type": "code",
   "execution_count": 9,
   "metadata": {},
   "outputs": [
    {
     "data": {
      "text/plain": [
       "<matplotlib.axes._subplots.AxesSubplot at 0x18bddd65cf8>"
      ]
     },
     "execution_count": 9,
     "metadata": {},
     "output_type": "execute_result"
    },
    {
     "data": {
      "image/png": "[encoded data removed]",
      "text/plain": [
       "<Figure size 432x288 with 1 Axes>"
      ]
     },
     "metadata": {
      "needs_background": "light"
     },
     "output_type": "display_data"
    }
   ],
   "source": [
    "P.plot()"
   ]
  },
  {
   "cell_type": "code",
   "execution_count": null,
   "metadata": {
    "collapsed": true
   },
   "outputs": [],
   "source": []
  },
  {
   "cell_type": "markdown",
   "metadata": {},
   "source": [
    "## 計算報酬率\n",
    "\n",
    "$$\\frac{P_{t} - P_{t-1}}{P_{t-1}}$$"
   ]
  },
  {
   "cell_type": "code",
   "execution_count": 10,
   "metadata": {},
   "outputs": [],
   "source": [
    "r = P.diff()/P"
   ]
  },
  {
   "cell_type": "code",
   "execution_count": 11,
   "metadata": {},
   "outputs": [
    {
     "data": {
      "text/plain": [
       "<matplotlib.axes._subplots.AxesSubplot at 0x18bddc29fd0>"
      ]
     },
     "execution_count": 11,
     "metadata": {},
     "output_type": "execute_result"
    },
    {
     "data": {
      "image/png": "[encoded data removed]",
      "text/plain": [
       "<Figure size 432x288 with 1 Axes>"
      ]
     },
     "metadata": {
      "needs_background": "light"
     },
     "output_type": "display_data"
    }
   ],
   "source": [
    "r[-100:].plot()  # 100 天前到現在"
   ]
  },
  {
   "cell_type": "markdown",
   "metadata": {},
   "source": [
    "## 移動平均"
   ]
  },
  {
   "cell_type": "code",
   "execution_count": 13,
   "metadata": {},
   "outputs": [
    {
     "data": {
      "text/plain": [
       "Date\n",
       "2012-08-31           NaN\n",
       "2012-09-04           NaN\n",
       "2012-09-05           NaN\n",
       "2012-09-06           NaN\n",
       "2012-09-07           NaN\n",
       "2012-09-10           NaN\n",
       "2012-09-11           NaN\n",
       "2012-09-12           NaN\n",
       "2012-09-13           NaN\n",
       "2012-09-14           NaN\n",
       "2012-09-17           NaN\n",
       "2012-09-18           NaN\n",
       "2012-09-19           NaN\n",
       "2012-09-20           NaN\n",
       "2012-09-21           NaN\n",
       "2012-09-24           NaN\n",
       "2012-09-25           NaN\n",
       "2012-09-26           NaN\n",
       "2012-09-27           NaN\n",
       "2012-09-28     66.847264\n",
       "2012-10-01     66.818542\n",
       "2012-10-02     66.751474\n",
       "2012-10-03     66.757465\n",
       "2012-10-04     66.710968\n",
       "2012-10-05     66.574230\n",
       "2012-10-08     66.453596\n",
       "2012-10-09     66.332128\n",
       "2012-10-10     66.190331\n",
       "2012-10-11     65.920880\n",
       "2012-10-12     65.618583\n",
       "                 ...    \n",
       "2018-07-23    186.126670\n",
       "2018-07-24    186.662105\n",
       "2018-07-25    187.175787\n",
       "2018-07-26    187.672659\n",
       "2018-07-27    187.943589\n",
       "2018-07-30    188.180901\n",
       "2018-07-31    188.334660\n",
       "2018-08-01    189.203815\n",
       "2018-08-02    190.291000\n",
       "2018-08-03    191.280788\n",
       "2018-08-06    192.194934\n",
       "2018-08-07    193.023549\n",
       "2018-08-08    193.981201\n",
       "2018-08-09    194.863705\n",
       "2018-08-10    195.700616\n",
       "2018-08-13    196.624774\n",
       "2018-08-14    197.565894\n",
       "2018-08-15    198.583237\n",
       "2018-08-16    199.680219\n",
       "2018-08-17    201.010306\n",
       "2018-08-20    202.226809\n",
       "2018-08-21    203.353752\n",
       "2018-08-22    204.391210\n",
       "2018-08-23    205.480656\n",
       "2018-08-24    206.763036\n",
       "2018-08-27    208.186627\n",
       "2018-08-28    209.678751\n",
       "2018-08-29    210.779385\n",
       "2018-08-30    211.690524\n",
       "2018-08-31    212.700994\n",
       "Name: Adj Close, Length: 1510, dtype: float64"
      ]
     },
     "execution_count": 13,
     "metadata": {},
     "output_type": "execute_result"
    }
   ],
   "source": [
    "P.rolling(window=20).mean()  # 看 20 天移動平均，所以前 19 天的值是 NaN"
   ]
  },
  {
   "cell_type": "code",
   "execution_count": 14,
   "metadata": {},
   "outputs": [
    {
     "data": {
      "text/plain": [
       "<matplotlib.axes._subplots.AxesSubplot at 0x18bddd2b400>"
      ]
     },
     "execution_count": 14,
     "metadata": {},
     "output_type": "execute_result"
    },
    {
     "data": {
      "image/png": "[encoded data removed]",
      "text/plain": [
       "<Figure size 432x288 with 1 Axes>"
      ]
     },
     "metadata": {
      "needs_background": "light"
     },
     "output_type": "display_data"
    }
   ],
   "source": [
    "P.plot()\n",
    "P.rolling(window=20).mean().plot()\n",
    "P.rolling(window=60).mean().plot()"
   ]
  },
  {
   "cell_type": "code",
   "execution_count": null,
   "metadata": {
    "collapsed": true
   },
   "outputs": [],
   "source": []
  }
 ],
 "metadata": {
  "kernelspec": {
   "display_name": "Python 3",
   "language": "python",
   "name": "python3"
  },
  "language_info": {
   "codemirror_mode": {
    "name": "ipython",
    "version": 3
   },
   "file_extension": ".py",
   "mimetype": "text/x-python",
   "name": "python",
   "nbconvert_exporter": "python",
   "pygments_lexer": "ipython3",
   "version": "3.7.1"
  }
 },
 "nbformat": 4,
 "nbformat_minor": 2
}
