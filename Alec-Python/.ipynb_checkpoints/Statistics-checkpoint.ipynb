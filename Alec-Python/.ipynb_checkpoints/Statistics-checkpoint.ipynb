{
 "cells": [
  {
   "cell_type": "code",
   "execution_count": null,
   "metadata": {},
   "outputs": [],
   "source": []
  },
  {
   "cell_type": "code",
   "execution_count": null,
   "metadata": {},
   "outputs": [],
   "source": [
    "#!/usr/bin/env python3\n",
    "import numpy as np\n",
    "import pandas as pd\n",
    "import seaborn as sns\n",
    "import matplotlib.pyplot as plt\n",
    "import statsmodels.api as sm\n",
    "import statsmodels.formula.api as smf\n",
    "from statsmodels.formula.api import ols, glm\n",
    "\n",
    "\n",
    "# Read the data set into a pandas DataFrame\n",
    "wine = pd.read_csv('winequality-both.csv', sep=',', header=0)\n",
    "wine.columns = wine.columns.str.replace(' ', '_')\n",
    "print(wine.head())"
   ]
  },
  {
   "cell_type": "code",
   "execution_count": null,
   "metadata": {},
   "outputs": [],
   "source": [
    "# Display descriptive statistics for all variables\n",
    "print(wine.describe())"
   ]
  },
  {
   "cell_type": "code",
   "execution_count": null,
   "metadata": {},
   "outputs": [],
   "source": [
    "# Identify unique values\n",
    "print(sorted(wine.quality.unique()))"
   ]
  },
  {
   "cell_type": "code",
   "execution_count": null,
   "metadata": {},
   "outputs": [],
   "source": [
    "# Calculate value frequencies\n",
    "print(wine.quality.value_counts())"
   ]
  },
  {
   "cell_type": "code",
   "execution_count": null,
   "metadata": {},
   "outputs": [],
   "source": [
    "# Display descriptive statistics for quality by wine type\n",
    "print(wine.groupby('type')[['alcohol']].describe().unstack('type'))"
   ]
  },
  {
   "cell_type": "code",
   "execution_count": null,
   "metadata": {},
   "outputs": [],
   "source": [
    "# Calculate specific quantiles\n",
    "print(wine.groupby('type')[['quality']].quantile([0.25, 0.75]).unstack('type'))"
   ]
  },
  {
   "cell_type": "code",
   "execution_count": null,
   "metadata": {},
   "outputs": [],
   "source": [
    "# Calculate correlation matrix for all variables\n",
    "print(wine.corr())"
   ]
  },
  {
   "cell_type": "code",
   "execution_count": null,
   "metadata": {},
   "outputs": [],
   "source": [
    "# Look at relationship between pairs of variables\n",
    "# Take a \"small\" sample of red and white wines for plotting\n",
    "\n",
    "def take_sample(data_frame, replace=False, n=200):\n",
    "\treturn data_frame.loc[np.random.choice(data_frame.index, replace=replace, size=n)]\t\n",
    "reds = wine.loc[wine['type']=='red', :]\n",
    "whites = wine.loc[wine['type']=='white', :]\n",
    "reds_sample = take_sample(wine.loc[wine['type']=='red', :])\n",
    "whites_sample = take_sample(wine.loc[wine['type']=='white', :])\n",
    "wine_sample = pd.concat([reds_sample, whites_sample])\n",
    "wine['in_sample'] = np.where(wine.index.isin(wine_sample.index), 1.,0.)\n",
    "\n",
    "reds_sample = reds.loc[np.random.choice(reds.index, 100)]\n",
    "whites_sample = whites.loc[np.random.choice(whites.index, 100)]\n",
    "wine_sample = pd.concat([reds_sample, whites_sample], ignore_index=True)\n",
    "\n",
    "print(wine['in_sample'])\n",
    "print(pd.crosstab(wine.in_sample, wine.type, margins=True))"
   ]
  },
  {
   "cell_type": "code",
   "execution_count": null,
   "metadata": {},
   "outputs": [],
   "source": [
    "sns.set_style(\"dark\")\n",
    "sns.set_style(\"darkgrid\", {\"legend.scatterpoints\": 0})\n",
    "pg = sns.PairGrid(wine_sample, hue=\"type\", hue_order=[\"red\", \"white\"], \\\n",
    "palette=dict(red=\"red\", white=\"white\"), hue_kws={\"marker\": [\"o\", \"s\"]}, vars=['quality', 'alcohol', 'residual_sugar'])\n",
    "pg.x = wine_sample.loc[wine_sample['type']=='red', 'quality']\n",
    "pg = pg.map_diag(plt.hist)\n",
    "pg.x = wine_sample.loc[wine_sample['type']=='white', 'quality']\n",
    "pg = pg.map_diag(plt.hist)\n",
    "pg = pg.map_offdiag(plt.scatter, edgecolor=\"black\", s=10, alpha=0.25)\n",
    "plt.show()"
   ]
  },
  {
   "cell_type": "code",
   "execution_count": null,
   "metadata": {},
   "outputs": [],
   "source": [
    "g = sns.pairplot(wine_sample, kind='reg', plot_kws={\"ci\": False, \"x_jitter\": 0.25, \"y_jitter\": 0.25}, \\\n",
    "hue='type', diag_kind='hist', diag_kws={\"bins\": 10, \"alpha\": 1.0}, palette=dict(red=\"red\", white=\"white\"), \\\n",
    "markers=[\"o\", \"s\"], vars=['quality', 'alcohol', 'residual_sugar'])\n",
    "sns.set_style({'legend.frameon': True,'legend.numpoints': 0,'legend.scatterpoints': 0})\n",
    "wine_all_plot = sns.pairplot(wine, kind='reg', hue='type', palette=dict(red=\"red\", white=\"white\"), markers=[\"o\", \"s\"], \\\n",
    "                             vars=['quality', 'alcohol', 'residual_sugar'])\n",
    "wine_sample_plot = sns.pairplot(wine_sample, kind='reg', hue='type', palette=dict(red=\"red\", white=\"white\"),\\\n",
    "                                markers=[\"o\", \"s\"], vars=['quality', 'alcohol', 'residual_sugar'])\n",
    "\n",
    "wine['ln_fixed_acidity'] = np.log(wine.loc[:, 'fixed_acidity'])\n",
    "sns.distplot(wine.loc[:, 'fixed_acidity'])\n",
    "sns.distplot(wine.loc[:, 'ln_fixed_acidity'])\n",
    "print(g)\n",
    "plt.suptitle('Histograms and Scatter Plots of Quality, Alcohol, and Residual Sugar', fontsize=14, \\\n",
    "\t\thorizontalalignment='center', verticalalignment='top',\n",
    "\t\tx=0.5, y=0.999)\n",
    "plt.show()"
   ]
  },
  {
   "cell_type": "code",
   "execution_count": null,
   "metadata": {},
   "outputs": [],
   "source": [
    "# Look at the distribution of quality by wine type\n",
    "red_wine = wine.loc[wine['type']=='red', 'quality']\n",
    "white_wine = wine.loc[wine['type']=='white', 'quality']\n",
    "\n",
    "sns.set_style(\"dark\")\n",
    "print(sns.distplot(red_wine, \\\n",
    "\t\tnorm_hist=True, kde=False, color=\"red\", label=\"Red wine\"))\n",
    "print(sns.distplot(white_wine, \\\n",
    "\t\tnorm_hist=True, kde=False, color=\"white\", label=\"White wine\"))\n",
    "sns.utils.axlabel(\"Quality Score\", \"Density\")\n",
    "plt.title(\"Distribution of Quality by Wine Type\")\n",
    "plt.legend()\n",
    "plt.show()"
   ]
  },
  {
   "cell_type": "code",
   "execution_count": null,
   "metadata": {},
   "outputs": [],
   "source": [
    "# Test whether mean quality is different between red and white wines\n",
    "print(wine.groupby(['type'])[['quality']].agg(['std', 'mean']))\n",
    "tstat, pvalue, df = sm.stats.ttest_ind(red_wine, white_wine)\n",
    "print('tstat: %.3f  pvalue: %.4f' % (tstat, pvalue))"
   ]
  },
  {
   "cell_type": "code",
   "execution_count": null,
   "metadata": {},
   "outputs": [],
   "source": [
    "# Fit a multivariate linear regression model\n",
    "# wine_standardized = (wine - wine.mean()) / wine.std()\n",
    "# formula_all = 'quality ~ alcohol + chlorides + citric_acid + density + fixed_acidity + free_sulfur_dioxide + \\\n",
    "# pH + residual_sugar + sulphates + total_sulfur_dioxide + volatile_acidity'\n",
    "my_formula = 'quality ~ alcohol + chlorides + citric_acid + density + fixed_acidity + free_sulfur_dioxide + pH + \\\n",
    "residual_sugar + sulphates + total_sulfur_dioxide + volatile_acidity'\n",
    "#formula_all = 'quality ~ fixed_acidity + volatile_acidity + citric_acid + residual_sugar + chlorides + \\\n",
    "# free_sulfur_dioxide + total_sulfur_dioxide + density + pH + sulphates + alcohol'\n",
    "#formula = 'quality ~ residual_sugar + alcohol'\n",
    "lm = ols(my_formula, data=wine).fit()\n",
    "#lm = glm(my_formula, data=wine, family=sm.families.Gaussian()).fit()\n",
    "#lm = smf.glm(formula_all, data=wine_standardized, family=sm.families.Gaussian()).fit()\n",
    "print(lm.summary())\n",
    "print(\"\\nQuantities you can extract from the result:\\n%s\" % dir(lm))\n",
    "print(\"\\nCoefficients:\\n%s\" % lm.params)\n",
    "print(\"\\nCoefficient Std Errors:\\n%s\" % lm.bse)\n",
    "print(\"\\nAdj. R-squared:\\n%.2f\" % lm.rsquared_adj)\n",
    "print(\"\\nF-statistic: %.1f  P-value: %.2f\" % (lm.fvalue, lm.f_pvalue))\n",
    "print(\"\\nNumber of obs: %d  Number of fitted values: %s\" % (lm.nobs, len(lm.fittedvalues)))"
   ]
  },
  {
   "cell_type": "code",
   "execution_count": null,
   "metadata": {},
   "outputs": [],
   "source": [
    "# Fit a multivariate linear model with standardized independent variables\n",
    "dependent_variable = wine['quality']\n",
    "independent_variables = wine[wine.columns.difference(['quality', 'type', 'in_sample'])]\n",
    "independent_variables_standardized = (independent_variables - independent_variables.mean()) / independent_variables.std()\n",
    "wine_standardized = pd.concat([dependent_variable, independent_variables_standardized], axis=1)\n",
    "lm_standardized = ols(my_formula, data=wine_standardized).fit()\n",
    "print(lm_standardized.summary())"
   ]
  },
  {
   "cell_type": "code",
   "execution_count": null,
   "metadata": {},
   "outputs": [],
   "source": [
    "# Predict quality scores for \"new\" observations\n",
    "new_observations = wine.loc[wine.index.isin(range(10)), independent_variables.columns]\n",
    "y_predicted = lm.predict(new_observations)\n",
    "y_predicted_rounded = [round(score, 2) for score in y_predicted]\n",
    "print(y_predicted_rounded)"
   ]
  }
 ],
 "metadata": {
  "kernelspec": {
   "display_name": "Python 3",
   "language": "python",
   "name": "python3"
  },
  "language_info": {
   "codemirror_mode": {
    "name": "ipython",
    "version": 3
   },
   "file_extension": ".py",
   "mimetype": "text/x-python",
   "name": "python",
   "nbconvert_exporter": "python",
   "pygments_lexer": "ipython3",
   "version": "3.7.3"
  }
 },
 "nbformat": 4,
 "nbformat_minor": 2
}
