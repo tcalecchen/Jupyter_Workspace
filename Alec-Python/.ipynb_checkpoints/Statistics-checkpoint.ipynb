{
 "cells": [
  {
   "cell_type": "markdown",
   "metadata": {},
   "source": [
    "## 描述性統計與模型建立\n",
    "\n",
    "## Wine Quality\n",
    "\n",
    "Wine Quility 資料集包含兩個檔案（會合併成一個），一個是紅酒，一個是白酒，以處理變種的西班牙「Vinho Verde」酒。紅酒檔案含有 1,599 個觀測值，白酒檔案有 4,898 筆觀測值。兩個檔案都有一個輸出變數與十一個輸入變數。輸出變數是品質，它的分數從 0 （低品質）到 10 （高品質）。輸入變數是酒的物理化學特徵，包括固定酸度（fixed acidity）、揮發性酸度（volatile acidity）、檸檬酸（citric acid）、殘糖（residual sugar）、氯化物（chlorides）、游離二氧化硫（free sulfur dioxide）、二氧化硫總量（total sulfur dioxide）、密度（density）、酸鹼值（pH）、硫酸鹽（sulphates）和酒精（alcohol）。"
   ]
  },
  {
   "cell_type": "code",
   "execution_count": 1,
   "metadata": {},
   "outputs": [
    {
     "name": "stdout",
     "output_type": "stream",
     "text": [
      "  type  fixed_acidity  volatile_acidity  citric_acid  residual_sugar  \\\n",
      "0  red            7.4              0.70         0.00             1.9   \n",
      "1  red            7.8              0.88         0.00             2.6   \n",
      "2  red            7.8              0.76         0.04             2.3   \n",
      "3  red           11.2              0.28         0.56             1.9   \n",
      "4  red            7.4              0.70         0.00             1.9   \n",
      "\n",
      "   chlorides  free_sulfur_dioxide  total_sulfur_dioxide  density    pH  \\\n",
      "0      0.076                 11.0                  34.0   0.9978  3.51   \n",
      "1      0.098                 25.0                  67.0   0.9968  3.20   \n",
      "2      0.092                 15.0                  54.0   0.9970  3.26   \n",
      "3      0.075                 17.0                  60.0   0.9980  3.16   \n",
      "4      0.076                 11.0                  34.0   0.9978  3.51   \n",
      "\n",
      "   sulphates  alcohol  quality  \n",
      "0       0.56      9.4        5  \n",
      "1       0.68      9.8        5  \n",
      "2       0.65      9.8        5  \n",
      "3       0.58      9.8        6  \n",
      "4       0.56      9.4        5  \n"
     ]
    }
   ],
   "source": [
    "#!/usr/bin/env python3\n",
    "import numpy as np\n",
    "import pandas as pd\n",
    "import seaborn as sns\n",
    "import matplotlib.pyplot as plt\n",
    "import statsmodels.api as sm\n",
    "import statsmodels.formula.api as smf\n",
    "from statsmodels.formula.api import ols, glm\n",
    "\n",
    "# Read the data set into a pandas DataFrame\n",
    "wine = pd.read_csv('winequality-both.csv', sep=',', header=0)  # sep=',' 指出欄位分隔符號是逗號，header=0 指欄位標題在第一列\n",
    "wine.columns = wine.columns.str.replace(' ', '_') # 將空格置換成底線\n",
    "print(wine.head()) # 檢查標題列與前五列資料是否正確載入"
   ]
  },
  {
   "cell_type": "code",
   "execution_count": 2,
   "metadata": {},
   "outputs": [
    {
     "name": "stdout",
     "output_type": "stream",
     "text": [
      "       fixed_acidity  volatile_acidity  citric_acid  residual_sugar  \\\n",
      "count    6497.000000       6497.000000  6497.000000     6497.000000   \n",
      "mean        7.215307          0.339666     0.318633        5.443235   \n",
      "std         1.296434          0.164636     0.145318        4.757804   \n",
      "min         3.800000          0.080000     0.000000        0.600000   \n",
      "25%         6.400000          0.230000     0.250000        1.800000   \n",
      "50%         7.000000          0.290000     0.310000        3.000000   \n",
      "75%         7.700000          0.400000     0.390000        8.100000   \n",
      "max        15.900000          1.580000     1.660000       65.800000   \n",
      "\n",
      "         chlorides  free_sulfur_dioxide  total_sulfur_dioxide      density  \\\n",
      "count  6497.000000          6497.000000           6497.000000  6497.000000   \n",
      "mean      0.056034            30.525319            115.744574     0.994697   \n",
      "std       0.035034            17.749400             56.521855     0.002999   \n",
      "min       0.009000             1.000000              6.000000     0.987110   \n",
      "25%       0.038000            17.000000             77.000000     0.992340   \n",
      "50%       0.047000            29.000000            118.000000     0.994890   \n",
      "75%       0.065000            41.000000            156.000000     0.996990   \n",
      "max       0.611000           289.000000            440.000000     1.038980   \n",
      "\n",
      "                pH    sulphates      alcohol      quality  \n",
      "count  6497.000000  6497.000000  6497.000000  6497.000000  \n",
      "mean      3.218501     0.531268    10.491801     5.818378  \n",
      "std       0.160787     0.148806     1.192712     0.873255  \n",
      "min       2.720000     0.220000     8.000000     3.000000  \n",
      "25%       3.110000     0.430000     9.500000     5.000000  \n",
      "50%       3.210000     0.510000    10.300000     6.000000  \n",
      "75%       3.320000     0.600000    11.300000     6.000000  \n",
      "max       4.010000     2.000000    14.900000     9.000000  \n"
     ]
    }
   ],
   "source": [
    "# Display descriptive statistics for all variables\n",
    "print(wine.describe())  # 印出資料集每一個數值變數的摘要統計。它回報的統計是數量、平均值、標準差、最小值、第 25 百分位值、中位數、\n",
    "                        # 第 75 百分位值與最大值。例如「quality」觀測值有 6,497 筆，分數範圍是 3 到 9，平均品質分數是 5.8，\n",
    "                        # 標準差是 0.87"
   ]
  },
  {
   "cell_type": "code",
   "execution_count": 3,
   "metadata": {},
   "outputs": [
    {
     "name": "stdout",
     "output_type": "stream",
     "text": [
      "[3, 4, 5, 6, 7, 8, 9]\n"
     ]
    }
   ],
   "source": [
    "# Identify unique values\n",
    "print(sorted(wine.quality.unique()))  # unique 函數會去除其中重複的元素，識別 quality 欄位的各種值，並按升冪順序印出"
   ]
  },
  {
   "cell_type": "code",
   "execution_count": 4,
   "metadata": {},
   "outputs": [
    {
     "name": "stdout",
     "output_type": "stream",
     "text": [
      "6    2836\n",
      "5    2138\n",
      "7    1079\n",
      "4     216\n",
      "8     193\n",
      "3      30\n",
      "9       5\n",
      "Name: quality, dtype: int64\n"
     ]
    }
   ],
   "source": [
    "# Calculate value frequencies\n",
    "print(wine.quality.value_counts()) # 計算每一個值在 quality 欄位出現的次數，並依次數的降冪排序印出"
   ]
  },
  {
   "cell_type": "code",
   "execution_count": 11,
   "metadata": {},
   "outputs": [
    {
     "name": "stdout",
     "output_type": "stream",
     "text": [
      "      alcohol                                                 \n",
      "        count       mean       std  min  25%   50%   75%   max\n",
      "type                                                          \n",
      "red    1599.0  10.422983  1.065668  8.4  9.5  10.2  11.1  14.9\n",
      "white  4898.0  10.514267  1.230621  8.0  9.5  10.4  11.4  14.2\n"
     ]
    }
   ],
   "source": [
    "# Display descriptive statistics for quality by wine type\n",
    "print(wine.groupby('type')[['alcohol']].describe()) \n",
    "\n",
    "# groupby 函式使用 type 欄位的兩種值（red, white）來將資料分成兩組，我們使用方括號來列出想要輸出的欄位組合。這些指令執行結果是\n",
    "# 一個欄位的統計數據，紅酒與白酒的結果會垂直地疊在一起。"
   ]
  },
  {
   "cell_type": "code",
   "execution_count": 7,
   "metadata": {},
   "outputs": [
    {
     "name": "stdout",
     "output_type": "stream",
     "text": [
      "                type \n",
      "alcohol  count  red      1599.000000\n",
      "                white    4898.000000\n",
      "         mean   red        10.422983\n",
      "                white      10.514267\n",
      "         std    red         1.065668\n",
      "                white       1.230621\n",
      "         min    red         8.400000\n",
      "                white       8.000000\n",
      "         25%    red         9.500000\n",
      "                white       9.500000\n",
      "         50%    red        10.200000\n",
      "                white      10.400000\n",
      "         75%    red        11.100000\n",
      "                white      11.400000\n",
      "         max    red        14.900000\n",
      "                white      14.200000\n",
      "dtype: float64\n"
     ]
    }
   ],
   "source": [
    "print(wine.groupby('type')[['alcohol']].describe().unstack('type')) \n",
    "\n",
    "# unstack 函式會將結果重新格式化，讓紅酒與白酒的統計可以水平顯示成兩個獨立的欄位。"
   ]
  },
  {
   "cell_type": "code",
   "execution_count": 12,
   "metadata": {},
   "outputs": [
    {
     "name": "stdout",
     "output_type": "stream",
     "text": [
      "     quality      \n",
      "type     red white\n",
      "0.25     5.0   5.0\n",
      "0.75     6.0   6.0\n"
     ]
    }
   ],
   "source": [
    "# Calculate specific quantiles\n",
    "print(wine.groupby('type')[['quality']].quantile([0.25, 0.75]).unstack('type')) \n",
    "\n",
    "# 使用 quantile 函數來顯示 quality 欄位中，第 25 與 75 個百分位值。"
   ]
  },
  {
   "cell_type": "code",
   "execution_count": 17,
   "metadata": {},
   "outputs": [
    {
     "name": "stdout",
     "output_type": "stream",
     "text": [
      "AxesSubplot(0.125,0.125;0.775x0.755)\n",
      "AxesSubplot(0.125,0.125;0.775x0.755)\n"
     ]
    },
    {
     "data": {
      "image/png": "[encoded data removed]",
      "text/plain": [
       "<Figure size 432x288 with 1 Axes>"
      ]
     },
     "metadata": {},
     "output_type": "display_data"
    }
   ],
   "source": [
    "# 按照酒的類型，查看品質的分布\n",
    "\n",
    "red_wine = wine.loc[wine['type'] == 'red', 'quality']\n",
    "white_wine = wine.loc[wine['type'] == 'white', 'quality']\n",
    "sns.set_style(\"dark\")\n",
    "print(sns.distplot(red_wine, norm_hist=True, kde=False, color=\"red\", label=\"Red Wine\"))\n",
    "print(sns.distplot(white_wine, norm_hist=True, kde=False, color=\"blue\", label=\"White Wine\"))\n",
    "sns.utils.axlabel(\"Quality Score\", \"Density\")\n",
    "plt.legend()\n",
    "plt.show()"
   ]
  },
  {
   "cell_type": "code",
   "execution_count": null,
   "metadata": {},
   "outputs": [],
   "source": []
  },
  {
   "cell_type": "code",
   "execution_count": 13,
   "metadata": {},
   "outputs": [
    {
     "name": "stdout",
     "output_type": "stream",
     "text": [
      "                      fixed_acidity  volatile_acidity  citric_acid  \\\n",
      "fixed_acidity              1.000000          0.219008     0.324436   \n",
      "volatile_acidity           0.219008          1.000000    -0.377981   \n",
      "citric_acid                0.324436         -0.377981     1.000000   \n",
      "residual_sugar            -0.111981         -0.196011     0.142451   \n",
      "chlorides                  0.298195          0.377124     0.038998   \n",
      "free_sulfur_dioxide       -0.282735         -0.352557     0.133126   \n",
      "total_sulfur_dioxide      -0.329054         -0.414476     0.195242   \n",
      "density                    0.458910          0.271296     0.096154   \n",
      "pH                        -0.252700          0.261454    -0.329808   \n",
      "sulphates                  0.299568          0.225984     0.056197   \n",
      "alcohol                   -0.095452         -0.037640    -0.010493   \n",
      "quality                   -0.076743         -0.265699     0.085532   \n",
      "\n",
      "                      residual_sugar  chlorides  free_sulfur_dioxide  \\\n",
      "fixed_acidity              -0.111981   0.298195            -0.282735   \n",
      "volatile_acidity           -0.196011   0.377124            -0.352557   \n",
      "citric_acid                 0.142451   0.038998             0.133126   \n",
      "residual_sugar              1.000000  -0.128940             0.402871   \n",
      "chlorides                  -0.128940   1.000000            -0.195045   \n",
      "free_sulfur_dioxide         0.402871  -0.195045             1.000000   \n",
      "total_sulfur_dioxide        0.495482  -0.279630             0.720934   \n",
      "density                     0.552517   0.362615             0.025717   \n",
      "pH                         -0.267320   0.044708            -0.145854   \n",
      "sulphates                  -0.185927   0.395593            -0.188457   \n",
      "alcohol                    -0.359415  -0.256916            -0.179838   \n",
      "quality                    -0.036980  -0.200666             0.055463   \n",
      "\n",
      "                      total_sulfur_dioxide   density        pH  sulphates  \\\n",
      "fixed_acidity                    -0.329054  0.458910 -0.252700   0.299568   \n",
      "volatile_acidity                 -0.414476  0.271296  0.261454   0.225984   \n",
      "citric_acid                       0.195242  0.096154 -0.329808   0.056197   \n",
      "residual_sugar                    0.495482  0.552517 -0.267320  -0.185927   \n",
      "chlorides                        -0.279630  0.362615  0.044708   0.395593   \n",
      "free_sulfur_dioxide               0.720934  0.025717 -0.145854  -0.188457   \n",
      "total_sulfur_dioxide              1.000000  0.032395 -0.238413  -0.275727   \n",
      "density                           0.032395  1.000000  0.011686   0.259478   \n",
      "pH                               -0.238413  0.011686  1.000000   0.192123   \n",
      "sulphates                        -0.275727  0.259478  0.192123   1.000000   \n",
      "alcohol                          -0.265740 -0.686745  0.121248  -0.003029   \n",
      "quality                          -0.041385 -0.305858  0.019506   0.038485   \n",
      "\n",
      "                       alcohol   quality  \n",
      "fixed_acidity        -0.095452 -0.076743  \n",
      "volatile_acidity     -0.037640 -0.265699  \n",
      "citric_acid          -0.010493  0.085532  \n",
      "residual_sugar       -0.359415 -0.036980  \n",
      "chlorides            -0.256916 -0.200666  \n",
      "free_sulfur_dioxide  -0.179838  0.055463  \n",
      "total_sulfur_dioxide -0.265740 -0.041385  \n",
      "density              -0.686745 -0.305858  \n",
      "pH                    0.121248  0.019506  \n",
      "sulphates            -0.003029  0.038485  \n",
      "alcohol               1.000000  0.444319  \n",
      "quality               0.444319  1.000000  \n"
     ]
    }
   ],
   "source": [
    "# Calculate correlation matrix for all variables\n",
    "print(wine.corr())"
   ]
  },
  {
   "cell_type": "code",
   "execution_count": null,
   "metadata": {},
   "outputs": [],
   "source": [
    "# Look at relationship between pairs of variables\n",
    "# Take a \"small\" sample of red and white wines for plotting\n",
    "\n",
    "def take_sample(data_frame, replace=False, n=200):\n",
    "\treturn data_frame.loc[np.random.choice(data_frame.index, replace=replace, size=n)]\t\n",
    "reds = wine.loc[wine['type']=='red', :]\n",
    "whites = wine.loc[wine['type']=='white', :]\n",
    "reds_sample = take_sample(wine.loc[wine['type']=='red', :])\n",
    "whites_sample = take_sample(wine.loc[wine['type']=='white', :])\n",
    "wine_sample = pd.concat([reds_sample, whites_sample])\n",
    "wine['in_sample'] = np.where(wine.index.isin(wine_sample.index), 1.,0.)\n",
    "\n",
    "reds_sample = reds.loc[np.random.choice(reds.index, 100)]\n",
    "whites_sample = whites.loc[np.random.choice(whites.index, 100)]\n",
    "wine_sample = pd.concat([reds_sample, whites_sample], ignore_index=True)\n",
    "\n",
    "print(wine['in_sample'])\n",
    "print(pd.crosstab(wine.in_sample, wine.type, margins=True))"
   ]
  },
  {
   "cell_type": "code",
   "execution_count": null,
   "metadata": {},
   "outputs": [],
   "source": [
    "sns.set_style(\"dark\")\n",
    "sns.set_style(\"darkgrid\", {\"legend.scatterpoints\": 0})\n",
    "pg = sns.PairGrid(wine_sample, hue=\"type\", hue_order=[\"red\", \"white\"], \\\n",
    "palette=dict(red=\"red\", white=\"white\"), hue_kws={\"marker\": [\"o\", \"s\"]}, vars=['quality', 'alcohol', 'residual_sugar'])\n",
    "pg.x = wine_sample.loc[wine_sample['type']=='red', 'quality']\n",
    "pg = pg.map_diag(plt.hist)\n",
    "pg.x = wine_sample.loc[wine_sample['type']=='white', 'quality']\n",
    "pg = pg.map_diag(plt.hist)\n",
    "pg = pg.map_offdiag(plt.scatter, edgecolor=\"black\", s=10, alpha=0.25)\n",
    "plt.show()"
   ]
  },
  {
   "cell_type": "code",
   "execution_count": null,
   "metadata": {},
   "outputs": [],
   "source": [
    "g = sns.pairplot(wine_sample, kind='reg', plot_kws={\"ci\": False, \"x_jitter\": 0.25, \"y_jitter\": 0.25}, \\\n",
    "hue='type', diag_kind='hist', diag_kws={\"bins\": 10, \"alpha\": 1.0}, palette=dict(red=\"red\", white=\"white\"), \\\n",
    "markers=[\"o\", \"s\"], vars=['quality', 'alcohol', 'residual_sugar'])\n",
    "sns.set_style({'legend.frameon': True,'legend.numpoints': 0,'legend.scatterpoints': 0})\n",
    "wine_all_plot = sns.pairplot(wine, kind='reg', hue='type', palette=dict(red=\"red\", white=\"white\"), markers=[\"o\", \"s\"], \\\n",
    "                             vars=['quality', 'alcohol', 'residual_sugar'])\n",
    "wine_sample_plot = sns.pairplot(wine_sample, kind='reg', hue='type', palette=dict(red=\"red\", white=\"white\"),\\\n",
    "                                markers=[\"o\", \"s\"], vars=['quality', 'alcohol', 'residual_sugar'])\n",
    "\n",
    "wine['ln_fixed_acidity'] = np.log(wine.loc[:, 'fixed_acidity'])\n",
    "sns.distplot(wine.loc[:, 'fixed_acidity'])\n",
    "sns.distplot(wine.loc[:, 'ln_fixed_acidity'])\n",
    "print(g)\n",
    "plt.suptitle('Histograms and Scatter Plots of Quality, Alcohol, and Residual Sugar', fontsize=14, \\\n",
    "\t\thorizontalalignment='center', verticalalignment='top',\n",
    "\t\tx=0.5, y=0.999)\n",
    "plt.show()"
   ]
  },
  {
   "cell_type": "code",
   "execution_count": null,
   "metadata": {},
   "outputs": [],
   "source": [
    "# Look at the distribution of quality by wine type\n",
    "red_wine = wine.loc[wine['type']=='red', 'quality']\n",
    "white_wine = wine.loc[wine['type']=='white', 'quality']\n",
    "\n",
    "sns.set_style(\"dark\")\n",
    "print(sns.distplot(red_wine, \\\n",
    "\t\tnorm_hist=True, kde=False, color=\"red\", label=\"Red wine\"))\n",
    "print(sns.distplot(white_wine, \\\n",
    "\t\tnorm_hist=True, kde=False, color=\"white\", label=\"White wine\"))\n",
    "sns.utils.axlabel(\"Quality Score\", \"Density\")\n",
    "plt.title(\"Distribution of Quality by Wine Type\")\n",
    "plt.legend()\n",
    "plt.show()"
   ]
  },
  {
   "cell_type": "code",
   "execution_count": null,
   "metadata": {},
   "outputs": [],
   "source": [
    "# Test whether mean quality is different between red and white wines\n",
    "print(wine.groupby(['type'])[['quality']].agg(['std', 'mean']))\n",
    "tstat, pvalue, df = sm.stats.ttest_ind(red_wine, white_wine)\n",
    "print('tstat: %.3f  pvalue: %.4f' % (tstat, pvalue))"
   ]
  },
  {
   "cell_type": "code",
   "execution_count": null,
   "metadata": {},
   "outputs": [],
   "source": [
    "# Fit a multivariate linear regression model\n",
    "# wine_standardized = (wine - wine.mean()) / wine.std()\n",
    "# formula_all = 'quality ~ alcohol + chlorides + citric_acid + density + fixed_acidity + free_sulfur_dioxide + \\\n",
    "# pH + residual_sugar + sulphates + total_sulfur_dioxide + volatile_acidity'\n",
    "my_formula = 'quality ~ alcohol + chlorides + citric_acid + density + fixed_acidity + free_sulfur_dioxide + pH + \\\n",
    "residual_sugar + sulphates + total_sulfur_dioxide + volatile_acidity'\n",
    "#formula_all = 'quality ~ fixed_acidity + volatile_acidity + citric_acid + residual_sugar + chlorides + \\\n",
    "# free_sulfur_dioxide + total_sulfur_dioxide + density + pH + sulphates + alcohol'\n",
    "#formula = 'quality ~ residual_sugar + alcohol'\n",
    "lm = ols(my_formula, data=wine).fit()\n",
    "#lm = glm(my_formula, data=wine, family=sm.families.Gaussian()).fit()\n",
    "#lm = smf.glm(formula_all, data=wine_standardized, family=sm.families.Gaussian()).fit()\n",
    "print(lm.summary())\n",
    "print(\"\\nQuantities you can extract from the result:\\n%s\" % dir(lm))\n",
    "print(\"\\nCoefficients:\\n%s\" % lm.params)\n",
    "print(\"\\nCoefficient Std Errors:\\n%s\" % lm.bse)\n",
    "print(\"\\nAdj. R-squared:\\n%.2f\" % lm.rsquared_adj)\n",
    "print(\"\\nF-statistic: %.1f  P-value: %.2f\" % (lm.fvalue, lm.f_pvalue))\n",
    "print(\"\\nNumber of obs: %d  Number of fitted values: %s\" % (lm.nobs, len(lm.fittedvalues)))"
   ]
  },
  {
   "cell_type": "code",
   "execution_count": null,
   "metadata": {},
   "outputs": [],
   "source": [
    "# Fit a multivariate linear model with standardized independent variables\n",
    "dependent_variable = wine['quality']\n",
    "independent_variables = wine[wine.columns.difference(['quality', 'type', 'in_sample'])]\n",
    "independent_variables_standardized = (independent_variables - independent_variables.mean()) / independent_variables.std()\n",
    "wine_standardized = pd.concat([dependent_variable, independent_variables_standardized], axis=1)\n",
    "lm_standardized = ols(my_formula, data=wine_standardized).fit()\n",
    "print(lm_standardized.summary())"
   ]
  },
  {
   "cell_type": "code",
   "execution_count": null,
   "metadata": {},
   "outputs": [],
   "source": [
    "# Predict quality scores for \"new\" observations\n",
    "new_observations = wine.loc[wine.index.isin(range(10)), independent_variables.columns]\n",
    "y_predicted = lm.predict(new_observations)\n",
    "y_predicted_rounded = [round(score, 2) for score in y_predicted]\n",
    "print(y_predicted_rounded)"
   ]
  }
 ],
 "metadata": {
  "kernelspec": {
   "display_name": "Python 3",
   "language": "python",
   "name": "python3"
  },
  "language_info": {
   "codemirror_mode": {
    "name": "ipython",
    "version": 3
   },
   "file_extension": ".py",
   "mimetype": "text/x-python",
   "name": "python",
   "nbconvert_exporter": "python",
   "pygments_lexer": "ipython3",
   "version": "3.7.3"
  }
 },
 "nbformat": 4,
 "nbformat_minor": 2
}
