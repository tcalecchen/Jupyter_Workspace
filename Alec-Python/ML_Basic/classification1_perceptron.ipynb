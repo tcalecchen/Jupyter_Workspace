{
 "cells": [
  {
   "cell_type": "markdown",
   "metadata": {},
   "source": [
    "### classification1_perceptron   分類（感知器） $\\;\\;\\;$  p.180"
   ]
  },
  {
   "cell_type": "code",
   "execution_count": 1,
   "metadata": {},
   "outputs": [],
   "source": [
    "import numpy as np\n",
    "import matplotlib.pyplot as plt\n",
    "plt.rcParams['axes.unicode_minus']=False  # 解決 plot 負號不能顯示問題"
   ]
  },
  {
   "cell_type": "code",
   "execution_count": 2,
   "metadata": {},
   "outputs": [],
   "source": [
    "# 讀入學習資料\n",
    "train = np.loadtxt('images1.csv', delimiter=',', skiprows=1)"
   ]
  },
  {
   "cell_type": "code",
   "execution_count": 3,
   "metadata": {},
   "outputs": [
    {
     "name": "stdout",
     "output_type": "stream",
     "text": [
      "[[153. 432.]\n",
      " [220. 262.]\n",
      " [118. 214.]\n",
      " [474. 384.]\n",
      " [485. 411.]\n",
      " [233. 430.]\n",
      " [396. 361.]\n",
      " [484. 349.]\n",
      " [429. 259.]\n",
      " [286. 220.]\n",
      " [399. 433.]\n",
      " [403. 340.]\n",
      " [252.  34.]\n",
      " [497. 472.]\n",
      " [379. 416.]\n",
      " [ 76. 163.]\n",
      " [263. 112.]\n",
      " [ 26. 193.]\n",
      " [ 61. 473.]\n",
      " [420. 253.]]\n"
     ]
    }
   ],
   "source": [
    "train_x = train[:,0:2]\n",
    "print(train_x)"
   ]
  },
  {
   "cell_type": "code",
   "execution_count": 4,
   "metadata": {},
   "outputs": [
    {
     "name": "stdout",
     "output_type": "stream",
     "text": [
      "[-1. -1. -1.  1.  1. -1.  1.  1.  1.  1. -1.  1.  1.  1. -1. -1.  1. -1.\n",
      " -1.  1.]\n"
     ]
    }
   ],
   "source": [
    "train_y = train[:, 2]\n",
    "print(train_y)"
   ]
  },
  {
   "cell_type": "code",
   "execution_count": 5,
   "metadata": {},
   "outputs": [],
   "source": [
    "# 感知器權重的初始化\n",
    "w = np.random.rand(2)"
   ]
  },
  {
   "cell_type": "code",
   "execution_count": 6,
   "metadata": {},
   "outputs": [],
   "source": [
    "# 識別函數\n",
    "def f(x):\n",
    "    if np.dot(w, x) >= 0:\n",
    "        return 1\n",
    "    else:\n",
    "        return -1"
   ]
  },
  {
   "cell_type": "code",
   "execution_count": 7,
   "metadata": {},
   "outputs": [],
   "source": [
    "# 重複次數\n",
    "epoch = 10"
   ]
  },
  {
   "cell_type": "code",
   "execution_count": 8,
   "metadata": {},
   "outputs": [],
   "source": [
    "# 更新次數\n",
    "count = 0"
   ]
  },
  {
   "cell_type": "code",
   "execution_count": 9,
   "metadata": {},
   "outputs": [
    {
     "name": "stdout",
     "output_type": "stream",
     "text": [
      "1次 : w = [-152.79413469 -431.7709148 ]\n",
      "2次 : w = [321.20586531 -47.7709148 ]\n",
      "3次 : w = [  88.20586531 -477.7709148 ]\n",
      "4次 : w = [ 484.20586531 -116.7709148 ]\n",
      "5次 : w = [  85.20586531 -549.7709148 ]\n",
      "6次 : w = [ 488.20586531 -209.7709148 ]\n",
      "7次 : w = [ 109.20586531 -625.7709148 ]\n",
      "8次 : w = [ 372.20586531 -513.7709148 ]\n",
      "9次 : w = [ 846.20586531 -129.7709148 ]\n",
      "10次 : w = [ 613.20586531 -559.7709148 ]\n",
      "11次 : w = [ 214.20586531 -992.7709148 ]\n",
      "12次 : w = [ 617.20586531 -652.7709148 ]\n",
      "13次 : w = [1114.20586531 -180.7709148 ]\n",
      "14次 : w = [ 735.20586531 -596.7709148 ]\n",
      "15次 : w = [ 515.20586531 -858.7709148 ]\n",
      "16次 : w = [ 989.20586531 -474.7709148 ]\n",
      "17次 : w = [ 756.20586531 -904.7709148 ]\n",
      "18次 : w = [1152.20586531 -543.7709148 ]\n",
      "19次 : w = [ 753.20586531 -976.7709148 ]\n",
      "20次 : w = [1156.20586531 -636.7709148 ]\n",
      "21次 : w = [  777.20586531 -1052.7709148 ]\n",
      "22次 : w = [1251.20586531 -668.7709148 ]\n",
      "23次 : w = [ 1018.20586531 -1098.7709148 ]\n",
      "24次 : w = [1515.20586531 -626.7709148 ]\n",
      "25次 : w = [ 1136.20586531 -1042.7709148 ]\n",
      "26次 : w = [  737.20586531 -1475.7709148 ]\n",
      "27次 : w = [ 1140.20586531 -1135.7709148 ]\n"
     ]
    }
   ],
   "source": [
    "# 學習權重\n",
    "for _ in range(epoch):\n",
    "    for x, y in zip(train_x, train_y):\n",
    "        if f(x) != y:\n",
    "            w = w + y * x\n",
    "            \n",
    "            # 輸出日誌\n",
    "            count += 1\n",
    "            print('{}次 : w = {}'.format(count, w))    "
   ]
  },
  {
   "cell_type": "code",
   "execution_count": 11,
   "metadata": {},
   "outputs": [
    {
     "data": {
      "image/png": "[encoded data removed]",
      "text/plain": [
       "<Figure size 432x288 with 1 Axes>"
      ]
     },
     "metadata": {
      "needs_background": "light"
     },
     "output_type": "display_data"
    }
   ],
   "source": [
    "# 繪圖來確認\n",
    "x1 = np.arange(0, 500)\n",
    "\n",
    "plt.plot(train_x[train_y == 1, 0], train_x[train_y == 1, 1], 'o')\n",
    "plt.plot(train_x[train_y == -1, 0], train_x[train_y == -1, 1], 'x')\n",
    "plt.plot(x1, -w[0] / w[1] * x1, linestyle='dashed')\n",
    "plt.show()"
   ]
  },
  {
   "cell_type": "code",
   "execution_count": 12,
   "metadata": {},
   "outputs": [
    {
     "data": {
      "text/plain": [
       "1"
      ]
     },
     "execution_count": 12,
     "metadata": {},
     "output_type": "execute_result"
    }
   ],
   "source": [
    "# 驗證 200x100 的橫長圖像\n",
    "f([200, 100])"
   ]
  },
  {
   "cell_type": "code",
   "execution_count": 13,
   "metadata": {},
   "outputs": [
    {
     "data": {
      "text/plain": [
       "-1"
      ]
     },
     "execution_count": 13,
     "metadata": {},
     "output_type": "execute_result"
    }
   ],
   "source": [
    "# 驗證 100x200 的縱長圖像\n",
    "f([100, 200])"
   ]
  },
  {
   "cell_type": "code",
   "execution_count": null,
   "metadata": {},
   "outputs": [],
   "source": []
  }
 ],
 "metadata": {
  "kernelspec": {
   "display_name": "Python 3",
   "language": "python",
   "name": "python3"
  },
  "language_info": {
   "codemirror_mode": {
    "name": "ipython",
    "version": 3
   },
   "file_extension": ".py",
   "mimetype": "text/x-python",
   "name": "python",
   "nbconvert_exporter": "python",
   "pygments_lexer": "ipython3",
   "version": "3.7.3"
  }
 },
 "nbformat": 4,
 "nbformat_minor": 2
}
