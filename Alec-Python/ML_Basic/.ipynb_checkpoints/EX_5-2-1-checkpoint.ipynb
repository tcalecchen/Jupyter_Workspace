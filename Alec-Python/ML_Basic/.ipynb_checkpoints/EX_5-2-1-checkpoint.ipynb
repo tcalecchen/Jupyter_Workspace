{
 "cells": [
  {
   "cell_type": "code",
   "execution_count": 1,
   "metadata": {},
   "outputs": [],
   "source": [
    "import numpy as np\n",
    "import matplotlib.pyplot as plt"
   ]
  },
  {
   "cell_type": "code",
   "execution_count": 6,
   "metadata": {},
   "outputs": [
    {
     "name": "stdout",
     "output_type": "stream",
     "text": [
      "[[235. 591.]\n",
      " [216. 539.]\n",
      " [148. 413.]\n",
      " [ 35. 310.]\n",
      " [ 85. 308.]\n",
      " [204. 519.]\n",
      " [ 49. 325.]\n",
      " [ 25. 332.]\n",
      " [173. 498.]\n",
      " [191. 498.]\n",
      " [134. 392.]\n",
      " [ 99. 334.]\n",
      " [117. 385.]\n",
      " [112. 387.]\n",
      " [162. 425.]\n",
      " [272. 659.]\n",
      " [159. 400.]\n",
      " [159. 427.]\n",
      " [ 59. 319.]\n",
      " [198. 522.]]\n"
     ]
    }
   ],
   "source": [
    "# 讀入資料\n",
    "train = np.loadtxt('click.csv', delimiter=',', skiprows=1)\n",
    "print(train)"
   ]
  },
  {
   "cell_type": "code",
   "execution_count": null,
   "metadata": {},
   "outputs": [],
   "source": [
    "train_x = train[:, 0]  # 第 0 行，取全部  -- x\n",
    "train_y = train[:, 1]  # 第 1 行，取全部  -- y "
   ]
  },
  {
   "cell_type": "code",
   "execution_count": 4,
   "metadata": {},
   "outputs": [
    {
     "data": {
      "image/png": "[encoded data removed]",
      "text/plain": [
       "<Figure size 432x288 with 1 Axes>"
      ]
     },
     "metadata": {
      "needs_background": "light"
     },
     "output_type": "display_data"
    }
   ],
   "source": [
    "# 畫圖\n",
    "plt.plot(train_x, train_y, 'o')\n",
    "plt.show()"
   ]
  },
  {
   "cell_type": "markdown",
   "metadata": {},
   "source": [
    "### $$f_\\theta(x) = \\theta_0 + \\theta_1x $$\n",
    "\n",
    "###  目標函數： $$E(\\theta) = \\frac{1}{2}\\sum_{i=1}^n{\\left({y^{(i)} - f_\\theta(x^{(i)}) }\\right)}^2   $$"
   ]
  },
  {
   "cell_type": "code",
   "execution_count": 7,
   "metadata": {},
   "outputs": [],
   "source": [
    "# 初始化參數\n",
    "theta0 = np.random.rand()\n",
    "theta1 = np.random.rand()\n",
    "\n",
    "# 預測函數\n",
    "def f(x):\n",
    "    return theta0 + theta1 * x\n",
    "\n",
    "# 目標函數\n",
    "def E(x, y):\n",
    "    return 0.5 * np.sum((y - f(x)) ** 2)"
   ]
  },
  {
   "cell_type": "markdown",
   "metadata": {},
   "source": [
    "### 標準化或 Z-score 正規化  $$ z^{(i)} = \\frac{x^{(i)} - \\mu}{\\sigma} $$"
   ]
  },
  {
   "cell_type": "code",
   "execution_count": null,
   "metadata": {},
   "outputs": [],
   "source": [
    "# 標準化\n",
    "mu = train_x.mean()    # 平均數"
   ]
  },
  {
   "cell_type": "code",
   "execution_count": null,
   "metadata": {},
   "outputs": [],
   "source": []
  },
  {
   "cell_type": "code",
   "execution_count": null,
   "metadata": {},
   "outputs": [],
   "source": []
  },
  {
   "cell_type": "code",
   "execution_count": null,
   "metadata": {},
   "outputs": [],
   "source": []
  },
  {
   "cell_type": "code",
   "execution_count": null,
   "metadata": {},
   "outputs": [],
   "source": []
  }
 ],
 "metadata": {
  "kernelspec": {
   "display_name": "Python 3",
   "language": "python",
   "name": "python3"
  },
  "language_info": {
   "codemirror_mode": {
    "name": "ipython",
    "version": 3
   },
   "file_extension": ".py",
   "mimetype": "text/x-python",
   "name": "python",
   "nbconvert_exporter": "python",
   "pygments_lexer": "ipython3",
   "version": "3.7.3"
  }
 },
 "nbformat": 4,
 "nbformat_minor": 2
}
