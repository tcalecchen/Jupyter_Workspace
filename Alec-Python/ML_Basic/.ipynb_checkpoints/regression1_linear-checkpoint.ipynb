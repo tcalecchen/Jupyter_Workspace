{
 "cells": [
  {
   "cell_type": "markdown",
   "metadata": {},
   "source": [
    "#### regression1_linear      p.162"
   ]
  },
  {
   "cell_type": "code",
   "execution_count": 1,
   "metadata": {},
   "outputs": [],
   "source": [
    "import numpy as np\n",
    "import matplotlib.pyplot as plt\n",
    "plt.rcParams['axes.unicode_minus']=False  # 解決 plot 負號不能顯示問題\n",
    "plt.rcParams['font.sans-serif'] = ['Microsoft JhengHei']   # 解決 plot 中文不能顯示問題"
   ]
  },
  {
   "cell_type": "code",
   "execution_count": 2,
   "metadata": {},
   "outputs": [
    {
     "name": "stdout",
     "output_type": "stream",
     "text": [
      "[[235. 591.]\n",
      " [216. 539.]\n",
      " [148. 413.]\n",
      " [ 35. 310.]\n",
      " [ 85. 308.]\n",
      " [204. 519.]\n",
      " [ 49. 325.]\n",
      " [ 25. 332.]\n",
      " [173. 498.]\n",
      " [191. 498.]\n",
      " [134. 392.]\n",
      " [ 99. 334.]\n",
      " [117. 385.]\n",
      " [112. 387.]\n",
      " [162. 425.]\n",
      " [272. 659.]\n",
      " [159. 400.]\n",
      " [159. 427.]\n",
      " [ 59. 319.]\n",
      " [198. 522.]]\n"
     ]
    }
   ],
   "source": [
    "# 讀入資料\n",
    "train = np.loadtxt('click.csv', delimiter=',', skiprows=1)\n",
    "print(train)"
   ]
  },
  {
   "cell_type": "code",
   "execution_count": 3,
   "metadata": {},
   "outputs": [],
   "source": [
    "train_x = train[:, 0]  # 第 0 行，取全部  -- x 軸（廣告費）\n"
   ]
  },
  {
   "cell_type": "code",
   "execution_count": 4,
   "metadata": {},
   "outputs": [
    {
     "name": "stdout",
     "output_type": "stream",
     "text": [
      "[235. 216. 148.  35.  85. 204.  49.  25. 173. 191. 134.  99. 117. 112.\n",
      " 162. 272. 159. 159.  59. 198.]\n"
     ]
    }
   ],
   "source": [
    "print(train_x)"
   ]
  },
  {
   "cell_type": "code",
   "execution_count": 5,
   "metadata": {},
   "outputs": [],
   "source": [
    "train_y = train[:, 1]  # 第 1 行，取全部  -- y 軸（點擊數）"
   ]
  },
  {
   "cell_type": "code",
   "execution_count": 6,
   "metadata": {},
   "outputs": [
    {
     "name": "stdout",
     "output_type": "stream",
     "text": [
      "[591. 539. 413. 310. 308. 519. 325. 332. 498. 498. 392. 334. 385. 387.\n",
      " 425. 659. 400. 427. 319. 522.]\n"
     ]
    }
   ],
   "source": [
    "print(train_y)"
   ]
  },
  {
   "cell_type": "code",
   "execution_count": 7,
   "metadata": {},
   "outputs": [
    {
     "data": {
      "image/png": "[encoded data removed]",
      "text/plain": [
       "<Figure size 432x288 with 1 Axes>"
      ]
     },
     "metadata": {
      "needs_background": "light"
     },
     "output_type": "display_data"
    }
   ],
   "source": [
    "# 畫圖\n",
    "plt.plot(train_x, train_y, 'o')\n",
    "plt.xlabel('廣告費')\n",
    "plt.ylabel('點擊數')\n",
    "plt.show()"
   ]
  },
  {
   "cell_type": "markdown",
   "metadata": {},
   "source": [
    "### 預測函數(p.30)： $$f_\\theta(x) = \\theta_0 + \\theta_1x $$\n",
    "\n",
    "###      $$ \\theta_0：截距 \\;\\;\\; \\theta_1：斜率  $$\n",
    "\n",
    "###  目標函數(p.33) -- 最小平方法： $$E(\\theta) = \\frac{1}{2}\\sum_{i=1}^n{\\left({y^{(i)} - f_\\theta(x^{(i)}) }\\right)}^2   $$"
   ]
  },
  {
   "cell_type": "code",
   "execution_count": 8,
   "metadata": {},
   "outputs": [],
   "source": [
    "# 初始化參數\n",
    "theta0 = np.random.rand()\n",
    "theta1 = np.random.rand()"
   ]
  },
  {
   "cell_type": "code",
   "execution_count": 9,
   "metadata": {},
   "outputs": [
    {
     "name": "stdout",
     "output_type": "stream",
     "text": [
      "0.46271014914097897\n"
     ]
    }
   ],
   "source": [
    "print(theta0)"
   ]
  },
  {
   "cell_type": "code",
   "execution_count": 10,
   "metadata": {},
   "outputs": [
    {
     "name": "stdout",
     "output_type": "stream",
     "text": [
      "0.7980764923628401\n"
     ]
    }
   ],
   "source": [
    "print(theta1)"
   ]
  },
  {
   "cell_type": "code",
   "execution_count": 11,
   "metadata": {},
   "outputs": [],
   "source": [
    "# 預測函數\n",
    "def f(x):\n",
    "    return theta0 + theta1 * x\n",
    "\n",
    "# 目標函數\n",
    "def E(x, y):\n",
    "    return 0.5 * np.sum((y - f(x)) ** 2)"
   ]
  },
  {
   "cell_type": "markdown",
   "metadata": {},
   "source": [
    "### 標準化或 Z-score 正規化  $$ z^{(i)} = \\frac{x^{(i)} - \\mu}{\\sigma} $$"
   ]
  },
  {
   "cell_type": "code",
   "execution_count": 12,
   "metadata": {},
   "outputs": [],
   "source": [
    "# 標準化\n",
    "mu = train_x.mean()    # 平均數\n",
    "sigma = train_x.std()  # 標準差"
   ]
  },
  {
   "cell_type": "code",
   "execution_count": 13,
   "metadata": {},
   "outputs": [
    {
     "name": "stdout",
     "output_type": "stream",
     "text": [
      "141.6\n"
     ]
    }
   ],
   "source": [
    "print(mu)"
   ]
  },
  {
   "cell_type": "code",
   "execution_count": 14,
   "metadata": {},
   "outputs": [
    {
     "name": "stdout",
     "output_type": "stream",
     "text": [
      "66.98537153737374\n"
     ]
    }
   ],
   "source": [
    "print(sigma)"
   ]
  },
  {
   "cell_type": "code",
   "execution_count": 15,
   "metadata": {},
   "outputs": [
    {
     "name": "stdout",
     "output_type": "stream",
     "text": [
      "[ 1.39433428  1.11069026  0.09554325 -1.59139223 -0.8449606   0.93154667\n",
      " -1.38239138 -1.74067856  0.46875906  0.73747445 -0.11345761 -0.63595975\n",
      " -0.36724436 -0.44188752  0.3045441   1.94669369  0.25975821  0.25975821\n",
      " -1.23310505  0.84197488]\n"
     ]
    }
   ],
   "source": [
    "def standardize(x):\n",
    "    return (x - mu) / sigma\n",
    "\n",
    "train_z = standardize(train_x)  # 將 X 軸（廣告費）標準化\n",
    "print(train_z)"
   ]
  },
  {
   "cell_type": "code",
   "execution_count": 16,
   "metadata": {},
   "outputs": [
    {
     "data": {
      "image/png": "[encoded data removed]",
      "text/plain": [
       "<Figure size 432x288 with 1 Axes>"
      ]
     },
     "metadata": {
      "needs_background": "light"
     },
     "output_type": "display_data"
    }
   ],
   "source": [
    "plt.plot(train_z, train_y, 'o')\n",
    "plt.xlabel('廣告費')\n",
    "plt.ylabel('點擊數')\n",
    "plt.show()\n",
    "\n",
    "# 標準化後，x 軸的刻度變小了"
   ]
  },
  {
   "cell_type": "markdown",
   "metadata": {},
   "source": [
    "### $$ \\theta_0 := \\theta_0 - \\eta\\sum_{i=1}^n{\\left(f_\\theta(x^{(i)}) - {y^{(i)}}\\right)}  $$\n",
    "\n",
    "### $$ \\theta_1 := \\theta_1 - \\eta\\sum_{i=1}^n{\\left(f_\\theta(x^{(i)}) - {y^{(i)}}\\right)}x^{(i)} $$"
   ]
  },
  {
   "cell_type": "code",
   "execution_count": 17,
   "metadata": {},
   "outputs": [
    {
     "name": "stdout",
     "output_type": "stream",
     "text": [
      "1次: theta0 = 9.036, theta1 = 2.652, 差分 = 76175.5512\n",
      "2次: theta0 = 17.439, theta1 = 4.468, 差分 = 73158.9994\n",
      "3次: theta0 = 25.673, theta1 = 6.248, 差分 = 70261.9030\n",
      "4次: theta0 = 33.742, theta1 = 7.993, 差分 = 67479.5316\n",
      "5次: theta0 = 41.651, theta1 = 9.703, 差分 = 64807.3422\n",
      "6次: theta0 = 49.401, theta1 = 11.378, 差分 = 62240.9714\n",
      "7次: theta0 = 56.996, theta1 = 13.020, 差分 = 59776.2290\n",
      "8次: theta0 = 64.439, theta1 = 14.629, 差分 = 57409.0903\n",
      "9次: theta0 = 71.733, theta1 = 16.206, 差分 = 55135.6903\n",
      "10次: theta0 = 78.881, theta1 = 17.752, 差分 = 52952.3170\n",
      "11次: theta0 = 85.887, theta1 = 19.266, 差分 = 50855.4052\n",
      "12次: theta0 = 92.752, theta1 = 20.751, 差分 = 48841.5312\n",
      "13次: theta0 = 99.480, theta1 = 22.205, 差分 = 46907.4066\n",
      "14次: theta0 = 106.073, theta1 = 23.631, 差分 = 45049.8733\n",
      "15次: theta0 = 112.535, theta1 = 25.028, 差分 = 43265.8983\n",
      "16次: theta0 = 118.867, theta1 = 26.397, 差分 = 41552.5687\n",
      "17次: theta0 = 125.073, theta1 = 27.738, 差分 = 39907.0870\n",
      "18次: theta0 = 131.154, theta1 = 29.053, 差分 = 38326.7663\n",
      "19次: theta0 = 137.114, theta1 = 30.342, 差分 = 36809.0264\n",
      "20次: theta0 = 142.955, theta1 = 31.604, 差分 = 35351.3889\n",
      "21次: theta0 = 148.679, theta1 = 32.842, 差分 = 33951.4739\n",
      "22次: theta0 = 154.288, theta1 = 34.055, 差分 = 32606.9956\n",
      "23次: theta0 = 159.786, theta1 = 35.243, 差分 = 31315.7586\n",
      "24次: theta0 = 165.173, theta1 = 36.408, 差分 = 30075.6545\n",
      "25次: theta0 = 170.452, theta1 = 37.549, 差分 = 28884.6586\n",
      "26次: theta0 = 175.626, theta1 = 38.668, 差分 = 27740.8261\n",
      "27次: theta0 = 180.697, theta1 = 39.764, 差分 = 26642.2894\n",
      "28次: theta0 = 185.666, theta1 = 40.838, 差分 = 25587.2547\n",
      "29次: theta0 = 190.536, theta1 = 41.891, 差分 = 24573.9995\n",
      "30次: theta0 = 195.308, theta1 = 42.923, 差分 = 23600.8691\n",
      "31次: theta0 = 199.985, theta1 = 43.934, 差分 = 22666.2747\n",
      "32次: theta0 = 204.568, theta1 = 44.925, 差分 = 21768.6902\n",
      "33次: theta0 = 209.060, theta1 = 45.896, 差分 = 20906.6500\n",
      "34次: theta0 = 213.461, theta1 = 46.848, 差分 = 20078.7467\n",
      "35次: theta0 = 217.775, theta1 = 47.780, 差分 = 19283.6283\n",
      "36次: theta0 = 222.003, theta1 = 48.694, 差分 = 18519.9967\n",
      "37次: theta0 = 226.146, theta1 = 49.590, 差分 = 17786.6048\n",
      "38次: theta0 = 230.206, theta1 = 50.468, 差分 = 17082.2552\n",
      "39次: theta0 = 234.185, theta1 = 51.328, 差分 = 16405.7979\n",
      "40次: theta0 = 238.084, theta1 = 52.171, 差分 = 15756.1283\n",
      "41次: theta0 = 241.905, theta1 = 52.997, 差分 = 15132.1857\n",
      "42次: theta0 = 245.650, theta1 = 53.807, 差分 = 14532.9511\n",
      "43次: theta0 = 249.320, theta1 = 54.600, 差分 = 13957.4462\n",
      "44次: theta0 = 252.917, theta1 = 55.378, 差分 = 13404.7314\n",
      "45次: theta0 = 256.441, theta1 = 56.140, 差分 = 12873.9040\n",
      "46次: theta0 = 259.896, theta1 = 56.887, 差分 = 12364.0974\n",
      "47次: theta0 = 263.281, theta1 = 57.618, 差分 = 11874.4791\n",
      "48次: theta0 = 266.598, theta1 = 58.336, 差分 = 11404.2498\n",
      "49次: theta0 = 269.849, theta1 = 59.038, 差分 = 10952.6415\n",
      "50次: theta0 = 273.035, theta1 = 59.727, 差分 = 10518.9169\n",
      "51次: theta0 = 276.157, theta1 = 60.402, 差分 = 10102.3678\n",
      "52次: theta0 = 279.217, theta1 = 61.064, 差分 = 9702.3140\n",
      "53次: theta0 = 282.216, theta1 = 61.712, 差分 = 9318.1024\n",
      "54次: theta0 = 285.155, theta1 = 62.347, 差分 = 8949.1055\n",
      "55次: theta0 = 288.034, theta1 = 62.970, 差分 = 8594.7209\n",
      "56次: theta0 = 290.857, theta1 = 63.580, 差分 = 8254.3700\n",
      "57次: theta0 = 293.623, theta1 = 64.178, 差分 = 7927.4969\n",
      "58次: theta0 = 296.333, theta1 = 64.764, 差分 = 7613.5681\n",
      "59次: theta0 = 298.990, theta1 = 65.339, 差分 = 7312.0708\n",
      "60次: theta0 = 301.593, theta1 = 65.901, 差分 = 7022.5128\n",
      "61次: theta0 = 304.144, theta1 = 66.453, 差分 = 6744.4213\n",
      "62次: theta0 = 306.644, theta1 = 66.993, 差分 = 6477.3422\n",
      "63次: theta0 = 309.094, theta1 = 67.523, 差分 = 6220.8394\n",
      "64次: theta0 = 311.495, theta1 = 68.042, 差分 = 5974.4942\n",
      "65次: theta0 = 313.848, theta1 = 68.551, 差分 = 5737.9042\n",
      "66次: theta0 = 316.154, theta1 = 69.050, 差分 = 5510.6832\n",
      "67次: theta0 = 318.414, theta1 = 69.538, 差分 = 5292.4602\n",
      "68次: theta0 = 320.629, theta1 = 70.017, 差分 = 5082.8787\n",
      "69次: theta0 = 322.799, theta1 = 70.486, 差分 = 4881.5967\n",
      "70次: theta0 = 324.926, theta1 = 70.946, 差分 = 4688.2855\n",
      "71次: theta0 = 327.011, theta1 = 71.397, 差分 = 4502.6294\n",
      "72次: theta0 = 329.054, theta1 = 71.838, 差分 = 4324.3253\n",
      "73次: theta0 = 331.056, theta1 = 72.271, 差分 = 4153.0820\n",
      "74次: theta0 = 333.018, theta1 = 72.695, 差分 = 3988.6199\n",
      "75次: theta0 = 334.940, theta1 = 73.111, 差分 = 3830.6706\n",
      "76次: theta0 = 336.824, theta1 = 73.518, 差分 = 3678.9760\n",
      "77次: theta0 = 338.671, theta1 = 73.917, 差分 = 3533.2886\n",
      "78次: theta0 = 340.480, theta1 = 74.309, 差分 = 3393.3704\n",
      "79次: theta0 = 342.254, theta1 = 74.692, 差分 = 3258.9929\n",
      "80次: theta0 = 343.992, theta1 = 75.068, 差分 = 3129.9368\n",
      "81次: theta0 = 345.695, theta1 = 75.436, 差分 = 3005.9913\n",
      "82次: theta0 = 347.364, theta1 = 75.797, 差分 = 2886.9540\n",
      "83次: theta0 = 349.000, theta1 = 76.151, 差分 = 2772.6306\n",
      "84次: theta0 = 350.603, theta1 = 76.497, 差分 = 2662.8345\n",
      "85次: theta0 = 352.174, theta1 = 76.837, 差分 = 2557.3862\n",
      "86次: theta0 = 353.713, theta1 = 77.170, 差分 = 2456.1137\n",
      "87次: theta0 = 355.222, theta1 = 77.496, 差分 = 2358.8516\n",
      "88次: theta0 = 356.701, theta1 = 77.815, 差分 = 2265.4411\n",
      "89次: theta0 = 358.150, theta1 = 78.129, 差分 = 2175.7296\n",
      "90次: theta0 = 359.570, theta1 = 78.436, 差分 = 2089.5707\n",
      "91次: theta0 = 360.961, theta1 = 78.737, 差分 = 2006.8237\n",
      "92次: theta0 = 362.325, theta1 = 79.031, 差分 = 1927.3535\n",
      "93次: theta0 = 363.661, theta1 = 79.320, 差分 = 1851.0303\n",
      "94次: theta0 = 364.971, theta1 = 79.604, 差分 = 1777.7295\n",
      "95次: theta0 = 366.255, theta1 = 79.881, 差分 = 1707.3314\n",
      "96次: theta0 = 367.513, theta1 = 80.153, 差分 = 1639.7211\n",
      "97次: theta0 = 368.745, theta1 = 80.420, 差分 = 1574.7882\n",
      "98次: theta0 = 369.954, theta1 = 80.681, 差分 = 1512.4265\n",
      "99次: theta0 = 371.137, theta1 = 80.937, 差分 = 1452.5344\n",
      "100次: theta0 = 372.298, theta1 = 81.187, 差分 = 1395.0141\n",
      "101次: theta0 = 373.435, theta1 = 81.433, 差分 = 1339.7715\n",
      "102次: theta0 = 374.549, theta1 = 81.674, 差分 = 1286.7166\n",
      "103次: theta0 = 375.641, theta1 = 81.910, 差分 = 1235.7626\n",
      "104次: theta0 = 376.711, theta1 = 82.142, 差分 = 1186.8264\n",
      "105次: theta0 = 377.760, theta1 = 82.368, 差分 = 1139.8281\n",
      "106次: theta0 = 378.788, theta1 = 82.591, 差分 = 1094.6909\n",
      "107次: theta0 = 379.795, theta1 = 82.808, 差分 = 1051.3411\n",
      "108次: theta0 = 380.782, theta1 = 83.022, 差分 = 1009.7080\n",
      "109次: theta0 = 381.750, theta1 = 83.231, 差分 = 969.7236\n",
      "110次: theta0 = 382.698, theta1 = 83.436, 差分 = 931.3225\n",
      "111次: theta0 = 383.627, theta1 = 83.637, 差分 = 894.4422\n",
      "112次: theta0 = 384.537, theta1 = 83.834, 差分 = 859.0222\n",
      "113次: theta0 = 385.429, theta1 = 84.027, 差分 = 825.0050\n",
      "114次: theta0 = 386.304, theta1 = 84.216, 差分 = 792.3348\n",
      "115次: theta0 = 387.161, theta1 = 84.401, 差分 = 760.9583\n",
      "116次: theta0 = 388.000, theta1 = 84.582, 差分 = 730.8244\n",
      "117次: theta0 = 388.823, theta1 = 84.760, 差分 = 701.8837\n",
      "118次: theta0 = 389.630, theta1 = 84.935, 差分 = 674.0891\n",
      "119次: theta0 = 390.420, theta1 = 85.106, 差分 = 647.3952\n",
      "120次: theta0 = 391.195, theta1 = 85.273, 差分 = 621.7583\n",
      "121次: theta0 = 391.954, theta1 = 85.437, 差分 = 597.1367\n",
      "122次: theta0 = 392.698, theta1 = 85.598, 差分 = 573.4901\n",
      "123次: theta0 = 393.427, theta1 = 85.756, 差分 = 550.7799\n",
      "124次: theta0 = 394.141, theta1 = 85.910, 差分 = 528.9690\n",
      "125次: theta0 = 394.842, theta1 = 86.061, 差分 = 508.0218\n",
      "126次: theta0 = 395.528, theta1 = 86.210, 差分 = 487.9042\n",
      "127次: theta0 = 396.200, theta1 = 86.355, 差分 = 468.5832\n",
      "128次: theta0 = 396.859, theta1 = 86.498, 差分 = 450.0273\n",
      "129次: theta0 = 397.505, theta1 = 86.637, 差分 = 432.2062\n",
      "130次: theta0 = 398.138, theta1 = 86.774, 差分 = 415.0908\n",
      "131次: theta0 = 398.758, theta1 = 86.908, 差分 = 398.6532\n",
      "132次: theta0 = 399.366, theta1 = 87.040, 差分 = 382.8666\n",
      "133次: theta0 = 399.962, theta1 = 87.168, 差分 = 367.7050\n",
      "134次: theta0 = 400.545, theta1 = 87.295, 差分 = 353.1439\n",
      "135次: theta0 = 401.118, theta1 = 87.418, 差分 = 339.1594\n",
      "136次: theta0 = 401.678, theta1 = 87.539, 差分 = 325.7287\n",
      "137次: theta0 = 402.228, theta1 = 87.658, 差分 = 312.8299\n",
      "138次: theta0 = 402.766, theta1 = 87.775, 差分 = 300.4418\n",
      "139次: theta0 = 403.294, theta1 = 87.889, 差分 = 288.5443\n",
      "140次: theta0 = 403.811, theta1 = 88.001, 差分 = 277.1179\n",
      "141次: theta0 = 404.318, theta1 = 88.110, 差分 = 266.1441\n",
      "142次: theta0 = 404.814, theta1 = 88.217, 差分 = 255.6048\n",
      "143次: theta0 = 405.301, theta1 = 88.323, 差分 = 245.4828\n",
      "144次: theta0 = 405.778, theta1 = 88.426, 差分 = 235.7617\n",
      "145次: theta0 = 406.245, theta1 = 88.527, 差分 = 226.4255\n",
      "146次: theta0 = 406.704, theta1 = 88.626, 差分 = 217.4591\n",
      "147次: theta0 = 407.152, theta1 = 88.723, 差分 = 208.8477\n",
      "148次: theta0 = 407.592, theta1 = 88.818, 差分 = 200.5773\n",
      "149次: theta0 = 408.024, theta1 = 88.911, 差分 = 192.6345\n",
      "150次: theta0 = 408.446, theta1 = 89.003, 差分 = 185.0061\n",
      "151次: theta0 = 408.860, theta1 = 89.092, 差分 = 177.6799\n",
      "152次: theta0 = 409.266, theta1 = 89.180, 差分 = 170.6438\n",
      "153次: theta0 = 409.664, theta1 = 89.266, 差分 = 163.8863\n",
      "154次: theta0 = 410.053, theta1 = 89.350, 差分 = 157.3964\n",
      "155次: theta0 = 410.435, theta1 = 89.433, 差分 = 151.1635\n",
      "156次: theta0 = 410.810, theta1 = 89.514, 差分 = 145.1774\n",
      "157次: theta0 = 411.176, theta1 = 89.593, 差分 = 139.4284\n",
      "158次: theta0 = 411.536, theta1 = 89.671, 差分 = 133.9070\n",
      "159次: theta0 = 411.888, theta1 = 89.747, 差分 = 128.6043\n",
      "160次: theta0 = 412.233, theta1 = 89.821, 差分 = 123.5116\n",
      "161次: theta0 = 412.572, theta1 = 89.895, 差分 = 118.6205\n",
      "162次: theta0 = 412.903, theta1 = 89.966, 差分 = 113.9231\n",
      "163次: theta0 = 413.228, theta1 = 90.037, 差分 = 109.4118\n",
      "164次: theta0 = 413.547, theta1 = 90.105, 差分 = 105.0791\n",
      "165次: theta0 = 413.859, theta1 = 90.173, 差分 = 100.9180\n",
      "166次: theta0 = 414.165, theta1 = 90.239, 差分 = 96.9216\n",
      "167次: theta0 = 414.464, theta1 = 90.304, 差分 = 93.0835\n",
      "168次: theta0 = 414.758, theta1 = 90.367, 差分 = 89.3974\n",
      "169次: theta0 = 415.046, theta1 = 90.429, 差分 = 85.8573\n",
      "170次: theta0 = 415.328, theta1 = 90.490, 差分 = 82.4573\n",
      "171次: theta0 = 415.604, theta1 = 90.550, 差分 = 79.1920\n",
      "172次: theta0 = 415.875, theta1 = 90.609, 差分 = 76.0560\n",
      "173次: theta0 = 416.141, theta1 = 90.666, 差分 = 73.0442\n",
      "174次: theta0 = 416.401, theta1 = 90.722, 差分 = 70.1516\n",
      "175次: theta0 = 416.656, theta1 = 90.778, 差分 = 67.3736\n",
      "176次: theta0 = 416.906, theta1 = 90.832, 差分 = 64.7056\n",
      "177次: theta0 = 417.151, theta1 = 90.885, 差分 = 62.1433\n",
      "178次: theta0 = 417.391, theta1 = 90.936, 差分 = 59.6824\n",
      "179次: theta0 = 417.626, theta1 = 90.987, 差分 = 57.3190\n",
      "180次: theta0 = 417.856, theta1 = 91.037, 差分 = 55.0492\n",
      "181次: theta0 = 418.082, theta1 = 91.086, 差分 = 52.8692\n",
      "182次: theta0 = 418.304, theta1 = 91.134, 差分 = 50.7756\n",
      "183次: theta0 = 418.521, theta1 = 91.181, 差分 = 48.7649\n",
      "184次: theta0 = 418.733, theta1 = 91.227, 差分 = 46.8338\n",
      "185次: theta0 = 418.941, theta1 = 91.272, 差分 = 44.9792\n",
      "186次: theta0 = 419.146, theta1 = 91.316, 差分 = 43.1980\n",
      "187次: theta0 = 419.346, theta1 = 91.359, 差分 = 41.4874\n",
      "188次: theta0 = 419.542, theta1 = 91.402, 差分 = 39.8445\n",
      "189次: theta0 = 419.734, theta1 = 91.443, 差分 = 38.2666\n",
      "190次: theta0 = 419.922, theta1 = 91.484, 差分 = 36.7513\n",
      "191次: theta0 = 420.107, theta1 = 91.524, 差分 = 35.2959\n",
      "192次: theta0 = 420.288, theta1 = 91.563, 差分 = 33.8982\n",
      "193次: theta0 = 420.465, theta1 = 91.601, 差分 = 32.5558\n",
      "194次: theta0 = 420.639, theta1 = 91.639, 差分 = 31.2666\n",
      "195次: theta0 = 420.809, theta1 = 91.675, 差分 = 30.0285\n",
      "196次: theta0 = 420.976, theta1 = 91.712, 差分 = 28.8393\n",
      "197次: theta0 = 421.139, theta1 = 91.747, 差分 = 27.6973\n",
      "198次: theta0 = 421.299, theta1 = 91.781, 差分 = 26.6005\n",
      "199次: theta0 = 421.456, theta1 = 91.815, 差分 = 25.5471\n",
      "200次: theta0 = 421.610, theta1 = 91.849, 差分 = 24.5354\n",
      "201次: theta0 = 421.761, theta1 = 91.881, 差分 = 23.5638\n",
      "202次: theta0 = 421.909, theta1 = 91.913, 差分 = 22.6307\n",
      "203次: theta0 = 422.054, theta1 = 91.945, 差分 = 21.7345\n",
      "204次: theta0 = 422.196, theta1 = 91.975, 差分 = 20.8738\n",
      "205次: theta0 = 422.335, theta1 = 92.005, 差分 = 20.0472\n",
      "206次: theta0 = 422.471, theta1 = 92.035, 差分 = 19.2534\n",
      "207次: theta0 = 422.605, theta1 = 92.064, 差分 = 18.4909\n",
      "208次: theta0 = 422.735, theta1 = 92.092, 差分 = 17.7587\n",
      "209次: theta0 = 422.864, theta1 = 92.120, 差分 = 17.0554\n",
      "210次: theta0 = 422.989, theta1 = 92.147, 差分 = 16.3801\n",
      "211次: theta0 = 423.113, theta1 = 92.174, 差分 = 15.7314\n",
      "212次: theta0 = 423.233, theta1 = 92.200, 差分 = 15.1084\n",
      "213次: theta0 = 423.352, theta1 = 92.225, 差分 = 14.5101\n",
      "214次: theta0 = 423.468, theta1 = 92.250, 差分 = 13.9355\n",
      "215次: theta0 = 423.581, theta1 = 92.275, 差分 = 13.3837\n",
      "216次: theta0 = 423.693, theta1 = 92.299, 差分 = 12.8537\n",
      "217次: theta0 = 423.802, theta1 = 92.323, 差分 = 12.3447\n",
      "218次: theta0 = 423.909, theta1 = 92.346, 差分 = 11.8558\n",
      "219次: theta0 = 424.014, theta1 = 92.368, 差分 = 11.3864\n",
      "220次: theta0 = 424.116, theta1 = 92.391, 差分 = 10.9355\n",
      "221次: theta0 = 424.217, theta1 = 92.412, 差分 = 10.5024\n",
      "222次: theta0 = 424.316, theta1 = 92.434, 差分 = 10.0865\n",
      "223次: theta0 = 424.412, theta1 = 92.455, 差分 = 9.6871\n",
      "224次: theta0 = 424.507, theta1 = 92.475, 差分 = 9.3035\n",
      "225次: theta0 = 424.600, theta1 = 92.495, 差分 = 8.9351\n",
      "226次: theta0 = 424.691, theta1 = 92.515, 差分 = 8.5812\n",
      "227次: theta0 = 424.780, theta1 = 92.534, 差分 = 8.2414\n",
      "228次: theta0 = 424.868, theta1 = 92.553, 差分 = 7.9151\n",
      "229次: theta0 = 424.953, theta1 = 92.571, 差分 = 7.6016\n",
      "230次: theta0 = 425.037, theta1 = 92.590, 差分 = 7.3006\n",
      "231次: theta0 = 425.119, theta1 = 92.607, 差分 = 7.0115\n",
      "232次: theta0 = 425.200, theta1 = 92.625, 差分 = 6.7338\n",
      "233次: theta0 = 425.279, theta1 = 92.642, 差分 = 6.4672\n",
      "234次: theta0 = 425.356, theta1 = 92.659, 差分 = 6.2111\n",
      "235次: theta0 = 425.432, theta1 = 92.675, 差分 = 5.9651\n",
      "236次: theta0 = 425.507, theta1 = 92.691, 差分 = 5.7289\n",
      "237次: theta0 = 425.580, theta1 = 92.707, 差分 = 5.5020\n",
      "238次: theta0 = 425.651, theta1 = 92.722, 差分 = 5.2842\n",
      "239次: theta0 = 425.721, theta1 = 92.737, 差分 = 5.0749\n",
      "240次: theta0 = 425.790, theta1 = 92.752, 差分 = 4.8739\n",
      "241次: theta0 = 425.857, theta1 = 92.767, 差分 = 4.6809\n",
      "242次: theta0 = 425.923, theta1 = 92.781, 差分 = 4.4956\n",
      "243次: theta0 = 425.987, theta1 = 92.795, 差分 = 4.3175\n",
      "244次: theta0 = 426.050, theta1 = 92.809, 差分 = 4.1466\n",
      "245次: theta0 = 426.112, theta1 = 92.822, 差分 = 3.9824\n",
      "246次: theta0 = 426.173, theta1 = 92.835, 差分 = 3.8247\n",
      "247次: theta0 = 426.233, theta1 = 92.848, 差分 = 3.6732\n",
      "248次: theta0 = 426.291, theta1 = 92.861, 差分 = 3.5277\n",
      "249次: theta0 = 426.348, theta1 = 92.873, 差分 = 3.3880\n",
      "250次: theta0 = 426.404, theta1 = 92.885, 差分 = 3.2539\n",
      "251次: theta0 = 426.459, theta1 = 92.897, 差分 = 3.1250\n",
      "252次: theta0 = 426.513, theta1 = 92.909, 差分 = 3.0013\n",
      "253次: theta0 = 426.566, theta1 = 92.920, 差分 = 2.8824\n",
      "254次: theta0 = 426.617, theta1 = 92.931, 差分 = 2.7683\n",
      "255次: theta0 = 426.668, theta1 = 92.942, 差分 = 2.6587\n",
      "256次: theta0 = 426.718, theta1 = 92.953, 差分 = 2.5534\n",
      "257次: theta0 = 426.766, theta1 = 92.963, 差分 = 2.4523\n",
      "258次: theta0 = 426.814, theta1 = 92.974, 差分 = 2.3551\n",
      "259次: theta0 = 426.861, theta1 = 92.984, 差分 = 2.2619\n",
      "260次: theta0 = 426.907, theta1 = 92.994, 差分 = 2.1723\n",
      "261次: theta0 = 426.951, theta1 = 93.003, 差分 = 2.0863\n",
      "262次: theta0 = 426.995, theta1 = 93.013, 差分 = 2.0037\n",
      "263次: theta0 = 427.038, theta1 = 93.022, 差分 = 1.9243\n",
      "264次: theta0 = 427.081, theta1 = 93.031, 差分 = 1.8481\n",
      "265次: theta0 = 427.122, theta1 = 93.040, 差分 = 1.7749\n",
      "266次: theta0 = 427.163, theta1 = 93.049, 差分 = 1.7047\n",
      "267次: theta0 = 427.202, theta1 = 93.058, 差分 = 1.6371\n",
      "268次: theta0 = 427.241, theta1 = 93.066, 差分 = 1.5723\n",
      "269次: theta0 = 427.280, theta1 = 93.074, 差分 = 1.5101\n",
      "270次: theta0 = 427.317, theta1 = 93.082, 差分 = 1.4503\n",
      "271次: theta0 = 427.354, theta1 = 93.090, 差分 = 1.3928\n",
      "272次: theta0 = 427.390, theta1 = 93.098, 差分 = 1.3377\n",
      "273次: theta0 = 427.425, theta1 = 93.106, 差分 = 1.2847\n",
      "274次: theta0 = 427.459, theta1 = 93.113, 差分 = 1.2338\n",
      "275次: theta0 = 427.493, theta1 = 93.121, 差分 = 1.1850\n",
      "276次: theta0 = 427.526, theta1 = 93.128, 差分 = 1.1380\n",
      "277次: theta0 = 427.559, theta1 = 93.135, 差分 = 1.0930\n",
      "278次: theta0 = 427.590, theta1 = 93.142, 差分 = 1.0497\n",
      "279次: theta0 = 427.622, theta1 = 93.148, 差分 = 1.0081\n",
      "280次: theta0 = 427.652, theta1 = 93.155, 差分 = 0.9682\n",
      "281次: theta0 = 427.682, theta1 = 93.161, 差分 = 0.9299\n",
      "282次: theta0 = 427.712, theta1 = 93.168, 差分 = 0.8930\n",
      "283次: theta0 = 427.740, theta1 = 93.174, 差分 = 0.8577\n",
      "284次: theta0 = 427.769, theta1 = 93.180, 差分 = 0.8237\n",
      "285次: theta0 = 427.796, theta1 = 93.186, 差分 = 0.7911\n",
      "286次: theta0 = 427.823, theta1 = 93.192, 差分 = 0.7598\n",
      "287次: theta0 = 427.850, theta1 = 93.198, 差分 = 0.7297\n",
      "288次: theta0 = 427.876, theta1 = 93.203, 差分 = 0.7008\n",
      "289次: theta0 = 427.901, theta1 = 93.209, 差分 = 0.6730\n",
      "290次: theta0 = 427.926, theta1 = 93.214, 差分 = 0.6464\n",
      "291次: theta0 = 427.951, theta1 = 93.219, 差分 = 0.6208\n",
      "292次: theta0 = 427.975, theta1 = 93.225, 差分 = 0.5962\n",
      "293次: theta0 = 427.998, theta1 = 93.230, 差分 = 0.5726\n",
      "294次: theta0 = 428.021, theta1 = 93.235, 差分 = 0.5499\n",
      "295次: theta0 = 428.044, theta1 = 93.240, 差分 = 0.5281\n",
      "296次: theta0 = 428.066, theta1 = 93.244, 差分 = 0.5072\n",
      "297次: theta0 = 428.088, theta1 = 93.249, 差分 = 0.4871\n",
      "298次: theta0 = 428.109, theta1 = 93.254, 差分 = 0.4678\n",
      "299次: theta0 = 428.130, theta1 = 93.258, 差分 = 0.4493\n",
      "300次: theta0 = 428.150, theta1 = 93.263, 差分 = 0.4315\n",
      "301次: theta0 = 428.170, theta1 = 93.267, 差分 = 0.4144\n",
      "302次: theta0 = 428.190, theta1 = 93.271, 差分 = 0.3980\n",
      "303次: theta0 = 428.209, theta1 = 93.275, 差分 = 0.3823\n",
      "304次: theta0 = 428.228, theta1 = 93.279, 差分 = 0.3671\n",
      "305次: theta0 = 428.246, theta1 = 93.283, 差分 = 0.3526\n",
      "306次: theta0 = 428.264, theta1 = 93.287, 差分 = 0.3386\n",
      "307次: theta0 = 428.282, theta1 = 93.291, 差分 = 0.3252\n",
      "308次: theta0 = 428.299, theta1 = 93.295, 差分 = 0.3123\n",
      "309次: theta0 = 428.316, theta1 = 93.299, 差分 = 0.3000\n",
      "310次: theta0 = 428.333, theta1 = 93.302, 差分 = 0.2881\n",
      "311次: theta0 = 428.349, theta1 = 93.306, 差分 = 0.2767\n",
      "312次: theta0 = 428.365, theta1 = 93.309, 差分 = 0.2657\n",
      "313次: theta0 = 428.381, theta1 = 93.313, 差分 = 0.2552\n",
      "314次: theta0 = 428.396, theta1 = 93.316, 差分 = 0.2451\n",
      "315次: theta0 = 428.411, theta1 = 93.319, 差分 = 0.2354\n",
      "316次: theta0 = 428.426, theta1 = 93.322, 差分 = 0.2261\n",
      "317次: theta0 = 428.441, theta1 = 93.325, 差分 = 0.2171\n",
      "318次: theta0 = 428.455, theta1 = 93.328, 差分 = 0.2085\n",
      "319次: theta0 = 428.469, theta1 = 93.332, 差分 = 0.2003\n",
      "320次: theta0 = 428.482, theta1 = 93.334, 差分 = 0.1923\n",
      "321次: theta0 = 428.496, theta1 = 93.337, 差分 = 0.1847\n",
      "322次: theta0 = 428.509, theta1 = 93.340, 差分 = 0.1774\n",
      "323次: theta0 = 428.522, theta1 = 93.343, 差分 = 0.1704\n",
      "324次: theta0 = 428.534, theta1 = 93.346, 差分 = 0.1636\n",
      "325次: theta0 = 428.547, theta1 = 93.348, 差分 = 0.1571\n",
      "326次: theta0 = 428.559, theta1 = 93.351, 差分 = 0.1509\n",
      "327次: theta0 = 428.570, theta1 = 93.353, 差分 = 0.1449\n",
      "328次: theta0 = 428.582, theta1 = 93.356, 差分 = 0.1392\n",
      "329次: theta0 = 428.593, theta1 = 93.358, 差分 = 0.1337\n",
      "330次: theta0 = 428.605, theta1 = 93.361, 差分 = 0.1284\n",
      "331次: theta0 = 428.615, theta1 = 93.363, 差分 = 0.1233\n",
      "332次: theta0 = 428.626, theta1 = 93.366, 差分 = 0.1184\n",
      "333次: theta0 = 428.637, theta1 = 93.368, 差分 = 0.1137\n",
      "334次: theta0 = 428.647, theta1 = 93.370, 差分 = 0.1092\n",
      "335次: theta0 = 428.657, theta1 = 93.372, 差分 = 0.1049\n",
      "336次: theta0 = 428.667, theta1 = 93.374, 差分 = 0.1008\n",
      "337次: theta0 = 428.676, theta1 = 93.376, 差分 = 0.0968\n",
      "338次: theta0 = 428.686, theta1 = 93.378, 差分 = 0.0929\n",
      "339次: theta0 = 428.695, theta1 = 93.380, 差分 = 0.0893\n",
      "340次: theta0 = 428.704, theta1 = 93.382, 差分 = 0.0857\n",
      "341次: theta0 = 428.713, theta1 = 93.384, 差分 = 0.0823\n",
      "342次: theta0 = 428.722, theta1 = 93.386, 差分 = 0.0791\n",
      "343次: theta0 = 428.731, theta1 = 93.388, 差分 = 0.0759\n",
      "344次: theta0 = 428.739, theta1 = 93.390, 差分 = 0.0729\n",
      "345次: theta0 = 428.747, theta1 = 93.392, 差分 = 0.0700\n",
      "346次: theta0 = 428.755, theta1 = 93.393, 差分 = 0.0673\n",
      "347次: theta0 = 428.763, theta1 = 93.395, 差分 = 0.0646\n",
      "348次: theta0 = 428.771, theta1 = 93.397, 差分 = 0.0620\n",
      "349次: theta0 = 428.778, theta1 = 93.398, 差分 = 0.0596\n",
      "350次: theta0 = 428.786, theta1 = 93.400, 差分 = 0.0572\n",
      "351次: theta0 = 428.793, theta1 = 93.402, 差分 = 0.0550\n",
      "352次: theta0 = 428.800, theta1 = 93.403, 差分 = 0.0528\n",
      "353次: theta0 = 428.807, theta1 = 93.405, 差分 = 0.0507\n",
      "354次: theta0 = 428.814, theta1 = 93.406, 差分 = 0.0487\n",
      "355次: theta0 = 428.821, theta1 = 93.408, 差分 = 0.0468\n",
      "356次: theta0 = 428.827, theta1 = 93.409, 差分 = 0.0449\n",
      "357次: theta0 = 428.834, theta1 = 93.410, 差分 = 0.0431\n",
      "358次: theta0 = 428.840, theta1 = 93.412, 差分 = 0.0414\n",
      "359次: theta0 = 428.846, theta1 = 93.413, 差分 = 0.0398\n",
      "360次: theta0 = 428.852, theta1 = 93.414, 差分 = 0.0382\n",
      "361次: theta0 = 428.858, theta1 = 93.416, 差分 = 0.0367\n",
      "362次: theta0 = 428.864, theta1 = 93.417, 差分 = 0.0352\n",
      "363次: theta0 = 428.870, theta1 = 93.418, 差分 = 0.0338\n",
      "364次: theta0 = 428.876, theta1 = 93.419, 差分 = 0.0325\n",
      "365次: theta0 = 428.881, theta1 = 93.421, 差分 = 0.0312\n",
      "366次: theta0 = 428.886, theta1 = 93.422, 差分 = 0.0300\n",
      "367次: theta0 = 428.892, theta1 = 93.423, 差分 = 0.0288\n",
      "368次: theta0 = 428.897, theta1 = 93.424, 差分 = 0.0277\n",
      "369次: theta0 = 428.902, theta1 = 93.425, 差分 = 0.0266\n",
      "370次: theta0 = 428.907, theta1 = 93.426, 差分 = 0.0255\n",
      "371次: theta0 = 428.912, theta1 = 93.427, 差分 = 0.0245\n",
      "372次: theta0 = 428.917, theta1 = 93.428, 差分 = 0.0235\n",
      "373次: theta0 = 428.921, theta1 = 93.429, 差分 = 0.0226\n",
      "374次: theta0 = 428.926, theta1 = 93.430, 差分 = 0.0217\n",
      "375次: theta0 = 428.930, theta1 = 93.431, 差分 = 0.0208\n",
      "376次: theta0 = 428.935, theta1 = 93.432, 差分 = 0.0200\n",
      "377次: theta0 = 428.939, theta1 = 93.433, 差分 = 0.0192\n",
      "378次: theta0 = 428.943, theta1 = 93.434, 差分 = 0.0185\n",
      "379次: theta0 = 428.947, theta1 = 93.435, 差分 = 0.0177\n",
      "380次: theta0 = 428.951, theta1 = 93.436, 差分 = 0.0170\n",
      "381次: theta0 = 428.955, theta1 = 93.437, 差分 = 0.0164\n",
      "382次: theta0 = 428.959, theta1 = 93.438, 差分 = 0.0157\n",
      "383次: theta0 = 428.963, theta1 = 93.438, 差分 = 0.0151\n",
      "384次: theta0 = 428.967, theta1 = 93.439, 差分 = 0.0145\n",
      "385次: theta0 = 428.970, theta1 = 93.440, 差分 = 0.0139\n",
      "386次: theta0 = 428.974, theta1 = 93.441, 差分 = 0.0134\n",
      "387次: theta0 = 428.978, theta1 = 93.441, 差分 = 0.0128\n",
      "388次: theta0 = 428.981, theta1 = 93.442, 差分 = 0.0123\n",
      "389次: theta0 = 428.984, theta1 = 93.443, 差分 = 0.0118\n",
      "390次: theta0 = 428.988, theta1 = 93.444, 差分 = 0.0114\n",
      "391次: theta0 = 428.991, theta1 = 93.444, 差分 = 0.0109\n",
      "392次: theta0 = 428.994, theta1 = 93.445, 差分 = 0.0105\n",
      "393次: theta0 = 428.997, theta1 = 93.446, 差分 = 0.0101\n",
      "394次: theta0 = 429.000, theta1 = 93.446, 差分 = 0.0097\n"
     ]
    }
   ],
   "source": [
    "# 學習率，自己設\n",
    "ETA = 1e-3\n",
    "\n",
    "# 誤差的差分\n",
    "diff = 1\n",
    "\n",
    "# 更新次數\n",
    "count = 0\n",
    "\n",
    "error = E(train_z, train_y)  # 目標函數\n",
    "\n",
    "# 重複參數的更新，直到誤差的差分變成 0.01 以下為止\n",
    "while diff > 1e-2:\n",
    "    # 將更新結果儲存於臨時變數\n",
    "    tmp_theta0 = theta0 - ETA * np.sum((f(train_z) - train_y))\n",
    "    tmp_theta1 = theta1 - ETA * np.sum((f(train_z) - train_y) * train_z)\n",
    "    \n",
    "    # 更新參數\n",
    "    theta0 = tmp_theta0\n",
    "    theta1 = tmp_theta1\n",
    "    \n",
    "    # 計算與前一項誤差的差分\n",
    "    current_error = E(train_z, train_y)\n",
    "    diff = error - current_error\n",
    "    error = current_error\n",
    "    \n",
    "    # 輸出日誌\n",
    "    count += 1\n",
    "    log = '{}次: theta0 = {:.3f}, theta1 = {:.3f}, 差分 = {:.4f}'\n",
    "    print(log.format(count, theta0, theta1, diff))\n"
   ]
  },
  {
   "cell_type": "code",
   "execution_count": 18,
   "metadata": {},
   "outputs": [
    {
     "name": "stdout",
     "output_type": "stream",
     "text": [
      "[-3.         -2.93939394 -2.87878788 -2.81818182 -2.75757576 -2.6969697\n",
      " -2.63636364 -2.57575758 -2.51515152 -2.45454545 -2.39393939 -2.33333333\n",
      " -2.27272727 -2.21212121 -2.15151515 -2.09090909 -2.03030303 -1.96969697\n",
      " -1.90909091 -1.84848485 -1.78787879 -1.72727273 -1.66666667 -1.60606061\n",
      " -1.54545455 -1.48484848 -1.42424242 -1.36363636 -1.3030303  -1.24242424\n",
      " -1.18181818 -1.12121212 -1.06060606 -1.         -0.93939394 -0.87878788\n",
      " -0.81818182 -0.75757576 -0.6969697  -0.63636364 -0.57575758 -0.51515152\n",
      " -0.45454545 -0.39393939 -0.33333333 -0.27272727 -0.21212121 -0.15151515\n",
      " -0.09090909 -0.03030303  0.03030303  0.09090909  0.15151515  0.21212121\n",
      "  0.27272727  0.33333333  0.39393939  0.45454545  0.51515152  0.57575758\n",
      "  0.63636364  0.6969697   0.75757576  0.81818182  0.87878788  0.93939394\n",
      "  1.          1.06060606  1.12121212  1.18181818  1.24242424  1.3030303\n",
      "  1.36363636  1.42424242  1.48484848  1.54545455  1.60606061  1.66666667\n",
      "  1.72727273  1.78787879  1.84848485  1.90909091  1.96969697  2.03030303\n",
      "  2.09090909  2.15151515  2.21212121  2.27272727  2.33333333  2.39393939\n",
      "  2.45454545  2.51515152  2.57575758  2.63636364  2.6969697   2.75757576\n",
      "  2.81818182  2.87878788  2.93939394  3.        ]\n"
     ]
    }
   ],
   "source": [
    "# 繪圖來確認\n",
    "x = np.linspace(-3, 3, 100)\n",
    "print(x)"
   ]
  },
  {
   "cell_type": "code",
   "execution_count": 19,
   "metadata": {},
   "outputs": [
    {
     "name": "stdout",
     "output_type": "stream",
     "text": [
      "[148.66109098 154.32450939 159.98792781 165.65134623 171.31476464\n",
      " 176.97818306 182.64160147 188.30501989 193.9684383  199.63185672\n",
      " 205.29527513 210.95869355 216.62211196 222.28553038 227.94894879\n",
      " 233.61236721 239.27578563 244.93920404 250.60262246 256.26604087\n",
      " 261.92945929 267.5928777  273.25629612 278.91971453 284.58313295\n",
      " 290.24655136 295.90996978 301.57338819 307.23680661 312.90022503\n",
      " 318.56364344 324.22706186 329.89048027 335.55389869 341.2173171\n",
      " 346.88073552 352.54415393 358.20757235 363.87099076 369.53440918\n",
      " 375.19782759 380.86124601 386.52466443 392.18808284 397.85150126\n",
      " 403.51491967 409.17833809 414.8417565  420.50517492 426.16859333\n",
      " 431.83201175 437.49543016 443.15884858 448.82226699 454.48568541\n",
      " 460.14910382 465.81252224 471.47594066 477.13935907 482.80277749\n",
      " 488.4661959  494.12961432 499.79303273 505.45645115 511.11986956\n",
      " 516.78328798 522.44670639 528.11012481 533.77354322 539.43696164\n",
      " 545.10038006 550.76379847 556.42721689 562.0906353  567.75405372\n",
      " 573.41747213 579.08089055 584.74430896 590.40772738 596.07114579\n",
      " 601.73456421 607.39798262 613.06140104 618.72481946 624.38823787\n",
      " 630.05165629 635.7150747  641.37849312 647.04191153 652.70532995\n",
      " 658.36874836 664.03216678 669.69558519 675.35900361 681.02242202\n",
      " 686.68584044 692.34925886 698.01267727 703.67609569 709.3395141 ]\n"
     ]
    }
   ],
   "source": [
    "print(f(x))   # f(x) = theta0 + theta1 * x"
   ]
  },
  {
   "cell_type": "code",
   "execution_count": 20,
   "metadata": {},
   "outputs": [
    {
     "data": {
      "image/png": "[encoded data removed]",
      "text/plain": [
       "<Figure size 432x288 with 1 Axes>"
      ]
     },
     "metadata": {
      "needs_background": "light"
     },
     "output_type": "display_data"
    }
   ],
   "source": [
    "plt.plot(train_z, train_y, 'o')  # 點 \n",
    "plt.plot(x, f(x))  # 直線\n",
    "plt.xlabel('廣告費')\n",
    "plt.ylabel('點擊數')\n",
    "plt.show()"
   ]
  },
  {
   "cell_type": "code",
   "execution_count": 21,
   "metadata": {},
   "outputs": [
    {
     "data": {
      "text/plain": [
       "370.96717812700274"
      ]
     },
     "execution_count": 21,
     "metadata": {},
     "output_type": "execute_result"
    }
   ],
   "source": [
    "f(standardize(100))"
   ]
  },
  {
   "cell_type": "code",
   "execution_count": 22,
   "metadata": {},
   "outputs": [
    {
     "data": {
      "text/plain": [
       "510.46988104397354"
      ]
     },
     "execution_count": 22,
     "metadata": {},
     "output_type": "execute_result"
    }
   ],
   "source": [
    "f(standardize(200))"
   ]
  },
  {
   "cell_type": "code",
   "execution_count": 23,
   "metadata": {},
   "outputs": [
    {
     "data": {
      "text/plain": [
       "649.9725839609443"
      ]
     },
     "execution_count": 23,
     "metadata": {},
     "output_type": "execute_result"
    }
   ],
   "source": [
    "f(standardize(300))"
   ]
  },
  {
   "cell_type": "markdown",
   "metadata": {},
   "source": [
    "### 多項式迴歸的程式    p.165\n",
    "\n",
    "### $$f_\\theta(x) = \\theta_0 + \\theta_1x + \\theta_2x^2 $$"
   ]
  },
  {
   "cell_type": "code",
   "execution_count": 24,
   "metadata": {},
   "outputs": [
    {
     "name": "stdout",
     "output_type": "stream",
     "text": [
      "[0.73791405 0.43304812 0.94936131]\n"
     ]
    }
   ],
   "source": [
    "# 初始化參數\n",
    "theta = np.random.rand(3)\n",
    "print(theta)"
   ]
  },
  {
   "cell_type": "code",
   "execution_count": 25,
   "metadata": {},
   "outputs": [
    {
     "name": "stdout",
     "output_type": "stream",
     "text": [
      "[ 1.39433428  1.11069026  0.09554325 -1.59139223 -0.8449606   0.93154667\n",
      " -1.38239138 -1.74067856  0.46875906  0.73747445 -0.11345761 -0.63595975\n",
      " -0.36724436 -0.44188752  0.3045441   1.94669369  0.25975821  0.25975821\n",
      " -1.23310505  0.84197488]\n"
     ]
    }
   ],
   "source": [
    "print(train_z)"
   ]
  },
  {
   "cell_type": "code",
   "execution_count": 26,
   "metadata": {},
   "outputs": [
    {
     "name": "stdout",
     "output_type": "stream",
     "text": [
      "20\n"
     ]
    }
   ],
   "source": [
    "print(train_z.shape[0])"
   ]
  },
  {
   "cell_type": "code",
   "execution_count": 27,
   "metadata": {},
   "outputs": [
    {
     "name": "stdout",
     "output_type": "stream",
     "text": [
      "[[ 1.          1.39433428  1.94416809]\n",
      " [ 1.          1.11069026  1.23363286]\n",
      " [ 1.          0.09554325  0.00912851]\n",
      " [ 1.         -1.59139223  2.53252924]\n",
      " [ 1.         -0.8449606   0.71395842]\n",
      " [ 1.          0.93154667  0.8677792 ]\n",
      " [ 1.         -1.38239138  1.91100592]\n",
      " [ 1.         -1.74067856  3.02996185]\n",
      " [ 1.          0.46875906  0.21973506]\n",
      " [ 1.          0.73747445  0.54386856]\n",
      " [ 1.         -0.11345761  0.01287263]\n",
      " [ 1.         -0.63595975  0.4044448 ]\n",
      " [ 1.         -0.36724436  0.13486842]\n",
      " [ 1.         -0.44188752  0.19526458]\n",
      " [ 1.          0.3045441   0.09274711]\n",
      " [ 1.          1.94669369  3.78961632]\n",
      " [ 1.          0.25975821  0.06747433]\n",
      " [ 1.          0.25975821  0.06747433]\n",
      " [ 1.         -1.23310505  1.52054807]\n",
      " [ 1.          0.84197488  0.70892169]]\n"
     ]
    }
   ],
   "source": [
    "# 建立學習資料的矩陣\n",
    "def to_matrix(x):\n",
    "    return np.vstack([np.ones(x.shape[0]), x, x ** 2]).T\n",
    "\n",
    "X = to_matrix(train_z)\n",
    "print(X)"
   ]
  },
  {
   "cell_type": "markdown",
   "metadata": {},
   "source": [
    "### $$\\theta^Tx = \\theta_0x_0 + \\theta_1x_1 + \\theta_2x_2 + .... + \\theta_nx_n  $$\n",
    "\n",
    "### $$f_\\theta(x) = \\theta^Tx $$"
   ]
  },
  {
   "cell_type": "code",
   "execution_count": 28,
   "metadata": {},
   "outputs": [],
   "source": [
    "# 預測函數\n",
    "def f(x):\n",
    "    return np.dot(x, theta)"
   ]
  },
  {
   "cell_type": "code",
   "execution_count": 29,
   "metadata": {},
   "outputs": [],
   "source": [
    "# 誤差的差分\n",
    "diff = 1\n",
    "\n",
    "# 重複學習\n",
    "error = E(X, train_y)  # 目標函數\n",
    "\n",
    "# 重複參數的更新，直到誤差的差分變成 0.01 以下為止\n",
    "while diff > 1e-2:\n",
    "    # 更新參數\n",
    "    theta = theta - ETA * np.dot(f(X) - train_y, X)\n",
    "    # 計算與前一項誤差的差分\n",
    "    current_error = E(X, train_y)  # \n",
    "    diff = error - current_error\n",
    "    error = current_error"
   ]
  },
  {
   "cell_type": "code",
   "execution_count": 30,
   "metadata": {},
   "outputs": [
    {
     "data": {
      "image/png": "[encoded data removed]",
      "text/plain": [
       "<Figure size 432x288 with 1 Axes>"
      ]
     },
     "metadata": {
      "needs_background": "light"
     },
     "output_type": "display_data"
    }
   ],
   "source": [
    "x = np.linspace(-3, 3, 100)\n",
    "\n",
    "plt.plot(train_z, train_y, 'o')\n",
    "plt.plot(x, f(to_matrix(x)))\n",
    "plt.xlabel('廣告費')\n",
    "plt.ylabel('點擊數')\n",
    "plt.show()"
   ]
  },
  {
   "cell_type": "markdown",
   "metadata": {},
   "source": [
    "### 均方誤差     p.170\n",
    "\n",
    "### $$ \\frac{1}{n}\\sum_{i=1}^n{\\left({y^{(i)} - f_\\theta(x^{(i)}) }\\right)}^2   $$\n",
    "\n",
    "### 測試資料有 n 筆，$y^{(i)}$ 為點擊數， $x^{(i)}$ 為廣告費\n"
   ]
  },
  {
   "cell_type": "code",
   "execution_count": 31,
   "metadata": {},
   "outputs": [],
   "source": [
    "# 均方誤差\n",
    "def MSE(x, y):\n",
    "    return (1 / x.shape[0]) * np.sum((y - f(x)) ** 2)"
   ]
  },
  {
   "cell_type": "code",
   "execution_count": 32,
   "metadata": {},
   "outputs": [
    {
     "name": "stdout",
     "output_type": "stream",
     "text": [
      "[0.77924097 0.33253158 0.3775301 ]\n"
     ]
    }
   ],
   "source": [
    "# 將參數以隨機方式初始化\n",
    "theta = np.random.rand(3)\n",
    "print(theta)"
   ]
  },
  {
   "cell_type": "code",
   "execution_count": 33,
   "metadata": {},
   "outputs": [],
   "source": [
    "# 均方誤差的歷史記錄\n",
    "errors = []"
   ]
  },
  {
   "cell_type": "code",
   "execution_count": 34,
   "metadata": {},
   "outputs": [],
   "source": [
    "# 誤差的差分\n",
    "diff = 1"
   ]
  },
  {
   "cell_type": "code",
   "execution_count": 35,
   "metadata": {},
   "outputs": [],
   "source": [
    "# 重複學習\n",
    "errors.append(MSE(X, train_y))\n",
    "\n",
    "# 重複參數的更新，直到誤差的差分變成 0.01 以下為止\n",
    "while diff > 1e-2:\n",
    "    theta = theta - ETA * np.dot(f(X) - train_y, X)\n",
    "    errors.append(MSE(X, train_y))\n",
    "    diff = errors[-2] - errors[-1]\n",
    "    "
   ]
  },
  {
   "cell_type": "code",
   "execution_count": 36,
   "metadata": {},
   "outputs": [
    {
     "data": {
      "image/png": "[encoded data removed]",
      "text/plain": [
       "<Figure size 432x288 with 1 Axes>"
      ]
     },
     "metadata": {
      "needs_background": "light"
     },
     "output_type": "display_data"
    }
   ],
   "source": [
    "# 繪製誤差\n",
    "x = np.arange(len(errors))\n",
    "\n",
    "plt.plot(x, errors)\n",
    "plt.show()"
   ]
  },
  {
   "cell_type": "markdown",
   "metadata": {},
   "source": [
    "### 隨機梯度下降法  p.171\n",
    "\n",
    "### $$ \\theta_j := \\theta_j - \\eta{\\left(f_\\theta(x^{(k)}) - {y^{(k)}}\\right)}x_j^{(k)} $$"
   ]
  },
  {
   "cell_type": "code",
   "execution_count": 37,
   "metadata": {},
   "outputs": [],
   "source": [
    "# 將參數以隨機方式初始化\n",
    "theta = np.random.rand(3)"
   ]
  },
  {
   "cell_type": "code",
   "execution_count": 38,
   "metadata": {},
   "outputs": [],
   "source": [
    "# 均方誤差的歷史記錄\n",
    "errors = []"
   ]
  },
  {
   "cell_type": "code",
   "execution_count": 39,
   "metadata": {},
   "outputs": [],
   "source": [
    "# 誤差的差分\n",
    "diff = 1"
   ]
  },
  {
   "cell_type": "code",
   "execution_count": 40,
   "metadata": {},
   "outputs": [],
   "source": [
    "# 重複學習\n",
    "errors.append(MSE(X, train_y))\n",
    "\n",
    "# 重複參數的更新，直到誤差的差分變成 0.01 以下為止\n",
    "while diff > 1e-2:\n",
    "    # 準備排列學習資料所需的隨機排列組合\n",
    "    p = np.random.permutation(X.shape[0])\n",
    "    # 將學習資料以隨機的方式取出並以隨機梯度下降法來更新參數\n",
    "    for x, y in zip(X[p,:], train_y[p]):\n",
    "        theta = theta - ETA * (f(x) - y) * x\n",
    "    # 計算與前一項誤差的差分\n",
    "    errors.append(MSE(X, train_y))\n",
    "    diff = errors[-2] - errors[-1]"
   ]
  },
  {
   "cell_type": "code",
   "execution_count": 41,
   "metadata": {},
   "outputs": [
    {
     "data": {
      "image/png": "[encoded data removed]",
      "text/plain": [
       "<Figure size 432x288 with 1 Axes>"
      ]
     },
     "metadata": {
      "needs_background": "light"
     },
     "output_type": "display_data"
    }
   ],
   "source": [
    "x = np.linspace(-3, 3, 100)\n",
    "\n",
    "plt.plot(train_z, train_y, 'o')\n",
    "plt.plot(x, f(to_matrix(x)))\n",
    "plt.xlabel('廣告費')\n",
    "plt.ylabel('點擊數')\n",
    "plt.show()"
   ]
  },
  {
   "cell_type": "code",
   "execution_count": 42,
   "metadata": {},
   "outputs": [
    {
     "data": {
      "image/png": "[encoded data removed]",
      "text/plain": [
       "<Figure size 432x288 with 1 Axes>"
      ]
     },
     "metadata": {
      "needs_background": "light"
     },
     "output_type": "display_data"
    }
   ],
   "source": [
    "# 繪製誤差\n",
    "x = np.arange(len(errors))\n",
    "\n",
    "plt.plot(x, errors)\n",
    "plt.show()"
   ]
  }
 ],
 "metadata": {
  "kernelspec": {
   "display_name": "Python 3",
   "language": "python",
   "name": "python3"
  },
  "language_info": {
   "codemirror_mode": {
    "name": "ipython",
    "version": 3
   },
   "file_extension": ".py",
   "mimetype": "text/x-python",
   "name": "python",
   "nbconvert_exporter": "python",
   "pygments_lexer": "ipython3",
   "version": "3.7.3"
  }
 },
 "nbformat": 4,
 "nbformat_minor": 2
}
