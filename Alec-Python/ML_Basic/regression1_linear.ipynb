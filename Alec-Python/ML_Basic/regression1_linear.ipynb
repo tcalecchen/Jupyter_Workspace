{
 "cells": [
  {
   "cell_type": "markdown",
   "metadata": {},
   "source": [
    "#### regression1_linear      p.162"
   ]
  },
  {
   "cell_type": "code",
   "execution_count": 1,
   "metadata": {},
   "outputs": [],
   "source": [
    "import numpy as np\n",
    "import matplotlib.pyplot as plt\n",
    "plt.rcParams['axes.unicode_minus']=False  # 解決 plot 負號不能顯示問題\n",
    "plt.rcParams['font.sans-serif'] = ['Microsoft JhengHei']   # 解決 plot 中文不能顯示問題"
   ]
  },
  {
   "cell_type": "code",
   "execution_count": 2,
   "metadata": {},
   "outputs": [
    {
     "name": "stdout",
     "output_type": "stream",
     "text": [
      "[[235. 591.]\n",
      " [216. 539.]\n",
      " [148. 413.]\n",
      " [ 35. 310.]\n",
      " [ 85. 308.]\n",
      " [204. 519.]\n",
      " [ 49. 325.]\n",
      " [ 25. 332.]\n",
      " [173. 498.]\n",
      " [191. 498.]\n",
      " [134. 392.]\n",
      " [ 99. 334.]\n",
      " [117. 385.]\n",
      " [112. 387.]\n",
      " [162. 425.]\n",
      " [272. 659.]\n",
      " [159. 400.]\n",
      " [159. 427.]\n",
      " [ 59. 319.]\n",
      " [198. 522.]]\n"
     ]
    }
   ],
   "source": [
    "# 讀入資料\n",
    "train = np.loadtxt('click.csv', delimiter=',', skiprows=1)\n",
    "print(train)"
   ]
  },
  {
   "cell_type": "code",
   "execution_count": 3,
   "metadata": {},
   "outputs": [],
   "source": [
    "train_x = train[:, 0]  # 第 0 行，取全部  -- x 軸（廣告費）\n"
   ]
  },
  {
   "cell_type": "code",
   "execution_count": 4,
   "metadata": {},
   "outputs": [
    {
     "name": "stdout",
     "output_type": "stream",
     "text": [
      "[235. 216. 148.  35.  85. 204.  49.  25. 173. 191. 134.  99. 117. 112.\n",
      " 162. 272. 159. 159.  59. 198.]\n"
     ]
    }
   ],
   "source": [
    "print(train_x)"
   ]
  },
  {
   "cell_type": "code",
   "execution_count": 5,
   "metadata": {},
   "outputs": [],
   "source": [
    "train_y = train[:, 1]  # 第 1 行，取全部  -- y 軸（點擊數）"
   ]
  },
  {
   "cell_type": "code",
   "execution_count": 6,
   "metadata": {},
   "outputs": [
    {
     "name": "stdout",
     "output_type": "stream",
     "text": [
      "[591. 539. 413. 310. 308. 519. 325. 332. 498. 498. 392. 334. 385. 387.\n",
      " 425. 659. 400. 427. 319. 522.]\n"
     ]
    }
   ],
   "source": [
    "print(train_y)"
   ]
  },
  {
   "cell_type": "code",
   "execution_count": 7,
   "metadata": {},
   "outputs": [
    {
     "data": {
      "image/png": "[encoded data removed]",
      "text/plain": [
       "<Figure size 432x288 with 1 Axes>"
      ]
     },
     "metadata": {
      "needs_background": "light"
     },
     "output_type": "display_data"
    }
   ],
   "source": [
    "# 畫圖\n",
    "plt.plot(train_x, train_y, 'o')\n",
    "plt.xlabel('廣告費')\n",
    "plt.ylabel('點擊數')\n",
    "plt.show()"
   ]
  },
  {
   "cell_type": "markdown",
   "metadata": {},
   "source": [
    "### 預測函數(p.30)： $$f_\\theta(x) = \\theta_0 + \\theta_1x $$\n",
    "\n",
    "###      $$ \\theta_0：截距 \\;\\;\\; \\theta_1：斜率  $$\n",
    "\n",
    "###  目標函數(p.33) -- 最小平方法： $$E(\\theta) = \\frac{1}{2}\\sum_{i=1}^n{\\left({y^{(i)} - f_\\theta(x^{(i)}) }\\right)}^2   $$"
   ]
  },
  {
   "cell_type": "code",
   "execution_count": 8,
   "metadata": {},
   "outputs": [],
   "source": [
    "# 初始化參數\n",
    "theta0 = np.random.rand()\n",
    "theta1 = np.random.rand()"
   ]
  },
  {
   "cell_type": "code",
   "execution_count": 9,
   "metadata": {},
   "outputs": [
    {
     "name": "stdout",
     "output_type": "stream",
     "text": [
      "0.8334359045093352\n"
     ]
    }
   ],
   "source": [
    "print(theta0)"
   ]
  },
  {
   "cell_type": "code",
   "execution_count": 10,
   "metadata": {},
   "outputs": [
    {
     "name": "stdout",
     "output_type": "stream",
     "text": [
      "0.7513744779097701\n"
     ]
    }
   ],
   "source": [
    "print(theta1)"
   ]
  },
  {
   "cell_type": "code",
   "execution_count": 11,
   "metadata": {},
   "outputs": [],
   "source": [
    "# 預測函數\n",
    "def f(x):\n",
    "    return theta0 + theta1 * x\n",
    "\n",
    "# 目標函數\n",
    "def E(x, y):\n",
    "    return 0.5 * np.sum((y - f(x)) ** 2)"
   ]
  },
  {
   "cell_type": "markdown",
   "metadata": {},
   "source": [
    "### 標準化或 Z-score 正規化  $$ z^{(i)} = \\frac{x^{(i)} - \\mu}{\\sigma} $$"
   ]
  },
  {
   "cell_type": "code",
   "execution_count": 12,
   "metadata": {},
   "outputs": [],
   "source": [
    "# 標準化\n",
    "mu = train_x.mean()    # 平均數\n",
    "sigma = train_x.std()  # 標準差"
   ]
  },
  {
   "cell_type": "code",
   "execution_count": 13,
   "metadata": {},
   "outputs": [
    {
     "name": "stdout",
     "output_type": "stream",
     "text": [
      "141.6\n"
     ]
    }
   ],
   "source": [
    "print(mu)"
   ]
  },
  {
   "cell_type": "code",
   "execution_count": 14,
   "metadata": {},
   "outputs": [
    {
     "name": "stdout",
     "output_type": "stream",
     "text": [
      "66.98537153737374\n"
     ]
    }
   ],
   "source": [
    "print(sigma)"
   ]
  },
  {
   "cell_type": "code",
   "execution_count": 15,
   "metadata": {},
   "outputs": [
    {
     "name": "stdout",
     "output_type": "stream",
     "text": [
      "[ 1.39433428  1.11069026  0.09554325 -1.59139223 -0.8449606   0.93154667\n",
      " -1.38239138 -1.74067856  0.46875906  0.73747445 -0.11345761 -0.63595975\n",
      " -0.36724436 -0.44188752  0.3045441   1.94669369  0.25975821  0.25975821\n",
      " -1.23310505  0.84197488]\n"
     ]
    }
   ],
   "source": [
    "def standardize(x):\n",
    "    return (x - mu) / sigma\n",
    "\n",
    "train_z = standardize(train_x)  # 將 X 軸（廣告費）標準化\n",
    "print(train_z)"
   ]
  },
  {
   "cell_type": "code",
   "execution_count": 16,
   "metadata": {},
   "outputs": [
    {
     "data": {
      "image/png": "[encoded data removed]",
      "text/plain": [
       "<Figure size 432x288 with 1 Axes>"
      ]
     },
     "metadata": {
      "needs_background": "light"
     },
     "output_type": "display_data"
    }
   ],
   "source": [
    "plt.plot(train_z, train_y, 'o')\n",
    "plt.xlabel('廣告費')\n",
    "plt.ylabel('點擊數')\n",
    "plt.show()\n",
    "\n",
    "# 標準化後，x 軸的刻度變小了"
   ]
  },
  {
   "cell_type": "markdown",
   "metadata": {},
   "source": [
    "### $$ \\theta_0 := \\theta_0 - \\eta\\sum_{i=1}^n{\\left(f_\\theta(x^{(i)}) - {y^{(i)}}\\right)}  $$\n",
    "\n",
    "### $$ \\theta_1 := \\theta_1 - \\eta\\sum_{i=1}^n{\\left(f_\\theta(x^{(i)}) - {y^{(i)}}\\right)}x^{(i)} $$"
   ]
  },
  {
   "cell_type": "code",
   "execution_count": 17,
   "metadata": {},
   "outputs": [
    {
     "name": "stdout",
     "output_type": "stream",
     "text": [
      "1次: theta0 = 9.400, theta1 = 2.606, 差分 = 76053.1656\n",
      "2次: theta0 = 17.795, theta1 = 4.423, 差分 = 73041.4603\n",
      "3次: theta0 = 26.022, theta1 = 6.204, 差分 = 70149.0184\n",
      "4次: theta0 = 34.084, theta1 = 7.950, 差分 = 67371.1173\n",
      "5次: theta0 = 41.986, theta1 = 9.661, 差分 = 64703.2211\n",
      "6次: theta0 = 49.729, theta1 = 11.337, 差分 = 62140.9735\n",
      "7次: theta0 = 57.317, theta1 = 12.980, 差分 = 59680.1910\n",
      "8次: theta0 = 64.754, theta1 = 14.590, 差分 = 57316.8554\n",
      "9次: theta0 = 72.042, theta1 = 16.168, 差分 = 55047.1079\n",
      "10次: theta0 = 79.184, theta1 = 17.714, 差分 = 52867.2425\n",
      "11次: theta0 = 86.183, theta1 = 19.229, 差分 = 50773.6997\n",
      "12次: theta0 = 93.043, theta1 = 20.714, 差分 = 48763.0611\n",
      "13次: theta0 = 99.765, theta1 = 22.169, 差分 = 46832.0439\n",
      "14次: theta0 = 106.353, theta1 = 23.596, 差分 = 44977.4950\n",
      "15次: theta0 = 112.809, theta1 = 24.993, 差分 = 43196.3862\n",
      "16次: theta0 = 119.135, theta1 = 26.363, 差分 = 41485.8093\n",
      "17次: theta0 = 125.336, theta1 = 27.705, 差分 = 39842.9712\n",
      "18次: theta0 = 131.412, theta1 = 29.021, 差分 = 38265.1896\n",
      "19次: theta0 = 137.367, theta1 = 30.310, 差分 = 36749.8881\n",
      "20次: theta0 = 143.202, theta1 = 31.573, 差分 = 35294.5925\n",
      "21次: theta0 = 148.921, theta1 = 32.811, 差分 = 33896.9266\n",
      "22次: theta0 = 154.526, theta1 = 34.025, 差分 = 32554.6084\n",
      "23次: theta0 = 160.018, theta1 = 35.214, 差分 = 31265.4459\n",
      "24次: theta0 = 165.401, theta1 = 36.379, 差分 = 30027.3342\n",
      "25次: theta0 = 170.676, theta1 = 37.521, 差分 = 28838.2518\n",
      "26次: theta0 = 175.846, theta1 = 38.640, 差分 = 27696.2570\n",
      "27次: theta0 = 180.912, theta1 = 39.737, 差分 = 26599.4852\n",
      "28次: theta0 = 185.876, theta1 = 40.812, 差分 = 25546.1456\n",
      "29次: theta0 = 190.742, theta1 = 41.865, 差分 = 24534.5182\n",
      "30次: theta0 = 195.510, theta1 = 42.897, 差分 = 23562.9513\n",
      "31次: theta0 = 200.183, theta1 = 43.909, 差分 = 22629.8584\n",
      "32次: theta0 = 204.762, theta1 = 44.900, 差分 = 21733.7161\n",
      "33次: theta0 = 209.250, theta1 = 45.872, 差分 = 20873.0609\n",
      "34次: theta0 = 213.648, theta1 = 46.824, 差分 = 20046.4877\n",
      "35次: theta0 = 217.958, theta1 = 47.757, 差分 = 19252.6468\n",
      "36次: theta0 = 222.182, theta1 = 48.672, 差分 = 18490.2420\n",
      "37次: theta0 = 226.321, theta1 = 49.568, 差分 = 17758.0284\n",
      "38次: theta0 = 230.378, theta1 = 50.446, 差分 = 17054.8105\n",
      "39次: theta0 = 234.353, theta1 = 51.307, 差分 = 16379.4400\n",
      "40次: theta0 = 238.249, theta1 = 52.150, 差分 = 15730.8141\n",
      "41次: theta0 = 242.067, theta1 = 52.977, 差分 = 15107.8739\n",
      "42次: theta0 = 245.809, theta1 = 53.787, 差分 = 14509.6021\n",
      "43次: theta0 = 249.476, theta1 = 54.581, 差分 = 13935.0218\n",
      "44次: theta0 = 253.069, theta1 = 55.359, 差分 = 13383.1950\n",
      "45次: theta0 = 256.591, theta1 = 56.121, 差分 = 12853.2205\n",
      "46次: theta0 = 260.042, theta1 = 56.868, 差分 = 12344.2329\n",
      "47次: theta0 = 263.424, theta1 = 57.600, 差分 = 11855.4013\n",
      "48次: theta0 = 266.739, theta1 = 58.318, 差分 = 11385.9274\n",
      "49次: theta0 = 269.987, theta1 = 59.021, 差分 = 10935.0447\n",
      "50次: theta0 = 273.170, theta1 = 59.710, 差分 = 10502.0169\n",
      "51次: theta0 = 276.290, theta1 = 60.386, 差分 = 10086.1371\n",
      "52次: theta0 = 279.347, theta1 = 61.047, 差分 = 9686.7260\n",
      "53次: theta0 = 282.343, theta1 = 61.696, 差分 = 9303.1317\n",
      "54次: theta0 = 285.279, theta1 = 62.332, 差分 = 8934.7277\n",
      "55次: theta0 = 288.157, theta1 = 62.955, 差分 = 8580.9124\n",
      "56次: theta0 = 290.976, theta1 = 63.565, 差分 = 8241.1083\n",
      "57次: theta0 = 293.740, theta1 = 64.163, 差分 = 7914.7604\n",
      "58次: theta0 = 296.448, theta1 = 64.750, 差分 = 7601.3359\n",
      "59次: theta0 = 299.102, theta1 = 65.324, 差分 = 7300.3230\n",
      "60次: theta0 = 301.703, theta1 = 65.887, 差分 = 7011.2302\n",
      "61次: theta0 = 304.252, theta1 = 66.439, 差分 = 6733.5855\n",
      "62次: theta0 = 306.750, theta1 = 66.980, 差分 = 6466.9355\n",
      "63次: theta0 = 309.198, theta1 = 67.510, 差分 = 6210.8449\n",
      "64次: theta0 = 311.597, theta1 = 68.029, 差分 = 5964.8954\n",
      "65次: theta0 = 313.948, theta1 = 68.538, 差分 = 5728.6856\n",
      "66次: theta0 = 316.252, theta1 = 69.037, 差分 = 5501.8296\n",
      "67次: theta0 = 318.510, theta1 = 69.526, 差分 = 5283.9572\n",
      "68次: theta0 = 320.723, theta1 = 70.005, 差分 = 5074.7124\n",
      "69次: theta0 = 322.891, theta1 = 70.475, 差分 = 4873.7538\n",
      "70次: theta0 = 325.017, theta1 = 70.935, 差分 = 4680.7532\n",
      "71次: theta0 = 327.099, theta1 = 71.386, 差分 = 4495.3954\n",
      "72次: theta0 = 329.140, theta1 = 71.827, 差分 = 4317.3777\n",
      "73次: theta0 = 331.140, theta1 = 72.260, 差分 = 4146.4095\n",
      "74次: theta0 = 333.101, theta1 = 72.685, 差分 = 3982.2117\n",
      "75次: theta0 = 335.022, theta1 = 73.101, 差分 = 3824.5161\n",
      "76次: theta0 = 336.904, theta1 = 73.508, 差分 = 3673.0653\n",
      "77次: theta0 = 338.749, theta1 = 73.908, 差分 = 3527.6119\n",
      "78次: theta0 = 340.557, theta1 = 74.299, 差分 = 3387.9185\n",
      "79次: theta0 = 342.329, theta1 = 74.683, 差分 = 3253.7569\n",
      "80次: theta0 = 344.065, theta1 = 75.059, 差分 = 3124.9081\n",
      "81次: theta0 = 345.767, theta1 = 75.427, 差分 = 3001.1618\n",
      "82次: theta0 = 347.435, theta1 = 75.788, 差分 = 2882.3158\n",
      "83次: theta0 = 349.069, theta1 = 76.142, 差分 = 2768.1761\n",
      "84次: theta0 = 350.671, theta1 = 76.489, 差分 = 2658.5563\n",
      "85次: theta0 = 352.240, theta1 = 76.828, 差分 = 2553.2775\n",
      "86次: theta0 = 353.778, theta1 = 77.161, 差分 = 2452.1677\n",
      "87次: theta0 = 355.286, theta1 = 77.488, 差分 = 2355.0618\n",
      "88次: theta0 = 356.763, theta1 = 77.808, 差分 = 2261.8014\n",
      "89次: theta0 = 358.211, theta1 = 78.121, 差分 = 2172.2341\n",
      "90次: theta0 = 359.630, theta1 = 78.428, 差分 = 2086.2136\n",
      "91次: theta0 = 361.020, theta1 = 78.729, 差分 = 2003.5995\n",
      "92次: theta0 = 362.383, theta1 = 79.024, 差分 = 1924.2570\n",
      "93次: theta0 = 363.718, theta1 = 79.313, 差分 = 1848.0564\n",
      "94次: theta0 = 365.027, theta1 = 79.597, 差分 = 1774.8734\n",
      "95次: theta0 = 366.309, theta1 = 79.874, 差分 = 1704.5884\n",
      "96次: theta0 = 367.566, theta1 = 80.146, 差分 = 1637.0867\n",
      "97次: theta0 = 368.798, theta1 = 80.413, 差分 = 1572.2581\n",
      "98次: theta0 = 370.005, theta1 = 80.674, 差分 = 1509.9966\n",
      "99次: theta0 = 371.188, theta1 = 80.930, 差分 = 1450.2008\n",
      "100次: theta0 = 372.347, theta1 = 81.181, 差分 = 1392.7728\n",
      "101次: theta0 = 373.483, theta1 = 81.427, 差分 = 1337.6190\n",
      "102次: theta0 = 374.596, theta1 = 81.668, 差分 = 1284.6493\n",
      "103次: theta0 = 375.687, theta1 = 81.904, 差分 = 1233.7772\n",
      "104次: theta0 = 376.757, theta1 = 82.136, 差分 = 1184.9196\n",
      "105次: theta0 = 377.804, theta1 = 82.363, 差分 = 1137.9968\n",
      "106次: theta0 = 378.831, theta1 = 82.585, 差分 = 1092.9321\n",
      "107次: theta0 = 379.838, theta1 = 82.803, 差分 = 1049.6520\n",
      "108次: theta0 = 380.824, theta1 = 83.017, 差分 = 1008.0858\n",
      "109次: theta0 = 381.790, theta1 = 83.226, 差分 = 968.1656\n",
      "110次: theta0 = 382.738, theta1 = 83.431, 差分 = 929.8262\n",
      "111次: theta0 = 383.666, theta1 = 83.632, 差分 = 893.0051\n",
      "112次: theta0 = 384.576, theta1 = 83.829, 差分 = 857.6421\n",
      "113次: theta0 = 385.467, theta1 = 84.022, 差分 = 823.6795\n",
      "114次: theta0 = 386.341, theta1 = 84.211, 差分 = 791.0618\n",
      "115次: theta0 = 387.197, theta1 = 84.396, 差分 = 759.7357\n",
      "116次: theta0 = 388.036, theta1 = 84.578, 差分 = 729.6502\n",
      "117次: theta0 = 388.858, theta1 = 84.756, 差分 = 700.7561\n",
      "118次: theta0 = 389.664, theta1 = 84.930, 差分 = 673.0061\n",
      "119次: theta0 = 390.454, theta1 = 85.101, 差分 = 646.3551\n",
      "120次: theta0 = 391.228, theta1 = 85.269, 差分 = 620.7594\n",
      "121次: theta0 = 391.986, theta1 = 85.433, 差分 = 596.1773\n",
      "122次: theta0 = 392.729, theta1 = 85.594, 差分 = 572.5687\n",
      "123次: theta0 = 393.458, theta1 = 85.752, 差分 = 549.8950\n",
      "124次: theta0 = 394.172, theta1 = 85.906, 差分 = 528.1192\n",
      "125次: theta0 = 394.871, theta1 = 86.058, 差分 = 507.2056\n",
      "126次: theta0 = 395.557, theta1 = 86.206, 差分 = 487.1203\n",
      "127次: theta0 = 396.229, theta1 = 86.352, 差分 = 467.8303\n",
      "128次: theta0 = 396.887, theta1 = 86.494, 差分 = 449.3042\n",
      "129次: theta0 = 397.532, theta1 = 86.634, 差分 = 431.5118\n",
      "130次: theta0 = 398.165, theta1 = 86.771, 差分 = 414.4239\n",
      "131次: theta0 = 398.784, theta1 = 86.905, 差分 = 398.0127\n",
      "132次: theta0 = 399.392, theta1 = 87.036, 差分 = 382.2514\n",
      "133次: theta0 = 399.987, theta1 = 87.165, 差分 = 367.1143\n",
      "134次: theta0 = 400.570, theta1 = 87.291, 差分 = 352.5766\n",
      "135次: theta0 = 401.142, theta1 = 87.415, 差分 = 338.6145\n",
      "136次: theta0 = 401.702, theta1 = 87.536, 差分 = 325.2054\n",
      "137次: theta0 = 402.251, theta1 = 87.655, 差分 = 312.3273\n",
      "138次: theta0 = 402.789, theta1 = 87.772, 差分 = 299.9591\n",
      "139次: theta0 = 403.316, theta1 = 87.886, 差分 = 288.0807\n",
      "140次: theta0 = 403.833, theta1 = 87.998, 差分 = 276.6727\n",
      "141次: theta0 = 404.339, theta1 = 88.107, 差分 = 265.7165\n",
      "142次: theta0 = 404.835, theta1 = 88.215, 差分 = 255.1941\n",
      "143次: theta0 = 405.322, theta1 = 88.320, 差分 = 245.0884\n",
      "144次: theta0 = 405.798, theta1 = 88.423, 差分 = 235.3829\n",
      "145次: theta0 = 406.265, theta1 = 88.524, 差分 = 226.0618\n",
      "146次: theta0 = 406.723, theta1 = 88.623, 差分 = 217.1097\n",
      "147次: theta0 = 407.172, theta1 = 88.721, 差分 = 208.5122\n",
      "148次: theta0 = 407.611, theta1 = 88.816, 差分 = 200.2551\n",
      "149次: theta0 = 408.042, theta1 = 88.909, 差分 = 192.3250\n",
      "150次: theta0 = 408.464, theta1 = 89.000, 差分 = 184.7089\n",
      "151次: theta0 = 408.878, theta1 = 89.090, 差分 = 177.3944\n",
      "152次: theta0 = 409.283, theta1 = 89.178, 差分 = 170.3696\n",
      "153次: theta0 = 409.681, theta1 = 89.264, 差分 = 163.6230\n",
      "154次: theta0 = 410.070, theta1 = 89.348, 差分 = 157.1435\n",
      "155次: theta0 = 410.452, theta1 = 89.431, 差分 = 150.9206\n",
      "156次: theta0 = 410.825, theta1 = 89.512, 差分 = 144.9442\n",
      "157次: theta0 = 411.192, theta1 = 89.591, 差分 = 139.2044\n",
      "158次: theta0 = 411.551, theta1 = 89.669, 差分 = 133.6919\n",
      "159次: theta0 = 411.903, theta1 = 89.745, 差分 = 128.3977\n",
      "160次: theta0 = 412.248, theta1 = 89.820, 差分 = 123.3131\n",
      "161次: theta0 = 412.586, theta1 = 89.893, 差分 = 118.4299\n",
      "162次: theta0 = 412.917, theta1 = 89.965, 差分 = 113.7401\n",
      "163次: theta0 = 413.242, theta1 = 90.035, 差分 = 109.2360\n",
      "164次: theta0 = 413.560, theta1 = 90.104, 差分 = 104.9103\n",
      "165次: theta0 = 413.872, theta1 = 90.171, 差分 = 100.7558\n",
      "166次: theta0 = 414.178, theta1 = 90.237, 差分 = 96.7659\n",
      "167次: theta0 = 414.477, theta1 = 90.302, 差分 = 92.9340\n",
      "168次: theta0 = 414.770, theta1 = 90.366, 差分 = 89.2538\n",
      "169次: theta0 = 415.058, theta1 = 90.428, 差分 = 85.7193\n",
      "170次: theta0 = 415.340, theta1 = 90.489, 差分 = 82.3248\n",
      "171次: theta0 = 415.616, theta1 = 90.549, 差分 = 79.0648\n",
      "172次: theta0 = 415.887, theta1 = 90.607, 差分 = 75.9338\n",
      "173次: theta0 = 416.152, theta1 = 90.665, 差分 = 72.9268\n",
      "174次: theta0 = 416.412, theta1 = 90.721, 差分 = 70.0389\n",
      "175次: theta0 = 416.667, theta1 = 90.776, 差分 = 67.2654\n",
      "176次: theta0 = 416.916, theta1 = 90.830, 差分 = 64.6017\n",
      "177次: theta0 = 417.161, theta1 = 90.883, 差分 = 62.0435\n",
      "178次: theta0 = 417.401, theta1 = 90.935, 差分 = 59.5865\n",
      "179次: theta0 = 417.636, theta1 = 90.986, 差分 = 57.2269\n",
      "180次: theta0 = 417.866, theta1 = 91.036, 差分 = 54.9607\n",
      "181次: theta0 = 418.092, theta1 = 91.085, 差分 = 52.7843\n",
      "182次: theta0 = 418.313, theta1 = 91.133, 差分 = 50.6940\n",
      "183次: theta0 = 418.530, theta1 = 91.180, 差分 = 48.6865\n",
      "184次: theta0 = 418.742, theta1 = 91.226, 差分 = 46.7585\n",
      "185次: theta0 = 418.950, theta1 = 91.271, 差分 = 44.9069\n",
      "186次: theta0 = 419.154, theta1 = 91.315, 差分 = 43.1286\n",
      "187次: theta0 = 419.354, theta1 = 91.358, 差分 = 41.4207\n",
      "188次: theta0 = 419.550, theta1 = 91.400, 差分 = 39.7804\n",
      "189次: theta0 = 419.742, theta1 = 91.442, 差分 = 38.2051\n",
      "190次: theta0 = 419.930, theta1 = 91.483, 差分 = 36.6922\n",
      "191次: theta0 = 420.115, theta1 = 91.523, 差分 = 35.2392\n",
      "192次: theta0 = 420.295, theta1 = 91.562, 差分 = 33.8437\n",
      "193次: theta0 = 420.472, theta1 = 91.600, 差分 = 32.5035\n",
      "194次: theta0 = 420.646, theta1 = 91.638, 差分 = 31.2164\n",
      "195次: theta0 = 420.816, theta1 = 91.675, 差分 = 29.9802\n",
      "196次: theta0 = 420.983, theta1 = 91.711, 差分 = 28.7930\n",
      "197次: theta0 = 421.146, theta1 = 91.746, 差分 = 27.6528\n",
      "198次: theta0 = 421.306, theta1 = 91.781, 差分 = 26.5577\n",
      "199次: theta0 = 421.463, theta1 = 91.815, 差分 = 25.5061\n",
      "200次: theta0 = 421.617, theta1 = 91.848, 差分 = 24.4960\n",
      "201次: theta0 = 421.767, theta1 = 91.881, 差分 = 23.5260\n",
      "202次: theta0 = 421.915, theta1 = 91.912, 差分 = 22.5943\n",
      "203次: theta0 = 422.060, theta1 = 91.944, 差分 = 21.6996\n",
      "204次: theta0 = 422.202, theta1 = 91.974, 差分 = 20.8403\n",
      "205次: theta0 = 422.341, theta1 = 92.005, 差分 = 20.0150\n",
      "206次: theta0 = 422.477, theta1 = 92.034, 差分 = 19.2224\n",
      "207次: theta0 = 422.610, theta1 = 92.063, 差分 = 18.4612\n",
      "208次: theta0 = 422.741, theta1 = 92.091, 差分 = 17.7302\n",
      "209次: theta0 = 422.869, theta1 = 92.119, 差分 = 17.0280\n",
      "210次: theta0 = 422.995, theta1 = 92.146, 差分 = 16.3537\n",
      "211次: theta0 = 423.118, theta1 = 92.173, 差分 = 15.7061\n",
      "212次: theta0 = 423.239, theta1 = 92.199, 差分 = 15.0842\n",
      "213次: theta0 = 423.357, theta1 = 92.225, 差分 = 14.4868\n",
      "214次: theta0 = 423.473, theta1 = 92.250, 差分 = 13.9132\n",
      "215次: theta0 = 423.586, theta1 = 92.274, 差分 = 13.3622\n",
      "216次: theta0 = 423.697, theta1 = 92.298, 差分 = 12.8330\n",
      "217次: theta0 = 423.807, theta1 = 92.322, 差分 = 12.3249\n",
      "218次: theta0 = 423.913, theta1 = 92.345, 差分 = 11.8368\n",
      "219次: theta0 = 424.018, theta1 = 92.368, 差分 = 11.3681\n",
      "220次: theta0 = 424.121, theta1 = 92.390, 差分 = 10.9179\n",
      "221次: theta0 = 424.221, theta1 = 92.412, 差分 = 10.4855\n",
      "222次: theta0 = 424.320, theta1 = 92.433, 差分 = 10.0703\n",
      "223次: theta0 = 424.417, theta1 = 92.454, 差分 = 9.6715\n",
      "224次: theta0 = 424.511, theta1 = 92.475, 差分 = 9.2885\n",
      "225次: theta0 = 424.604, theta1 = 92.495, 差分 = 8.9207\n",
      "226次: theta0 = 424.695, theta1 = 92.514, 差分 = 8.5674\n",
      "227次: theta0 = 424.784, theta1 = 92.534, 差分 = 8.2282\n",
      "228次: theta0 = 424.871, theta1 = 92.552, 差分 = 7.9023\n",
      "229次: theta0 = 424.957, theta1 = 92.571, 差分 = 7.5894\n",
      "230次: theta0 = 425.041, theta1 = 92.589, 差分 = 7.2889\n",
      "231次: theta0 = 425.123, theta1 = 92.607, 差分 = 7.0002\n",
      "232次: theta0 = 425.203, theta1 = 92.624, 差分 = 6.7230\n",
      "233次: theta0 = 425.282, theta1 = 92.641, 差分 = 6.4568\n",
      "234次: theta0 = 425.360, theta1 = 92.658, 差分 = 6.2011\n",
      "235次: theta0 = 425.436, theta1 = 92.675, 差分 = 5.9555\n",
      "236次: theta0 = 425.510, theta1 = 92.691, 差分 = 5.7197\n",
      "237次: theta0 = 425.583, theta1 = 92.706, 差分 = 5.4932\n",
      "238次: theta0 = 425.654, theta1 = 92.722, 差分 = 5.2757\n",
      "239次: theta0 = 425.724, theta1 = 92.737, 差分 = 5.0667\n",
      "240次: theta0 = 425.792, theta1 = 92.752, 差分 = 4.8661\n",
      "241次: theta0 = 425.860, theta1 = 92.766, 差分 = 4.6734\n",
      "242次: theta0 = 425.925, theta1 = 92.781, 差分 = 4.4883\n",
      "243次: theta0 = 425.990, theta1 = 92.795, 差分 = 4.3106\n",
      "244次: theta0 = 426.053, theta1 = 92.808, 差分 = 4.1399\n",
      "245次: theta0 = 426.115, theta1 = 92.822, 差分 = 3.9760\n",
      "246次: theta0 = 426.176, theta1 = 92.835, 差分 = 3.8185\n",
      "247次: theta0 = 426.235, theta1 = 92.848, 差分 = 3.6673\n",
      "248次: theta0 = 426.294, theta1 = 92.860, 差分 = 3.5221\n",
      "249次: theta0 = 426.351, theta1 = 92.873, 差分 = 3.3826\n",
      "250次: theta0 = 426.407, theta1 = 92.885, 差分 = 3.2487\n",
      "251次: theta0 = 426.462, theta1 = 92.897, 差分 = 3.1200\n",
      "252次: theta0 = 426.515, theta1 = 92.908, 差分 = 2.9965\n",
      "253次: theta0 = 426.568, theta1 = 92.920, 差分 = 2.8778\n",
      "254次: theta0 = 426.620, theta1 = 92.931, 差分 = 2.7638\n",
      "255次: theta0 = 426.670, theta1 = 92.942, 差分 = 2.6544\n",
      "256次: theta0 = 426.720, theta1 = 92.953, 差分 = 2.5493\n",
      "257次: theta0 = 426.768, theta1 = 92.963, 差分 = 2.4483\n",
      "258次: theta0 = 426.816, theta1 = 92.973, 差分 = 2.3514\n",
      "259次: theta0 = 426.863, theta1 = 92.984, 差分 = 2.2583\n",
      "260次: theta0 = 426.908, theta1 = 92.993, 差分 = 2.1688\n",
      "261次: theta0 = 426.953, theta1 = 93.003, 差分 = 2.0829\n",
      "262次: theta0 = 426.997, theta1 = 93.013, 差分 = 2.0005\n",
      "263次: theta0 = 427.040, theta1 = 93.022, 差分 = 1.9212\n",
      "264次: theta0 = 427.082, theta1 = 93.031, 差分 = 1.8452\n",
      "265次: theta0 = 427.124, theta1 = 93.040, 差分 = 1.7721\n",
      "266次: theta0 = 427.164, theta1 = 93.049, 差分 = 1.7019\n",
      "267次: theta0 = 427.204, theta1 = 93.057, 差分 = 1.6345\n",
      "268次: theta0 = 427.243, theta1 = 93.066, 差分 = 1.5698\n",
      "269次: theta0 = 427.281, theta1 = 93.074, 差分 = 1.5076\n",
      "270次: theta0 = 427.319, theta1 = 93.082, 差分 = 1.4479\n",
      "271次: theta0 = 427.355, theta1 = 93.090, 差分 = 1.3906\n",
      "272次: theta0 = 427.391, theta1 = 93.098, 差分 = 1.3355\n",
      "273次: theta0 = 427.426, theta1 = 93.106, 差分 = 1.2826\n",
      "274次: theta0 = 427.461, theta1 = 93.113, 差分 = 1.2318\n",
      "275次: theta0 = 427.494, theta1 = 93.120, 差分 = 1.1831\n",
      "276次: theta0 = 427.528, theta1 = 93.128, 差分 = 1.1362\n",
      "277次: theta0 = 427.560, theta1 = 93.135, 差分 = 1.0912\n",
      "278次: theta0 = 427.592, theta1 = 93.141, 差分 = 1.0480\n",
      "279次: theta0 = 427.623, theta1 = 93.148, 差分 = 1.0065\n",
      "280次: theta0 = 427.654, theta1 = 93.155, 差分 = 0.9666\n",
      "281次: theta0 = 427.683, theta1 = 93.161, 差分 = 0.9284\n",
      "282次: theta0 = 427.713, theta1 = 93.168, 差分 = 0.8916\n",
      "283次: theta0 = 427.742, theta1 = 93.174, 差分 = 0.8563\n",
      "284次: theta0 = 427.770, theta1 = 93.180, 差分 = 0.8224\n",
      "285次: theta0 = 427.797, theta1 = 93.186, 差分 = 0.7898\n",
      "286次: theta0 = 427.824, theta1 = 93.192, 差分 = 0.7585\n",
      "287次: theta0 = 427.851, theta1 = 93.198, 差分 = 0.7285\n",
      "288次: theta0 = 427.877, theta1 = 93.203, 差分 = 0.6997\n",
      "289次: theta0 = 427.902, theta1 = 93.209, 差分 = 0.6719\n",
      "290次: theta0 = 427.927, theta1 = 93.214, 差分 = 0.6453\n",
      "291次: theta0 = 427.952, theta1 = 93.219, 差分 = 0.6198\n",
      "292次: theta0 = 427.976, theta1 = 93.225, 差分 = 0.5952\n",
      "293次: theta0 = 427.999, theta1 = 93.230, 差分 = 0.5717\n",
      "294次: theta0 = 428.022, theta1 = 93.235, 差分 = 0.5490\n",
      "295次: theta0 = 428.045, theta1 = 93.239, 差分 = 0.5273\n",
      "296次: theta0 = 428.067, theta1 = 93.244, 差分 = 0.5064\n",
      "297次: theta0 = 428.089, theta1 = 93.249, 差分 = 0.4864\n",
      "298次: theta0 = 428.110, theta1 = 93.254, 差分 = 0.4671\n",
      "299次: theta0 = 428.131, theta1 = 93.258, 差分 = 0.4486\n",
      "300次: theta0 = 428.151, theta1 = 93.262, 差分 = 0.4308\n",
      "301次: theta0 = 428.171, theta1 = 93.267, 差分 = 0.4138\n",
      "302次: theta0 = 428.191, theta1 = 93.271, 差分 = 0.3974\n",
      "303次: theta0 = 428.210, theta1 = 93.275, 差分 = 0.3817\n",
      "304次: theta0 = 428.229, theta1 = 93.279, 差分 = 0.3665\n",
      "305次: theta0 = 428.247, theta1 = 93.283, 差分 = 0.3520\n",
      "306次: theta0 = 428.265, theta1 = 93.287, 差分 = 0.3381\n",
      "307次: theta0 = 428.283, theta1 = 93.291, 差分 = 0.3247\n",
      "308次: theta0 = 428.300, theta1 = 93.295, 差分 = 0.3118\n",
      "309次: theta0 = 428.317, theta1 = 93.298, 差分 = 0.2995\n",
      "310次: theta0 = 428.334, theta1 = 93.302, 差分 = 0.2876\n",
      "311次: theta0 = 428.350, theta1 = 93.306, 差分 = 0.2762\n",
      "312次: theta0 = 428.366, theta1 = 93.309, 差分 = 0.2653\n",
      "313次: theta0 = 428.382, theta1 = 93.312, 差分 = 0.2548\n",
      "314次: theta0 = 428.397, theta1 = 93.316, 差分 = 0.2447\n",
      "315次: theta0 = 428.412, theta1 = 93.319, 差分 = 0.2350\n",
      "316次: theta0 = 428.427, theta1 = 93.322, 差分 = 0.2257\n",
      "317次: theta0 = 428.441, theta1 = 93.325, 差分 = 0.2168\n",
      "318次: theta0 = 428.456, theta1 = 93.328, 差分 = 0.2082\n",
      "319次: theta0 = 428.469, theta1 = 93.331, 差分 = 0.1999\n",
      "320次: theta0 = 428.483, theta1 = 93.334, 差分 = 0.1920\n",
      "321次: theta0 = 428.496, theta1 = 93.337, 差分 = 0.1844\n",
      "322次: theta0 = 428.509, theta1 = 93.340, 差分 = 0.1771\n",
      "323次: theta0 = 428.522, theta1 = 93.343, 差分 = 0.1701\n",
      "324次: theta0 = 428.535, theta1 = 93.346, 差分 = 0.1634\n",
      "325次: theta0 = 428.547, theta1 = 93.348, 差分 = 0.1569\n",
      "326次: theta0 = 428.559, theta1 = 93.351, 差分 = 0.1507\n",
      "327次: theta0 = 428.571, theta1 = 93.353, 差分 = 0.1447\n",
      "328次: theta0 = 428.583, theta1 = 93.356, 差分 = 0.1390\n",
      "329次: theta0 = 428.594, theta1 = 93.358, 差分 = 0.1335\n",
      "330次: theta0 = 428.605, theta1 = 93.361, 差分 = 0.1282\n",
      "331次: theta0 = 428.616, theta1 = 93.363, 差分 = 0.1231\n",
      "332次: theta0 = 428.627, theta1 = 93.365, 差分 = 0.1182\n",
      "333次: theta0 = 428.637, theta1 = 93.368, 差分 = 0.1136\n",
      "334次: theta0 = 428.647, theta1 = 93.370, 差分 = 0.1091\n",
      "335次: theta0 = 428.657, theta1 = 93.372, 差分 = 0.1047\n",
      "336次: theta0 = 428.667, theta1 = 93.374, 差分 = 0.1006\n",
      "337次: theta0 = 428.677, theta1 = 93.376, 差分 = 0.0966\n",
      "338次: theta0 = 428.686, theta1 = 93.378, 差分 = 0.0928\n",
      "339次: theta0 = 428.696, theta1 = 93.380, 差分 = 0.0891\n",
      "340次: theta0 = 428.705, theta1 = 93.382, 差分 = 0.0856\n",
      "341次: theta0 = 428.714, theta1 = 93.384, 差分 = 0.0822\n",
      "342次: theta0 = 428.722, theta1 = 93.386, 差分 = 0.0789\n",
      "343次: theta0 = 428.731, theta1 = 93.388, 差分 = 0.0758\n",
      "344次: theta0 = 428.739, theta1 = 93.390, 差分 = 0.0728\n",
      "345次: theta0 = 428.748, theta1 = 93.392, 差分 = 0.0699\n",
      "346次: theta0 = 428.756, theta1 = 93.393, 差分 = 0.0672\n",
      "347次: theta0 = 428.763, theta1 = 93.395, 差分 = 0.0645\n",
      "348次: theta0 = 428.771, theta1 = 93.397, 差分 = 0.0619\n",
      "349次: theta0 = 428.779, theta1 = 93.398, 差分 = 0.0595\n",
      "350次: theta0 = 428.786, theta1 = 93.400, 差分 = 0.0571\n",
      "351次: theta0 = 428.793, theta1 = 93.402, 差分 = 0.0549\n",
      "352次: theta0 = 428.801, theta1 = 93.403, 差分 = 0.0527\n",
      "353次: theta0 = 428.808, theta1 = 93.405, 差分 = 0.0506\n",
      "354次: theta0 = 428.814, theta1 = 93.406, 差分 = 0.0486\n",
      "355次: theta0 = 428.821, theta1 = 93.408, 差分 = 0.0467\n",
      "356次: theta0 = 428.828, theta1 = 93.409, 差分 = 0.0448\n",
      "357次: theta0 = 428.834, theta1 = 93.410, 差分 = 0.0431\n",
      "358次: theta0 = 428.840, theta1 = 93.412, 差分 = 0.0414\n",
      "359次: theta0 = 428.847, theta1 = 93.413, 差分 = 0.0397\n",
      "360次: theta0 = 428.853, theta1 = 93.414, 差分 = 0.0381\n",
      "361次: theta0 = 428.859, theta1 = 93.416, 差分 = 0.0366\n",
      "362次: theta0 = 428.865, theta1 = 93.417, 差分 = 0.0352\n",
      "363次: theta0 = 428.870, theta1 = 93.418, 差分 = 0.0338\n",
      "364次: theta0 = 428.876, theta1 = 93.419, 差分 = 0.0325\n",
      "365次: theta0 = 428.881, theta1 = 93.421, 差分 = 0.0312\n",
      "366次: theta0 = 428.887, theta1 = 93.422, 差分 = 0.0299\n",
      "367次: theta0 = 428.892, theta1 = 93.423, 差分 = 0.0287\n",
      "368次: theta0 = 428.897, theta1 = 93.424, 差分 = 0.0276\n",
      "369次: theta0 = 428.902, theta1 = 93.425, 差分 = 0.0265\n",
      "370次: theta0 = 428.907, theta1 = 93.426, 差分 = 0.0255\n",
      "371次: theta0 = 428.912, theta1 = 93.427, 差分 = 0.0245\n",
      "372次: theta0 = 428.917, theta1 = 93.428, 差分 = 0.0235\n",
      "373次: theta0 = 428.921, theta1 = 93.429, 差分 = 0.0226\n",
      "374次: theta0 = 428.926, theta1 = 93.430, 差分 = 0.0217\n",
      "375次: theta0 = 428.930, theta1 = 93.431, 差分 = 0.0208\n",
      "376次: theta0 = 428.935, theta1 = 93.432, 差分 = 0.0200\n",
      "377次: theta0 = 428.939, theta1 = 93.433, 差分 = 0.0192\n",
      "378次: theta0 = 428.943, theta1 = 93.434, 差分 = 0.0184\n",
      "379次: theta0 = 428.947, theta1 = 93.435, 差分 = 0.0177\n",
      "380次: theta0 = 428.952, theta1 = 93.436, 差分 = 0.0170\n",
      "381次: theta0 = 428.956, theta1 = 93.437, 差分 = 0.0163\n",
      "382次: theta0 = 428.959, theta1 = 93.438, 差分 = 0.0157\n",
      "383次: theta0 = 428.963, theta1 = 93.438, 差分 = 0.0151\n",
      "384次: theta0 = 428.967, theta1 = 93.439, 差分 = 0.0145\n",
      "385次: theta0 = 428.971, theta1 = 93.440, 差分 = 0.0139\n",
      "386次: theta0 = 428.974, theta1 = 93.441, 差分 = 0.0133\n",
      "387次: theta0 = 428.978, theta1 = 93.441, 差分 = 0.0128\n",
      "388次: theta0 = 428.981, theta1 = 93.442, 差分 = 0.0123\n",
      "389次: theta0 = 428.985, theta1 = 93.443, 差分 = 0.0118\n",
      "390次: theta0 = 428.988, theta1 = 93.444, 差分 = 0.0114\n",
      "391次: theta0 = 428.991, theta1 = 93.444, 差分 = 0.0109\n",
      "392次: theta0 = 428.994, theta1 = 93.445, 差分 = 0.0105\n",
      "393次: theta0 = 428.997, theta1 = 93.446, 差分 = 0.0101\n",
      "394次: theta0 = 429.000, theta1 = 93.446, 差分 = 0.0097\n"
     ]
    }
   ],
   "source": [
    "# 學習率，自己設\n",
    "ETA = 1e-3\n",
    "\n",
    "# 誤差的差分\n",
    "diff = 1\n",
    "\n",
    "# 更新次數\n",
    "count = 0\n",
    "\n",
    "error = E(train_z, train_y)  # 目標函數\n",
    "\n",
    "# 重複參數的更新，直到誤差的差分變成 0.01 以下為止\n",
    "while diff > 1e-2:\n",
    "    # 將更新結果儲存於臨時變數\n",
    "    tmp_theta0 = theta0 - ETA * np.sum((f(train_z) - train_y))\n",
    "    tmp_theta1 = theta1 - ETA * np.sum((f(train_z) - train_y) * train_z)\n",
    "    \n",
    "    # 更新參數\n",
    "    theta0 = tmp_theta0\n",
    "    theta1 = tmp_theta1\n",
    "    \n",
    "    # 計算與前一項誤差的差分\n",
    "    current_error = E(train_z, train_y)\n",
    "    diff = error - current_error\n",
    "    error = current_error\n",
    "    \n",
    "    # 輸出日誌\n",
    "    count += 1\n",
    "    log = '{}次: theta0 = {:.3f}, theta1 = {:.3f}, 差分 = {:.4f}'\n",
    "    print(log.format(count, theta0, theta1, diff))\n"
   ]
  },
  {
   "cell_type": "code",
   "execution_count": 18,
   "metadata": {},
   "outputs": [
    {
     "name": "stdout",
     "output_type": "stream",
     "text": [
      "[-3.         -2.93939394 -2.87878788 -2.81818182 -2.75757576 -2.6969697\n",
      " -2.63636364 -2.57575758 -2.51515152 -2.45454545 -2.39393939 -2.33333333\n",
      " -2.27272727 -2.21212121 -2.15151515 -2.09090909 -2.03030303 -1.96969697\n",
      " -1.90909091 -1.84848485 -1.78787879 -1.72727273 -1.66666667 -1.60606061\n",
      " -1.54545455 -1.48484848 -1.42424242 -1.36363636 -1.3030303  -1.24242424\n",
      " -1.18181818 -1.12121212 -1.06060606 -1.         -0.93939394 -0.87878788\n",
      " -0.81818182 -0.75757576 -0.6969697  -0.63636364 -0.57575758 -0.51515152\n",
      " -0.45454545 -0.39393939 -0.33333333 -0.27272727 -0.21212121 -0.15151515\n",
      " -0.09090909 -0.03030303  0.03030303  0.09090909  0.15151515  0.21212121\n",
      "  0.27272727  0.33333333  0.39393939  0.45454545  0.51515152  0.57575758\n",
      "  0.63636364  0.6969697   0.75757576  0.81818182  0.87878788  0.93939394\n",
      "  1.          1.06060606  1.12121212  1.18181818  1.24242424  1.3030303\n",
      "  1.36363636  1.42424242  1.48484848  1.54545455  1.60606061  1.66666667\n",
      "  1.72727273  1.78787879  1.84848485  1.90909091  1.96969697  2.03030303\n",
      "  2.09090909  2.15151515  2.21212121  2.27272727  2.33333333  2.39393939\n",
      "  2.45454545  2.51515152  2.57575758  2.63636364  2.6969697   2.75757576\n",
      "  2.81818182  2.87878788  2.93939394  3.        ]\n"
     ]
    }
   ],
   "source": [
    "# 繪圖來確認\n",
    "x = np.linspace(-3, 3, 100)\n",
    "print(x)"
   ]
  },
  {
   "cell_type": "code",
   "execution_count": 19,
   "metadata": {},
   "outputs": [
    {
     "name": "stdout",
     "output_type": "stream",
     "text": [
      "[148.66126936 154.32468679 159.98810422 165.65152164 171.31493907\n",
      " 176.9783565  182.64177392 188.30519135 193.96860878 199.6320262\n",
      " 205.29544363 210.95886106 216.62227849 222.28569591 227.94911334\n",
      " 233.61253077 239.27594819 244.93936562 250.60278305 256.26620047\n",
      " 261.9296179  267.59303533 273.25645276 278.91987018 284.58328761\n",
      " 290.24670504 295.91012246 301.57353989 307.23695732 312.90037474\n",
      " 318.56379217 324.2272096  329.89062703 335.55404445 341.21746188\n",
      " 346.88087931 352.54429673 358.20771416 363.87113159 369.53454901\n",
      " 375.19796644 380.86138387 386.5248013  392.18821872 397.85163615\n",
      " 403.51505358 409.178471   414.84188843 420.50530586 426.16872328\n",
      " 431.83214071 437.49555814 443.15897557 448.82239299 454.48581042\n",
      " 460.14922785 465.81264527 471.4760627  477.13948013 482.80289755\n",
      " 488.46631498 494.12973241 499.79314984 505.45656726 511.11998469\n",
      " 516.78340212 522.44681954 528.11023697 533.7736544  539.43707182\n",
      " 545.10048925 550.76390668 556.4273241  562.09074153 567.75415896\n",
      " 573.41757639 579.08099381 584.74441124 590.40782867 596.07124609\n",
      " 601.73466352 607.39808095 613.06149837 618.7249158  624.38833323\n",
      " 630.05175066 635.71516808 641.37858551 647.04200294 652.70542036\n",
      " 658.36883779 664.03225522 669.69567264 675.35909007 681.0225075\n",
      " 686.68592493 692.34934235 698.01275978 703.67617721 709.33959463]\n"
     ]
    }
   ],
   "source": [
    "print(f(x))   # f(x) = theta0 + theta1 * x"
   ]
  },
  {
   "cell_type": "code",
   "execution_count": 20,
   "metadata": {},
   "outputs": [
    {
     "data": {
      "image/png": "[encoded data removed]",
      "text/plain": [
       "<Figure size 432x288 with 1 Axes>"
      ]
     },
     "metadata": {
      "needs_background": "light"
     },
     "output_type": "display_data"
    }
   ],
   "source": [
    "plt.plot(train_z, train_y, 'o')  # 點 \n",
    "plt.plot(x, f(x))  # 直線\n",
    "plt.xlabel('廣告費')\n",
    "plt.ylabel('點擊數')\n",
    "plt.show()"
   ]
  },
  {
   "cell_type": "code",
   "execution_count": 21,
   "metadata": {},
   "outputs": [
    {
     "data": {
      "text/plain": [
       "370.9673177122929"
      ]
     },
     "execution_count": 21,
     "metadata": {},
     "output_type": "execute_result"
    }
   ],
   "source": [
    "f(standardize(100))"
   ]
  },
  {
   "cell_type": "code",
   "execution_count": 22,
   "metadata": {},
   "outputs": [
    {
     "data": {
      "text/plain": [
       "510.46999628316"
      ]
     },
     "execution_count": 22,
     "metadata": {},
     "output_type": "execute_result"
    }
   ],
   "source": [
    "f(standardize(200))"
   ]
  },
  {
   "cell_type": "code",
   "execution_count": 23,
   "metadata": {},
   "outputs": [
    {
     "data": {
      "text/plain": [
       "649.9726748540271"
      ]
     },
     "execution_count": 23,
     "metadata": {},
     "output_type": "execute_result"
    }
   ],
   "source": [
    "f(standardize(300))"
   ]
  },
  {
   "cell_type": "markdown",
   "metadata": {},
   "source": [
    "### 多項式迴歸的程式    p.165\n",
    "\n",
    "### $$f_\\theta(x) = \\theta_0 + \\theta_1x + \\theta_2x^2 $$"
   ]
  },
  {
   "cell_type": "code",
   "execution_count": 24,
   "metadata": {},
   "outputs": [
    {
     "name": "stdout",
     "output_type": "stream",
     "text": [
      "[0.70452642 0.37140285 0.06713816]\n"
     ]
    }
   ],
   "source": [
    "# 初始化參數\n",
    "theta = np.random.rand(3)\n",
    "print(theta)"
   ]
  },
  {
   "cell_type": "code",
   "execution_count": 25,
   "metadata": {},
   "outputs": [
    {
     "name": "stdout",
     "output_type": "stream",
     "text": [
      "[ 1.39433428  1.11069026  0.09554325 -1.59139223 -0.8449606   0.93154667\n",
      " -1.38239138 -1.74067856  0.46875906  0.73747445 -0.11345761 -0.63595975\n",
      " -0.36724436 -0.44188752  0.3045441   1.94669369  0.25975821  0.25975821\n",
      " -1.23310505  0.84197488]\n"
     ]
    }
   ],
   "source": [
    "print(train_z)"
   ]
  },
  {
   "cell_type": "code",
   "execution_count": 26,
   "metadata": {},
   "outputs": [
    {
     "name": "stdout",
     "output_type": "stream",
     "text": [
      "20\n"
     ]
    }
   ],
   "source": [
    "print(train_z.shape[0])"
   ]
  },
  {
   "cell_type": "code",
   "execution_count": 27,
   "metadata": {},
   "outputs": [
    {
     "name": "stdout",
     "output_type": "stream",
     "text": [
      "[[ 1.          1.39433428  1.94416809]\n",
      " [ 1.          1.11069026  1.23363286]\n",
      " [ 1.          0.09554325  0.00912851]\n",
      " [ 1.         -1.59139223  2.53252924]\n",
      " [ 1.         -0.8449606   0.71395842]\n",
      " [ 1.          0.93154667  0.8677792 ]\n",
      " [ 1.         -1.38239138  1.91100592]\n",
      " [ 1.         -1.74067856  3.02996185]\n",
      " [ 1.          0.46875906  0.21973506]\n",
      " [ 1.          0.73747445  0.54386856]\n",
      " [ 1.         -0.11345761  0.01287263]\n",
      " [ 1.         -0.63595975  0.4044448 ]\n",
      " [ 1.         -0.36724436  0.13486842]\n",
      " [ 1.         -0.44188752  0.19526458]\n",
      " [ 1.          0.3045441   0.09274711]\n",
      " [ 1.          1.94669369  3.78961632]\n",
      " [ 1.          0.25975821  0.06747433]\n",
      " [ 1.          0.25975821  0.06747433]\n",
      " [ 1.         -1.23310505  1.52054807]\n",
      " [ 1.          0.84197488  0.70892169]]\n"
     ]
    }
   ],
   "source": [
    "# 建立學習資料的矩陣\n",
    "def to_matrix(x):\n",
    "    return np.vstack([np.ones(x.shape[0]), x, x ** 2]).T\n",
    "\n",
    "X = to_matrix(train_z)\n",
    "print(X)"
   ]
  },
  {
   "cell_type": "markdown",
   "metadata": {},
   "source": [
    "### $$\\theta^Tx = \\theta_0x_0 + \\theta_1x_1 + \\theta_2x_2 + .... + \\theta_nx_n  $$\n",
    "\n",
    "### $$f_\\theta(x) = \\theta^Tx $$"
   ]
  },
  {
   "cell_type": "code",
   "execution_count": 28,
   "metadata": {},
   "outputs": [],
   "source": [
    "# 預測函數\n",
    "def f(x):\n",
    "    return np.dot(x, theta)"
   ]
  },
  {
   "cell_type": "code",
   "execution_count": 29,
   "metadata": {},
   "outputs": [],
   "source": [
    "# 誤差的差分\n",
    "diff = 1\n",
    "\n",
    "# 重複學習\n",
    "error = E(X, train_y)  # 目標函數\n",
    "\n",
    "# 重複參數的更新，直到誤差的差分變成 0.01 以下為止\n",
    "while diff > 1e-2:\n",
    "    # 更新參數\n",
    "    theta = theta - ETA * np.dot(f(X) - train_y, X)\n",
    "    # 計算與前一項誤差的差分\n",
    "    current_error = E(X, train_y)  # \n",
    "    diff = error - current_error\n",
    "    error = current_error"
   ]
  },
  {
   "cell_type": "code",
   "execution_count": 30,
   "metadata": {},
   "outputs": [
    {
     "data": {
      "image/png": "[encoded data removed]",
      "text/plain": [
       "<Figure size 432x288 with 1 Axes>"
      ]
     },
     "metadata": {
      "needs_background": "light"
     },
     "output_type": "display_data"
    }
   ],
   "source": [
    "x = np.linspace(-3, 3, 100)\n",
    "\n",
    "plt.plot(train_z, train_y, 'o')\n",
    "plt.plot(x, f(to_matrix(x)))\n",
    "plt.xlabel('廣告費')\n",
    "plt.ylabel('點擊數')\n",
    "plt.show()"
   ]
  },
  {
   "cell_type": "markdown",
   "metadata": {},
   "source": [
    "### 均方誤差     p.170\n",
    "\n",
    "### $$ \\frac{1}{n}\\sum_{i=1}^n{\\left({y^{(i)} - f_\\theta(x^{(i)}) }\\right)}^2   $$\n",
    "\n",
    "### 測試資料有 n 筆，$y^{(i)}$ 為點擊數， $x^{(i)}$ 為廣告費\n"
   ]
  },
  {
   "cell_type": "code",
   "execution_count": 31,
   "metadata": {},
   "outputs": [],
   "source": [
    "# 均方誤差\n",
    "def MSE(x, y):\n",
    "    return (1 / x.shape[0]) * np.sum((y - f(x)) ** 2)"
   ]
  },
  {
   "cell_type": "code",
   "execution_count": 32,
   "metadata": {},
   "outputs": [
    {
     "name": "stdout",
     "output_type": "stream",
     "text": [
      "[0.92411626 0.406951   0.23560813]\n"
     ]
    }
   ],
   "source": [
    "# 將參數以隨機方式初始化\n",
    "theta = np.random.rand(3)\n",
    "print(theta)"
   ]
  },
  {
   "cell_type": "code",
   "execution_count": 33,
   "metadata": {},
   "outputs": [],
   "source": [
    "# 均方誤差的歷史記錄\n",
    "errors = []"
   ]
  },
  {
   "cell_type": "code",
   "execution_count": 34,
   "metadata": {},
   "outputs": [],
   "source": [
    "# 誤差的差分\n",
    "diff = 1"
   ]
  },
  {
   "cell_type": "code",
   "execution_count": 35,
   "metadata": {},
   "outputs": [],
   "source": [
    "# 重複學習\n",
    "errors.append(MSE(X, train_y))\n",
    "\n",
    "# 重複參數的更新，直到誤差的差分變成 0.01 以下為止\n",
    "while diff > 1e-2:\n",
    "    theta = theta - ETA * np.dot(f(X) - train_y, X)\n",
    "    errors.append(MSE(X, train_y))\n",
    "    diff = errors[-2] - errors[-1]\n",
    "    "
   ]
  },
  {
   "cell_type": "code",
   "execution_count": 36,
   "metadata": {},
   "outputs": [
    {
     "data": {
      "image/png": "[encoded data removed]",
      "text/plain": [
       "<Figure size 432x288 with 1 Axes>"
      ]
     },
     "metadata": {
      "needs_background": "light"
     },
     "output_type": "display_data"
    }
   ],
   "source": [
    "# 繪製誤差\n",
    "x = np.arange(len(errors))\n",
    "\n",
    "plt.plot(x, errors)\n",
    "plt.show()"
   ]
  },
  {
   "cell_type": "markdown",
   "metadata": {},
   "source": [
    "### 隨機梯度下降法  p.171\n",
    "\n",
    "### $$ \\theta_j := \\theta_j - \\eta{\\left(f_\\theta(x^{(k)}) - {y^{(k)}}\\right)}x_j^{(k)} $$"
   ]
  },
  {
   "cell_type": "code",
   "execution_count": 37,
   "metadata": {},
   "outputs": [],
   "source": [
    "# 將參數以隨機方式初始化\n",
    "theta = np.random.rand(3)"
   ]
  },
  {
   "cell_type": "code",
   "execution_count": 38,
   "metadata": {},
   "outputs": [],
   "source": [
    "# 均方誤差的歷史記錄\n",
    "errors = []"
   ]
  },
  {
   "cell_type": "code",
   "execution_count": 39,
   "metadata": {},
   "outputs": [],
   "source": [
    "# 誤差的差分\n",
    "diff = 1"
   ]
  },
  {
   "cell_type": "code",
   "execution_count": 40,
   "metadata": {},
   "outputs": [],
   "source": [
    "# 重複學習\n",
    "errors.append(MSE(X, train_y))\n",
    "\n",
    "# 重複參數的更新，直到誤差的差分變成 0.01 以下為止\n",
    "while diff > 1e-2:\n",
    "    # 準備排列學習資料所需的隨機排列組合\n",
    "    p = np.random.permutation(X.shape[0])\n",
    "    # 將學習資料以隨機的方式取出並以隨機梯度下降法來更新參數\n",
    "    for x, y in zip(X[p,:], train_y[p]):\n",
    "        theta = theta - ETA * (f(x) - y) * x\n",
    "    # 計算與前一項誤差的差分\n",
    "    errors.append(MSE(X, train_y))\n",
    "    diff = errors[-2] - errors[-1]"
   ]
  },
  {
   "cell_type": "code",
   "execution_count": 41,
   "metadata": {},
   "outputs": [
    {
     "data": {
      "image/png": "[encoded data removed]",
      "text/plain": [
       "<Figure size 432x288 with 1 Axes>"
      ]
     },
     "metadata": {
      "needs_background": "light"
     },
     "output_type": "display_data"
    }
   ],
   "source": [
    "x = np.linspace(-3, 3, 100)\n",
    "\n",
    "plt.plot(train_z, train_y, 'o')\n",
    "plt.plot(x, f(to_matrix(x)))\n",
    "plt.xlabel('廣告費')\n",
    "plt.ylabel('點擊數')\n",
    "plt.show()"
   ]
  },
  {
   "cell_type": "code",
   "execution_count": 42,
   "metadata": {},
   "outputs": [
    {
     "data": {
      "image/png": "[encoded data removed]",
      "text/plain": [
       "<Figure size 432x288 with 1 Axes>"
      ]
     },
     "metadata": {
      "needs_background": "light"
     },
     "output_type": "display_data"
    }
   ],
   "source": [
    "# 繪製誤差\n",
    "x = np.arange(len(errors))\n",
    "\n",
    "plt.plot(x, errors)\n",
    "plt.show()"
   ]
  }
 ],
 "metadata": {
  "kernelspec": {
   "display_name": "Python 3",
   "language": "python",
   "name": "python3"
  },
  "language_info": {
   "codemirror_mode": {
    "name": "ipython",
    "version": 3
   },
   "file_extension": ".py",
   "mimetype": "text/x-python",
   "name": "python",
   "nbconvert_exporter": "python",
   "pygments_lexer": "ipython3",
   "version": "3.7.3"
  }
 },
 "nbformat": 4,
 "nbformat_minor": 2
}
