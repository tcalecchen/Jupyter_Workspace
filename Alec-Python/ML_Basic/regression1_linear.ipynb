{
 "cells": [
  {
   "cell_type": "markdown",
   "metadata": {},
   "source": [
    "#### regression1_linear      p.162"
   ]
  },
  {
   "cell_type": "code",
   "execution_count": 1,
   "metadata": {},
   "outputs": [],
   "source": [
    "import numpy as np\n",
    "import matplotlib.pyplot as plt"
   ]
  },
  {
   "cell_type": "code",
   "execution_count": 2,
   "metadata": {},
   "outputs": [
    {
     "name": "stdout",
     "output_type": "stream",
     "text": [
      "[[235. 591.]\n",
      " [216. 539.]\n",
      " [148. 413.]\n",
      " [ 35. 310.]\n",
      " [ 85. 308.]\n",
      " [204. 519.]\n",
      " [ 49. 325.]\n",
      " [ 25. 332.]\n",
      " [173. 498.]\n",
      " [191. 498.]\n",
      " [134. 392.]\n",
      " [ 99. 334.]\n",
      " [117. 385.]\n",
      " [112. 387.]\n",
      " [162. 425.]\n",
      " [272. 659.]\n",
      " [159. 400.]\n",
      " [159. 427.]\n",
      " [ 59. 319.]\n",
      " [198. 522.]]\n"
     ]
    }
   ],
   "source": [
    "# 讀入資料\n",
    "train = np.loadtxt('click.csv', delimiter=',', skiprows=1)\n",
    "print(train)"
   ]
  },
  {
   "cell_type": "code",
   "execution_count": 3,
   "metadata": {},
   "outputs": [],
   "source": [
    "train_x = train[:, 0]  # 第 0 行，取全部  -- x 軸\n"
   ]
  },
  {
   "cell_type": "code",
   "execution_count": 18,
   "metadata": {},
   "outputs": [
    {
     "name": "stdout",
     "output_type": "stream",
     "text": [
      "[235. 216. 148.  35.  85. 204.  49.  25. 173. 191. 134.  99. 117. 112.\n",
      " 162. 272. 159. 159.  59. 198.]\n"
     ]
    }
   ],
   "source": [
    "print(train_x)"
   ]
  },
  {
   "cell_type": "code",
   "execution_count": null,
   "metadata": {},
   "outputs": [],
   "source": [
    "train_y = train[:, 1]  # 第 1 行，取全部  -- y 軸"
   ]
  },
  {
   "cell_type": "code",
   "execution_count": 19,
   "metadata": {},
   "outputs": [
    {
     "name": "stdout",
     "output_type": "stream",
     "text": [
      "[591. 539. 413. 310. 308. 519. 325. 332. 498. 498. 392. 334. 385. 387.\n",
      " 425. 659. 400. 427. 319. 522.]\n"
     ]
    }
   ],
   "source": [
    "print(train_y)"
   ]
  },
  {
   "cell_type": "code",
   "execution_count": 4,
   "metadata": {},
   "outputs": [
    {
     "data": {
      "image/png": "[encoded data removed]",
      "text/plain": [
       "<Figure size 432x288 with 1 Axes>"
      ]
     },
     "metadata": {
      "needs_background": "light"
     },
     "output_type": "display_data"
    }
   ],
   "source": [
    "# 畫圖\n",
    "plt.plot(train_x, train_y, 'o')\n",
    "plt.show()"
   ]
  },
  {
   "cell_type": "markdown",
   "metadata": {},
   "source": [
    "### 預測函數(p.30)： $$f_\\theta(x) = \\theta_0 + \\theta_1x $$\n",
    "\n",
    "###      $$ \\theta_0：截距           \\theta_1：斜率  $$\n",
    "\n",
    "###  目標函數(p.33)： $$E(\\theta) = \\frac{1}{2}\\sum_{i=1}^n{\\left({y^{(i)} - f_\\theta(x^{(i)}) }\\right)}^2   $$"
   ]
  },
  {
   "cell_type": "code",
   "execution_count": 5,
   "metadata": {},
   "outputs": [],
   "source": [
    "# 初始化參數\n",
    "theta0 = np.random.rand()\n",
    "theta1 = np.random.rand()"
   ]
  },
  {
   "cell_type": "code",
   "execution_count": 11,
   "metadata": {},
   "outputs": [
    {
     "name": "stdout",
     "output_type": "stream",
     "text": [
      "429.0001580570531\n"
     ]
    }
   ],
   "source": [
    "print(theta0)"
   ]
  },
  {
   "cell_type": "code",
   "execution_count": 12,
   "metadata": {},
   "outputs": [
    {
     "name": "stdout",
     "output_type": "stream",
     "text": [
      "93.44646924494187\n"
     ]
    }
   ],
   "source": [
    "print(theta1)"
   ]
  },
  {
   "cell_type": "code",
   "execution_count": null,
   "metadata": {},
   "outputs": [],
   "source": [
    "# 預測函數\n",
    "def f(x):\n",
    "    return theta0 + theta1 * x\n",
    "\n",
    "# 目標函數\n",
    "def E(x, y):\n",
    "    return 0.5 * np.sum((y - f(x)) ** 2)"
   ]
  },
  {
   "cell_type": "markdown",
   "metadata": {},
   "source": [
    "### 標準化或 Z-score 正規化  $$ z^{(i)} = \\frac{x^{(i)} - \\mu}{\\sigma} $$"
   ]
  },
  {
   "cell_type": "code",
   "execution_count": 17,
   "metadata": {},
   "outputs": [],
   "source": [
    "# 標準化\n",
    "mu = train_x.mean()    # 平均數\n",
    "sigma = train_x.std()  # 標準差"
   ]
  },
  {
   "cell_type": "code",
   "execution_count": 14,
   "metadata": {},
   "outputs": [
    {
     "name": "stdout",
     "output_type": "stream",
     "text": [
      "141.6\n"
     ]
    }
   ],
   "source": [
    "print(mu)"
   ]
  },
  {
   "cell_type": "code",
   "execution_count": 15,
   "metadata": {},
   "outputs": [
    {
     "name": "stdout",
     "output_type": "stream",
     "text": [
      "66.98537153737374\n"
     ]
    }
   ],
   "source": [
    "print(sigma)"
   ]
  },
  {
   "cell_type": "code",
   "execution_count": 16,
   "metadata": {},
   "outputs": [
    {
     "name": "stdout",
     "output_type": "stream",
     "text": [
      "[ 1.39433428  1.11069026  0.09554325 -1.59139223 -0.8449606   0.93154667\n",
      " -1.38239138 -1.74067856  0.46875906  0.73747445 -0.11345761 -0.63595975\n",
      " -0.36724436 -0.44188752  0.3045441   1.94669369  0.25975821  0.25975821\n",
      " -1.23310505  0.84197488]\n"
     ]
    }
   ],
   "source": [
    "def standardize(x):\n",
    "    return (x - mu) / sigma\n",
    "\n",
    "train_z = standardize(train_x)\n",
    "print(train_z)"
   ]
  },
  {
   "cell_type": "code",
   "execution_count": 7,
   "metadata": {},
   "outputs": [
    {
     "data": {
      "image/png": "[encoded data removed]",
      "text/plain": [
       "<Figure size 432x288 with 1 Axes>"
      ]
     },
     "metadata": {
      "needs_background": "light"
     },
     "output_type": "display_data"
    }
   ],
   "source": [
    "plt.plot(train_z, train_y, 'o')\n",
    "plt.show()\n",
    "\n",
    "# 標準化後，x 軸的刻度變小了"
   ]
  },
  {
   "cell_type": "markdown",
   "metadata": {},
   "source": [
    "### $$ \\theta_0 := \\theta_0 - \\eta\\sum_{i=1}^n{\\left(f_\\theta(x^{(i)}) - {y^{(i)}}\\right)}  $$\n",
    "\n",
    "### $$ \\theta_1 := \\theta_1 - \\eta\\sum_{i=1}^n{\\left(f_\\theta(x^{(i)}) - {y^{(i)}}\\right)}x^{(i)} $$"
   ]
  },
  {
   "cell_type": "code",
   "execution_count": 9,
   "metadata": {},
   "outputs": [
    {
     "name": "stdout",
     "output_type": "stream",
     "text": [
      "1次: theta0 = 17.041, theta1 = 4.648, 差分 = 73280.7922\n",
      "2次: theta0 = 25.284, theta1 = 6.425, 差分 = 70378.8728\n",
      "3次: theta0 = 33.361, theta1 = 8.166, 差分 = 67591.8695\n",
      "4次: theta0 = 41.277, theta1 = 9.872, 差分 = 64915.2314\n",
      "5次: theta0 = 49.034, theta1 = 11.544, 差分 = 62344.5883\n",
      "6次: theta0 = 56.636, theta1 = 13.183, 差分 = 59875.7426\n",
      "7次: theta0 = 64.087, theta1 = 14.789, 差分 = 57504.6632\n",
      "8次: theta0 = 71.388, theta1 = 16.363, 差分 = 55227.4785\n",
      "9次: theta0 = 78.543, theta1 = 17.905, 差分 = 53040.4704\n",
      "10次: theta0 = 85.555, theta1 = 19.416, 差分 = 50940.0677\n",
      "11次: theta0 = 92.427, theta1 = 20.898, 差分 = 48922.8411\n",
      "12次: theta0 = 99.162, theta1 = 22.349, 差分 = 46985.4966\n",
      "13次: theta0 = 105.761, theta1 = 23.772, 差分 = 45124.8709\n",
      "14次: theta0 = 112.229, theta1 = 25.166, 差分 = 43337.9260\n",
      "15次: theta0 = 118.568, theta1 = 26.532, 差分 = 41621.7441\n",
      "16次: theta0 = 124.779, theta1 = 27.871, 差分 = 39973.5231\n",
      "17次: theta0 = 130.867, theta1 = 29.183, 差分 = 38390.5716\n",
      "18次: theta0 = 136.832, theta1 = 30.469, 差分 = 36870.3049\n",
      "19次: theta0 = 142.679, theta1 = 31.729, 差分 = 35410.2408\n",
      "20次: theta0 = 148.408, theta1 = 32.964, 差分 = 34007.9953\n",
      "21次: theta0 = 154.023, theta1 = 34.175, 差分 = 32661.2787\n",
      "22次: theta0 = 159.526, theta1 = 35.361, 差分 = 31367.8921\n",
      "23次: theta0 = 164.918, theta1 = 36.523, 差分 = 30125.7235\n",
      "24次: theta0 = 170.203, theta1 = 37.662, 差分 = 28932.7449\n",
      "25次: theta0 = 175.382, theta1 = 38.779, 差分 = 27787.0082\n",
      "26次: theta0 = 180.457, theta1 = 39.873, 差分 = 26686.6427\n",
      "27次: theta0 = 185.431, theta1 = 40.945, 差分 = 25629.8516\n",
      "28次: theta0 = 190.305, theta1 = 41.995, 差分 = 24614.9095\n",
      "29次: theta0 = 195.082, theta1 = 43.025, 差分 = 23640.1591\n",
      "30次: theta0 = 199.763, theta1 = 44.034, 差分 = 22704.0088\n",
      "31次: theta0 = 204.351, theta1 = 45.023, 差分 = 21804.9300\n",
      "32次: theta0 = 208.847, theta1 = 45.992, 差分 = 20941.4548\n",
      "33次: theta0 = 213.253, theta1 = 46.942, 差分 = 20112.1732\n",
      "34次: theta0 = 217.571, theta1 = 47.873, 差分 = 19315.7311\n",
      "35次: theta0 = 221.803, theta1 = 48.785, 差分 = 18550.8282\n",
      "36次: theta0 = 225.950, theta1 = 49.679, 差分 = 17816.2154\n",
      "37次: theta0 = 230.014, theta1 = 50.555, 差分 = 17110.6932\n",
      "38次: theta0 = 233.996, theta1 = 51.413, 差分 = 16433.1098\n",
      "39次: theta0 = 237.899, theta1 = 52.254, 差分 = 15782.3586\n",
      "40次: theta0 = 241.725, theta1 = 53.079, 差分 = 15157.3772\n",
      "41次: theta0 = 245.473, theta1 = 53.887, 差分 = 14557.1451\n",
      "42次: theta0 = 249.147, theta1 = 54.679, 差分 = 13980.6822\n",
      "43次: theta0 = 252.747, theta1 = 55.455, 差分 = 13427.0471\n",
      "44次: theta0 = 256.275, theta1 = 56.215, 差分 = 12895.3361\n",
      "45次: theta0 = 259.732, theta1 = 56.960, 差分 = 12384.6808\n",
      "46次: theta0 = 263.121, theta1 = 57.691, 差分 = 11894.2474\n",
      "47次: theta0 = 266.441, theta1 = 58.407, 差分 = 11423.2352\n",
      "48次: theta0 = 269.695, theta1 = 59.108, 差分 = 10970.8751\n",
      "49次: theta0 = 272.884, theta1 = 59.795, 差分 = 10536.4284\n",
      "50次: theta0 = 276.010, theta1 = 60.469, 差分 = 10119.1859\n",
      "51次: theta0 = 279.073, theta1 = 61.129, 差分 = 9718.4661\n",
      "52次: theta0 = 282.074, theta1 = 61.776, 差分 = 9333.6149\n",
      "53次: theta0 = 285.016, theta1 = 62.410, 差分 = 8964.0037\n",
      "54次: theta0 = 287.898, theta1 = 63.032, 差分 = 8609.0292\n",
      "55次: theta0 = 290.723, theta1 = 63.641, 差分 = 8268.1116\n",
      "56次: theta0 = 293.492, theta1 = 64.237, 差分 = 7940.6944\n",
      "57次: theta0 = 296.205, theta1 = 64.822, 差分 = 7626.2429\n",
      "58次: theta0 = 298.864, theta1 = 65.395, 差分 = 7324.2437\n",
      "59次: theta0 = 301.470, theta1 = 65.957, 差分 = 7034.2036\n",
      "60次: theta0 = 304.023, theta1 = 66.507, 差分 = 6755.6492\n",
      "61次: theta0 = 306.526, theta1 = 67.047, 差分 = 6488.1255\n",
      "62次: theta0 = 308.978, theta1 = 67.576, 差分 = 6231.1957\n",
      "63次: theta0 = 311.382, theta1 = 68.094, 差分 = 5984.4403\n",
      "64次: theta0 = 313.737, theta1 = 68.601, 差分 = 5747.4565\n",
      "65次: theta0 = 316.045, theta1 = 69.099, 差分 = 5519.8572\n",
      "66次: theta0 = 318.307, theta1 = 69.586, 差分 = 5301.2709\n",
      "67次: theta0 = 320.524, theta1 = 70.064, 差分 = 5091.3405\n",
      "68次: theta0 = 322.697, theta1 = 70.533, 差分 = 4889.7235\n",
      "69次: theta0 = 324.826, theta1 = 70.992, 差分 = 4696.0904\n",
      "70次: theta0 = 326.912, theta1 = 71.441, 差分 = 4510.1252\n",
      "71次: theta0 = 328.957, theta1 = 71.882, 差分 = 4331.5243\n",
      "72次: theta0 = 330.961, theta1 = 72.314, 差分 = 4159.9959\n",
      "73次: theta0 = 332.925, theta1 = 72.737, 差分 = 3995.2601\n",
      "74次: theta0 = 334.849, theta1 = 73.152, 差分 = 3837.0478\n",
      "75次: theta0 = 336.735, theta1 = 73.559, 差分 = 3685.1007\n",
      "76次: theta0 = 338.584, theta1 = 73.957, 差分 = 3539.1707\n",
      "77次: theta0 = 340.395, theta1 = 74.347, 差分 = 3399.0195\n",
      "78次: theta0 = 342.170, theta1 = 74.730, 差分 = 3264.4184\n",
      "79次: theta0 = 343.910, theta1 = 75.105, 差分 = 3135.1474\n",
      "80次: theta0 = 345.614, theta1 = 75.473, 差分 = 3010.9956\n",
      "81次: theta0 = 347.285, theta1 = 75.833, 差分 = 2891.7601\n",
      "82次: theta0 = 348.922, theta1 = 76.186, 差分 = 2777.2464\n",
      "83次: theta0 = 350.527, theta1 = 76.531, 差分 = 2667.2675\n",
      "84次: theta0 = 352.099, theta1 = 76.870, 差分 = 2561.6437\n",
      "85次: theta0 = 353.640, theta1 = 77.203, 差分 = 2460.2026\n",
      "86次: theta0 = 355.151, theta1 = 77.528, 差分 = 2362.7786\n",
      "87次: theta0 = 356.631, theta1 = 77.847, 差分 = 2269.2125\n",
      "88次: theta0 = 358.081, theta1 = 78.160, 差分 = 2179.3517\n",
      "89次: theta0 = 359.502, theta1 = 78.466, 差分 = 2093.0494\n",
      "90次: theta0 = 360.895, theta1 = 78.766, 差分 = 2010.1646\n",
      "91次: theta0 = 362.260, theta1 = 79.061, 差分 = 1930.5621\n",
      "92次: theta0 = 363.598, theta1 = 79.349, 差分 = 1854.1119\n",
      "93次: theta0 = 364.909, theta1 = 79.632, 差分 = 1780.6890\n",
      "94次: theta0 = 366.194, theta1 = 79.909, 差分 = 1710.1737\n",
      "95次: theta0 = 367.453, theta1 = 80.180, 差分 = 1642.4509\n",
      "96次: theta0 = 368.687, theta1 = 80.446, 差分 = 1577.4098\n",
      "97次: theta0 = 369.896, theta1 = 80.707, 差分 = 1514.9444\n",
      "98次: theta0 = 371.081, theta1 = 80.962, 差分 = 1454.9526\n",
      "99次: theta0 = 372.243, theta1 = 81.212, 差分 = 1397.3365\n",
      "100次: theta0 = 373.381, theta1 = 81.458, 差分 = 1342.0019\n",
      "101次: theta0 = 374.496, theta1 = 81.698, 差分 = 1288.8587\n",
      "102次: theta0 = 375.589, theta1 = 81.934, 差分 = 1237.8199\n",
      "103次: theta0 = 376.661, theta1 = 82.165, 差分 = 1188.8022\n",
      "104次: theta0 = 377.710, theta1 = 82.391, 差分 = 1141.7256\n",
      "105次: theta0 = 378.739, theta1 = 82.613, 差分 = 1096.5133\n",
      "106次: theta0 = 379.747, theta1 = 82.830, 差分 = 1053.0914\n",
      "107次: theta0 = 380.735, theta1 = 83.043, 差分 = 1011.3889\n",
      "108次: theta0 = 381.704, theta1 = 83.252, 差分 = 971.3379\n",
      "109次: theta0 = 382.653, theta1 = 83.456, 差分 = 932.8730\n",
      "110次: theta0 = 383.583, theta1 = 83.657, 差分 = 895.9312\n",
      "111次: theta0 = 384.494, theta1 = 83.853, 差分 = 860.4523\n",
      "112次: theta0 = 385.387, theta1 = 84.046, 差分 = 826.3784\n",
      "113次: theta0 = 386.262, theta1 = 84.234, 差分 = 793.6538\n",
      "114次: theta0 = 387.120, theta1 = 84.419, 差分 = 762.2251\n",
      "115次: theta0 = 387.961, theta1 = 84.600, 差分 = 732.0410\n",
      "116次: theta0 = 388.784, theta1 = 84.778, 差分 = 703.0522\n",
      "117次: theta0 = 389.592, theta1 = 84.952, 差分 = 675.2113\n",
      "118次: theta0 = 390.383, theta1 = 85.122, 差分 = 648.4730\n",
      "119次: theta0 = 391.158, theta1 = 85.290, 差分 = 622.7934\n",
      "120次: theta0 = 391.918, theta1 = 85.453, 差分 = 598.1308\n",
      "121次: theta0 = 392.663, theta1 = 85.614, 差分 = 574.4448\n",
      "122次: theta0 = 393.393, theta1 = 85.771, 差分 = 551.6968\n",
      "123次: theta0 = 394.108, theta1 = 85.925, 差分 = 529.8496\n",
      "124次: theta0 = 394.809, theta1 = 86.076, 差分 = 508.8676\n",
      "125次: theta0 = 395.495, theta1 = 86.224, 差分 = 488.7164\n",
      "126次: theta0 = 396.168, theta1 = 86.370, 差分 = 469.3632\n",
      "127次: theta0 = 396.828, theta1 = 86.512, 差分 = 450.7765\n",
      "128次: theta0 = 397.475, theta1 = 86.651, 差分 = 432.9257\n",
      "129次: theta0 = 398.108, theta1 = 86.788, 差分 = 415.7819\n",
      "130次: theta0 = 398.729, theta1 = 86.921, 差分 = 399.3169\n",
      "131次: theta0 = 399.337, theta1 = 87.053, 差分 = 383.5039\n",
      "132次: theta0 = 399.934, theta1 = 87.181, 差分 = 368.3172\n",
      "133次: theta0 = 400.518, theta1 = 87.307, 差分 = 353.7318\n",
      "134次: theta0 = 401.091, theta1 = 87.430, 差分 = 339.7240\n",
      "135次: theta0 = 401.652, theta1 = 87.551, 差分 = 326.2710\n",
      "136次: theta0 = 402.202, theta1 = 87.670, 差分 = 313.3506\n",
      "137次: theta0 = 402.741, theta1 = 87.786, 差分 = 300.9420\n",
      "138次: theta0 = 403.269, theta1 = 87.900, 差分 = 289.0247\n",
      "139次: theta0 = 403.786, theta1 = 88.012, 差分 = 277.5793\n",
      "140次: theta0 = 404.294, theta1 = 88.121, 差分 = 266.5871\n",
      "141次: theta0 = 404.791, theta1 = 88.228, 差分 = 256.0303\n",
      "142次: theta0 = 405.278, theta1 = 88.333, 差分 = 245.8915\n",
      "143次: theta0 = 405.755, theta1 = 88.436, 差分 = 236.1542\n",
      "144次: theta0 = 406.223, theta1 = 88.537, 差分 = 226.8025\n",
      "145次: theta0 = 406.682, theta1 = 88.636, 差分 = 217.8211\n",
      "146次: theta0 = 407.131, theta1 = 88.733, 差分 = 209.1954\n",
      "147次: theta0 = 407.572, theta1 = 88.828, 差分 = 200.9113\n",
      "148次: theta0 = 408.003, theta1 = 88.921, 差分 = 192.9552\n",
      "149次: theta0 = 408.426, theta1 = 89.012, 差分 = 185.3141\n",
      "150次: theta0 = 408.841, theta1 = 89.101, 差分 = 177.9757\n",
      "151次: theta0 = 409.247, theta1 = 89.189, 差分 = 170.9279\n",
      "152次: theta0 = 409.645, theta1 = 89.274, 差分 = 164.1591\n",
      "153次: theta0 = 410.035, theta1 = 89.358, 差分 = 157.6584\n",
      "154次: theta0 = 410.417, theta1 = 89.441, 差分 = 151.4151\n",
      "155次: theta0 = 410.792, theta1 = 89.522, 差分 = 145.4191\n",
      "156次: theta0 = 411.159, theta1 = 89.601, 差分 = 139.6605\n",
      "157次: theta0 = 411.519, theta1 = 89.678, 差分 = 134.1300\n",
      "158次: theta0 = 411.872, theta1 = 89.754, 差分 = 128.8184\n",
      "159次: theta0 = 412.217, theta1 = 89.829, 差分 = 123.7172\n",
      "160次: theta0 = 412.556, theta1 = 89.902, 差分 = 118.8180\n",
      "161次: theta0 = 412.888, theta1 = 89.973, 差分 = 114.1128\n",
      "162次: theta0 = 413.213, theta1 = 90.043, 差分 = 109.5939\n",
      "163次: theta0 = 413.532, theta1 = 90.112, 差分 = 105.2540\n",
      "164次: theta0 = 413.844, theta1 = 90.180, 差分 = 101.0860\n",
      "165次: theta0 = 414.150, theta1 = 90.246, 差分 = 97.0830\n",
      "166次: theta0 = 414.450, theta1 = 90.310, 差分 = 93.2385\n",
      "167次: theta0 = 414.744, theta1 = 90.374, 差分 = 89.5462\n",
      "168次: theta0 = 415.032, theta1 = 90.436, 差分 = 86.0002\n",
      "169次: theta0 = 415.315, theta1 = 90.497, 差分 = 82.5946\n",
      "170次: theta0 = 415.591, theta1 = 90.556, 差分 = 79.3238\n",
      "171次: theta0 = 415.862, theta1 = 90.615, 差分 = 76.1826\n",
      "172次: theta0 = 416.128, theta1 = 90.672, 差分 = 73.1658\n",
      "173次: theta0 = 416.389, theta1 = 90.728, 差分 = 70.2684\n",
      "174次: theta0 = 416.644, theta1 = 90.783, 差分 = 67.4858\n",
      "175次: theta0 = 416.894, theta1 = 90.837, 差分 = 64.8134\n",
      "176次: theta0 = 417.139, theta1 = 90.890, 差分 = 62.2467\n",
      "177次: theta0 = 417.379, theta1 = 90.942, 差分 = 59.7818\n",
      "178次: theta0 = 417.615, theta1 = 90.992, 差分 = 57.4144\n",
      "179次: theta0 = 417.845, theta1 = 91.042, 差分 = 55.1408\n",
      "180次: theta0 = 418.072, theta1 = 91.091, 差分 = 52.9572\n",
      "181次: theta0 = 418.293, theta1 = 91.139, 差分 = 50.8601\n",
      "182次: theta0 = 418.510, theta1 = 91.185, 差分 = 48.8461\n",
      "183次: theta0 = 418.723, theta1 = 91.231, 差分 = 46.9118\n",
      "184次: theta0 = 418.932, theta1 = 91.276, 差分 = 45.0541\n",
      "185次: theta0 = 419.136, theta1 = 91.320, 差分 = 43.2699\n",
      "186次: theta0 = 419.336, theta1 = 91.363, 差分 = 41.5564\n",
      "187次: theta0 = 419.533, theta1 = 91.406, 差分 = 39.9108\n",
      "188次: theta0 = 419.725, theta1 = 91.447, 差分 = 38.3303\n",
      "189次: theta0 = 419.913, theta1 = 91.488, 差分 = 36.8124\n",
      "190次: theta0 = 420.098, theta1 = 91.528, 差分 = 35.3547\n",
      "191次: theta0 = 420.279, theta1 = 91.567, 差分 = 33.9546\n",
      "192次: theta0 = 420.457, theta1 = 91.605, 差分 = 32.6100\n",
      "193次: theta0 = 420.630, theta1 = 91.642, 差分 = 31.3187\n",
      "194次: theta0 = 420.801, theta1 = 91.679, 差分 = 30.0784\n",
      "195次: theta0 = 420.968, theta1 = 91.715, 差分 = 28.8873\n",
      "196次: theta0 = 421.131, theta1 = 91.750, 差分 = 27.7434\n",
      "197次: theta0 = 421.292, theta1 = 91.785, 差分 = 26.6448\n",
      "198次: theta0 = 421.449, theta1 = 91.819, 差分 = 25.5896\n",
      "199次: theta0 = 421.603, theta1 = 91.852, 差分 = 24.5763\n",
      "200次: theta0 = 421.754, theta1 = 91.885, 差分 = 23.6031\n",
      "201次: theta0 = 421.902, theta1 = 91.916, 差分 = 22.6684\n",
      "202次: theta0 = 422.047, theta1 = 91.948, 差分 = 21.7707\n",
      "203次: theta0 = 422.189, theta1 = 91.978, 差分 = 20.9086\n",
      "204次: theta0 = 422.328, theta1 = 92.008, 差分 = 20.0806\n",
      "205次: theta0 = 422.465, theta1 = 92.038, 差分 = 19.2854\n",
      "206次: theta0 = 422.598, theta1 = 92.067, 差分 = 18.5217\n",
      "207次: theta0 = 422.729, theta1 = 92.095, 差分 = 17.7883\n",
      "208次: theta0 = 422.858, theta1 = 92.122, 差分 = 17.0838\n",
      "209次: theta0 = 422.984, theta1 = 92.150, 差分 = 16.4073\n",
      "210次: theta0 = 423.107, theta1 = 92.176, 差分 = 15.7576\n",
      "211次: theta0 = 423.228, theta1 = 92.202, 差分 = 15.1336\n",
      "212次: theta0 = 423.346, theta1 = 92.228, 差分 = 14.5343\n",
      "213次: theta0 = 423.462, theta1 = 92.253, 差分 = 13.9587\n",
      "214次: theta0 = 423.576, theta1 = 92.277, 差分 = 13.4060\n",
      "215次: theta0 = 423.687, theta1 = 92.301, 差分 = 12.8751\n",
      "216次: theta0 = 423.797, theta1 = 92.325, 差分 = 12.3652\n",
      "217次: theta0 = 423.904, theta1 = 92.348, 差分 = 11.8756\n",
      "218次: theta0 = 424.009, theta1 = 92.371, 差分 = 11.4053\n",
      "219次: theta0 = 424.112, theta1 = 92.393, 差分 = 10.9537\n",
      "220次: theta0 = 424.212, theta1 = 92.414, 差分 = 10.5199\n",
      "221次: theta0 = 424.311, theta1 = 92.436, 差分 = 10.1033\n",
      "222次: theta0 = 424.408, theta1 = 92.457, 差分 = 9.7032\n",
      "223次: theta0 = 424.503, theta1 = 92.477, 差分 = 9.3190\n",
      "224次: theta0 = 424.596, theta1 = 92.497, 差分 = 8.9499\n",
      "225次: theta0 = 424.687, theta1 = 92.517, 差分 = 8.5955\n",
      "226次: theta0 = 424.776, theta1 = 92.536, 差分 = 8.2551\n",
      "227次: theta0 = 424.863, theta1 = 92.555, 差分 = 7.9282\n",
      "228次: theta0 = 424.949, theta1 = 92.573, 差分 = 7.6143\n",
      "229次: theta0 = 425.033, theta1 = 92.591, 差分 = 7.3127\n",
      "230次: theta0 = 425.116, theta1 = 92.609, 差分 = 7.0232\n",
      "231次: theta0 = 425.196, theta1 = 92.627, 差分 = 6.7450\n",
      "232次: theta0 = 425.275, theta1 = 92.644, 差分 = 6.4779\n",
      "233次: theta0 = 425.353, theta1 = 92.660, 差分 = 6.2214\n",
      "234次: theta0 = 425.429, theta1 = 92.677, 差分 = 5.9750\n",
      "235次: theta0 = 425.503, theta1 = 92.693, 差分 = 5.7384\n",
      "236次: theta0 = 425.576, theta1 = 92.708, 差分 = 5.5112\n",
      "237次: theta0 = 425.648, theta1 = 92.724, 差分 = 5.2930\n",
      "238次: theta0 = 425.718, theta1 = 92.739, 差分 = 5.0834\n",
      "239次: theta0 = 425.786, theta1 = 92.754, 差分 = 4.8820\n",
      "240次: theta0 = 425.854, theta1 = 92.768, 差分 = 4.6887\n",
      "241次: theta0 = 425.919, theta1 = 92.782, 差分 = 4.5030\n",
      "242次: theta0 = 425.984, theta1 = 92.796, 差分 = 4.3247\n",
      "243次: theta0 = 426.047, theta1 = 92.810, 差分 = 4.1535\n",
      "244次: theta0 = 426.109, theta1 = 92.823, 差分 = 3.9890\n",
      "245次: theta0 = 426.170, theta1 = 92.836, 差分 = 3.8310\n",
      "246次: theta0 = 426.230, theta1 = 92.849, 差分 = 3.6793\n",
      "247次: theta0 = 426.288, theta1 = 92.862, 差分 = 3.5336\n",
      "248次: theta0 = 426.346, theta1 = 92.874, 差分 = 3.3937\n",
      "249次: theta0 = 426.402, theta1 = 92.886, 差分 = 3.2593\n",
      "250次: theta0 = 426.457, theta1 = 92.898, 差分 = 3.1302\n",
      "251次: theta0 = 426.510, theta1 = 92.910, 差分 = 3.0063\n",
      "252次: theta0 = 426.563, theta1 = 92.921, 差分 = 2.8872\n",
      "253次: theta0 = 426.615, theta1 = 92.932, 差分 = 2.7729\n",
      "254次: theta0 = 426.666, theta1 = 92.943, 差分 = 2.6631\n",
      "255次: theta0 = 426.715, theta1 = 92.954, 差分 = 2.5576\n",
      "256次: theta0 = 426.764, theta1 = 92.964, 差分 = 2.4563\n",
      "257次: theta0 = 426.812, theta1 = 92.975, 差分 = 2.3591\n",
      "258次: theta0 = 426.859, theta1 = 92.985, 差分 = 2.2657\n",
      "259次: theta0 = 426.904, theta1 = 92.995, 差分 = 2.1759\n",
      "260次: theta0 = 426.949, theta1 = 93.004, 差分 = 2.0898\n",
      "261次: theta0 = 426.993, theta1 = 93.014, 差分 = 2.0070\n",
      "262次: theta0 = 427.036, theta1 = 93.023, 差分 = 1.9275\n",
      "263次: theta0 = 427.079, theta1 = 93.032, 差分 = 1.8512\n",
      "264次: theta0 = 427.120, theta1 = 93.041, 差分 = 1.7779\n",
      "265次: theta0 = 427.161, theta1 = 93.050, 差分 = 1.7075\n",
      "266次: theta0 = 427.201, theta1 = 93.059, 差分 = 1.6399\n",
      "267次: theta0 = 427.239, theta1 = 93.067, 差分 = 1.5749\n",
      "268次: theta0 = 427.278, theta1 = 93.075, 差分 = 1.5126\n",
      "269次: theta0 = 427.315, theta1 = 93.083, 差分 = 1.4527\n",
      "270次: theta0 = 427.352, theta1 = 93.091, 差分 = 1.3951\n",
      "271次: theta0 = 427.388, theta1 = 93.099, 差分 = 1.3399\n",
      "272次: theta0 = 427.423, theta1 = 93.107, 差分 = 1.2868\n",
      "273次: theta0 = 427.458, theta1 = 93.114, 差分 = 1.2359\n",
      "274次: theta0 = 427.491, theta1 = 93.121, 差分 = 1.1869\n",
      "275次: theta0 = 427.525, theta1 = 93.128, 差分 = 1.1399\n",
      "276次: theta0 = 427.557, theta1 = 93.135, 差分 = 1.0948\n",
      "277次: theta0 = 427.589, theta1 = 93.142, 差分 = 1.0514\n",
      "278次: theta0 = 427.620, theta1 = 93.149, 差分 = 1.0098\n",
      "279次: theta0 = 427.651, theta1 = 93.156, 差分 = 0.9698\n",
      "280次: theta0 = 427.681, theta1 = 93.162, 差分 = 0.9314\n",
      "281次: theta0 = 427.710, theta1 = 93.168, 差分 = 0.8945\n",
      "282次: theta0 = 427.739, theta1 = 93.175, 差分 = 0.8591\n",
      "283次: theta0 = 427.767, theta1 = 93.181, 差分 = 0.8251\n",
      "284次: theta0 = 427.795, theta1 = 93.187, 差分 = 0.7924\n",
      "285次: theta0 = 427.822, theta1 = 93.193, 差分 = 0.7610\n",
      "286次: theta0 = 427.849, theta1 = 93.198, 差分 = 0.7309\n",
      "287次: theta0 = 427.875, theta1 = 93.204, 差分 = 0.7019\n",
      "288次: theta0 = 427.900, theta1 = 93.209, 差分 = 0.6742\n",
      "289次: theta0 = 427.925, theta1 = 93.215, 差分 = 0.6475\n",
      "290次: theta0 = 427.950, theta1 = 93.220, 差分 = 0.6218\n",
      "291次: theta0 = 427.974, theta1 = 93.225, 差分 = 0.5972\n",
      "292次: theta0 = 427.997, theta1 = 93.230, 差分 = 0.5735\n",
      "293次: theta0 = 428.020, theta1 = 93.235, 差分 = 0.5508\n",
      "294次: theta0 = 428.043, theta1 = 93.240, 差分 = 0.5290\n",
      "295次: theta0 = 428.065, theta1 = 93.245, 差分 = 0.5081\n",
      "296次: theta0 = 428.087, theta1 = 93.250, 差分 = 0.4879\n",
      "297次: theta0 = 428.108, theta1 = 93.254, 差分 = 0.4686\n",
      "298次: theta0 = 428.129, theta1 = 93.259, 差分 = 0.4501\n",
      "299次: theta0 = 428.149, theta1 = 93.263, 差分 = 0.4322\n",
      "300次: theta0 = 428.169, theta1 = 93.267, 差分 = 0.4151\n",
      "301次: theta0 = 428.189, theta1 = 93.272, 差分 = 0.3987\n",
      "302次: theta0 = 428.208, theta1 = 93.276, 差分 = 0.3829\n",
      "303次: theta0 = 428.227, theta1 = 93.280, 差分 = 0.3677\n",
      "304次: theta0 = 428.245, theta1 = 93.284, 差分 = 0.3532\n",
      "305次: theta0 = 428.263, theta1 = 93.288, 差分 = 0.3392\n",
      "306次: theta0 = 428.281, theta1 = 93.291, 差分 = 0.3258\n",
      "307次: theta0 = 428.298, theta1 = 93.295, 差分 = 0.3129\n",
      "308次: theta0 = 428.316, theta1 = 93.299, 差分 = 0.3005\n",
      "309次: theta0 = 428.332, theta1 = 93.302, 差分 = 0.2886\n",
      "310次: theta0 = 428.349, theta1 = 93.306, 差分 = 0.2771\n",
      "311次: theta0 = 428.365, theta1 = 93.309, 差分 = 0.2662\n",
      "312次: theta0 = 428.380, theta1 = 93.313, 差分 = 0.2556\n",
      "313次: theta0 = 428.396, theta1 = 93.316, 差分 = 0.2455\n",
      "314次: theta0 = 428.411, theta1 = 93.319, 差分 = 0.2358\n",
      "315次: theta0 = 428.426, theta1 = 93.323, 差分 = 0.2264\n",
      "316次: theta0 = 428.440, theta1 = 93.326, 差分 = 0.2175\n",
      "317次: theta0 = 428.454, theta1 = 93.329, 差分 = 0.2089\n",
      "318次: theta0 = 428.468, theta1 = 93.332, 差分 = 0.2006\n",
      "319次: theta0 = 428.482, theta1 = 93.335, 差分 = 0.1927\n",
      "320次: theta0 = 428.495, theta1 = 93.338, 差分 = 0.1850\n",
      "321次: theta0 = 428.508, theta1 = 93.340, 差分 = 0.1777\n",
      "322次: theta0 = 428.521, theta1 = 93.343, 差分 = 0.1707\n",
      "323次: theta0 = 428.534, theta1 = 93.346, 差分 = 0.1639\n",
      "324次: theta0 = 428.546, theta1 = 93.349, 差分 = 0.1574\n",
      "325次: theta0 = 428.558, theta1 = 93.351, 差分 = 0.1512\n",
      "326次: theta0 = 428.570, theta1 = 93.354, 差分 = 0.1452\n",
      "327次: theta0 = 428.582, theta1 = 93.356, 差分 = 0.1394\n",
      "328次: theta0 = 428.593, theta1 = 93.359, 差分 = 0.1339\n",
      "329次: theta0 = 428.604, theta1 = 93.361, 差分 = 0.1286\n",
      "330次: theta0 = 428.615, theta1 = 93.363, 差分 = 0.1235\n",
      "331次: theta0 = 428.626, theta1 = 93.366, 差分 = 0.1186\n",
      "332次: theta0 = 428.636, theta1 = 93.368, 差分 = 0.1139\n",
      "333次: theta0 = 428.646, theta1 = 93.370, 差分 = 0.1094\n",
      "334次: theta0 = 428.656, theta1 = 93.372, 差分 = 0.1051\n",
      "335次: theta0 = 428.666, theta1 = 93.375, 差分 = 0.1009\n",
      "336次: theta0 = 428.676, theta1 = 93.377, 差分 = 0.0969\n",
      "337次: theta0 = 428.686, theta1 = 93.379, 差分 = 0.0931\n",
      "338次: theta0 = 428.695, theta1 = 93.381, 差分 = 0.0894\n",
      "339次: theta0 = 428.704, theta1 = 93.383, 差分 = 0.0859\n",
      "340次: theta0 = 428.713, theta1 = 93.385, 差分 = 0.0825\n",
      "341次: theta0 = 428.722, theta1 = 93.386, 差分 = 0.0792\n",
      "342次: theta0 = 428.730, theta1 = 93.388, 差分 = 0.0761\n",
      "343次: theta0 = 428.739, theta1 = 93.390, 差分 = 0.0731\n",
      "344次: theta0 = 428.747, theta1 = 93.392, 差分 = 0.0702\n",
      "345次: theta0 = 428.755, theta1 = 93.394, 差分 = 0.0674\n",
      "346次: theta0 = 428.763, theta1 = 93.395, 差分 = 0.0647\n",
      "347次: theta0 = 428.770, theta1 = 93.397, 差分 = 0.0621\n",
      "348次: theta0 = 428.778, theta1 = 93.399, 差分 = 0.0597\n",
      "349次: theta0 = 428.786, theta1 = 93.400, 差分 = 0.0573\n",
      "350次: theta0 = 428.793, theta1 = 93.402, 差分 = 0.0551\n",
      "351次: theta0 = 428.800, theta1 = 93.403, 差分 = 0.0529\n",
      "352次: theta0 = 428.807, theta1 = 93.405, 差分 = 0.0508\n",
      "353次: theta0 = 428.814, theta1 = 93.406, 差分 = 0.0488\n",
      "354次: theta0 = 428.821, theta1 = 93.408, 差分 = 0.0468\n",
      "355次: theta0 = 428.827, theta1 = 93.409, 差分 = 0.0450\n",
      "356次: theta0 = 428.834, theta1 = 93.411, 差分 = 0.0432\n",
      "357次: theta0 = 428.840, theta1 = 93.412, 差分 = 0.0415\n",
      "358次: theta0 = 428.846, theta1 = 93.413, 差分 = 0.0398\n",
      "359次: theta0 = 428.852, theta1 = 93.415, 差分 = 0.0383\n",
      "360次: theta0 = 428.858, theta1 = 93.416, 差分 = 0.0368\n",
      "361次: theta0 = 428.864, theta1 = 93.417, 差分 = 0.0353\n",
      "362次: theta0 = 428.870, theta1 = 93.418, 差分 = 0.0339\n",
      "363次: theta0 = 428.875, theta1 = 93.420, 差分 = 0.0326\n",
      "364次: theta0 = 428.881, theta1 = 93.421, 差分 = 0.0313\n",
      "365次: theta0 = 428.886, theta1 = 93.422, 差分 = 0.0300\n",
      "366次: theta0 = 428.891, theta1 = 93.423, 差分 = 0.0288\n",
      "367次: theta0 = 428.897, theta1 = 93.424, 差分 = 0.0277\n",
      "368次: theta0 = 428.902, theta1 = 93.425, 差分 = 0.0266\n",
      "369次: theta0 = 428.907, theta1 = 93.426, 差分 = 0.0255\n",
      "370次: theta0 = 428.912, theta1 = 93.427, 差分 = 0.0245\n",
      "371次: theta0 = 428.916, theta1 = 93.428, 差分 = 0.0236\n",
      "372次: theta0 = 428.921, theta1 = 93.429, 差分 = 0.0226\n",
      "373次: theta0 = 428.926, theta1 = 93.430, 差分 = 0.0217\n",
      "374次: theta0 = 428.930, theta1 = 93.431, 差分 = 0.0209\n",
      "375次: theta0 = 428.934, theta1 = 93.432, 差分 = 0.0200\n",
      "376次: theta0 = 428.939, theta1 = 93.433, 差分 = 0.0193\n",
      "377次: theta0 = 428.943, theta1 = 93.434, 差分 = 0.0185\n",
      "378次: theta0 = 428.947, theta1 = 93.435, 差分 = 0.0178\n",
      "379次: theta0 = 428.951, theta1 = 93.436, 差分 = 0.0171\n",
      "380次: theta0 = 428.955, theta1 = 93.437, 差分 = 0.0164\n",
      "381次: theta0 = 428.959, theta1 = 93.438, 差分 = 0.0157\n",
      "382次: theta0 = 428.963, theta1 = 93.438, 差分 = 0.0151\n",
      "383次: theta0 = 428.967, theta1 = 93.439, 差分 = 0.0145\n",
      "384次: theta0 = 428.970, theta1 = 93.440, 差分 = 0.0139\n",
      "385次: theta0 = 428.974, theta1 = 93.441, 差分 = 0.0134\n",
      "386次: theta0 = 428.977, theta1 = 93.442, 差分 = 0.0129\n",
      "387次: theta0 = 428.981, theta1 = 93.442, 差分 = 0.0123\n",
      "388次: theta0 = 428.984, theta1 = 93.443, 差分 = 0.0119\n",
      "389次: theta0 = 428.988, theta1 = 93.444, 差分 = 0.0114\n",
      "390次: theta0 = 428.991, theta1 = 93.444, 差分 = 0.0109\n",
      "391次: theta0 = 428.994, theta1 = 93.445, 差分 = 0.0105\n",
      "392次: theta0 = 428.997, theta1 = 93.446, 差分 = 0.0101\n",
      "393次: theta0 = 429.000, theta1 = 93.446, 差分 = 0.0097\n"
     ]
    }
   ],
   "source": [
    "# 學習率，自己設\n",
    "ETA = 1e-3\n",
    "\n",
    "# 誤差的差分\n",
    "diff = 1\n",
    "\n",
    "# 更新次數\n",
    "count = 0\n",
    "\n",
    "# 重複參數的更新，直到誤差的差分變成 0.01 以下為止\n",
    "error = E(train_z, train_y)\n",
    "while diff > 1e-2:\n",
    "    # 將更新結果儲存於臨時變數\n",
    "    tmp_theta0 = theta0 - ETA * np.sum((f(train_z) - train_y))\n",
    "    tmp_theta1 = theta1 - ETA * np.sum((f(train_z) - train_y) * train_z)\n",
    "    \n",
    "    # 更新參數\n",
    "    theta0 = tmp_theta0\n",
    "    theta1 = tmp_theta1\n",
    "    \n",
    "    # 計算與前一項誤差的差分\n",
    "    current_error = E(train_z, train_y)\n",
    "    diff = error - current_error\n",
    "    error = current_error\n",
    "    \n",
    "    # 輸出日誌\n",
    "    count += 1\n",
    "    log = '{}次: theta0 = {:.3f}, theta1 = {:.3f}, 差分 = {:.4f}'\n",
    "    print(log.format(count, theta0, theta1, diff))\n"
   ]
  },
  {
   "cell_type": "code",
   "execution_count": 20,
   "metadata": {},
   "outputs": [
    {
     "name": "stdout",
     "output_type": "stream",
     "text": [
      "[-3.         -2.93939394 -2.87878788 -2.81818182 -2.75757576 -2.6969697\n",
      " -2.63636364 -2.57575758 -2.51515152 -2.45454545 -2.39393939 -2.33333333\n",
      " -2.27272727 -2.21212121 -2.15151515 -2.09090909 -2.03030303 -1.96969697\n",
      " -1.90909091 -1.84848485 -1.78787879 -1.72727273 -1.66666667 -1.60606061\n",
      " -1.54545455 -1.48484848 -1.42424242 -1.36363636 -1.3030303  -1.24242424\n",
      " -1.18181818 -1.12121212 -1.06060606 -1.         -0.93939394 -0.87878788\n",
      " -0.81818182 -0.75757576 -0.6969697  -0.63636364 -0.57575758 -0.51515152\n",
      " -0.45454545 -0.39393939 -0.33333333 -0.27272727 -0.21212121 -0.15151515\n",
      " -0.09090909 -0.03030303  0.03030303  0.09090909  0.15151515  0.21212121\n",
      "  0.27272727  0.33333333  0.39393939  0.45454545  0.51515152  0.57575758\n",
      "  0.63636364  0.6969697   0.75757576  0.81818182  0.87878788  0.93939394\n",
      "  1.          1.06060606  1.12121212  1.18181818  1.24242424  1.3030303\n",
      "  1.36363636  1.42424242  1.48484848  1.54545455  1.60606061  1.66666667\n",
      "  1.72727273  1.78787879  1.84848485  1.90909091  1.96969697  2.03030303\n",
      "  2.09090909  2.15151515  2.21212121  2.27272727  2.33333333  2.39393939\n",
      "  2.45454545  2.51515152  2.57575758  2.63636364  2.6969697   2.75757576\n",
      "  2.81818182  2.87878788  2.93939394  3.        ]\n"
     ]
    }
   ],
   "source": [
    "# 繪圖來確認\n",
    "x = np.linspace(-3, 3, 100)\n",
    "print(x)"
   ]
  },
  {
   "cell_type": "code",
   "execution_count": 22,
   "metadata": {},
   "outputs": [
    {
     "name": "stdout",
     "output_type": "stream",
     "text": [
      "[148.66075032 154.3241727  159.98759508 165.65101746 171.31443984\n",
      " 176.97786221 182.64128459 188.30470697 193.96812935 199.63155173\n",
      " 205.29497411 210.95839649 216.62181886 222.28524124 227.94866362\n",
      " 233.612086   239.27550838 244.93893076 250.60235313 256.26577551\n",
      " 261.92919789 267.59262027 273.25604265 278.91946503 284.58288741\n",
      " 290.24630978 295.90973216 301.57315454 307.23657692 312.8999993\n",
      " 318.56342168 324.22684406 329.89026643 335.55368881 341.21711119\n",
      " 346.88053357 352.54395595 358.20737833 363.8708007  369.53422308\n",
      " 375.19764546 380.86106784 386.52449022 392.1879126  397.85133498\n",
      " 403.51475735 409.17817973 414.84160211 420.50502449 426.16844687\n",
      " 431.83186925 437.49529162 443.158714   448.82213638 454.48555876\n",
      " 460.14898114 465.81240352 471.4758259  477.13924827 482.80267065\n",
      " 488.46609303 494.12951541 499.79293779 505.45636017 511.11978255\n",
      " 516.78320492 522.4466273  528.11004968 533.77347206 539.43689444\n",
      " 545.10031682 550.76373919 556.42716157 562.09058395 567.75400633\n",
      " 573.41742871 579.08085109 584.74427347 590.40769584 596.07111822\n",
      " 601.7345406  607.39796298 613.06138536 618.72480774 624.38823011\n",
      " 630.05165249 635.71507487 641.37849725 647.04191963 652.70534201\n",
      " 658.36876439 664.03218676 669.69560914 675.35903152 681.0224539\n",
      " 686.68587628 692.34929866 698.01272103 703.67614341 709.33956579]\n"
     ]
    }
   ],
   "source": [
    "print(f(x))   # f(x) = theta0 + theta1 * x"
   ]
  },
  {
   "cell_type": "code",
   "execution_count": 21,
   "metadata": {},
   "outputs": [
    {
     "data": {
      "image/png": "[encoded data removed]",
      "text/plain": [
       "<Figure size 432x288 with 1 Axes>"
      ]
     },
     "metadata": {
      "needs_background": "light"
     },
     "output_type": "display_data"
    }
   ],
   "source": [
    "plt.plot(train_z, train_y, 'o')  # 點 \n",
    "plt.plot(x, f(x))  # 直線\n",
    "plt.show()"
   ]
  },
  {
   "cell_type": "code",
   "execution_count": 23,
   "metadata": {},
   "outputs": [
    {
     "data": {
      "text/plain": [
       "370.9669930335425"
      ]
     },
     "execution_count": 23,
     "metadata": {},
     "output_type": "execute_result"
    }
   ],
   "source": [
    "f(standardize(100))"
   ]
  },
  {
   "cell_type": "code",
   "execution_count": 25,
   "metadata": {},
   "outputs": [
    {
     "data": {
      "text/plain": [
       "510.4697935708276"
      ]
     },
     "execution_count": 25,
     "metadata": {},
     "output_type": "execute_result"
    }
   ],
   "source": [
    "f(standardize(200))"
   ]
  },
  {
   "cell_type": "code",
   "execution_count": 26,
   "metadata": {},
   "outputs": [
    {
     "data": {
      "text/plain": [
       "649.9725941081128"
      ]
     },
     "execution_count": 26,
     "metadata": {},
     "output_type": "execute_result"
    }
   ],
   "source": [
    "f(standardize(300))"
   ]
  },
  {
   "cell_type": "markdown",
   "metadata": {},
   "source": [
    "### 多項式迴歸的程式    p.165"
   ]
  },
  {
   "cell_type": "code",
   "execution_count": 27,
   "metadata": {},
   "outputs": [
    {
     "name": "stdout",
     "output_type": "stream",
     "text": [
      "[0.50409512 0.82352669 0.26609042]\n"
     ]
    }
   ],
   "source": [
    "# 初始化參數\n",
    "theta = np.random.rand(3)\n",
    "print(theta)"
   ]
  },
  {
   "cell_type": "code",
   "execution_count": 30,
   "metadata": {},
   "outputs": [
    {
     "name": "stdout",
     "output_type": "stream",
     "text": [
      "[[ 1.          1.39433428  1.94416809]\n",
      " [ 1.          1.11069026  1.23363286]\n",
      " [ 1.          0.09554325  0.00912851]\n",
      " [ 1.         -1.59139223  2.53252924]\n",
      " [ 1.         -0.8449606   0.71395842]\n",
      " [ 1.          0.93154667  0.8677792 ]\n",
      " [ 1.         -1.38239138  1.91100592]\n",
      " [ 1.         -1.74067856  3.02996185]\n",
      " [ 1.          0.46875906  0.21973506]\n",
      " [ 1.          0.73747445  0.54386856]\n",
      " [ 1.         -0.11345761  0.01287263]\n",
      " [ 1.         -0.63595975  0.4044448 ]\n",
      " [ 1.         -0.36724436  0.13486842]\n",
      " [ 1.         -0.44188752  0.19526458]\n",
      " [ 1.          0.3045441   0.09274711]\n",
      " [ 1.          1.94669369  3.78961632]\n",
      " [ 1.          0.25975821  0.06747433]\n",
      " [ 1.          0.25975821  0.06747433]\n",
      " [ 1.         -1.23310505  1.52054807]\n",
      " [ 1.          0.84197488  0.70892169]]\n"
     ]
    }
   ],
   "source": [
    "# 建立學習資料的矩陣\n",
    "def to_matrix(x):\n",
    "    return np.vstack([np.ones(x.shape[0]), x, x ** 2]).T\n",
    "\n",
    "X = to_matrix(train_z)\n",
    "print(X)"
   ]
  },
  {
   "cell_type": "code",
   "execution_count": 31,
   "metadata": {},
   "outputs": [],
   "source": [
    "# 預測函數\n",
    "def f(x):\n",
    "    return np.dot(x, theta)"
   ]
  },
  {
   "cell_type": "code",
   "execution_count": null,
   "metadata": {},
   "outputs": [],
   "source": []
  }
 ],
 "metadata": {
  "kernelspec": {
   "display_name": "Python 3",
   "language": "python",
   "name": "python3"
  },
  "language_info": {
   "codemirror_mode": {
    "name": "ipython",
    "version": 3
   },
   "file_extension": ".py",
   "mimetype": "text/x-python",
   "name": "python",
   "nbconvert_exporter": "python",
   "pygments_lexer": "ipython3",
   "version": "3.7.3"
  }
 },
 "nbformat": 4,
 "nbformat_minor": 2
}
