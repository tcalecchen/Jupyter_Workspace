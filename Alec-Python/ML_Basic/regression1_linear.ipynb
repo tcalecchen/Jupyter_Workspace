{
 "cells": [
  {
   "cell_type": "markdown",
   "metadata": {},
   "source": [
    "#### regression1_linear      p.162"
   ]
  },
  {
   "cell_type": "code",
   "execution_count": 1,
   "metadata": {},
   "outputs": [],
   "source": [
    "import numpy as np\n",
    "import matplotlib.pyplot as plt"
   ]
  },
  {
   "cell_type": "code",
   "execution_count": 2,
   "metadata": {},
   "outputs": [
    {
     "name": "stdout",
     "output_type": "stream",
     "text": [
      "[[235. 591.]\n",
      " [216. 539.]\n",
      " [148. 413.]\n",
      " [ 35. 310.]\n",
      " [ 85. 308.]\n",
      " [204. 519.]\n",
      " [ 49. 325.]\n",
      " [ 25. 332.]\n",
      " [173. 498.]\n",
      " [191. 498.]\n",
      " [134. 392.]\n",
      " [ 99. 334.]\n",
      " [117. 385.]\n",
      " [112. 387.]\n",
      " [162. 425.]\n",
      " [272. 659.]\n",
      " [159. 400.]\n",
      " [159. 427.]\n",
      " [ 59. 319.]\n",
      " [198. 522.]]\n"
     ]
    }
   ],
   "source": [
    "# 讀入資料\n",
    "train = np.loadtxt('click.csv', delimiter=',', skiprows=1)\n",
    "print(train)"
   ]
  },
  {
   "cell_type": "code",
   "execution_count": 3,
   "metadata": {},
   "outputs": [],
   "source": [
    "train_x = train[:, 0]  # 第 0 行，取全部  -- x 軸\n"
   ]
  },
  {
   "cell_type": "code",
   "execution_count": 4,
   "metadata": {},
   "outputs": [
    {
     "name": "stdout",
     "output_type": "stream",
     "text": [
      "[235. 216. 148.  35.  85. 204.  49.  25. 173. 191. 134.  99. 117. 112.\n",
      " 162. 272. 159. 159.  59. 198.]\n"
     ]
    }
   ],
   "source": [
    "print(train_x)"
   ]
  },
  {
   "cell_type": "code",
   "execution_count": 5,
   "metadata": {},
   "outputs": [],
   "source": [
    "train_y = train[:, 1]  # 第 1 行，取全部  -- y 軸"
   ]
  },
  {
   "cell_type": "code",
   "execution_count": 6,
   "metadata": {},
   "outputs": [
    {
     "name": "stdout",
     "output_type": "stream",
     "text": [
      "[591. 539. 413. 310. 308. 519. 325. 332. 498. 498. 392. 334. 385. 387.\n",
      " 425. 659. 400. 427. 319. 522.]\n"
     ]
    }
   ],
   "source": [
    "print(train_y)"
   ]
  },
  {
   "cell_type": "code",
   "execution_count": 7,
   "metadata": {},
   "outputs": [
    {
     "data": {
      "image/png": "[encoded data removed]",
      "text/plain": [
       "<Figure size 432x288 with 1 Axes>"
      ]
     },
     "metadata": {
      "needs_background": "light"
     },
     "output_type": "display_data"
    }
   ],
   "source": [
    "# 畫圖\n",
    "plt.plot(train_x, train_y, 'o')\n",
    "plt.show()"
   ]
  },
  {
   "cell_type": "markdown",
   "metadata": {},
   "source": [
    "### 預測函數(p.30)： $$f_\\theta(x) = \\theta_0 + \\theta_1x $$\n",
    "\n",
    "###      $$ \\theta_0：截距 \\;\\;\\; \\theta_1：斜率  $$\n",
    "\n",
    "###  目標函數(p.33)： $$E(\\theta) = \\frac{1}{2}\\sum_{i=1}^n{\\left({y^{(i)} - f_\\theta(x^{(i)}) }\\right)}^2   $$"
   ]
  },
  {
   "cell_type": "code",
   "execution_count": 8,
   "metadata": {},
   "outputs": [],
   "source": [
    "# 初始化參數\n",
    "theta0 = np.random.rand()\n",
    "theta1 = np.random.rand()"
   ]
  },
  {
   "cell_type": "code",
   "execution_count": 9,
   "metadata": {},
   "outputs": [
    {
     "name": "stdout",
     "output_type": "stream",
     "text": [
      "0.3176021285593251\n"
     ]
    }
   ],
   "source": [
    "print(theta0)"
   ]
  },
  {
   "cell_type": "code",
   "execution_count": 10,
   "metadata": {},
   "outputs": [
    {
     "name": "stdout",
     "output_type": "stream",
     "text": [
      "0.75344175271932\n"
     ]
    }
   ],
   "source": [
    "print(theta1)"
   ]
  },
  {
   "cell_type": "code",
   "execution_count": 11,
   "metadata": {},
   "outputs": [],
   "source": [
    "# 預測函數\n",
    "def f(x):\n",
    "    return theta0 + theta1 * x\n",
    "\n",
    "# 目標函數\n",
    "def E(x, y):\n",
    "    return 0.5 * np.sum((y - f(x)) ** 2)"
   ]
  },
  {
   "cell_type": "markdown",
   "metadata": {},
   "source": [
    "### 標準化或 Z-score 正規化  $$ z^{(i)} = \\frac{x^{(i)} - \\mu}{\\sigma} $$"
   ]
  },
  {
   "cell_type": "code",
   "execution_count": 12,
   "metadata": {},
   "outputs": [],
   "source": [
    "# 標準化\n",
    "mu = train_x.mean()    # 平均數\n",
    "sigma = train_x.std()  # 標準差"
   ]
  },
  {
   "cell_type": "code",
   "execution_count": 13,
   "metadata": {},
   "outputs": [
    {
     "name": "stdout",
     "output_type": "stream",
     "text": [
      "141.6\n"
     ]
    }
   ],
   "source": [
    "print(mu)"
   ]
  },
  {
   "cell_type": "code",
   "execution_count": 14,
   "metadata": {},
   "outputs": [
    {
     "name": "stdout",
     "output_type": "stream",
     "text": [
      "66.98537153737374\n"
     ]
    }
   ],
   "source": [
    "print(sigma)"
   ]
  },
  {
   "cell_type": "code",
   "execution_count": 15,
   "metadata": {},
   "outputs": [
    {
     "name": "stdout",
     "output_type": "stream",
     "text": [
      "[ 1.39433428  1.11069026  0.09554325 -1.59139223 -0.8449606   0.93154667\n",
      " -1.38239138 -1.74067856  0.46875906  0.73747445 -0.11345761 -0.63595975\n",
      " -0.36724436 -0.44188752  0.3045441   1.94669369  0.25975821  0.25975821\n",
      " -1.23310505  0.84197488]\n"
     ]
    }
   ],
   "source": [
    "def standardize(x):\n",
    "    return (x - mu) / sigma\n",
    "\n",
    "train_z = standardize(train_x)\n",
    "print(train_z)"
   ]
  },
  {
   "cell_type": "code",
   "execution_count": 16,
   "metadata": {},
   "outputs": [
    {
     "data": {
      "image/png": "[encoded data removed]",
      "text/plain": [
       "<Figure size 432x288 with 1 Axes>"
      ]
     },
     "metadata": {
      "needs_background": "light"
     },
     "output_type": "display_data"
    }
   ],
   "source": [
    "plt.plot(train_z, train_y, 'o')\n",
    "plt.show()\n",
    "\n",
    "# 標準化後，x 軸的刻度變小了"
   ]
  },
  {
   "cell_type": "markdown",
   "metadata": {},
   "source": [
    "### $$ \\theta_0 := \\theta_0 - \\eta\\sum_{i=1}^n{\\left(f_\\theta(x^{(i)}) - {y^{(i)}}\\right)}  $$\n",
    "\n",
    "### $$ \\theta_1 := \\theta_1 - \\eta\\sum_{i=1}^n{\\left(f_\\theta(x^{(i)}) - {y^{(i)}}\\right)}x^{(i)} $$"
   ]
  },
  {
   "cell_type": "code",
   "execution_count": 17,
   "metadata": {},
   "outputs": [
    {
     "name": "stdout",
     "output_type": "stream",
     "text": [
      "1次: theta0 = 8.894, theta1 = 2.608, 差分 = 76228.1038\n",
      "2次: theta0 = 17.299, theta1 = 4.425, 差分 = 73209.4709\n",
      "3次: theta0 = 25.536, theta1 = 6.206, 差分 = 70310.3758\n",
      "4次: theta0 = 33.609, theta1 = 7.952, 差分 = 67526.0849\n",
      "5次: theta0 = 41.519, theta1 = 9.662, 差分 = 64852.0520\n",
      "6次: theta0 = 49.272, theta1 = 11.339, 差分 = 62283.9107\n",
      "7次: theta0 = 56.870, theta1 = 12.982, 差分 = 59817.4679\n",
      "8次: theta0 = 64.315, theta1 = 14.591, 差分 = 57448.6961\n",
      "9次: theta0 = 71.612, theta1 = 16.169, 差分 = 55173.7278\n",
      "10次: theta0 = 78.763, theta1 = 17.715, 差分 = 52988.8481\n",
      "11次: theta0 = 85.770, theta1 = 19.231, 差分 = 50890.4898\n",
      "12次: theta0 = 92.638, theta1 = 20.716, 差分 = 48875.2264\n",
      "13次: theta0 = 99.368, theta1 = 22.171, 差分 = 46939.7674\n",
      "14次: theta0 = 105.964, theta1 = 23.597, 差分 = 45080.9526\n",
      "15次: theta0 = 112.428, theta1 = 24.995, 差分 = 43295.7469\n",
      "16次: theta0 = 118.762, theta1 = 26.364, 差分 = 41581.2353\n",
      "17次: theta0 = 124.970, theta1 = 27.707, 差分 = 39934.6184\n",
      "18次: theta0 = 131.053, theta1 = 29.022, 差分 = 38353.2075\n",
      "19次: theta0 = 137.015, theta1 = 30.311, 差分 = 36834.4205\n",
      "20次: theta0 = 142.858, theta1 = 31.575, 差分 = 35375.7774\n",
      "21次: theta0 = 148.584, theta1 = 32.813, 差分 = 33974.8966\n",
      "22次: theta0 = 154.195, theta1 = 34.026, 差分 = 32629.4907\n",
      "23次: theta0 = 159.694, theta1 = 35.215, 差分 = 31337.3629\n",
      "24次: theta0 = 165.083, theta1 = 36.380, 差分 = 30096.4033\n",
      "25次: theta0 = 170.365, theta1 = 37.522, 差分 = 28904.5858\n",
      "26次: theta0 = 175.540, theta1 = 38.641, 差分 = 27759.9642\n",
      "27次: theta0 = 180.613, theta1 = 39.738, 差分 = 26660.6696\n",
      "28次: theta0 = 185.583, theta1 = 40.813, 差分 = 25604.9071\n",
      "29次: theta0 = 190.455, theta1 = 41.866, 差分 = 24590.9528\n",
      "30次: theta0 = 195.229, theta1 = 42.899, 差分 = 23617.1510\n",
      "31次: theta0 = 199.907, theta1 = 43.910, 差分 = 22681.9118\n",
      "32次: theta0 = 204.492, theta1 = 44.902, 差分 = 21783.7081\n",
      "33次: theta0 = 208.985, theta1 = 45.873, 差分 = 20921.0733\n",
      "34次: theta0 = 213.388, theta1 = 46.825, 差分 = 20092.5988\n",
      "35次: theta0 = 217.704, theta1 = 47.758, 差分 = 19296.9319\n",
      "36次: theta0 = 221.933, theta1 = 48.673, 差分 = 18532.7734\n",
      "37次: theta0 = 226.077, theta1 = 49.569, 差分 = 17798.8755\n",
      "38次: theta0 = 230.138, theta1 = 50.447, 差分 = 17094.0401\n",
      "39次: theta0 = 234.119, theta1 = 51.308, 差分 = 16417.1161\n",
      "40次: theta0 = 238.019, theta1 = 52.151, 差分 = 15766.9983\n",
      "41次: theta0 = 241.842, theta1 = 52.978, 差分 = 15142.6252\n",
      "42次: theta0 = 245.588, theta1 = 53.788, 差分 = 14542.9772\n",
      "43次: theta0 = 249.259, theta1 = 54.581, 差分 = 13967.0753\n",
      "44次: theta0 = 252.857, theta1 = 55.359, 差分 = 13413.9791\n",
      "45次: theta0 = 256.383, theta1 = 56.122, 差分 = 12882.7856\n",
      "46次: theta0 = 259.838, theta1 = 56.869, 差分 = 12372.6272\n",
      "47次: theta0 = 263.224, theta1 = 57.601, 差分 = 11882.6712\n",
      "48次: theta0 = 266.543, theta1 = 58.319, 差分 = 11412.1174\n",
      "49次: theta0 = 269.795, theta1 = 59.022, 差分 = 10960.1976\n",
      "50次: theta0 = 272.982, theta1 = 59.711, 差分 = 10526.1738\n",
      "51次: theta0 = 276.106, theta1 = 60.386, 差分 = 10109.3373\n",
      "52次: theta0 = 279.166, theta1 = 61.048, 差分 = 9709.0075\n",
      "53次: theta0 = 282.166, theta1 = 61.697, 差分 = 9324.5308\n",
      "54次: theta0 = 285.106, theta1 = 62.332, 差分 = 8955.2794\n",
      "55次: theta0 = 287.987, theta1 = 62.955, 差分 = 8600.6503\n",
      "56次: theta0 = 290.810, theta1 = 63.566, 差分 = 8260.0646\n",
      "57次: theta0 = 293.577, theta1 = 64.164, 差分 = 7932.9660\n",
      "58次: theta0 = 296.288, theta1 = 64.750, 差分 = 7618.8206\n",
      "59次: theta0 = 298.945, theta1 = 65.325, 差分 = 7317.1153\n",
      "60次: theta0 = 301.550, theta1 = 65.888, 差分 = 7027.3575\n",
      "61次: theta0 = 304.102, theta1 = 66.440, 差分 = 6749.0742\n",
      "62次: theta0 = 306.603, theta1 = 66.981, 差分 = 6481.8108\n",
      "63次: theta0 = 309.053, theta1 = 67.511, 差分 = 6225.1311\n",
      "64次: theta0 = 311.455, theta1 = 68.030, 差分 = 5978.6159\n",
      "65次: theta0 = 313.809, theta1 = 68.539, 差分 = 5741.8627\n",
      "66次: theta0 = 316.116, theta1 = 69.038, 差分 = 5514.4850\n",
      "67次: theta0 = 318.377, theta1 = 69.527, 差分 = 5296.1114\n",
      "68次: theta0 = 320.592, theta1 = 70.006, 差分 = 5086.3853\n",
      "69次: theta0 = 322.763, theta1 = 70.475, 差分 = 4884.9645\n",
      "70次: theta0 = 324.891, theta1 = 70.935, 差分 = 4691.5199\n",
      "71次: theta0 = 326.976, theta1 = 71.386, 差分 = 4505.7357\n",
      "72次: theta0 = 329.020, theta1 = 71.828, 差分 = 4327.3086\n",
      "73次: theta0 = 331.022, theta1 = 72.261, 差分 = 4155.9472\n",
      "74次: theta0 = 332.985, theta1 = 72.685, 差分 = 3991.3716\n",
      "75次: theta0 = 334.908, theta1 = 73.101, 差分 = 3833.3133\n",
      "76次: theta0 = 336.793, theta1 = 73.509, 差分 = 3681.5141\n",
      "77次: theta0 = 338.640, theta1 = 73.908, 差分 = 3535.7262\n",
      "78次: theta0 = 340.450, theta1 = 74.299, 差分 = 3395.7114\n",
      "79次: theta0 = 342.224, theta1 = 74.683, 差分 = 3261.2412\n",
      "80次: theta0 = 343.963, theta1 = 75.059, 差分 = 3132.0961\n",
      "81次: theta0 = 345.667, theta1 = 75.427, 差分 = 3008.0651\n",
      "82次: theta0 = 347.336, theta1 = 75.788, 差分 = 2888.9457\n",
      "83次: theta0 = 348.973, theta1 = 76.142, 差分 = 2774.5434\n",
      "84次: theta0 = 350.576, theta1 = 76.489, 差分 = 2664.6715\n",
      "85次: theta0 = 352.148, theta1 = 76.829, 差分 = 2559.1505\n",
      "86次: theta0 = 353.688, theta1 = 77.162, 差分 = 2457.8082\n",
      "87次: theta0 = 355.197, theta1 = 77.488, 差分 = 2360.4790\n",
      "88次: theta0 = 356.676, theta1 = 77.808, 差分 = 2267.0040\n",
      "89次: theta0 = 358.125, theta1 = 78.121, 差分 = 2177.2306\n",
      "90次: theta0 = 359.546, theta1 = 78.428, 差分 = 2091.0123\n",
      "91次: theta0 = 360.938, theta1 = 78.729, 差分 = 2008.2082\n",
      "92次: theta0 = 362.302, theta1 = 79.024, 差分 = 1928.6832\n",
      "93次: theta0 = 363.639, theta1 = 79.314, 差分 = 1852.3073\n",
      "94次: theta0 = 364.949, theta1 = 79.597, 差分 = 1778.9560\n",
      "95次: theta0 = 366.233, theta1 = 79.874, 差分 = 1708.5093\n",
      "96次: theta0 = 367.492, theta1 = 80.147, 差分 = 1640.8523\n",
      "97次: theta0 = 368.725, theta1 = 80.413, 差分 = 1575.8746\n",
      "98次: theta0 = 369.933, theta1 = 80.675, 差分 = 1513.4699\n",
      "99次: theta0 = 371.118, theta1 = 80.931, 差分 = 1453.5365\n",
      "100次: theta0 = 372.278, theta1 = 81.182, 差分 = 1395.9765\n",
      "101次: theta0 = 373.416, theta1 = 81.428, 差分 = 1340.6958\n",
      "102次: theta0 = 374.531, theta1 = 81.669, 差分 = 1287.6043\n",
      "103次: theta0 = 375.623, theta1 = 81.905, 差分 = 1236.6151\n",
      "104次: theta0 = 376.693, theta1 = 82.136, 差分 = 1187.6452\n",
      "105次: theta0 = 377.743, theta1 = 82.363, 差分 = 1140.6144\n",
      "106次: theta0 = 378.771, theta1 = 82.585, 差分 = 1095.4461\n",
      "107次: theta0 = 379.778, theta1 = 82.803, 差分 = 1052.0664\n",
      "108次: theta0 = 380.766, theta1 = 83.017, 差分 = 1010.4046\n",
      "109次: theta0 = 381.733, theta1 = 83.226, 差分 = 970.3926\n",
      "110次: theta0 = 382.682, theta1 = 83.431, 差分 = 931.9650\n",
      "111次: theta0 = 383.611, theta1 = 83.632, 差分 = 895.0592\n",
      "112次: theta0 = 384.522, theta1 = 83.829, 差分 = 859.6149\n",
      "113次: theta0 = 385.414, theta1 = 84.022, 差分 = 825.5741\n",
      "114次: theta0 = 386.289, theta1 = 84.211, 差分 = 792.8814\n",
      "115次: theta0 = 387.146, theta1 = 84.396, 差分 = 761.4833\n",
      "116次: theta0 = 387.986, theta1 = 84.578, 差分 = 731.3285\n",
      "117次: theta0 = 388.810, theta1 = 84.756, 差分 = 702.3679\n",
      "118次: theta0 = 389.617, theta1 = 84.931, 差分 = 674.5542\n",
      "119次: theta0 = 390.407, theta1 = 85.102, 差分 = 647.8418\n",
      "120次: theta0 = 391.182, theta1 = 85.269, 差分 = 622.1873\n",
      "121次: theta0 = 391.941, theta1 = 85.433, 差分 = 597.5487\n",
      "122次: theta0 = 392.686, theta1 = 85.594, 差分 = 573.8857\n",
      "123次: theta0 = 393.415, theta1 = 85.752, 差分 = 551.1599\n",
      "124次: theta0 = 394.130, theta1 = 85.906, 差分 = 529.3339\n",
      "125次: theta0 = 394.830, theta1 = 86.058, 差分 = 508.3723\n",
      "126次: theta0 = 395.516, theta1 = 86.206, 差分 = 488.2408\n",
      "127次: theta0 = 396.189, theta1 = 86.352, 差分 = 468.9064\n",
      "128次: theta0 = 396.848, theta1 = 86.494, 差分 = 450.3377\n",
      "129次: theta0 = 397.494, theta1 = 86.634, 差分 = 432.5044\n",
      "130次: theta0 = 398.127, theta1 = 86.771, 差分 = 415.3772\n",
      "131次: theta0 = 398.748, theta1 = 86.905, 差分 = 398.9283\n",
      "132次: theta0 = 399.356, theta1 = 87.036, 差分 = 383.1307\n",
      "133次: theta0 = 399.952, theta1 = 87.165, 差分 = 367.9587\n",
      "134次: theta0 = 400.536, theta1 = 87.292, 差分 = 353.3876\n",
      "135次: theta0 = 401.108, theta1 = 87.415, 差分 = 339.3934\n",
      "136次: theta0 = 401.669, theta1 = 87.537, 差分 = 325.9534\n",
      "137次: theta0 = 402.219, theta1 = 87.655, 差分 = 313.0457\n",
      "138次: theta0 = 402.757, theta1 = 87.772, 差分 = 300.6491\n",
      "139次: theta0 = 403.285, theta1 = 87.886, 差分 = 288.7434\n",
      "140次: theta0 = 403.802, theta1 = 87.998, 差分 = 277.3091\n",
      "141次: theta0 = 404.309, theta1 = 88.108, 差分 = 266.3277\n",
      "142次: theta0 = 404.806, theta1 = 88.215, 差分 = 255.7811\n",
      "143次: theta0 = 405.293, theta1 = 88.320, 差分 = 245.6522\n",
      "144次: theta0 = 405.770, theta1 = 88.423, 差分 = 235.9243\n",
      "145次: theta0 = 406.238, theta1 = 88.525, 差分 = 226.5817\n",
      "146次: theta0 = 406.696, theta1 = 88.624, 差分 = 217.6091\n",
      "147次: theta0 = 407.145, theta1 = 88.721, 差分 = 208.9918\n",
      "148次: theta0 = 407.585, theta1 = 88.816, 差分 = 200.7157\n",
      "149次: theta0 = 408.016, theta1 = 88.909, 差分 = 192.7674\n",
      "150次: theta0 = 408.439, theta1 = 89.001, 差分 = 185.1338\n",
      "151次: theta0 = 408.853, theta1 = 89.090, 差分 = 177.8025\n",
      "152次: theta0 = 409.259, theta1 = 89.178, 差分 = 170.7615\n",
      "153次: theta0 = 409.657, theta1 = 89.264, 差分 = 163.9994\n",
      "154次: theta0 = 410.047, theta1 = 89.348, 差分 = 157.5050\n",
      "155次: theta0 = 410.429, theta1 = 89.431, 差分 = 151.2678\n",
      "156次: theta0 = 410.803, theta1 = 89.512, 差分 = 145.2776\n",
      "157次: theta0 = 411.170, theta1 = 89.591, 差分 = 139.5246\n",
      "158次: theta0 = 411.530, theta1 = 89.669, 差分 = 133.9994\n",
      "159次: theta0 = 411.882, theta1 = 89.745, 差分 = 128.6930\n",
      "160次: theta0 = 412.228, theta1 = 89.820, 差分 = 123.5968\n",
      "161次: theta0 = 412.566, theta1 = 89.893, 差分 = 118.7024\n",
      "162次: theta0 = 412.898, theta1 = 89.965, 差分 = 114.0017\n",
      "163次: theta0 = 413.223, theta1 = 90.035, 差分 = 109.4873\n",
      "164次: theta0 = 413.541, theta1 = 90.104, 差分 = 105.1516\n",
      "165次: theta0 = 413.854, theta1 = 90.171, 差分 = 100.9876\n",
      "166次: theta0 = 414.159, theta1 = 90.237, 差分 = 96.9885\n",
      "167次: theta0 = 414.459, theta1 = 90.302, 差分 = 93.1477\n",
      "168次: theta0 = 414.753, theta1 = 90.366, 差分 = 89.4591\n",
      "169次: theta0 = 415.041, theta1 = 90.428, 差分 = 85.9165\n",
      "170次: theta0 = 415.323, theta1 = 90.489, 差分 = 82.5142\n",
      "171次: theta0 = 415.600, theta1 = 90.549, 差分 = 79.2466\n",
      "172次: theta0 = 415.871, theta1 = 90.607, 差分 = 76.1085\n",
      "173次: theta0 = 416.136, theta1 = 90.665, 差分 = 73.0946\n",
      "174次: theta0 = 416.397, theta1 = 90.721, 差分 = 70.2000\n",
      "175次: theta0 = 416.652, theta1 = 90.776, 差分 = 67.4201\n",
      "176次: theta0 = 416.902, theta1 = 90.830, 差分 = 64.7503\n",
      "177次: theta0 = 417.147, theta1 = 90.883, 差分 = 62.1862\n",
      "178次: theta0 = 417.387, theta1 = 90.935, 差分 = 59.7236\n",
      "179次: theta0 = 417.622, theta1 = 90.986, 差分 = 57.3585\n",
      "180次: theta0 = 417.853, theta1 = 91.036, 差分 = 55.0871\n",
      "181次: theta0 = 418.078, theta1 = 91.085, 差分 = 52.9057\n",
      "182次: theta0 = 418.300, theta1 = 91.133, 差分 = 50.8106\n",
      "183次: theta0 = 418.517, theta1 = 91.180, 差分 = 48.7985\n",
      "184次: theta0 = 418.730, theta1 = 91.226, 差分 = 46.8661\n",
      "185次: theta0 = 418.938, theta1 = 91.271, 差分 = 45.0102\n",
      "186次: theta0 = 419.142, theta1 = 91.315, 差分 = 43.2278\n",
      "187次: theta0 = 419.342, theta1 = 91.358, 差分 = 41.5160\n",
      "188次: theta0 = 419.539, theta1 = 91.401, 差分 = 39.8719\n",
      "189次: theta0 = 419.731, theta1 = 91.442, 差分 = 38.2930\n",
      "190次: theta0 = 419.919, theta1 = 91.483, 差分 = 36.7766\n",
      "191次: theta0 = 420.104, theta1 = 91.523, 差分 = 35.3203\n",
      "192次: theta0 = 420.285, theta1 = 91.562, 差分 = 33.9216\n",
      "193次: theta0 = 420.462, theta1 = 91.600, 差分 = 32.5783\n",
      "194次: theta0 = 420.636, theta1 = 91.638, 差分 = 31.2882\n",
      "195次: theta0 = 420.806, theta1 = 91.675, 差分 = 30.0492\n",
      "196次: theta0 = 420.973, theta1 = 91.711, 差分 = 28.8592\n",
      "197次: theta0 = 421.136, theta1 = 91.746, 差分 = 27.7164\n",
      "198次: theta0 = 421.297, theta1 = 91.781, 差分 = 26.6188\n",
      "199次: theta0 = 421.454, theta1 = 91.815, 差分 = 25.5647\n",
      "200次: theta0 = 421.608, theta1 = 91.848, 差分 = 24.5524\n",
      "201次: theta0 = 421.759, theta1 = 91.881, 差分 = 23.5801\n",
      "202次: theta0 = 421.906, theta1 = 91.913, 差分 = 22.6463\n",
      "203次: theta0 = 422.051, theta1 = 91.944, 差分 = 21.7495\n",
      "204次: theta0 = 422.193, theta1 = 91.975, 差分 = 20.8882\n",
      "205次: theta0 = 422.332, theta1 = 92.005, 差分 = 20.0611\n",
      "206次: theta0 = 422.469, theta1 = 92.034, 差分 = 19.2666\n",
      "207次: theta0 = 422.602, theta1 = 92.063, 差分 = 18.5037\n",
      "208次: theta0 = 422.733, theta1 = 92.091, 差分 = 17.7709\n",
      "209次: theta0 = 422.862, theta1 = 92.119, 差分 = 17.0672\n",
      "210次: theta0 = 422.987, theta1 = 92.146, 差分 = 16.3914\n",
      "211次: theta0 = 423.111, theta1 = 92.173, 差分 = 15.7423\n",
      "212次: theta0 = 423.231, theta1 = 92.199, 差分 = 15.1189\n",
      "213次: theta0 = 423.350, theta1 = 92.225, 差分 = 14.5202\n",
      "214次: theta0 = 423.466, theta1 = 92.250, 差分 = 13.9452\n",
      "215次: theta0 = 423.580, theta1 = 92.274, 差分 = 13.3929\n",
      "216次: theta0 = 423.691, theta1 = 92.298, 差分 = 12.8626\n",
      "217次: theta0 = 423.800, theta1 = 92.322, 差分 = 12.3532\n",
      "218次: theta0 = 423.907, theta1 = 92.345, 差分 = 11.8640\n",
      "219次: theta0 = 424.012, theta1 = 92.368, 差分 = 11.3942\n",
      "220次: theta0 = 424.115, theta1 = 92.390, 差分 = 10.9430\n",
      "221次: theta0 = 424.215, theta1 = 92.412, 差分 = 10.5097\n",
      "222次: theta0 = 424.314, theta1 = 92.433, 差分 = 10.0935\n",
      "223次: theta0 = 424.411, theta1 = 92.454, 差分 = 9.6938\n",
      "224次: theta0 = 424.506, theta1 = 92.475, 差分 = 9.3099\n",
      "225次: theta0 = 424.598, theta1 = 92.495, 差分 = 8.9412\n",
      "226次: theta0 = 424.690, theta1 = 92.514, 差分 = 8.5872\n",
      "227次: theta0 = 424.779, theta1 = 92.534, 差分 = 8.2471\n",
      "228次: theta0 = 424.866, theta1 = 92.552, 差分 = 7.9205\n",
      "229次: theta0 = 424.952, theta1 = 92.571, 差分 = 7.6069\n",
      "230次: theta0 = 425.036, theta1 = 92.589, 差分 = 7.3056\n",
      "231次: theta0 = 425.118, theta1 = 92.607, 差分 = 7.0163\n",
      "232次: theta0 = 425.199, theta1 = 92.624, 差分 = 6.7385\n",
      "233次: theta0 = 425.278, theta1 = 92.641, 差分 = 6.4716\n",
      "234次: theta0 = 425.355, theta1 = 92.658, 差分 = 6.2154\n",
      "235次: theta0 = 425.431, theta1 = 92.675, 差分 = 5.9692\n",
      "236次: theta0 = 425.505, theta1 = 92.691, 差分 = 5.7329\n",
      "237次: theta0 = 425.578, theta1 = 92.706, 差分 = 5.5058\n",
      "238次: theta0 = 425.650, theta1 = 92.722, 差分 = 5.2878\n",
      "239次: theta0 = 425.720, theta1 = 92.737, 差分 = 5.0784\n",
      "240次: theta0 = 425.788, theta1 = 92.752, 差分 = 4.8773\n",
      "241次: theta0 = 425.856, theta1 = 92.766, 差分 = 4.6842\n",
      "242次: theta0 = 425.922, theta1 = 92.781, 差分 = 4.4987\n",
      "243次: theta0 = 425.986, theta1 = 92.795, 差分 = 4.3205\n",
      "244次: theta0 = 426.049, theta1 = 92.808, 差分 = 4.1494\n",
      "245次: theta0 = 426.111, theta1 = 92.822, 差分 = 3.9851\n",
      "246次: theta0 = 426.172, theta1 = 92.835, 差分 = 3.8273\n",
      "247次: theta0 = 426.232, theta1 = 92.848, 差分 = 3.6757\n",
      "248次: theta0 = 426.290, theta1 = 92.860, 差分 = 3.5302\n",
      "249次: theta0 = 426.347, theta1 = 92.873, 差分 = 3.3904\n",
      "250次: theta0 = 426.403, theta1 = 92.885, 差分 = 3.2561\n",
      "251次: theta0 = 426.458, theta1 = 92.897, 差分 = 3.1272\n",
      "252次: theta0 = 426.512, theta1 = 92.908, 差分 = 3.0033\n",
      "253次: theta0 = 426.565, theta1 = 92.920, 差分 = 2.8844\n",
      "254次: theta0 = 426.617, theta1 = 92.931, 差分 = 2.7702\n",
      "255次: theta0 = 426.667, theta1 = 92.942, 差分 = 2.6605\n",
      "256次: theta0 = 426.717, theta1 = 92.953, 差分 = 2.5551\n",
      "257次: theta0 = 426.766, theta1 = 92.963, 差分 = 2.4540\n",
      "258次: theta0 = 426.813, theta1 = 92.973, 差分 = 2.3568\n",
      "259次: theta0 = 426.860, theta1 = 92.984, 差分 = 2.2634\n",
      "260次: theta0 = 426.906, theta1 = 92.994, 差分 = 2.1738\n",
      "261次: theta0 = 426.951, theta1 = 93.003, 差分 = 2.0877\n",
      "262次: theta0 = 426.995, theta1 = 93.013, 差分 = 2.0051\n",
      "263次: theta0 = 427.038, theta1 = 93.022, 差分 = 1.9257\n",
      "264次: theta0 = 427.080, theta1 = 93.031, 差分 = 1.8494\n",
      "265次: theta0 = 427.121, theta1 = 93.040, 差分 = 1.7762\n",
      "266次: theta0 = 427.162, theta1 = 93.049, 差分 = 1.7058\n",
      "267次: theta0 = 427.202, theta1 = 93.057, 差分 = 1.6383\n",
      "268次: theta0 = 427.241, theta1 = 93.066, 差分 = 1.5734\n",
      "269次: theta0 = 427.279, theta1 = 93.074, 差分 = 1.5111\n",
      "270次: theta0 = 427.316, theta1 = 93.082, 差分 = 1.4513\n",
      "271次: theta0 = 427.353, theta1 = 93.090, 差分 = 1.3938\n",
      "272次: theta0 = 427.389, theta1 = 93.098, 差分 = 1.3386\n",
      "273次: theta0 = 427.424, theta1 = 93.106, 差分 = 1.2856\n",
      "274次: theta0 = 427.459, theta1 = 93.113, 差分 = 1.2347\n",
      "275次: theta0 = 427.492, theta1 = 93.120, 差分 = 1.1858\n",
      "276次: theta0 = 427.526, theta1 = 93.128, 差分 = 1.1388\n",
      "277次: theta0 = 427.558, theta1 = 93.135, 差分 = 1.0937\n",
      "278次: theta0 = 427.590, theta1 = 93.141, 差分 = 1.0504\n",
      "279次: theta0 = 427.621, theta1 = 93.148, 差分 = 1.0088\n",
      "280次: theta0 = 427.652, theta1 = 93.155, 差分 = 0.9689\n",
      "281次: theta0 = 427.682, theta1 = 93.161, 差分 = 0.9305\n",
      "282次: theta0 = 427.711, theta1 = 93.168, 差分 = 0.8937\n",
      "283次: theta0 = 427.740, theta1 = 93.174, 差分 = 0.8583\n",
      "284次: theta0 = 427.768, theta1 = 93.180, 差分 = 0.8243\n",
      "285次: theta0 = 427.796, theta1 = 93.186, 差分 = 0.7916\n",
      "286次: theta0 = 427.823, theta1 = 93.192, 差分 = 0.7603\n",
      "287次: theta0 = 427.849, theta1 = 93.198, 差分 = 0.7302\n",
      "288次: theta0 = 427.875, theta1 = 93.203, 差分 = 0.7013\n",
      "289次: theta0 = 427.901, theta1 = 93.209, 差分 = 0.6735\n",
      "290次: theta0 = 427.926, theta1 = 93.214, 差分 = 0.6468\n",
      "291次: theta0 = 427.950, theta1 = 93.219, 差分 = 0.6212\n",
      "292次: theta0 = 427.974, theta1 = 93.225, 差分 = 0.5966\n",
      "293次: theta0 = 427.998, theta1 = 93.230, 差分 = 0.5730\n",
      "294次: theta0 = 428.021, theta1 = 93.235, 差分 = 0.5503\n",
      "295次: theta0 = 428.043, theta1 = 93.239, 差分 = 0.5285\n",
      "296次: theta0 = 428.066, theta1 = 93.244, 差分 = 0.5076\n",
      "297次: theta0 = 428.087, theta1 = 93.249, 差分 = 0.4875\n",
      "298次: theta0 = 428.109, theta1 = 93.254, 差分 = 0.4682\n",
      "299次: theta0 = 428.129, theta1 = 93.258, 差分 = 0.4496\n",
      "300次: theta0 = 428.150, theta1 = 93.262, 差分 = 0.4318\n",
      "301次: theta0 = 428.170, theta1 = 93.267, 差分 = 0.4147\n",
      "302次: theta0 = 428.189, theta1 = 93.271, 差分 = 0.3983\n",
      "303次: theta0 = 428.209, theta1 = 93.275, 差分 = 0.3825\n",
      "304次: theta0 = 428.227, theta1 = 93.279, 差分 = 0.3674\n",
      "305次: theta0 = 428.246, theta1 = 93.283, 差分 = 0.3528\n",
      "306次: theta0 = 428.264, theta1 = 93.287, 差分 = 0.3389\n",
      "307次: theta0 = 428.282, theta1 = 93.291, 差分 = 0.3254\n",
      "308次: theta0 = 428.299, theta1 = 93.295, 差分 = 0.3126\n",
      "309次: theta0 = 428.316, theta1 = 93.298, 差分 = 0.3002\n",
      "310次: theta0 = 428.333, theta1 = 93.302, 差分 = 0.2883\n",
      "311次: theta0 = 428.349, theta1 = 93.306, 差分 = 0.2769\n",
      "312次: theta0 = 428.365, theta1 = 93.309, 差分 = 0.2659\n",
      "313次: theta0 = 428.381, theta1 = 93.312, 差分 = 0.2554\n",
      "314次: theta0 = 428.396, theta1 = 93.316, 差分 = 0.2453\n",
      "315次: theta0 = 428.411, theta1 = 93.319, 差分 = 0.2356\n",
      "316次: theta0 = 428.426, theta1 = 93.322, 差分 = 0.2262\n",
      "317次: theta0 = 428.440, theta1 = 93.325, 差分 = 0.2173\n",
      "318次: theta0 = 428.455, theta1 = 93.328, 差分 = 0.2087\n",
      "319次: theta0 = 428.469, theta1 = 93.331, 差分 = 0.2004\n",
      "320次: theta0 = 428.482, theta1 = 93.334, 差分 = 0.1925\n",
      "321次: theta0 = 428.496, theta1 = 93.337, 差分 = 0.1848\n",
      "322次: theta0 = 428.509, theta1 = 93.340, 差分 = 0.1775\n",
      "323次: theta0 = 428.521, theta1 = 93.343, 差分 = 0.1705\n",
      "324次: theta0 = 428.534, theta1 = 93.346, 差分 = 0.1637\n",
      "325次: theta0 = 428.546, theta1 = 93.348, 差分 = 0.1573\n",
      "326次: theta0 = 428.558, theta1 = 93.351, 差分 = 0.1510\n",
      "327次: theta0 = 428.570, theta1 = 93.353, 差分 = 0.1450\n",
      "328次: theta0 = 428.582, theta1 = 93.356, 差分 = 0.1393\n",
      "329次: theta0 = 428.593, theta1 = 93.358, 差分 = 0.1338\n",
      "330次: theta0 = 428.604, theta1 = 93.361, 差分 = 0.1285\n",
      "331次: theta0 = 428.615, theta1 = 93.363, 差分 = 0.1234\n",
      "332次: theta0 = 428.626, theta1 = 93.365, 差分 = 0.1185\n",
      "333次: theta0 = 428.636, theta1 = 93.368, 差分 = 0.1138\n",
      "334次: theta0 = 428.647, theta1 = 93.370, 差分 = 0.1093\n",
      "335次: theta0 = 428.657, theta1 = 93.372, 差分 = 0.1050\n",
      "336次: theta0 = 428.667, theta1 = 93.374, 差分 = 0.1008\n",
      "337次: theta0 = 428.676, theta1 = 93.376, 差分 = 0.0968\n",
      "338次: theta0 = 428.686, theta1 = 93.378, 差分 = 0.0930\n",
      "339次: theta0 = 428.695, theta1 = 93.380, 差分 = 0.0893\n",
      "340次: theta0 = 428.704, theta1 = 93.382, 差分 = 0.0858\n",
      "341次: theta0 = 428.713, theta1 = 93.384, 差分 = 0.0824\n",
      "342次: theta0 = 428.722, theta1 = 93.386, 差分 = 0.0791\n",
      "343次: theta0 = 428.730, theta1 = 93.388, 差分 = 0.0760\n",
      "344次: theta0 = 428.739, theta1 = 93.390, 差分 = 0.0730\n",
      "345次: theta0 = 428.747, theta1 = 93.392, 差分 = 0.0701\n",
      "346次: theta0 = 428.755, theta1 = 93.393, 差分 = 0.0673\n",
      "347次: theta0 = 428.763, theta1 = 93.395, 差分 = 0.0646\n",
      "348次: theta0 = 428.771, theta1 = 93.397, 差分 = 0.0621\n",
      "349次: theta0 = 428.778, theta1 = 93.398, 差分 = 0.0596\n",
      "350次: theta0 = 428.786, theta1 = 93.400, 差分 = 0.0573\n",
      "351次: theta0 = 428.793, theta1 = 93.402, 差分 = 0.0550\n",
      "352次: theta0 = 428.800, theta1 = 93.403, 差分 = 0.0528\n",
      "353次: theta0 = 428.807, theta1 = 93.405, 差分 = 0.0507\n",
      "354次: theta0 = 428.814, theta1 = 93.406, 差分 = 0.0487\n",
      "355次: theta0 = 428.821, theta1 = 93.408, 差分 = 0.0468\n",
      "356次: theta0 = 428.827, theta1 = 93.409, 差分 = 0.0449\n",
      "357次: theta0 = 428.834, theta1 = 93.410, 差分 = 0.0432\n",
      "358次: theta0 = 428.840, theta1 = 93.412, 差分 = 0.0415\n",
      "359次: theta0 = 428.846, theta1 = 93.413, 差分 = 0.0398\n",
      "360次: theta0 = 428.852, theta1 = 93.414, 差分 = 0.0382\n",
      "361次: theta0 = 428.858, theta1 = 93.416, 差分 = 0.0367\n",
      "362次: theta0 = 428.864, theta1 = 93.417, 差分 = 0.0353\n",
      "363次: theta0 = 428.870, theta1 = 93.418, 差分 = 0.0339\n",
      "364次: theta0 = 428.875, theta1 = 93.419, 差分 = 0.0325\n",
      "365次: theta0 = 428.881, theta1 = 93.421, 差分 = 0.0312\n",
      "366次: theta0 = 428.886, theta1 = 93.422, 差分 = 0.0300\n",
      "367次: theta0 = 428.892, theta1 = 93.423, 差分 = 0.0288\n",
      "368次: theta0 = 428.897, theta1 = 93.424, 差分 = 0.0277\n",
      "369次: theta0 = 428.902, theta1 = 93.425, 差分 = 0.0266\n",
      "370次: theta0 = 428.907, theta1 = 93.426, 差分 = 0.0255\n",
      "371次: theta0 = 428.912, theta1 = 93.427, 差分 = 0.0245\n",
      "372次: theta0 = 428.916, theta1 = 93.428, 差分 = 0.0235\n",
      "373次: theta0 = 428.921, theta1 = 93.429, 差分 = 0.0226\n",
      "374次: theta0 = 428.926, theta1 = 93.430, 差分 = 0.0217\n",
      "375次: theta0 = 428.930, theta1 = 93.431, 差分 = 0.0209\n",
      "376次: theta0 = 428.935, theta1 = 93.432, 差分 = 0.0200\n",
      "377次: theta0 = 428.939, theta1 = 93.433, 差分 = 0.0192\n",
      "378次: theta0 = 428.943, theta1 = 93.434, 差分 = 0.0185\n",
      "379次: theta0 = 428.947, theta1 = 93.435, 差分 = 0.0177\n",
      "380次: theta0 = 428.951, theta1 = 93.436, 差分 = 0.0170\n",
      "381次: theta0 = 428.955, theta1 = 93.437, 差分 = 0.0164\n",
      "382次: theta0 = 428.959, theta1 = 93.438, 差分 = 0.0157\n",
      "383次: theta0 = 428.963, theta1 = 93.438, 差分 = 0.0151\n",
      "384次: theta0 = 428.967, theta1 = 93.439, 差分 = 0.0145\n",
      "385次: theta0 = 428.970, theta1 = 93.440, 差分 = 0.0139\n",
      "386次: theta0 = 428.974, theta1 = 93.441, 差分 = 0.0134\n",
      "387次: theta0 = 428.978, theta1 = 93.441, 差分 = 0.0128\n",
      "388次: theta0 = 428.981, theta1 = 93.442, 差分 = 0.0123\n",
      "389次: theta0 = 428.984, theta1 = 93.443, 差分 = 0.0118\n",
      "390次: theta0 = 428.988, theta1 = 93.444, 差分 = 0.0114\n",
      "391次: theta0 = 428.991, theta1 = 93.444, 差分 = 0.0109\n",
      "392次: theta0 = 428.994, theta1 = 93.445, 差分 = 0.0105\n",
      "393次: theta0 = 428.997, theta1 = 93.446, 差分 = 0.0101\n",
      "394次: theta0 = 429.000, theta1 = 93.446, 差分 = 0.0097\n"
     ]
    }
   ],
   "source": [
    "# 學習率，自己設\n",
    "ETA = 1e-3\n",
    "\n",
    "# 誤差的差分\n",
    "diff = 1\n",
    "\n",
    "# 更新次數\n",
    "count = 0\n",
    "\n",
    "# 重複參數的更新，直到誤差的差分變成 0.01 以下為止\n",
    "error = E(train_z, train_y)\n",
    "while diff > 1e-2:\n",
    "    # 將更新結果儲存於臨時變數\n",
    "    tmp_theta0 = theta0 - ETA * np.sum((f(train_z) - train_y))\n",
    "    tmp_theta1 = theta1 - ETA * np.sum((f(train_z) - train_y) * train_z)\n",
    "    \n",
    "    # 更新參數\n",
    "    theta0 = tmp_theta0\n",
    "    theta1 = tmp_theta1\n",
    "    \n",
    "    # 計算與前一項誤差的差分\n",
    "    current_error = E(train_z, train_y)\n",
    "    diff = error - current_error\n",
    "    error = current_error\n",
    "    \n",
    "    # 輸出日誌\n",
    "    count += 1\n",
    "    log = '{}次: theta0 = {:.3f}, theta1 = {:.3f}, 差分 = {:.4f}'\n",
    "    print(log.format(count, theta0, theta1, diff))\n"
   ]
  },
  {
   "cell_type": "code",
   "execution_count": 18,
   "metadata": {},
   "outputs": [
    {
     "name": "stdout",
     "output_type": "stream",
     "text": [
      "[-3.         -2.93939394 -2.87878788 -2.81818182 -2.75757576 -2.6969697\n",
      " -2.63636364 -2.57575758 -2.51515152 -2.45454545 -2.39393939 -2.33333333\n",
      " -2.27272727 -2.21212121 -2.15151515 -2.09090909 -2.03030303 -1.96969697\n",
      " -1.90909091 -1.84848485 -1.78787879 -1.72727273 -1.66666667 -1.60606061\n",
      " -1.54545455 -1.48484848 -1.42424242 -1.36363636 -1.3030303  -1.24242424\n",
      " -1.18181818 -1.12121212 -1.06060606 -1.         -0.93939394 -0.87878788\n",
      " -0.81818182 -0.75757576 -0.6969697  -0.63636364 -0.57575758 -0.51515152\n",
      " -0.45454545 -0.39393939 -0.33333333 -0.27272727 -0.21212121 -0.15151515\n",
      " -0.09090909 -0.03030303  0.03030303  0.09090909  0.15151515  0.21212121\n",
      "  0.27272727  0.33333333  0.39393939  0.45454545  0.51515152  0.57575758\n",
      "  0.63636364  0.6969697   0.75757576  0.81818182  0.87878788  0.93939394\n",
      "  1.          1.06060606  1.12121212  1.18181818  1.24242424  1.3030303\n",
      "  1.36363636  1.42424242  1.48484848  1.54545455  1.60606061  1.66666667\n",
      "  1.72727273  1.78787879  1.84848485  1.90909091  1.96969697  2.03030303\n",
      "  2.09090909  2.15151515  2.21212121  2.27272727  2.33333333  2.39393939\n",
      "  2.45454545  2.51515152  2.57575758  2.63636364  2.6969697   2.75757576\n",
      "  2.81818182  2.87878788  2.93939394  3.        ]\n"
     ]
    }
   ],
   "source": [
    "# 繪圖來確認\n",
    "x = np.linspace(-3, 3, 100)\n",
    "print(x)"
   ]
  },
  {
   "cell_type": "code",
   "execution_count": 19,
   "metadata": {},
   "outputs": [
    {
     "name": "stdout",
     "output_type": "stream",
     "text": [
      "[148.66108707 154.32450454 159.98792201 165.65133948 171.31475695\n",
      " 176.97817442 182.64159189 188.30500936 193.96842683 199.6318443\n",
      " 205.29526177 210.95867925 216.62209672 222.28551419 227.94893166\n",
      " 233.61234913 239.2757666  244.93918407 250.60260154 256.26601901\n",
      " 261.92943648 267.59285395 273.25627142 278.91968889 284.58310636\n",
      " 290.24652384 295.90994131 301.57335878 307.23677625 312.90019372\n",
      " 318.56361119 324.22702866 329.89044613 335.5538636  341.21728107\n",
      " 346.88069854 352.54411601 358.20753348 363.87095096 369.53436843\n",
      " 375.1977859  380.86120337 386.52462084 392.18803831 397.85145578\n",
      " 403.51487325 409.17829072 414.84170819 420.50512566 426.16854313\n",
      " 431.8319606  437.49537807 443.15879555 448.82221302 454.48563049\n",
      " 460.14904796 465.81246543 471.4758829  477.13930037 482.80271784\n",
      " 488.46613531 494.12955278 499.79297025 505.45638772 511.11980519\n",
      " 516.78322267 522.44664014 528.11005761 533.77347508 539.43689255\n",
      " 545.10031002 550.76372749 556.42714496 562.09056243 567.7539799\n",
      " 573.41739737 579.08081484 584.74423231 590.40764978 596.07106726\n",
      " 601.73448473 607.3979022  613.06131967 618.72473714 624.38815461\n",
      " 630.05157208 635.71498955 641.37840702 647.04182449 652.70524196\n",
      " 658.36865943 664.0320769  669.69549438 675.35891185 681.02232932\n",
      " 686.68574679 692.34916426 698.01258173 703.6759992  709.33941667]\n"
     ]
    }
   ],
   "source": [
    "print(f(x))   # f(x) = theta0 + theta1 * x"
   ]
  },
  {
   "cell_type": "code",
   "execution_count": 20,
   "metadata": {},
   "outputs": [
    {
     "data": {
      "image/png": "[encoded data removed]",
      "text/plain": [
       "<Figure size 432x288 with 1 Axes>"
      ]
     },
     "metadata": {
      "needs_background": "light"
     },
     "output_type": "display_data"
    }
   ],
   "source": [
    "plt.plot(train_z, train_y, 'o')  # 點 \n",
    "plt.plot(x, f(x))  # 直線\n",
    "plt.show()"
   ]
  },
  {
   "cell_type": "code",
   "execution_count": 21,
   "metadata": {},
   "outputs": [
    {
     "data": {
      "text/plain": [
       "370.9671371349919"
      ]
     },
     "execution_count": 21,
     "metadata": {},
     "output_type": "execute_result"
    }
   ],
   "source": [
    "f(standardize(100))"
   ]
  },
  {
   "cell_type": "code",
   "execution_count": 22,
   "metadata": {},
   "outputs": [
    {
     "data": {
      "text/plain": [
       "510.46981678354456"
      ]
     },
     "execution_count": 22,
     "metadata": {},
     "output_type": "execute_result"
    }
   ],
   "source": [
    "f(standardize(200))"
   ]
  },
  {
   "cell_type": "code",
   "execution_count": 23,
   "metadata": {},
   "outputs": [
    {
     "data": {
      "text/plain": [
       "649.9724964320973"
      ]
     },
     "execution_count": 23,
     "metadata": {},
     "output_type": "execute_result"
    }
   ],
   "source": [
    "f(standardize(300))"
   ]
  },
  {
   "cell_type": "markdown",
   "metadata": {},
   "source": [
    "### 多項式迴歸的程式    p.165"
   ]
  },
  {
   "cell_type": "code",
   "execution_count": 33,
   "metadata": {},
   "outputs": [
    {
     "name": "stdout",
     "output_type": "stream",
     "text": [
      "[0.69804598 0.05969121 0.02888651]\n"
     ]
    }
   ],
   "source": [
    "# 初始化參數\n",
    "theta = np.random.rand(3)\n",
    "print(theta)"
   ]
  },
  {
   "cell_type": "code",
   "execution_count": 34,
   "metadata": {},
   "outputs": [
    {
     "name": "stdout",
     "output_type": "stream",
     "text": [
      "[[ 1.          1.39433428  1.94416809]\n",
      " [ 1.          1.11069026  1.23363286]\n",
      " [ 1.          0.09554325  0.00912851]\n",
      " [ 1.         -1.59139223  2.53252924]\n",
      " [ 1.         -0.8449606   0.71395842]\n",
      " [ 1.          0.93154667  0.8677792 ]\n",
      " [ 1.         -1.38239138  1.91100592]\n",
      " [ 1.         -1.74067856  3.02996185]\n",
      " [ 1.          0.46875906  0.21973506]\n",
      " [ 1.          0.73747445  0.54386856]\n",
      " [ 1.         -0.11345761  0.01287263]\n",
      " [ 1.         -0.63595975  0.4044448 ]\n",
      " [ 1.         -0.36724436  0.13486842]\n",
      " [ 1.         -0.44188752  0.19526458]\n",
      " [ 1.          0.3045441   0.09274711]\n",
      " [ 1.          1.94669369  3.78961632]\n",
      " [ 1.          0.25975821  0.06747433]\n",
      " [ 1.          0.25975821  0.06747433]\n",
      " [ 1.         -1.23310505  1.52054807]\n",
      " [ 1.          0.84197488  0.70892169]]\n"
     ]
    }
   ],
   "source": [
    "# 建立學習資料的矩陣\n",
    "def to_matrix(x):\n",
    "    return np.vstack([np.ones(x.shape[0]), x, x ** 2]).T\n",
    "\n",
    "X = to_matrix(train_z)\n",
    "print(X)"
   ]
  },
  {
   "cell_type": "code",
   "execution_count": 35,
   "metadata": {},
   "outputs": [],
   "source": [
    "# 預測函數\n",
    "def f(x):\n",
    "    return np.dot(x, theta)"
   ]
  },
  {
   "cell_type": "code",
   "execution_count": 40,
   "metadata": {},
   "outputs": [],
   "source": [
    "# 誤差的差分\n",
    "diff = 1\n",
    "\n",
    "# 重複學習\n",
    "error = E(X, train_y)\n",
    "while diff > 1e-2:\n",
    "    # 更新參數\n",
    "    theta = theta - ETA * np.dot(f(X) - train_y, X)\n",
    "    # 計算與前一項誤差的差分\n",
    "    current_error = E(X, train_y)\n",
    "    diff = error - current_error\n",
    "    error = current_error"
   ]
  },
  {
   "cell_type": "code",
   "execution_count": 41,
   "metadata": {},
   "outputs": [
    {
     "data": {
      "image/png": "[encoded data removed]",
      "text/plain": [
       "<Figure size 432x288 with 1 Axes>"
      ]
     },
     "metadata": {
      "needs_background": "light"
     },
     "output_type": "display_data"
    }
   ],
   "source": [
    "x = np.linspace(-3, 3, 100)\n",
    "\n",
    "plt.plot(train_z, train_y, 'o')\n",
    "plt.plot(x, f(to_matrix(x)))\n",
    "plt.show()"
   ]
  },
  {
   "cell_type": "code",
   "execution_count": null,
   "metadata": {},
   "outputs": [],
   "source": []
  },
  {
   "cell_type": "code",
   "execution_count": null,
   "metadata": {},
   "outputs": [],
   "source": []
  },
  {
   "cell_type": "code",
   "execution_count": null,
   "metadata": {},
   "outputs": [],
   "source": []
  },
  {
   "cell_type": "code",
   "execution_count": null,
   "metadata": {},
   "outputs": [],
   "source": []
  },
  {
   "cell_type": "code",
   "execution_count": null,
   "metadata": {},
   "outputs": [],
   "source": []
  }
 ],
 "metadata": {
  "kernelspec": {
   "display_name": "Python 3",
   "language": "python",
   "name": "python3"
  },
  "language_info": {
   "codemirror_mode": {
    "name": "ipython",
    "version": 3
   },
   "file_extension": ".py",
   "mimetype": "text/x-python",
   "name": "python",
   "nbconvert_exporter": "python",
   "pygments_lexer": "ipython3",
   "version": "3.7.3"
  }
 },
 "nbformat": 4,
 "nbformat_minor": 2
}
