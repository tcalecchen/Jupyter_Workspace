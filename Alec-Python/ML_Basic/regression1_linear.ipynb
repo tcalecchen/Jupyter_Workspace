{
 "cells": [
  {
   "cell_type": "markdown",
   "metadata": {},
   "source": [
    "#### regression1_linear      p.162"
   ]
  },
  {
   "cell_type": "code",
   "execution_count": 1,
   "metadata": {},
   "outputs": [],
   "source": [
    "import numpy as np\n",
    "import matplotlib.pyplot as plt\n",
    "plt.rcParams['axes.unicode_minus']=False  # 解決 plot 負號不能顯示問題\n",
    "plt.rcParams['font.sans-serif'] = ['Microsoft JhengHei']   # 解決 plot 中文不能顯示問題"
   ]
  },
  {
   "cell_type": "code",
   "execution_count": 2,
   "metadata": {},
   "outputs": [
    {
     "name": "stdout",
     "output_type": "stream",
     "text": [
      "[[235. 591.]\n",
      " [216. 539.]\n",
      " [148. 413.]\n",
      " [ 35. 310.]\n",
      " [ 85. 308.]\n",
      " [204. 519.]\n",
      " [ 49. 325.]\n",
      " [ 25. 332.]\n",
      " [173. 498.]\n",
      " [191. 498.]\n",
      " [134. 392.]\n",
      " [ 99. 334.]\n",
      " [117. 385.]\n",
      " [112. 387.]\n",
      " [162. 425.]\n",
      " [272. 659.]\n",
      " [159. 400.]\n",
      " [159. 427.]\n",
      " [ 59. 319.]\n",
      " [198. 522.]]\n"
     ]
    }
   ],
   "source": [
    "# 讀入資料\n",
    "train = np.loadtxt('click.csv', delimiter=',', skiprows=1)\n",
    "print(train)"
   ]
  },
  {
   "cell_type": "code",
   "execution_count": 3,
   "metadata": {},
   "outputs": [],
   "source": [
    "train_x = train[:, 0]  # 第 0 行，取全部  -- x 軸（廣告費）\n"
   ]
  },
  {
   "cell_type": "code",
   "execution_count": 4,
   "metadata": {},
   "outputs": [
    {
     "name": "stdout",
     "output_type": "stream",
     "text": [
      "[235. 216. 148.  35.  85. 204.  49.  25. 173. 191. 134.  99. 117. 112.\n",
      " 162. 272. 159. 159.  59. 198.]\n"
     ]
    }
   ],
   "source": [
    "print(train_x)"
   ]
  },
  {
   "cell_type": "code",
   "execution_count": 5,
   "metadata": {},
   "outputs": [],
   "source": [
    "train_y = train[:, 1]  # 第 1 行，取全部  -- y 軸（點擊數）"
   ]
  },
  {
   "cell_type": "code",
   "execution_count": 6,
   "metadata": {},
   "outputs": [
    {
     "name": "stdout",
     "output_type": "stream",
     "text": [
      "[591. 539. 413. 310. 308. 519. 325. 332. 498. 498. 392. 334. 385. 387.\n",
      " 425. 659. 400. 427. 319. 522.]\n"
     ]
    }
   ],
   "source": [
    "print(train_y)"
   ]
  },
  {
   "cell_type": "code",
   "execution_count": 7,
   "metadata": {},
   "outputs": [
    {
     "data": {
      "image/png": "[encoded data removed]",
      "text/plain": [
       "<Figure size 432x288 with 1 Axes>"
      ]
     },
     "metadata": {
      "needs_background": "light"
     },
     "output_type": "display_data"
    }
   ],
   "source": [
    "# 畫圖\n",
    "plt.plot(train_x, train_y, 'o')\n",
    "plt.xlabel('廣告費')\n",
    "plt.ylabel('點擊數')\n",
    "plt.show()"
   ]
  },
  {
   "cell_type": "markdown",
   "metadata": {},
   "source": [
    "### 預測函數(p.30)： $$f_\\theta(x) = \\theta_0 + \\theta_1x $$\n",
    "\n",
    "###      $$ \\theta_0：截距 \\;\\;\\; \\theta_1：斜率  $$\n",
    "\n",
    "###  目標函數(p.33) -- 最小平方法： $$E(\\theta) = \\frac{1}{2}\\sum_{i=1}^n{\\left({y^{(i)} - f_\\theta(x^{(i)}) }\\right)}^2   $$"
   ]
  },
  {
   "cell_type": "code",
   "execution_count": 8,
   "metadata": {},
   "outputs": [],
   "source": [
    "# 初始化參數\n",
    "theta0 = np.random.rand()\n",
    "theta1 = np.random.rand()"
   ]
  },
  {
   "cell_type": "code",
   "execution_count": 9,
   "metadata": {},
   "outputs": [
    {
     "name": "stdout",
     "output_type": "stream",
     "text": [
      "0.5682147890260191\n"
     ]
    }
   ],
   "source": [
    "print(theta0)"
   ]
  },
  {
   "cell_type": "code",
   "execution_count": 10,
   "metadata": {},
   "outputs": [
    {
     "name": "stdout",
     "output_type": "stream",
     "text": [
      "0.1472812331385871\n"
     ]
    }
   ],
   "source": [
    "print(theta1)"
   ]
  },
  {
   "cell_type": "code",
   "execution_count": 11,
   "metadata": {},
   "outputs": [],
   "source": [
    "# 預測函數\n",
    "def f(x):\n",
    "    return theta0 + theta1 * x\n",
    "\n",
    "# 目標函數\n",
    "def E(x, y):\n",
    "    return 0.5 * np.sum((y - f(x)) ** 2)"
   ]
  },
  {
   "cell_type": "markdown",
   "metadata": {},
   "source": [
    "### 標準化或 Z-score 正規化  $$ z^{(i)} = \\frac{x^{(i)} - \\mu}{\\sigma} $$"
   ]
  },
  {
   "cell_type": "code",
   "execution_count": 12,
   "metadata": {},
   "outputs": [],
   "source": [
    "# 標準化\n",
    "mu = train_x.mean()    # 平均數\n",
    "sigma = train_x.std()  # 標準差"
   ]
  },
  {
   "cell_type": "code",
   "execution_count": 13,
   "metadata": {},
   "outputs": [
    {
     "name": "stdout",
     "output_type": "stream",
     "text": [
      "141.6\n"
     ]
    }
   ],
   "source": [
    "print(mu)"
   ]
  },
  {
   "cell_type": "code",
   "execution_count": 14,
   "metadata": {},
   "outputs": [
    {
     "name": "stdout",
     "output_type": "stream",
     "text": [
      "66.98537153737374\n"
     ]
    }
   ],
   "source": [
    "print(sigma)"
   ]
  },
  {
   "cell_type": "code",
   "execution_count": 15,
   "metadata": {},
   "outputs": [
    {
     "name": "stdout",
     "output_type": "stream",
     "text": [
      "[ 1.39433428  1.11069026  0.09554325 -1.59139223 -0.8449606   0.93154667\n",
      " -1.38239138 -1.74067856  0.46875906  0.73747445 -0.11345761 -0.63595975\n",
      " -0.36724436 -0.44188752  0.3045441   1.94669369  0.25975821  0.25975821\n",
      " -1.23310505  0.84197488]\n"
     ]
    }
   ],
   "source": [
    "def standardize(x):\n",
    "    return (x - mu) / sigma\n",
    "\n",
    "train_z = standardize(train_x)  # 將 X 軸（廣告費）標準化\n",
    "print(train_z)"
   ]
  },
  {
   "cell_type": "code",
   "execution_count": 16,
   "metadata": {},
   "outputs": [
    {
     "data": {
      "image/png": "[encoded data removed]",
      "text/plain": [
       "<Figure size 432x288 with 1 Axes>"
      ]
     },
     "metadata": {
      "needs_background": "light"
     },
     "output_type": "display_data"
    }
   ],
   "source": [
    "plt.plot(train_z, train_y, 'o')\n",
    "plt.xlabel('廣告費')\n",
    "plt.ylabel('點擊數')\n",
    "plt.show()\n",
    "\n",
    "# 標準化後，x 軸的刻度變小了"
   ]
  },
  {
   "cell_type": "markdown",
   "metadata": {},
   "source": [
    "### $$ \\theta_0 := \\theta_0 - \\eta\\sum_{i=1}^n{\\left(f_\\theta(x^{(i)}) - {y^{(i)}}\\right)}  $$\n",
    "\n",
    "### $$ \\theta_1 := \\theta_1 - \\eta\\sum_{i=1}^n{\\left(f_\\theta(x^{(i)}) - {y^{(i)}}\\right)}x^{(i)} $$"
   ]
  },
  {
   "cell_type": "code",
   "execution_count": 17,
   "metadata": {},
   "outputs": [
    {
     "name": "stdout",
     "output_type": "stream",
     "text": [
      "1次: theta0 = 9.140, theta1 = 2.014, 差分 = 76187.6728\n",
      "2次: theta0 = 17.540, theta1 = 3.843, 差分 = 73170.6409\n",
      "3次: theta0 = 25.772, theta1 = 5.636, 差分 = 70273.0835\n",
      "4次: theta0 = 33.840, theta1 = 7.393, 差分 = 67490.2694\n",
      "5次: theta0 = 41.746, theta1 = 9.114, 差分 = 64817.6548\n",
      "6次: theta0 = 49.494, theta1 = 10.802, 差分 = 62250.8756\n",
      "7次: theta0 = 57.087, theta1 = 12.455, 差分 = 59785.7410\n",
      "8次: theta0 = 64.528, theta1 = 14.076, 差分 = 57418.2256\n",
      "9次: theta0 = 71.821, theta1 = 15.664, 差分 = 55144.4639\n",
      "10次: theta0 = 78.967, theta1 = 17.220, 差分 = 52960.7431\n",
      "11次: theta0 = 85.971, theta1 = 18.745, 差分 = 50863.4977\n",
      "12次: theta0 = 92.835, theta1 = 20.240, 差分 = 48849.3032\n",
      "13次: theta0 = 99.561, theta1 = 21.705, 差分 = 46914.8708\n",
      "14次: theta0 = 106.153, theta1 = 23.140, 差分 = 45057.0419\n",
      "15次: theta0 = 112.613, theta1 = 24.547, 差分 = 43272.7830\n",
      "16次: theta0 = 118.943, theta1 = 25.926, 差分 = 41559.1808\n",
      "17次: theta0 = 125.148, theta1 = 27.277, 差分 = 39913.4373\n",
      "18次: theta0 = 131.228, theta1 = 28.601, 差分 = 38332.8651\n",
      "19次: theta0 = 137.186, theta1 = 29.898, 差分 = 36814.8837\n",
      "20次: theta0 = 143.025, theta1 = 31.170, 差分 = 35357.0143\n",
      "21次: theta0 = 148.748, theta1 = 32.416, 差分 = 33956.8765\n",
      "22次: theta0 = 154.356, theta1 = 33.637, 差分 = 32612.1842\n",
      "23次: theta0 = 159.852, theta1 = 34.834, 差分 = 31320.7417\n",
      "24次: theta0 = 165.238, theta1 = 36.007, 差分 = 30080.4403\n",
      "25次: theta0 = 170.516, theta1 = 37.157, 差分 = 28889.2549\n",
      "26次: theta0 = 175.689, theta1 = 38.283, 差分 = 27745.2404\n",
      "27次: theta0 = 180.758, theta1 = 39.387, 差分 = 26646.5289\n",
      "28次: theta0 = 185.726, theta1 = 40.469, 差分 = 25591.3263\n",
      "29次: theta0 = 190.594, theta1 = 41.529, 差分 = 24577.9098\n",
      "30次: theta0 = 195.365, theta1 = 42.568, 差分 = 23604.6246\n",
      "31次: theta0 = 200.041, theta1 = 43.586, 差分 = 22669.8815\n",
      "32次: theta0 = 204.623, theta1 = 44.584, 差分 = 21772.1542\n",
      "33次: theta0 = 209.114, theta1 = 45.562, 差分 = 20909.9769\n",
      "34次: theta0 = 213.514, theta1 = 46.520, 差分 = 20081.9418\n",
      "35次: theta0 = 217.827, theta1 = 47.459, 差分 = 19286.6969\n",
      "36次: theta0 = 222.054, theta1 = 48.380, 差分 = 18522.9437\n",
      "37次: theta0 = 226.196, theta1 = 49.282, 差分 = 17789.4351\n",
      "38次: theta0 = 230.255, theta1 = 50.166, 差分 = 17084.9735\n",
      "39次: theta0 = 234.233, theta1 = 51.032, 差分 = 16408.4085\n",
      "40次: theta0 = 238.131, theta1 = 51.881, 差分 = 15758.6356\n",
      "41次: theta0 = 241.951, theta1 = 52.713, 差分 = 15134.5936\n",
      "42次: theta0 = 245.695, theta1 = 53.528, 差分 = 14535.2637\n",
      "43次: theta0 = 249.364, theta1 = 54.327, 差分 = 13959.6672\n",
      "44次: theta0 = 252.960, theta1 = 55.110, 差分 = 13406.8644\n",
      "45次: theta0 = 256.484, theta1 = 55.878, 差分 = 12875.9526\n",
      "46次: theta0 = 259.937, theta1 = 56.630, 差分 = 12366.0649\n",
      "47次: theta0 = 263.321, theta1 = 57.367, 差分 = 11876.3687\n",
      "48次: theta0 = 266.638, theta1 = 58.089, 差分 = 11406.0645\n",
      "49次: theta0 = 269.888, theta1 = 58.797, 差分 = 10954.3843\n",
      "50次: theta0 = 273.074, theta1 = 59.490, 差分 = 10520.5907\n",
      "51次: theta0 = 276.195, theta1 = 60.170, 差分 = 10103.9753\n",
      "52次: theta0 = 279.254, theta1 = 60.836, 差分 = 9703.8579\n",
      "53次: theta0 = 282.252, theta1 = 61.489, 差分 = 9319.5851\n",
      "54次: theta0 = 285.190, theta1 = 62.129, 差分 = 8950.5296\n",
      "55次: theta0 = 288.069, theta1 = 62.756, 差分 = 8596.0886\n",
      "56次: theta0 = 290.891, theta1 = 63.370, 差分 = 8255.6835\n",
      "57次: theta0 = 293.656, theta1 = 63.972, 差分 = 7928.7584\n",
      "58次: theta0 = 296.366, theta1 = 64.563, 差分 = 7614.7796\n",
      "59次: theta0 = 299.022, theta1 = 65.141, 差分 = 7313.2343\n",
      "60次: theta0 = 301.624, theta1 = 65.708, 差分 = 7023.6302\n",
      "61次: theta0 = 304.175, theta1 = 66.263, 差分 = 6745.4945\n",
      "62次: theta0 = 306.674, theta1 = 66.807, 差分 = 6478.3729\n",
      "63次: theta0 = 309.124, theta1 = 67.341, 差分 = 6221.8293\n",
      "64次: theta0 = 311.524, theta1 = 67.864, 差分 = 5975.4449\n",
      "65次: theta0 = 313.877, theta1 = 68.376, 差分 = 5738.8173\n",
      "66次: theta0 = 316.182, theta1 = 68.878, 差分 = 5511.5601\n",
      "67次: theta0 = 318.442, theta1 = 69.370, 差分 = 5293.3023\n",
      "68次: theta0 = 320.656, theta1 = 69.852, 差分 = 5083.6876\n",
      "69次: theta0 = 322.826, theta1 = 70.325, 差分 = 4882.3735\n",
      "70次: theta0 = 324.952, theta1 = 70.788, 差分 = 4689.0315\n",
      "71次: theta0 = 327.036, theta1 = 71.242, 差分 = 4503.3459\n",
      "72次: theta0 = 329.078, theta1 = 71.686, 差分 = 4325.0134\n",
      "73次: theta0 = 331.080, theta1 = 72.122, 差分 = 4153.7429\n",
      "74次: theta0 = 333.041, theta1 = 72.549, 差分 = 3989.2546\n",
      "75次: theta0 = 334.963, theta1 = 72.968, 差分 = 3831.2802\n",
      "76次: theta0 = 336.847, theta1 = 73.378, 差分 = 3679.5615\n",
      "77次: theta0 = 338.693, theta1 = 73.780, 差分 = 3533.8508\n",
      "78次: theta0 = 340.502, theta1 = 74.174, 差分 = 3393.9103\n",
      "79次: theta0 = 342.275, theta1 = 74.560, 差分 = 3259.5115\n",
      "80次: theta0 = 344.013, theta1 = 74.939, 差分 = 3130.4348\n",
      "81次: theta0 = 345.715, theta1 = 75.309, 差分 = 3006.4696\n",
      "82次: theta0 = 347.384, theta1 = 75.673, 差分 = 2887.4134\n",
      "83次: theta0 = 349.019, theta1 = 76.029, 差分 = 2773.0718\n",
      "84次: theta0 = 350.622, theta1 = 76.378, 差分 = 2663.2582\n",
      "85次: theta0 = 352.193, theta1 = 76.720, 差分 = 2557.7932\n",
      "86次: theta0 = 353.732, theta1 = 77.055, 差分 = 2456.5046\n",
      "87次: theta0 = 355.240, theta1 = 77.384, 差分 = 2359.2270\n",
      "88次: theta0 = 356.718, theta1 = 77.705, 差分 = 2265.8016\n",
      "89次: theta0 = 358.167, theta1 = 78.021, 差分 = 2176.0759\n",
      "90次: theta0 = 359.587, theta1 = 78.330, 差分 = 2089.9032\n",
      "91次: theta0 = 360.978, theta1 = 78.633, 差分 = 2007.1431\n",
      "92次: theta0 = 362.341, theta1 = 78.930, 差分 = 1927.6602\n",
      "93次: theta0 = 363.678, theta1 = 79.221, 差分 = 1851.3249\n",
      "94次: theta0 = 364.987, theta1 = 79.506, 差分 = 1778.0124\n",
      "95次: theta0 = 366.270, theta1 = 79.786, 差分 = 1707.6031\n",
      "96次: theta0 = 367.528, theta1 = 80.059, 差分 = 1639.9820\n",
      "97次: theta0 = 368.760, theta1 = 80.328, 差分 = 1575.0387\n",
      "98次: theta0 = 369.968, theta1 = 80.591, 差分 = 1512.6672\n",
      "99次: theta0 = 371.152, theta1 = 80.849, 差分 = 1452.7656\n",
      "100次: theta0 = 372.312, theta1 = 81.101, 差分 = 1395.2361\n",
      "101次: theta0 = 373.448, theta1 = 81.349, 差分 = 1339.9847\n",
      "102次: theta0 = 374.562, theta1 = 81.591, 差分 = 1286.9213\n",
      "103次: theta0 = 375.654, theta1 = 81.829, 差分 = 1235.9592\n",
      "104次: theta0 = 376.724, theta1 = 82.062, 差分 = 1187.0153\n",
      "105次: theta0 = 377.773, theta1 = 82.290, 差分 = 1140.0095\n",
      "106次: theta0 = 378.800, theta1 = 82.514, 差分 = 1094.8651\n",
      "107次: theta0 = 379.807, theta1 = 82.733, 差分 = 1051.5084\n",
      "108次: theta0 = 380.794, theta1 = 82.948, 差分 = 1009.8687\n",
      "109次: theta0 = 381.761, theta1 = 83.159, 差分 = 969.8779\n",
      "110次: theta0 = 382.709, theta1 = 83.365, 差分 = 931.4707\n",
      "111次: theta0 = 383.638, theta1 = 83.568, 差分 = 894.5845\n",
      "112次: theta0 = 384.548, theta1 = 83.766, 差分 = 859.1589\n",
      "113次: theta0 = 385.440, theta1 = 83.960, 差分 = 825.1362\n",
      "114次: theta0 = 386.314, theta1 = 84.151, 差分 = 792.4608\n",
      "115次: theta0 = 387.171, theta1 = 84.337, 差分 = 761.0794\n",
      "116次: theta0 = 388.011, theta1 = 84.520, 差分 = 730.9407\n",
      "117次: theta0 = 388.833, theta1 = 84.699, 差分 = 701.9954\n",
      "118次: theta0 = 389.640, theta1 = 84.875, 差分 = 674.1964\n",
      "119次: theta0 = 390.430, theta1 = 85.047, 差分 = 647.4982\n",
      "120次: theta0 = 391.204, theta1 = 85.215, 差分 = 621.8573\n",
      "121次: theta0 = 391.963, theta1 = 85.381, 差分 = 597.2317\n",
      "122次: theta0 = 392.707, theta1 = 85.543, 差分 = 573.5814\n",
      "123次: theta0 = 393.436, theta1 = 85.701, 差分 = 550.8675\n",
      "124次: theta0 = 394.150, theta1 = 85.857, 差分 = 529.0532\n",
      "125次: theta0 = 394.850, theta1 = 86.009, 差分 = 508.1027\n",
      "126次: theta0 = 395.536, theta1 = 86.159, 差分 = 487.9818\n",
      "127次: theta0 = 396.208, theta1 = 86.305, 差分 = 468.6577\n",
      "128次: theta0 = 396.867, theta1 = 86.449, 差分 = 450.0989\n",
      "129次: theta0 = 397.513, theta1 = 86.589, 差分 = 432.2750\n",
      "130次: theta0 = 398.146, theta1 = 86.727, 差分 = 415.1569\n",
      "131次: theta0 = 398.766, theta1 = 86.862, 差分 = 398.7167\n",
      "132次: theta0 = 399.373, theta1 = 86.994, 差分 = 382.9275\n",
      "133次: theta0 = 399.969, theta1 = 87.124, 差分 = 367.7636\n",
      "134次: theta0 = 400.553, theta1 = 87.251, 差分 = 353.2001\n",
      "135次: theta0 = 401.124, theta1 = 87.376, 差分 = 339.2134\n",
      "136次: theta0 = 401.685, theta1 = 87.498, 差分 = 325.7805\n",
      "137次: theta0 = 402.234, theta1 = 87.617, 差分 = 312.8796\n",
      "138次: theta0 = 402.773, theta1 = 87.735, 差分 = 300.4896\n",
      "139次: theta0 = 403.300, theta1 = 87.849, 差分 = 288.5902\n",
      "140次: theta0 = 403.817, theta1 = 87.962, 差分 = 277.1620\n",
      "141次: theta0 = 404.324, theta1 = 88.072, 差分 = 266.1864\n",
      "142次: theta0 = 404.820, theta1 = 88.181, 差分 = 255.6454\n",
      "143次: theta0 = 405.307, theta1 = 88.287, 差分 = 245.5219\n",
      "144次: theta0 = 405.784, theta1 = 88.390, 差分 = 235.7992\n",
      "145次: theta0 = 406.251, theta1 = 88.492, 差分 = 226.4616\n",
      "146次: theta0 = 406.709, theta1 = 88.592, 差分 = 217.4937\n",
      "147次: theta0 = 407.158, theta1 = 88.690, 差分 = 208.8809\n",
      "148次: theta0 = 407.598, theta1 = 88.785, 差分 = 200.6093\n",
      "149次: theta0 = 408.029, theta1 = 88.879, 差分 = 192.6651\n",
      "150次: theta0 = 408.451, theta1 = 88.971, 差分 = 185.0356\n",
      "151次: theta0 = 408.865, theta1 = 89.061, 差分 = 177.7082\n",
      "152次: theta0 = 409.271, theta1 = 89.150, 差分 = 170.6709\n",
      "153次: theta0 = 409.668, theta1 = 89.236, 差分 = 163.9124\n",
      "154次: theta0 = 410.058, theta1 = 89.321, 差分 = 157.4214\n",
      "155次: theta0 = 410.440, theta1 = 89.404, 差分 = 151.1875\n",
      "156次: theta0 = 410.814, theta1 = 89.486, 差分 = 145.2005\n",
      "157次: theta0 = 411.181, theta1 = 89.566, 差分 = 139.4506\n",
      "158次: theta0 = 411.540, theta1 = 89.644, 差分 = 133.9283\n",
      "159次: theta0 = 411.892, theta1 = 89.721, 差分 = 128.6248\n",
      "160次: theta0 = 412.238, theta1 = 89.796, 差分 = 123.5312\n",
      "161次: theta0 = 412.576, theta1 = 89.869, 差分 = 118.6394\n",
      "162次: theta0 = 412.907, theta1 = 89.942, 差分 = 113.9413\n",
      "163次: theta0 = 413.232, theta1 = 90.012, 差分 = 109.4292\n",
      "164次: theta0 = 413.551, theta1 = 90.082, 差分 = 105.0958\n",
      "165次: theta0 = 413.863, theta1 = 90.150, 差分 = 100.9340\n",
      "166次: theta0 = 414.168, theta1 = 90.216, 差分 = 96.9370\n",
      "167次: theta0 = 414.468, theta1 = 90.281, 差分 = 93.0983\n",
      "168次: theta0 = 414.762, theta1 = 90.345, 差分 = 89.4116\n",
      "169次: theta0 = 415.049, theta1 = 90.408, 差分 = 85.8709\n",
      "170次: theta0 = 415.331, theta1 = 90.469, 差分 = 82.4704\n",
      "171次: theta0 = 415.608, theta1 = 90.530, 差分 = 79.2046\n",
      "172次: theta0 = 415.879, theta1 = 90.589, 差分 = 76.0681\n",
      "173次: theta0 = 416.144, theta1 = 90.646, 差分 = 73.0558\n",
      "174次: theta0 = 416.404, theta1 = 90.703, 差分 = 70.1628\n",
      "175次: theta0 = 416.659, theta1 = 90.759, 差分 = 67.3844\n",
      "176次: theta0 = 416.909, theta1 = 90.813, 差分 = 64.7159\n",
      "177次: theta0 = 417.154, theta1 = 90.866, 差分 = 62.1532\n",
      "178次: theta0 = 417.394, theta1 = 90.919, 差分 = 59.6919\n",
      "179次: theta0 = 417.629, theta1 = 90.970, 差分 = 57.3281\n",
      "180次: theta0 = 417.859, theta1 = 91.020, 差分 = 55.0579\n",
      "181次: theta0 = 418.085, theta1 = 91.069, 差分 = 52.8776\n",
      "182次: theta0 = 418.306, theta1 = 91.117, 差分 = 50.7837\n",
      "183次: theta0 = 418.523, theta1 = 91.165, 差分 = 48.7726\n",
      "184次: theta0 = 418.736, theta1 = 91.211, 差分 = 46.8412\n",
      "185次: theta0 = 418.944, theta1 = 91.256, 差分 = 44.9863\n",
      "186次: theta0 = 419.148, theta1 = 91.301, 差分 = 43.2049\n",
      "187次: theta0 = 419.348, theta1 = 91.344, 差分 = 41.4940\n",
      "188次: theta0 = 419.544, theta1 = 91.387, 差分 = 39.8508\n",
      "189次: theta0 = 419.736, theta1 = 91.429, 差分 = 38.2727\n",
      "190次: theta0 = 419.925, theta1 = 91.470, 差分 = 36.7571\n",
      "191次: theta0 = 420.109, theta1 = 91.510, 差分 = 35.3015\n",
      "192次: theta0 = 420.290, theta1 = 91.549, 差分 = 33.9036\n",
      "193次: theta0 = 420.467, theta1 = 91.588, 差分 = 32.5610\n",
      "194次: theta0 = 420.641, theta1 = 91.626, 差分 = 31.2716\n",
      "195次: theta0 = 420.811, theta1 = 91.663, 差分 = 30.0332\n",
      "196次: theta0 = 420.978, theta1 = 91.699, 差分 = 28.8439\n",
      "197次: theta0 = 421.141, theta1 = 91.735, 差分 = 27.7017\n",
      "198次: theta0 = 421.301, theta1 = 91.770, 差分 = 26.6047\n",
      "199次: theta0 = 421.458, theta1 = 91.804, 差分 = 25.5512\n",
      "200次: theta0 = 421.612, theta1 = 91.837, 差分 = 24.5393\n",
      "201次: theta0 = 421.763, theta1 = 91.870, 差分 = 23.5676\n",
      "202次: theta0 = 421.911, theta1 = 91.902, 差分 = 22.6343\n",
      "203次: theta0 = 422.055, theta1 = 91.934, 差分 = 21.7380\n",
      "204次: theta0 = 422.197, theta1 = 91.965, 差分 = 20.8772\n",
      "205次: theta0 = 422.336, theta1 = 91.995, 差分 = 20.0504\n",
      "206次: theta0 = 422.473, theta1 = 92.025, 差分 = 19.2564\n",
      "207次: theta0 = 422.606, theta1 = 92.054, 差分 = 18.4939\n",
      "208次: theta0 = 422.737, theta1 = 92.082, 差分 = 17.7615\n",
      "209次: theta0 = 422.865, theta1 = 92.110, 差分 = 17.0582\n",
      "210次: theta0 = 422.991, theta1 = 92.138, 差分 = 16.3827\n"
     ]
    },
    {
     "name": "stdout",
     "output_type": "stream",
     "text": [
      "211次: theta0 = 423.114, theta1 = 92.164, 差分 = 15.7339\n",
      "212次: theta0 = 423.235, theta1 = 92.191, 差分 = 15.1108\n",
      "213次: theta0 = 423.353, theta1 = 92.216, 差分 = 14.5125\n",
      "214次: theta0 = 423.469, theta1 = 92.242, 差分 = 13.9378\n",
      "215次: theta0 = 423.583, theta1 = 92.266, 差分 = 13.3858\n",
      "216次: theta0 = 423.694, theta1 = 92.291, 差分 = 12.8557\n",
      "217次: theta0 = 423.803, theta1 = 92.314, 差分 = 12.3467\n",
      "218次: theta0 = 423.910, theta1 = 92.338, 差分 = 11.8577\n",
      "219次: theta0 = 424.015, theta1 = 92.361, 差分 = 11.3882\n",
      "220次: theta0 = 424.118, theta1 = 92.383, 差分 = 10.9372\n",
      "221次: theta0 = 424.218, theta1 = 92.405, 差分 = 10.5041\n",
      "222次: theta0 = 424.317, theta1 = 92.426, 差分 = 10.0881\n",
      "223次: theta0 = 424.414, theta1 = 92.447, 差分 = 9.6886\n",
      "224次: theta0 = 424.508, theta1 = 92.468, 差分 = 9.3050\n",
      "225次: theta0 = 424.601, theta1 = 92.488, 差分 = 8.9365\n",
      "226次: theta0 = 424.692, theta1 = 92.508, 差分 = 8.5826\n",
      "227次: theta0 = 424.781, theta1 = 92.527, 差分 = 8.2427\n",
      "228次: theta0 = 424.869, theta1 = 92.546, 差分 = 7.9163\n",
      "229次: theta0 = 424.954, theta1 = 92.565, 差分 = 7.6028\n",
      "230次: theta0 = 425.038, theta1 = 92.583, 差分 = 7.3018\n",
      "231次: theta0 = 425.120, theta1 = 92.601, 差分 = 7.0126\n",
      "232次: theta0 = 425.201, theta1 = 92.619, 差分 = 6.7349\n",
      "233次: theta0 = 425.280, theta1 = 92.636, 差分 = 6.4682\n",
      "234次: theta0 = 425.357, theta1 = 92.653, 差分 = 6.2121\n",
      "235次: theta0 = 425.433, theta1 = 92.669, 差分 = 5.9661\n",
      "236次: theta0 = 425.508, theta1 = 92.686, 差分 = 5.7298\n",
      "237次: theta0 = 425.580, theta1 = 92.701, 差分 = 5.5029\n",
      "238次: theta0 = 425.652, theta1 = 92.717, 差分 = 5.2850\n",
      "239次: theta0 = 425.722, theta1 = 92.732, 差分 = 5.0757\n",
      "240次: theta0 = 425.790, theta1 = 92.747, 差分 = 4.8747\n",
      "241次: theta0 = 425.858, theta1 = 92.762, 差分 = 4.6817\n",
      "242次: theta0 = 425.923, theta1 = 92.776, 差分 = 4.4963\n",
      "243次: theta0 = 425.988, theta1 = 92.790, 差分 = 4.3182\n",
      "244次: theta0 = 426.051, theta1 = 92.804, 差分 = 4.1472\n",
      "245次: theta0 = 426.113, theta1 = 92.817, 差分 = 3.9830\n",
      "246次: theta0 = 426.174, theta1 = 92.831, 差分 = 3.8253\n",
      "247次: theta0 = 426.233, theta1 = 92.844, 差分 = 3.6738\n",
      "248次: theta0 = 426.292, theta1 = 92.856, 差分 = 3.5283\n",
      "249次: theta0 = 426.349, theta1 = 92.869, 差分 = 3.3886\n",
      "250次: theta0 = 426.405, theta1 = 92.881, 差分 = 3.2544\n",
      "251次: theta0 = 426.460, theta1 = 92.893, 差分 = 3.1255\n",
      "252次: theta0 = 426.514, theta1 = 92.905, 差分 = 3.0018\n",
      "253次: theta0 = 426.566, theta1 = 92.916, 差分 = 2.8829\n",
      "254次: theta0 = 426.618, theta1 = 92.927, 差分 = 2.7687\n",
      "255次: theta0 = 426.669, theta1 = 92.938, 差分 = 2.6591\n",
      "256次: theta0 = 426.718, theta1 = 92.949, 差分 = 2.5538\n",
      "257次: theta0 = 426.767, theta1 = 92.960, 差分 = 2.4526\n",
      "258次: theta0 = 426.815, theta1 = 92.970, 差分 = 2.3555\n",
      "259次: theta0 = 426.861, theta1 = 92.980, 差分 = 2.2622\n",
      "260次: theta0 = 426.907, theta1 = 92.990, 差分 = 2.1727\n",
      "261次: theta0 = 426.952, theta1 = 93.000, 差分 = 2.0866\n",
      "262次: theta0 = 426.996, theta1 = 93.010, 差分 = 2.0040\n",
      "263次: theta0 = 427.039, theta1 = 93.019, 差分 = 1.9246\n",
      "264次: theta0 = 427.081, theta1 = 93.028, 差分 = 1.8484\n",
      "265次: theta0 = 427.123, theta1 = 93.037, 差分 = 1.7752\n",
      "266次: theta0 = 427.163, theta1 = 93.046, 差分 = 1.7049\n",
      "267次: theta0 = 427.203, theta1 = 93.055, 差分 = 1.6374\n",
      "268次: theta0 = 427.242, theta1 = 93.063, 差分 = 1.5726\n",
      "269次: theta0 = 427.280, theta1 = 93.072, 差分 = 1.5103\n",
      "270次: theta0 = 427.317, theta1 = 93.080, 差分 = 1.4505\n",
      "271次: theta0 = 427.354, theta1 = 93.088, 差分 = 1.3930\n",
      "272次: theta0 = 427.390, theta1 = 93.095, 差分 = 1.3379\n",
      "273次: theta0 = 427.425, theta1 = 93.103, 差分 = 1.2849\n",
      "274次: theta0 = 427.460, theta1 = 93.111, 差分 = 1.2340\n",
      "275次: theta0 = 427.493, theta1 = 93.118, 差分 = 1.1852\n",
      "276次: theta0 = 427.527, theta1 = 93.125, 差分 = 1.1382\n",
      "277次: theta0 = 427.559, theta1 = 93.132, 差分 = 1.0931\n",
      "278次: theta0 = 427.591, theta1 = 93.139, 差分 = 1.0499\n",
      "279次: theta0 = 427.622, theta1 = 93.146, 差分 = 1.0083\n",
      "280次: theta0 = 427.653, theta1 = 93.153, 差分 = 0.9684\n",
      "281次: theta0 = 427.683, theta1 = 93.159, 差分 = 0.9300\n",
      "282次: theta0 = 427.712, theta1 = 93.166, 差分 = 0.8932\n",
      "283次: theta0 = 427.741, theta1 = 93.172, 差分 = 0.8578\n",
      "284次: theta0 = 427.769, theta1 = 93.178, 差分 = 0.8238\n",
      "285次: theta0 = 427.796, theta1 = 93.184, 差分 = 0.7912\n",
      "286次: theta0 = 427.824, theta1 = 93.190, 差分 = 0.7599\n",
      "287次: theta0 = 427.850, theta1 = 93.196, 差分 = 0.7298\n",
      "288次: theta0 = 427.876, theta1 = 93.201, 差分 = 0.7009\n",
      "289次: theta0 = 427.902, theta1 = 93.207, 差分 = 0.6731\n",
      "290次: theta0 = 427.927, theta1 = 93.212, 差分 = 0.6465\n",
      "291次: theta0 = 427.951, theta1 = 93.218, 差分 = 0.6209\n",
      "292次: theta0 = 427.975, theta1 = 93.223, 差分 = 0.5963\n",
      "293次: theta0 = 427.998, theta1 = 93.228, 差分 = 0.5727\n",
      "294次: theta0 = 428.022, theta1 = 93.233, 差分 = 0.5500\n",
      "295次: theta0 = 428.044, theta1 = 93.238, 差分 = 0.5282\n",
      "296次: theta0 = 428.066, theta1 = 93.243, 差分 = 0.5073\n",
      "297次: theta0 = 428.088, theta1 = 93.247, 差分 = 0.4872\n",
      "298次: theta0 = 428.109, theta1 = 93.252, 差分 = 0.4679\n",
      "299次: theta0 = 428.130, theta1 = 93.257, 差分 = 0.4494\n",
      "300次: theta0 = 428.150, theta1 = 93.261, 差分 = 0.4316\n",
      "301次: theta0 = 428.170, theta1 = 93.265, 差分 = 0.4145\n",
      "302次: theta0 = 428.190, theta1 = 93.270, 差分 = 0.3981\n",
      "303次: theta0 = 428.209, theta1 = 93.274, 差分 = 0.3823\n",
      "304次: theta0 = 428.228, theta1 = 93.278, 差分 = 0.3672\n",
      "305次: theta0 = 428.246, theta1 = 93.282, 差分 = 0.3526\n",
      "306次: theta0 = 428.264, theta1 = 93.286, 差分 = 0.3387\n",
      "307次: theta0 = 428.282, theta1 = 93.290, 差分 = 0.3253\n",
      "308次: theta0 = 428.300, theta1 = 93.294, 差分 = 0.3124\n",
      "309次: theta0 = 428.317, theta1 = 93.297, 差分 = 0.3000\n",
      "310次: theta0 = 428.333, theta1 = 93.301, 差分 = 0.2881\n",
      "311次: theta0 = 428.350, theta1 = 93.304, 差分 = 0.2767\n",
      "312次: theta0 = 428.366, theta1 = 93.308, 差分 = 0.2658\n",
      "313次: theta0 = 428.381, theta1 = 93.311, 差分 = 0.2552\n",
      "314次: theta0 = 428.397, theta1 = 93.315, 差分 = 0.2451\n",
      "315次: theta0 = 428.412, theta1 = 93.318, 差分 = 0.2354\n",
      "316次: theta0 = 428.426, theta1 = 93.321, 差分 = 0.2261\n",
      "317次: theta0 = 428.441, theta1 = 93.324, 差分 = 0.2172\n",
      "318次: theta0 = 428.455, theta1 = 93.327, 差分 = 0.2086\n",
      "319次: theta0 = 428.469, theta1 = 93.330, 差分 = 0.2003\n",
      "320次: theta0 = 428.483, theta1 = 93.333, 差分 = 0.1924\n",
      "321次: theta0 = 428.496, theta1 = 93.336, 差分 = 0.1847\n",
      "322次: theta0 = 428.509, theta1 = 93.339, 差分 = 0.1774\n",
      "323次: theta0 = 428.522, theta1 = 93.342, 差分 = 0.1704\n",
      "324次: theta0 = 428.534, theta1 = 93.345, 差分 = 0.1637\n",
      "325次: theta0 = 428.547, theta1 = 93.347, 差分 = 0.1572\n",
      "326次: theta0 = 428.559, theta1 = 93.350, 差分 = 0.1510\n",
      "327次: theta0 = 428.571, theta1 = 93.353, 差分 = 0.1450\n",
      "328次: theta0 = 428.582, theta1 = 93.355, 差分 = 0.1392\n",
      "329次: theta0 = 428.594, theta1 = 93.358, 差分 = 0.1337\n",
      "330次: theta0 = 428.605, theta1 = 93.360, 差分 = 0.1284\n",
      "331次: theta0 = 428.616, theta1 = 93.362, 差分 = 0.1233\n",
      "332次: theta0 = 428.626, theta1 = 93.365, 差分 = 0.1185\n",
      "333次: theta0 = 428.637, theta1 = 93.367, 差分 = 0.1138\n",
      "334次: theta0 = 428.647, theta1 = 93.369, 差分 = 0.1093\n",
      "335次: theta0 = 428.657, theta1 = 93.371, 差分 = 0.1049\n",
      "336次: theta0 = 428.667, theta1 = 93.374, 差分 = 0.1008\n",
      "337次: theta0 = 428.677, theta1 = 93.376, 差分 = 0.0968\n",
      "338次: theta0 = 428.686, theta1 = 93.378, 差分 = 0.0930\n",
      "339次: theta0 = 428.695, theta1 = 93.380, 差分 = 0.0893\n",
      "340次: theta0 = 428.704, theta1 = 93.382, 差分 = 0.0857\n",
      "341次: theta0 = 428.713, theta1 = 93.384, 差分 = 0.0823\n",
      "342次: theta0 = 428.722, theta1 = 93.386, 差分 = 0.0791\n",
      "343次: theta0 = 428.731, theta1 = 93.387, 差分 = 0.0759\n",
      "344次: theta0 = 428.739, theta1 = 93.389, 差分 = 0.0729\n",
      "345次: theta0 = 428.747, theta1 = 93.391, 差分 = 0.0701\n",
      "346次: theta0 = 428.755, theta1 = 93.393, 差分 = 0.0673\n",
      "347次: theta0 = 428.763, theta1 = 93.395, 差分 = 0.0646\n",
      "348次: theta0 = 428.771, theta1 = 93.396, 差分 = 0.0621\n",
      "349次: theta0 = 428.779, theta1 = 93.398, 差分 = 0.0596\n",
      "350次: theta0 = 428.786, theta1 = 93.399, 差分 = 0.0572\n",
      "351次: theta0 = 428.793, theta1 = 93.401, 差分 = 0.0550\n",
      "352次: theta0 = 428.800, theta1 = 93.403, 差分 = 0.0528\n",
      "353次: theta0 = 428.807, theta1 = 93.404, 差分 = 0.0507\n",
      "354次: theta0 = 428.814, theta1 = 93.406, 差分 = 0.0487\n",
      "355次: theta0 = 428.821, theta1 = 93.407, 差分 = 0.0468\n",
      "356次: theta0 = 428.828, theta1 = 93.409, 差分 = 0.0449\n",
      "357次: theta0 = 428.834, theta1 = 93.410, 差分 = 0.0431\n",
      "358次: theta0 = 428.840, theta1 = 93.411, 差分 = 0.0414\n",
      "359次: theta0 = 428.846, theta1 = 93.413, 差分 = 0.0398\n",
      "360次: theta0 = 428.853, theta1 = 93.414, 差分 = 0.0382\n",
      "361次: theta0 = 428.858, theta1 = 93.415, 差分 = 0.0367\n",
      "362次: theta0 = 428.864, theta1 = 93.417, 差分 = 0.0352\n",
      "363次: theta0 = 428.870, theta1 = 93.418, 差分 = 0.0339\n",
      "364次: theta0 = 428.876, theta1 = 93.419, 差分 = 0.0325\n",
      "365次: theta0 = 428.881, theta1 = 93.420, 差分 = 0.0312\n",
      "366次: theta0 = 428.887, theta1 = 93.421, 差分 = 0.0300\n",
      "367次: theta0 = 428.892, theta1 = 93.423, 差分 = 0.0288\n",
      "368次: theta0 = 428.897, theta1 = 93.424, 差分 = 0.0277\n",
      "369次: theta0 = 428.902, theta1 = 93.425, 差分 = 0.0266\n",
      "370次: theta0 = 428.907, theta1 = 93.426, 差分 = 0.0255\n",
      "371次: theta0 = 428.912, theta1 = 93.427, 差分 = 0.0245\n",
      "372次: theta0 = 428.917, theta1 = 93.428, 差分 = 0.0235\n",
      "373次: theta0 = 428.921, theta1 = 93.429, 差分 = 0.0226\n",
      "374次: theta0 = 428.926, theta1 = 93.430, 差分 = 0.0217\n",
      "375次: theta0 = 428.930, theta1 = 93.431, 差分 = 0.0208\n",
      "376次: theta0 = 428.935, theta1 = 93.432, 差分 = 0.0200\n",
      "377次: theta0 = 428.939, theta1 = 93.433, 差分 = 0.0192\n",
      "378次: theta0 = 428.943, theta1 = 93.434, 差分 = 0.0185\n",
      "379次: theta0 = 428.947, theta1 = 93.435, 差分 = 0.0177\n"
     ]
    },
    {
     "name": "stdout",
     "output_type": "stream",
     "text": [
      "380次: theta0 = 428.951, theta1 = 93.436, 差分 = 0.0170\n",
      "381次: theta0 = 428.955, theta1 = 93.436, 差分 = 0.0164\n",
      "382次: theta0 = 428.959, theta1 = 93.437, 差分 = 0.0157\n",
      "383次: theta0 = 428.963, theta1 = 93.438, 差分 = 0.0151\n",
      "384次: theta0 = 428.967, theta1 = 93.439, 差分 = 0.0145\n",
      "385次: theta0 = 428.970, theta1 = 93.440, 差分 = 0.0139\n",
      "386次: theta0 = 428.974, theta1 = 93.440, 差分 = 0.0134\n",
      "387次: theta0 = 428.978, theta1 = 93.441, 差分 = 0.0128\n",
      "388次: theta0 = 428.981, theta1 = 93.442, 差分 = 0.0123\n",
      "389次: theta0 = 428.984, theta1 = 93.443, 差分 = 0.0118\n",
      "390次: theta0 = 428.988, theta1 = 93.443, 差分 = 0.0114\n",
      "391次: theta0 = 428.991, theta1 = 93.444, 差分 = 0.0109\n",
      "392次: theta0 = 428.994, theta1 = 93.445, 差分 = 0.0105\n",
      "393次: theta0 = 428.997, theta1 = 93.446, 差分 = 0.0101\n",
      "394次: theta0 = 429.000, theta1 = 93.446, 差分 = 0.0097\n"
     ]
    }
   ],
   "source": [
    "# 學習率，自己設\n",
    "ETA = 1e-3\n",
    "\n",
    "# 誤差的差分\n",
    "diff = 1\n",
    "\n",
    "# 更新次數\n",
    "count = 0\n",
    "\n",
    "error = E(train_z, train_y)  # 目標函數\n",
    "\n",
    "# 重複參數的更新，直到誤差的差分變成 0.01 以下為止\n",
    "while diff > 1e-2:\n",
    "    # 將更新結果儲存於臨時變數\n",
    "    tmp_theta0 = theta0 - ETA * np.sum((f(train_z) - train_y))\n",
    "    tmp_theta1 = theta1 - ETA * np.sum((f(train_z) - train_y) * train_z)\n",
    "    \n",
    "    # 更新參數\n",
    "    theta0 = tmp_theta0\n",
    "    theta1 = tmp_theta1\n",
    "    \n",
    "    # 計算與前一項誤差的差分\n",
    "    current_error = E(train_z, train_y)\n",
    "    diff = error - current_error\n",
    "    error = current_error\n",
    "    \n",
    "    # 輸出日誌\n",
    "    count += 1\n",
    "    log = '{}次: theta0 = {:.3f}, theta1 = {:.3f}, 差分 = {:.4f}'\n",
    "    print(log.format(count, theta0, theta1, diff))\n"
   ]
  },
  {
   "cell_type": "code",
   "execution_count": 18,
   "metadata": {},
   "outputs": [
    {
     "name": "stdout",
     "output_type": "stream",
     "text": [
      "[-3.         -2.93939394 -2.87878788 -2.81818182 -2.75757576 -2.6969697\n",
      " -2.63636364 -2.57575758 -2.51515152 -2.45454545 -2.39393939 -2.33333333\n",
      " -2.27272727 -2.21212121 -2.15151515 -2.09090909 -2.03030303 -1.96969697\n",
      " -1.90909091 -1.84848485 -1.78787879 -1.72727273 -1.66666667 -1.60606061\n",
      " -1.54545455 -1.48484848 -1.42424242 -1.36363636 -1.3030303  -1.24242424\n",
      " -1.18181818 -1.12121212 -1.06060606 -1.         -0.93939394 -0.87878788\n",
      " -0.81818182 -0.75757576 -0.6969697  -0.63636364 -0.57575758 -0.51515152\n",
      " -0.45454545 -0.39393939 -0.33333333 -0.27272727 -0.21212121 -0.15151515\n",
      " -0.09090909 -0.03030303  0.03030303  0.09090909  0.15151515  0.21212121\n",
      "  0.27272727  0.33333333  0.39393939  0.45454545  0.51515152  0.57575758\n",
      "  0.63636364  0.6969697   0.75757576  0.81818182  0.87878788  0.93939394\n",
      "  1.          1.06060606  1.12121212  1.18181818  1.24242424  1.3030303\n",
      "  1.36363636  1.42424242  1.48484848  1.54545455  1.60606061  1.66666667\n",
      "  1.72727273  1.78787879  1.84848485  1.90909091  1.96969697  2.03030303\n",
      "  2.09090909  2.15151515  2.21212121  2.27272727  2.33333333  2.39393939\n",
      "  2.45454545  2.51515152  2.57575758  2.63636364  2.6969697   2.75757576\n",
      "  2.81818182  2.87878788  2.93939394  3.        ]\n"
     ]
    }
   ],
   "source": [
    "# 繪圖來確認\n",
    "x = np.linspace(-3, 3, 100)\n",
    "print(x)"
   ]
  },
  {
   "cell_type": "code",
   "execution_count": 19,
   "metadata": {},
   "outputs": [
    {
     "name": "stdout",
     "output_type": "stream",
     "text": [
      "[148.66180959 154.32521424 159.98861888 165.65202352 171.31542816\n",
      " 176.97883281 182.64223745 188.30564209 193.96904673 199.63245137\n",
      " 205.29585602 210.95926066 216.6226653  222.28606994 227.94947458\n",
      " 233.61287923 239.27628387 244.93968851 250.60309315 256.2664978\n",
      " 261.92990244 267.59330708 273.25671172 278.92011636 284.58352101\n",
      " 290.24692565 295.91033029 301.57373493 307.23713958 312.90054422\n",
      " 318.56394886 324.2273535  329.89075814 335.55416279 341.21756743\n",
      " 346.88097207 352.54437671 358.20778136 363.871186   369.53459064\n",
      " 375.19799528 380.86139992 386.52480457 392.18820921 397.85161385\n",
      " 403.51501849 409.17842313 414.84182778 420.50523242 426.16863706\n",
      " 431.8320417  437.49544635 443.15885099 448.82225563 454.48566027\n",
      " 460.14906491 465.81246956 471.4758742  477.13927884 482.80268348\n",
      " 488.46608813 494.12949277 499.79289741 505.45630205 511.11970669\n",
      " 516.78311134 522.44651598 528.10992062 533.77332526 539.43672991\n",
      " 545.10013455 550.76353919 556.42694383 562.09034847 567.75375312\n",
      " 573.41715776 579.0805624  584.74396704 590.40737169 596.07077633\n",
      " 601.73418097 607.39758561 613.06099025 618.7243949  624.38779954\n",
      " 630.05120418 635.71460882 641.37801346 647.04141811 652.70482275\n",
      " 658.36822739 664.03163203 669.69503668 675.35844132 681.02184596\n",
      " 686.6852506  692.34865524 698.01205989 703.67546453 709.33886917]\n"
     ]
    }
   ],
   "source": [
    "print(f(x))   # f(x) = theta0 + theta1 * x"
   ]
  },
  {
   "cell_type": "code",
   "execution_count": 20,
   "metadata": {},
   "outputs": [
    {
     "data": {
      "image/png": "[encoded data removed]",
      "text/plain": [
       "<Figure size 432x288 with 1 Axes>"
      ]
     },
     "metadata": {
      "needs_background": "light"
     },
     "output_type": "display_data"
    }
   ],
   "source": [
    "plt.plot(train_z, train_y, 'o')  # 點 \n",
    "plt.plot(x, f(x))  # 直線\n",
    "plt.xlabel('廣告費')\n",
    "plt.ylabel('點擊數')\n",
    "plt.show()"
   ]
  },
  {
   "cell_type": "code",
   "execution_count": 21,
   "metadata": {},
   "outputs": [
    {
     "data": {
      "text/plain": [
       "370.96735610315994"
      ]
     },
     "execution_count": 21,
     "metadata": {},
     "output_type": "execute_result"
    }
   ],
   "source": [
    "f(standardize(100))"
   ]
  },
  {
   "cell_type": "code",
   "execution_count": 22,
   "metadata": {},
   "outputs": [
    {
     "data": {
      "text/plain": [
       "510.4697197557755"
      ]
     },
     "execution_count": 22,
     "metadata": {},
     "output_type": "execute_result"
    }
   ],
   "source": [
    "f(standardize(200))"
   ]
  },
  {
   "cell_type": "code",
   "execution_count": 23,
   "metadata": {},
   "outputs": [
    {
     "data": {
      "text/plain": [
       "649.9720834083911"
      ]
     },
     "execution_count": 23,
     "metadata": {},
     "output_type": "execute_result"
    }
   ],
   "source": [
    "f(standardize(300))"
   ]
  },
  {
   "cell_type": "markdown",
   "metadata": {},
   "source": [
    "### 多項式迴歸的程式    p.165\n",
    "\n",
    "### $$f_\\theta(x) = \\theta_0 + \\theta_1x + \\theta_2x^2 $$"
   ]
  },
  {
   "cell_type": "code",
   "execution_count": 24,
   "metadata": {},
   "outputs": [
    {
     "name": "stdout",
     "output_type": "stream",
     "text": [
      "[0.86378885 0.47714958 0.59324863]\n"
     ]
    }
   ],
   "source": [
    "# 初始化參數\n",
    "theta = np.random.rand(3)\n",
    "print(theta)"
   ]
  },
  {
   "cell_type": "code",
   "execution_count": 25,
   "metadata": {},
   "outputs": [
    {
     "name": "stdout",
     "output_type": "stream",
     "text": [
      "[ 1.39433428  1.11069026  0.09554325 -1.59139223 -0.8449606   0.93154667\n",
      " -1.38239138 -1.74067856  0.46875906  0.73747445 -0.11345761 -0.63595975\n",
      " -0.36724436 -0.44188752  0.3045441   1.94669369  0.25975821  0.25975821\n",
      " -1.23310505  0.84197488]\n"
     ]
    }
   ],
   "source": [
    "print(train_z)"
   ]
  },
  {
   "cell_type": "code",
   "execution_count": 26,
   "metadata": {},
   "outputs": [
    {
     "name": "stdout",
     "output_type": "stream",
     "text": [
      "20\n"
     ]
    }
   ],
   "source": [
    "print(train_z.shape[0])"
   ]
  },
  {
   "cell_type": "code",
   "execution_count": 27,
   "metadata": {},
   "outputs": [
    {
     "name": "stdout",
     "output_type": "stream",
     "text": [
      "[[ 1.          1.39433428  1.94416809]\n",
      " [ 1.          1.11069026  1.23363286]\n",
      " [ 1.          0.09554325  0.00912851]\n",
      " [ 1.         -1.59139223  2.53252924]\n",
      " [ 1.         -0.8449606   0.71395842]\n",
      " [ 1.          0.93154667  0.8677792 ]\n",
      " [ 1.         -1.38239138  1.91100592]\n",
      " [ 1.         -1.74067856  3.02996185]\n",
      " [ 1.          0.46875906  0.21973506]\n",
      " [ 1.          0.73747445  0.54386856]\n",
      " [ 1.         -0.11345761  0.01287263]\n",
      " [ 1.         -0.63595975  0.4044448 ]\n",
      " [ 1.         -0.36724436  0.13486842]\n",
      " [ 1.         -0.44188752  0.19526458]\n",
      " [ 1.          0.3045441   0.09274711]\n",
      " [ 1.          1.94669369  3.78961632]\n",
      " [ 1.          0.25975821  0.06747433]\n",
      " [ 1.          0.25975821  0.06747433]\n",
      " [ 1.         -1.23310505  1.52054807]\n",
      " [ 1.          0.84197488  0.70892169]]\n"
     ]
    }
   ],
   "source": [
    "# 建立學習資料的矩陣\n",
    "def to_matrix(x):\n",
    "    return np.vstack([np.ones(x.shape[0]), x, x ** 2]).T\n",
    "\n",
    "X = to_matrix(train_z)\n",
    "print(X)"
   ]
  },
  {
   "cell_type": "markdown",
   "metadata": {},
   "source": [
    "### $$\\theta^Tx = \\theta_0x_0 + \\theta_1x_1 + \\theta_2x_2 + .... + \\theta_nx_n  $$\n",
    "\n",
    "### $$f_\\theta(x) = \\theta^Tx $$"
   ]
  },
  {
   "cell_type": "code",
   "execution_count": 28,
   "metadata": {},
   "outputs": [],
   "source": [
    "# 預測函數\n",
    "def f(x):\n",
    "    return np.dot(x, theta)"
   ]
  },
  {
   "cell_type": "code",
   "execution_count": 29,
   "metadata": {},
   "outputs": [],
   "source": [
    "# 誤差的差分\n",
    "diff = 1\n",
    "\n",
    "# 重複學習\n",
    "error = E(X, train_y)  # 目標函數\n",
    "\n",
    "# 重複參數的更新，直到誤差的差分變成 0.01 以下為止\n",
    "while diff > 1e-2:\n",
    "    # 更新參數\n",
    "    theta = theta - ETA * np.dot(f(X) - train_y, X)\n",
    "    # 計算與前一項誤差的差分\n",
    "    current_error = E(X, train_y)  # \n",
    "    diff = error - current_error\n",
    "    error = current_error"
   ]
  },
  {
   "cell_type": "code",
   "execution_count": 30,
   "metadata": {},
   "outputs": [
    {
     "data": {
      "image/png": "[encoded data removed]",
      "text/plain": [
       "<Figure size 432x288 with 1 Axes>"
      ]
     },
     "metadata": {
      "needs_background": "light"
     },
     "output_type": "display_data"
    }
   ],
   "source": [
    "x = np.linspace(-3, 3, 100)\n",
    "\n",
    "plt.plot(train_z, train_y, 'o')\n",
    "plt.plot(x, f(to_matrix(x)))\n",
    "plt.xlabel('廣告費')\n",
    "plt.ylabel('點擊數')\n",
    "plt.show()"
   ]
  },
  {
   "cell_type": "markdown",
   "metadata": {},
   "source": [
    "### 均方誤差     p.170\n",
    "\n",
    "### $$ \\frac{1}{n}\\sum_{i=1}^n{\\left({y^{(i)} - f_\\theta(x^{(i)}) }\\right)}^2   $$\n",
    "\n",
    "### 測試資料有 n 筆，$y^{(i)}$ 為點擊數， $x^{(i)}$ 為廣告費\n"
   ]
  },
  {
   "cell_type": "code",
   "execution_count": 31,
   "metadata": {},
   "outputs": [],
   "source": [
    "# 均方誤差\n",
    "def MSE(x, y):\n",
    "    return (1 / x.shape[0]) * np.sum((y - f(x)) ** 2)"
   ]
  },
  {
   "cell_type": "code",
   "execution_count": 32,
   "metadata": {},
   "outputs": [
    {
     "name": "stdout",
     "output_type": "stream",
     "text": [
      "[0.30093467 0.08517443 0.91684515]\n"
     ]
    }
   ],
   "source": [
    "# 將參數以隨機方式初始化\n",
    "theta = np.random.rand(3)\n",
    "print(theta)"
   ]
  },
  {
   "cell_type": "code",
   "execution_count": 33,
   "metadata": {},
   "outputs": [],
   "source": [
    "# 均方誤差的歷史記錄\n",
    "errors = []"
   ]
  },
  {
   "cell_type": "code",
   "execution_count": 34,
   "metadata": {},
   "outputs": [],
   "source": [
    "# 誤差的差分\n",
    "diff = 1"
   ]
  },
  {
   "cell_type": "code",
   "execution_count": 35,
   "metadata": {},
   "outputs": [],
   "source": [
    "# 重複學習\n",
    "errors.append(MSE(X, train_y))\n",
    "\n",
    "# 重複參數的更新，直到誤差的差分變成 0.01 以下為止\n",
    "while diff > 1e-2:\n",
    "    theta = theta - ETA * np.dot(f(X) - train_y, X)\n",
    "    errors.append(MSE(X, train_y))\n",
    "    diff = errors[-2] - errors[-1]\n",
    "    "
   ]
  },
  {
   "cell_type": "code",
   "execution_count": 36,
   "metadata": {},
   "outputs": [
    {
     "data": {
      "image/png": "[encoded data removed]",
      "text/plain": [
       "<Figure size 432x288 with 1 Axes>"
      ]
     },
     "metadata": {
      "needs_background": "light"
     },
     "output_type": "display_data"
    }
   ],
   "source": [
    "# 繪製誤差\n",
    "x = np.arange(len(errors))\n",
    "\n",
    "plt.plot(x, errors)\n",
    "plt.show()"
   ]
  },
  {
   "cell_type": "markdown",
   "metadata": {},
   "source": [
    "### 隨機梯度下降法  p.171\n",
    "\n",
    "### $$ \\theta_j := \\theta_j - \\eta{\\left(f_\\theta(x^{(k)}) - {y^{(k)}}\\right)}x_j^{(k)} $$"
   ]
  },
  {
   "cell_type": "code",
   "execution_count": 37,
   "metadata": {},
   "outputs": [],
   "source": [
    "# 將參數以隨機方式初始化\n",
    "theta = np.random.rand(3)"
   ]
  },
  {
   "cell_type": "code",
   "execution_count": 38,
   "metadata": {},
   "outputs": [],
   "source": [
    "# 均方誤差的歷史記錄\n",
    "errors = []"
   ]
  },
  {
   "cell_type": "code",
   "execution_count": 39,
   "metadata": {},
   "outputs": [],
   "source": [
    "# 誤差的差分\n",
    "diff = 1"
   ]
  },
  {
   "cell_type": "code",
   "execution_count": 40,
   "metadata": {},
   "outputs": [],
   "source": [
    "# 重複學習\n",
    "errors.append(MSE(X, train_y))\n",
    "\n",
    "# 重複參數的更新，直到誤差的差分變成 0.01 以下為止\n",
    "while diff > 1e-2:\n",
    "    # 準備排列學習資料所需的隨機排列組合\n",
    "    p = np.random.permutation(X.shape[0])\n",
    "    # 將學習資料以隨機的方式取出並以隨機梯度下降法來更新參數\n",
    "    for x, y in zip(X[p,:], train_y[p]):\n",
    "        theta = theta - ETA * (f(x) - y) * x\n",
    "    # 計算與前一項誤差的差分\n",
    "    errors.append(MSE(X, train_y))\n",
    "    diff = errors[-2] - errors[-1]"
   ]
  },
  {
   "cell_type": "code",
   "execution_count": 41,
   "metadata": {},
   "outputs": [
    {
     "data": {
      "image/png": "[encoded data removed]",
      "text/plain": [
       "<Figure size 432x288 with 1 Axes>"
      ]
     },
     "metadata": {
      "needs_background": "light"
     },
     "output_type": "display_data"
    }
   ],
   "source": [
    "x = np.linspace(-3, 3, 100)\n",
    "\n",
    "plt.plot(train_z, train_y, 'o')\n",
    "plt.plot(x, f(to_matrix(x)))\n",
    "plt.xlabel('廣告費')\n",
    "plt.ylabel('點擊數')\n",
    "plt.show()"
   ]
  },
  {
   "cell_type": "code",
   "execution_count": 42,
   "metadata": {},
   "outputs": [
    {
     "data": {
      "image/png": "[encoded data removed]",
      "text/plain": [
       "<Figure size 432x288 with 1 Axes>"
      ]
     },
     "metadata": {
      "needs_background": "light"
     },
     "output_type": "display_data"
    }
   ],
   "source": [
    "# 繪製誤差\n",
    "x = np.arange(len(errors))\n",
    "\n",
    "plt.plot(x, errors)\n",
    "plt.show()"
   ]
  }
 ],
 "metadata": {
  "kernelspec": {
   "display_name": "Python 3",
   "language": "python",
   "name": "python3"
  },
  "language_info": {
   "codemirror_mode": {
    "name": "ipython",
    "version": 3
   },
   "file_extension": ".py",
   "mimetype": "text/x-python",
   "name": "python",
   "nbconvert_exporter": "python",
   "pygments_lexer": "ipython3",
   "version": "3.7.3"
  }
 },
 "nbformat": 4,
 "nbformat_minor": 2
}
