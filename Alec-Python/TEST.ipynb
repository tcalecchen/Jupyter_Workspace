{
 "cells": [
  {
   "cell_type": "code",
   "execution_count": 5,
   "metadata": {},
   "outputs": [
    {
     "name": "stdout",
     "output_type": "stream",
     "text": [
      "Python3 教程| 菜鸟教程\n",
      "Download Python | Python.org\n",
      "Python 3.0 Release | Python.org\n",
      "Python 3 Tutorial 第一堂（2）哈囉！世界！ - OpenHome.cc\n",
      "Python3 函數- Python3入門基礎教程 - 極客書\n",
      "Python3 隨機數- Python3入門基礎教程 - 極客書\n",
      "Python 3 | ActiveState\n",
      "Python 3 - Trinket\n",
      "給自學者的Python教學(0) : 如何安裝Python(Mac/Windows) – Chun ...\n",
      "老灰鴨的筆記本: 【Python】CentOS7 安裝Python3\n"
     ]
    }
   ],
   "source": [
    "import requests\n",
    "from bs4 import BeautifulSoup\n",
    "\n",
    "r = requests.get('https://www.google.com/search?q=python3')\n",
    "soup = BeautifulSoup(r.text, 'lxml')\n",
    "\n",
    "for ii in soup.find_all('h3'):\n",
    "    print(ii.text)"
   ]
  },
  {
   "cell_type": "code",
   "execution_count": 4,
   "metadata": {},
   "outputs": [
    {
     "name": "stdout",
     "output_type": "stream",
     "text": [
      "Python3 教程| 菜鸟教程\n",
      "Download Python | Python.org\n",
      "Python 3.0 Release | Python.org\n",
      "Python 3 Tutorial 第一堂（2）哈囉！世界！ - OpenHome.cc\n",
      "Python3 函數- Python3入門基礎教程 - 極客書\n",
      "Python3 隨機數- Python3入門基礎教程 - 極客書\n",
      "Python 3 | ActiveState\n",
      "Python 3 - Trinket\n",
      "給自學者的Python教學(0) : 如何安裝Python(Mac/Windows) – Chun ...\n",
      "老灰鴨的筆記本: 【Python】CentOS7 安裝Python3\n"
     ]
    }
   ],
   "source": [
    "from bs4 import BeautifulSoup\n",
    "import requests\n",
    " \n",
    "url = 'https://www.google.com/search?q=python3'\n",
    "headers = {'User-Agent': 'Mozilla/5.0 (Macintosh; Intel Mac OS X 10_10_1) AppleWebKit/537.36 \\\n",
    "     (KHTML, like Gecko) Chrome/39.0.2171.95 Safari/537.36'}\n",
    "res = requests.get(url, headers=headers)\n",
    "soup = BeautifulSoup(res.text, 'lxml')\n",
    " \n",
    "h3 = soup.select('div.r a h3')\n",
    "for _ in h3:\n",
    "    print(_.text)"
   ]
  }
 ],
 "metadata": {
  "kernelspec": {
   "display_name": "Python 3",
   "language": "python",
   "name": "python3"
  },
  "language_info": {
   "codemirror_mode": {
    "name": "ipython",
    "version": 3
   },
   "file_extension": ".py",
   "mimetype": "text/x-python",
   "name": "python",
   "nbconvert_exporter": "python",
   "pygments_lexer": "ipython3",
   "version": "3.7.3"
  }
 },
 "nbformat": 4,
 "nbformat_minor": 2
}
