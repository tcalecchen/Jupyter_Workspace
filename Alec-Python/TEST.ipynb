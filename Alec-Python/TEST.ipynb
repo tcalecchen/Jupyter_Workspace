{
 "cells": [
  {
   "cell_type": "code",
   "execution_count": 5,
   "metadata": {},
   "outputs": [
    {
     "name": "stdout",
     "output_type": "stream",
     "text": [
      "Python3 教程| 菜鸟教程\n",
      "Download Python | Python.org\n",
      "Python 3.0 Release | Python.org\n",
      "Python 3 Tutorial 第一堂（2）哈囉！世界！ - OpenHome.cc\n",
      "Python3 函數- Python3入門基礎教程 - 極客書\n",
      "Python3 隨機數- Python3入門基礎教程 - 極客書\n",
      "Python 3 | ActiveState\n",
      "Python 3 - Trinket\n",
      "給自學者的Python教學(0) : 如何安裝Python(Mac/Windows) – Chun ...\n",
      "老灰鴨的筆記本: 【Python】CentOS7 安裝Python3\n"
     ]
    }
   ],
   "source": [
    "import requests\n",
    "from bs4 import BeautifulSoup\n",
    "\n",
    "r = requests.get('https://www.google.com/search?q=python3')\n",
    "soup = BeautifulSoup(r.text, 'lxml')\n",
    "\n",
    "for ii in soup.find_all('h3'):\n",
    "    print(ii.text)"
   ]
  },
  {
   "cell_type": "code",
   "execution_count": 4,
   "metadata": {},
   "outputs": [
    {
     "name": "stdout",
     "output_type": "stream",
     "text": [
      "Python3 教程| 菜鸟教程\n",
      "Download Python | Python.org\n",
      "Python 3.0 Release | Python.org\n",
      "Python 3 Tutorial 第一堂（2）哈囉！世界！ - OpenHome.cc\n",
      "Python3 函數- Python3入門基礎教程 - 極客書\n",
      "Python3 隨機數- Python3入門基礎教程 - 極客書\n",
      "Python 3 | ActiveState\n",
      "Python 3 - Trinket\n",
      "給自學者的Python教學(0) : 如何安裝Python(Mac/Windows) – Chun ...\n",
      "老灰鴨的筆記本: 【Python】CentOS7 安裝Python3\n"
     ]
    }
   ],
   "source": [
    "from bs4 import BeautifulSoup\n",
    "import requests\n",
    " \n",
    "url = 'https://www.google.com/search?q=python3'\n",
    "headers = {'User-Agent': 'Mozilla/5.0 (Macintosh; Intel Mac OS X 10_10_1) AppleWebKit/537.36 \\\n",
    "     (KHTML, like Gecko) Chrome/39.0.2171.95 Safari/537.36'}\n",
    "res = requests.get(url, headers=headers)\n",
    "soup = BeautifulSoup(res.text, 'lxml')\n",
    " \n",
    "h3 = soup.select('div.r a h3')\n",
    "for _ in h3:\n",
    "    print(_.text)"
   ]
  },
  {
   "cell_type": "code",
   "execution_count": 14,
   "metadata": {},
   "outputs": [
    {
     "name": "stdout",
     "output_type": "stream",
     "text": [
      "[[1 2 3]\n",
      " [4 5 6]\n",
      " [7 8 9]]\n"
     ]
    }
   ],
   "source": [
    "import numpy as np\n",
    "import pandas as pd\n",
    "\n",
    "ndarray = np.arange(1,10).reshape(3,3)\n",
    "print(ndarray)"
   ]
  },
  {
   "cell_type": "code",
   "execution_count": 7,
   "metadata": {},
   "outputs": [
    {
     "name": "stdout",
     "output_type": "stream",
     "text": [
      "[1 2 3]\n"
     ]
    }
   ],
   "source": [
    "print(ndarray[0])"
   ]
  },
  {
   "cell_type": "code",
   "execution_count": 8,
   "metadata": {},
   "outputs": [
    {
     "name": "stdout",
     "output_type": "stream",
     "text": [
      "[1 2 3]\n"
     ]
    }
   ],
   "source": [
    "print(ndarray[0][:]) # 取軸 0(y) 第一項然後對應的軸 1(x) 每項都要"
   ]
  },
  {
   "cell_type": "code",
   "execution_count": 22,
   "metadata": {},
   "outputs": [
    {
     "name": "stdout",
     "output_type": "stream",
     "text": [
      "[1 2 3]\n"
     ]
    }
   ],
   "source": [
    "print(ndarray[0, :])"
   ]
  },
  {
   "cell_type": "code",
   "execution_count": 9,
   "metadata": {},
   "outputs": [
    {
     "name": "stdout",
     "output_type": "stream",
     "text": [
      "2\n"
     ]
    }
   ],
   "source": [
    "print(ndarray[0][1]) # 先選取軸 0 的第 0 項,接著再對應取軸 1 的第 1 項"
   ]
  },
  {
   "cell_type": "code",
   "execution_count": 23,
   "metadata": {},
   "outputs": [
    {
     "name": "stdout",
     "output_type": "stream",
     "text": [
      "2\n"
     ]
    }
   ],
   "source": [
    "print(ndarray[0, 1])"
   ]
  },
  {
   "cell_type": "code",
   "execution_count": 20,
   "metadata": {},
   "outputs": [
    {
     "name": "stdout",
     "output_type": "stream",
     "text": [
      "[[1 2 3]\n",
      " [4 5 6]]\n"
     ]
    }
   ],
   "source": [
    "print(ndarray[:][0:2])  # 表示軸 0 的項目全部都要,但只取每一項的軸 1 的 0 到 1 項  ？？？"
   ]
  },
  {
   "cell_type": "code",
   "execution_count": 24,
   "metadata": {},
   "outputs": [
    {
     "name": "stdout",
     "output_type": "stream",
     "text": [
      "[[1 2]\n",
      " [4 5]\n",
      " [7 8]]\n"
     ]
    }
   ],
   "source": [
    "print(ndarray[:, 0:2])  # 表示軸 0 的項目全部都要,但只取每一項的軸 1 的 0 到 1 項"
   ]
  },
  {
   "cell_type": "code",
   "execution_count": 21,
   "metadata": {},
   "outputs": [
    {
     "name": "stdout",
     "output_type": "stream",
     "text": [
      "[[1 2 3]\n",
      " [4 5 6]]\n"
     ]
    }
   ],
   "source": [
    "print(ndarray[0:2][:])  # 表示軸 0 的的 0 到 1 項,軸 1 的項目全部都要"
   ]
  },
  {
   "cell_type": "code",
   "execution_count": 25,
   "metadata": {},
   "outputs": [
    {
     "name": "stdout",
     "output_type": "stream",
     "text": [
      "[[1 2 3]\n",
      " [4 5 6]]\n"
     ]
    }
   ],
   "source": [
    "print(ndarray[0:2, :])  # 表示軸 0 的的 0 到 1 項,軸 1 的項目全部都要"
   ]
  },
  {
   "cell_type": "code",
   "execution_count": 26,
   "metadata": {},
   "outputs": [
    {
     "name": "stdout",
     "output_type": "stream",
     "text": [
      "[[1 2]\n",
      " [4 5]]\n"
     ]
    }
   ],
   "source": [
    "print(ndarray[0:2, 0:2])  # 表示軸 0 的 0 到 1 項,與軸 1 的 0 到 1 項"
   ]
  },
  {
   "cell_type": "code",
   "execution_count": 16,
   "metadata": {},
   "outputs": [
    {
     "name": "stdout",
     "output_type": "stream",
     "text": [
      "45\n"
     ]
    }
   ],
   "source": [
    "print(ndarray.sum())"
   ]
  },
  {
   "cell_type": "code",
   "execution_count": 13,
   "metadata": {},
   "outputs": [
    {
     "name": "stdout",
     "output_type": "stream",
     "text": [
      "[ 6 15 24]\n"
     ]
    }
   ],
   "source": [
    "print(ndarray.sum(axis = 1)) # 將軸 1 的各項相加,但不將軸 0 合併(合併了軸 0 就等於一般 ndarray.sum()的結果了)"
   ]
  },
  {
   "cell_type": "code",
   "execution_count": 18,
   "metadata": {},
   "outputs": [
    {
     "name": "stdout",
     "output_type": "stream",
     "text": [
      "[12 15 18]\n"
     ]
    }
   ],
   "source": [
    "print(ndarray.sum(axis = 0)) # 將軸 0 的各項相加,但不將軸 1 合併(合併了軸 1 就等於一般 ndarray.sum()的結果了)"
   ]
  },
  {
   "cell_type": "code",
   "execution_count": 40,
   "metadata": {},
   "outputs": [
    {
     "name": "stdout",
     "output_type": "stream",
     "text": [
      "   0  1  2\n",
      "0  1  2  3\n",
      "1  4  5  6\n",
      "2  7  8  9\n"
     ]
    }
   ],
   "source": [
    "frame2 = pd.DataFrame(np.arange(1,10).reshape(3, 3), columns = list((0,1,2)), index = list((0,1,2)))\n",
    "f = lambda x : x.max() - x.min()\n",
    "\n",
    "print(frame2)"
   ]
  },
  {
   "cell_type": "code",
   "execution_count": 41,
   "metadata": {},
   "outputs": [
    {
     "data": {
      "text/plain": [
       "0    6\n",
       "1    6\n",
       "2    6\n",
       "dtype: int64"
      ]
     },
     "execution_count": 41,
     "metadata": {},
     "output_type": "execute_result"
    }
   ],
   "source": [
    "frame2.apply(f, axis = 0)  # 從軸 0 各項中取最大項減最小項,不合併軸 1 (每行各自從其對應軸 0 各項中取 max 減 min)"
   ]
  },
  {
   "cell_type": "code",
   "execution_count": 42,
   "metadata": {},
   "outputs": [
    {
     "data": {
      "text/plain": [
       "0    2\n",
       "1    2\n",
       "2    2\n",
       "dtype: int64"
      ]
     },
     "execution_count": 42,
     "metadata": {},
     "output_type": "execute_result"
    }
   ],
   "source": [
    "frame2.apply(f, axis = 1)  # 從軸 1 各項中取最大項減最小項,不合併軸 1 (每行各自從其對應軸 0 各項中取 max 減 min)"
   ]
  },
  {
   "cell_type": "code",
   "execution_count": 10,
   "metadata": {},
   "outputs": [
    {
     "name": "stdout",
     "output_type": "stream",
     "text": [
      "3\n",
      "2\n"
     ]
    }
   ],
   "source": [
    "f = lambda x, y: x + y\n",
    "g = lambda x: x + 1\n",
    "\n",
    "print(f(1, 2))\n",
    "print(g(1))"
   ]
  },
  {
   "cell_type": "code",
   "execution_count": 22,
   "metadata": {},
   "outputs": [
    {
     "name": "stdout",
     "output_type": "stream",
     "text": [
      "0\n"
     ]
    }
   ],
   "source": [
    "exp1 = lambda x : x+1 if 2 == 1 else 0\n",
    "print(exp1(1))"
   ]
  }
 ],
 "metadata": {
  "kernelspec": {
   "display_name": "Python 3",
   "language": "python",
   "name": "python3"
  },
  "language_info": {
   "codemirror_mode": {
    "name": "ipython",
    "version": 3
   },
   "file_extension": ".py",
   "mimetype": "text/x-python",
   "name": "python",
   "nbconvert_exporter": "python",
   "pygments_lexer": "ipython3",
   "version": "3.7.3"
  }
 },
 "nbformat": 4,
 "nbformat_minor": 2
}
