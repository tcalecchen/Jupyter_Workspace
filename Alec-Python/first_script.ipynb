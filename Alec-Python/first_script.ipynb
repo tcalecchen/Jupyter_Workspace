{
 "cells": [
  {
   "cell_type": "code",
   "execution_count": 1,
   "metadata": {},
   "outputs": [],
   "source": [
    "from math import exp, log, sqrt\n",
    "import re    ## 可以在文字中搜尋特定的文字組合（即正規表達式）\n",
    "from datetime import date, time, datetime, timedelta\n",
    "from operator import itemgetter\n",
    "import sys\n",
    "import glob\n",
    "import os\n",
    "import pandas as pd"
   ]
  },
  {
   "cell_type": "code",
   "execution_count": 2,
   "metadata": {},
   "outputs": [
    {
     "name": "stdout",
     "output_type": "stream",
     "text": [
      "Output #1: I'm excited to learn Python.\n"
     ]
    }
   ],
   "source": [
    "# Print a simple string\n",
    "print(\"Output #1: I'm excited to learn Python.\") "
   ]
  },
  {
   "cell_type": "code",
   "execution_count": 3,
   "metadata": {},
   "outputs": [
    {
     "name": "stdout",
     "output_type": "stream",
     "text": [
      "Output #2: Four plus five equals 9\n"
     ]
    }
   ],
   "source": [
    "# Add two numbers together\n",
    "x = 4\n",
    "y = 5\n",
    "z = x + y\n",
    "print(\"Output #2: Four plus five equals {0:d}\".format(z))"
   ]
  },
  {
   "cell_type": "code",
   "execution_count": 4,
   "metadata": {},
   "outputs": [
    {
     "name": "stdout",
     "output_type": "stream",
     "text": [
      "Output #3: [1, 2, 3, 4], ['first', 'second', 'third', 'fourth'], [1, 2, 3, 4, 'first', 'second', 'third', 'fourth']\n"
     ]
    }
   ],
   "source": [
    "# Add two lists together\n",
    "a = [1, 2, 3, 4]\n",
    "b = [\"first\", \"second\", \"third\", \"fourth\"]\n",
    "c = a + b\n",
    "print(\"Output #3: {0}, {1}, {2}\".format(a, b, c))"
   ]
  },
  {
   "cell_type": "markdown",
   "metadata": {},
   "source": [
    "## INTEGERS"
   ]
  },
  {
   "cell_type": "code",
   "execution_count": 15,
   "metadata": {},
   "outputs": [
    {
     "name": "stdout",
     "output_type": "stream",
     "text": [
      "Output #4: 9\n",
      "Output #5: 81\n",
      "Output #6: 4.0\n"
     ]
    }
   ],
   "source": [
    "x = 9\n",
    "print(\"Output #4: {0}\".format(x))\n",
    "print(\"Output #5: {0}\".format(3**4))  ## 3 的 4 次方\n",
    "print(\"Output #6: {0}\".format(int(8.3)/int(2.7)))"
   ]
  },
  {
   "cell_type": "markdown",
   "metadata": {},
   "source": [
    "## FLOATING-POINT NUMBERS"
   ]
  },
  {
   "cell_type": "code",
   "execution_count": 8,
   "metadata": {},
   "outputs": [
    {
     "name": "stdout",
     "output_type": "stream",
     "text": [
      "Output #7: 3.074\n",
      "Output #8: 12.0\n",
      "Output #9: 2.67\n",
      "Output #10: 2.6667\n"
     ]
    }
   ],
   "source": [
    "print(\"Output #7: {0:.3f}\".format(8.3/2.7))\n",
    "y = 2.5 * 4.8\n",
    "print(\"Output #8: {0:.1f}\".format(y))\n",
    "r = 8/float(3)\n",
    "print(\"Output #9: {0:.2f}\".format(r))\n",
    "print(\"Output #10: {0:.4f}\".format(8.0/3))"
   ]
  },
  {
   "cell_type": "code",
   "execution_count": 23,
   "metadata": {},
   "outputs": [
    {
     "name": "stdout",
     "output_type": "stream",
     "text": [
      "Output #11: 20.0855\n",
      "Output #12: 1.39\n",
      "Output #13: 9.0\n"
     ]
    }
   ],
   "source": [
    "# 在程式最前面有 import exp, log, sqrt，所以這一段可以正常執行\n",
    "# Some mathematical functions available in the math module\n",
    "print(\"Output #11: {0:.4f}\".format(exp(3)))\n",
    "print(\"Output #12: {0:.2f}\".format(log(4)))\n",
    "print(\"Output #13: {0:.1f}\".format(sqrt(81)))  ## 開根號"
   ]
  },
  {
   "cell_type": "markdown",
   "metadata": {},
   "source": [
    "## STRINGS"
   ]
  },
  {
   "cell_type": "code",
   "execution_count": 13,
   "metadata": {},
   "outputs": [
    {
     "name": "stdout",
     "output_type": "stream",
     "text": [
      "Output #14: I'm enjoying learning Python.\n",
      "Output #15: This is a long string. Without the backslash it would run off of the page on the right in the text editor and be very difficult to read and edit. By using the backslash you can split the long string into smaller strings on separate lines so that the whole string is easy to view in the text editor.\n",
      "Output #16: You can use triple single quotes for multi-line comment strings.\n",
      "Output #17: You can also use triple double quotes for multi-line comment strings.\n"
     ]
    }
   ],
   "source": [
    "# A string with single quotes, so include a backslash before the single quote\n",
    "print(\"Output #14: {0:s}\".format('I\\'m enjoying learning Python.'))\n",
    "\n",
    "# A one-line string, but if the string is long and running off the page on the right\n",
    "# you can use a \"\\\" to separate the long string into smaller strings on separate lines\n",
    "print(\"Output #15: {0:s}\".format(\"This is a long string. Without the backslash\\\n",
    " it would run off of the page on the right in the text editor and be very\\\n",
    " difficult to read and edit. By using the backslash you can split the long\\\n",
    " string into smaller strings on separate lines so that the whole string is easy\\\n",
    " to view in the text editor.\"))\n",
    "\n",
    "# Use triple single or double quotes if you want the string to span multiple lines\n",
    "# and you don't want to use the \"\\\"\n",
    "print(\"Output #16: {0:s}\".format('''You can use triple single quotes for multi-line comment strings.'''))\n",
    "\n",
    "print(\"Output #17: {0:s}\".format(\"\"\"You can also use triple double quotes for multi-line comment strings.\"\"\"))\n"
   ]
  },
  {
   "cell_type": "code",
   "execution_count": 16,
   "metadata": {},
   "outputs": [
    {
     "name": "stdout",
     "output_type": "stream",
     "text": [
      "Output #18: This is ashort string.\n",
      "Output #19: She is very very very very  befautiful.\n",
      "Output #20: 22\n"
     ]
    }
   ],
   "source": [
    "# Add two strings together\n",
    "string1 = \"This is a\"\n",
    "string2 = \"short string.\"\n",
    "sentence = string1 + string2\n",
    "print(\"Output #18: {0:s}\".format(sentence))\n",
    "\n",
    "# Repeat a string four times\n",
    "\n",
    "print(\"Output #19: {0:s} {1:s} {2:s}\".format(\"She is\",\"very \"*4,\"befautiful.\"))\n",
    "\n",
    "# Determine the number of characters in a string, including spaces and punctuation\n",
    "\n",
    "m = len(sentence)\n",
    "print(\"Output #20: {0:d}\".format(m))"
   ]
  },
  {
   "cell_type": "code",
   "execution_count": 4,
   "metadata": {},
   "outputs": [
    {
     "name": "stdout",
     "output_type": "stream",
     "text": [
      "Output #21: ['My', 'deliverable', 'is', 'due', 'in', 'May']\n",
      "Output #22: FIRST PIECE:My SECOND PIECE:deliverable THIRD PIECE:is due in May\n",
      "Output #23: ['Your', 'deliverable', 'is', 'due', 'in', 'June']\n",
      "Output #24: deliverable June June\n"
     ]
    }
   ],
   "source": [
    "# split()\n",
    "string1 = \"My deliverable is due in May\"\n",
    "string1_list1 = string1.split()\n",
    "string1_list2 = string1.split(\" \",2)  ## 以一個空格字元分割字串，只要在前兩個空格字元進行分割\n",
    "print(\"Output #21: {0}\".format(string1_list1))\n",
    "print(\"Output #22: FIRST PIECE:{0} SECOND PIECE:{1} THIRD PIECE:{2}\"\\\n",
    "     .format(string1_list2[0], string1_list2[1], string1_list2[2]))\n",
    "string2 = \"Your,deliverable,is,due,in,June\"\n",
    "string2_list = string2.split(',')\n",
    "print(\"Output #23: {0}\".format(string2_list))\n",
    "print(\"Output #24: {0} {1} {2}\".format(string2_list[1], string2_list[5],\\\n",
    "                                      string2_list[-1]))  ## -1 是指從後面算起來第一個"
   ]
  },
  {
   "cell_type": "code",
   "execution_count": 5,
   "metadata": {},
   "outputs": [
    {
     "name": "stdout",
     "output_type": "stream",
     "text": [
      "Output #25: Your,deliverable,is,due,in,June\n"
     ]
    }
   ],
   "source": [
    "# join()\n",
    "string2 = \"Your,deliverable,is,due,in,June\"\n",
    "string2_list = string2.split(',')\n",
    "print(\"Output #25: {0}\".format(','.join(string2_list)))"
   ]
  },
  {
   "cell_type": "code",
   "execution_count": 16,
   "metadata": {},
   "outputs": [
    {
     "name": "stdout",
     "output_type": "stream",
     "text": [
      "Output #26: string3:  Remove  unwant characters    from this string.\t\t   \n",
      "\n",
      "Output #27: lstrip:Remove  unwant characters    from this string.\t\t   \n",
      "\n",
      "Output #28: rstrip: Remove  unwant characters    from this string.\n",
      "Output #29: strip:Remove  unwant characters    from this string.\n",
      "Output #30: $$Here's another string that has unwanted characters.__---++\n",
      "Output #31: The unwanted characters have been removed.\n"
     ]
    }
   ],
   "source": [
    "# strip()\n",
    "string3 = \" Remove  unwant characters    from this string.\\t\\t   \\n\"  ## \\t tab, \\n new line\n",
    "print(\"Output #26: string3: {0:s}\".format(string3)) \n",
    "string3_lstrip = string3.lstrip()\n",
    "print(\"Output #27: lstrip:{0:s}\".format(string3_lstrip))\n",
    "string3_rstrip = string3.rstrip()\n",
    "print(\"Output #28: rstrip:{0:s}\".format(string3_rstrip))\n",
    "string3_strip = string3.strip()\n",
    "print(\"Output #29: strip:{0:s}\".format(string3_strip))\n",
    "\n",
    "string4 = \"$$Here's another string that has unwanted characters.__---++\"\n",
    "print(\"Output #30: {0:s}\".format(string4))\n",
    "string4 = \"$$The unwanted characters have been removed.__---++\"\n",
    "sthing4_strip = string4.strip('$_-+')\n",
    "print(\"Output #31: {0:s}\".format(sthing4_strip))"
   ]
  },
  {
   "cell_type": "code",
   "execution_count": 17,
   "metadata": {},
   "outputs": [
    {
     "name": "stdout",
     "output_type": "stream",
     "text": [
      "Output #32 (with !@!): Let's!@!replace!@!the!@!space!@!in!@!this!@!sentence!@!with!@!other!@!characters.\n",
      "Output #32 (with commas): Let's,replace,the,space,in,this,sentence,with,other,characters.\n"
     ]
    }
   ],
   "source": [
    "# replace()\n",
    "string5 = \"Let's replace the space in this sentence with other characters.\"\n",
    "string5_replace = string5.replace(\" \",\"!@!\")\n",
    "print(\"Output #32 (with !@!): {0:s}\".format(string5_replace))\n",
    "string5_replace = string5.replace(\" \",\",\")\n",
    "print(\"Output #33 (with commas): {0:s}\".format(string5_replace))"
   ]
  },
  {
   "cell_type": "code",
   "execution_count": 25,
   "metadata": {},
   "outputs": [
    {
     "name": "stdout",
     "output_type": "stream",
     "text": [
      "Output #34: here's what happens when you use lower.\n",
      "Output #35: HERE'S WHAT HAPPENS WHEN YOU USE UPPER.\n",
      "Output #36: Here's what happens when you use capitalize.\n",
      "Output #37: (on each word):\n",
      "Here's\n",
      "What\n",
      "Happens\n",
      "When\n",
      "You\n",
      "Use\n",
      "Capitalize.\n"
     ]
    }
   ],
   "source": [
    "# lower(), upper(), capitalize()\n",
    "string6 = \"Here's WHAT Happens WHEN You Use lower.\"\n",
    "print(\"Output #34: {0:s}\".format(string6.lower()))\n",
    "string7 = \"Here's WHAT Happens WHEN You Use UPPER.\"\n",
    "print(\"Output #35: {0:s}\".format(string7.upper()))\n",
    "string8 = \"here's WHAT Happens WHEN you use Capitalize.\"\n",
    "print(\"Output #36: {0:s}\".format(string8.capitalize()))  ## 將字串第一個字元變大寫，其餘字元變成小寫\n",
    "string8_list = string8.split()\n",
    "print(\"Output #37: (on each word):\")\n",
    "for word in string8_list:\n",
    "    print(\"{0:s}\".format(word.capitalize()))"
   ]
  },
  {
   "cell_type": "markdown",
   "metadata": {},
   "source": [
    "## REGULAR EXPRESSIONS / PATTERN MATCHING"
   ]
  },
  {
   "cell_type": "code",
   "execution_count": 26,
   "metadata": {},
   "outputs": [
    {
     "name": "stdout",
     "output_type": "stream",
     "text": [
      "Output #38:2\n"
     ]
    }
   ],
   "source": [
    "# 在程式最前面有 import re\n",
    "# Count the number of times a pattern appears in a string\n",
    "string = \"The quick brown fox jumps over the lazy dog.\"\n",
    "string_list = string.split()\n",
    "pattern = re.compile(r\"The\", re.I)  ## re.compile 將文字組合編譯成正規表達式（可大幅增加程式速度）\n",
    "                                    ## re.I 確保這個文字組合會區分大小寫\n",
    "                                    ## 原始字串標記 r 可確保 Python 不處理字串的特殊序列，例如 \\、\\t、\\n\n",
    "count = 0\n",
    "for word in string_list:\n",
    "    if pattern.search(word):\n",
    "        count += 1\n",
    "print(\"Output #38:{0:d}\".format(count))       "
   ]
  },
  {
   "cell_type": "code",
   "execution_count": 32,
   "metadata": {},
   "outputs": [
    {
     "name": "stdout",
     "output_type": "stream",
     "text": [
      "Output #39:\n",
      "The\n",
      "the\n"
     ]
    }
   ],
   "source": [
    "# Print the pattern each time it is found in the string\n",
    "string = \"The quick brown fox jumps over the lazy dog.\"\n",
    "string_list = string.split()\n",
    "pattern = re.compile(r\"(?P<match_word>The)\", re.I) ## (?P<name>)是中繼字元。這個中繼字元可讓之後的程式透過符號群組名稱<name>\n",
    "                                                   ## 來使用匹配的字串，此例的群組為<match_word> \n",
    "print(\"Output #39:\")\n",
    "for word in string_list:\n",
    "    if pattern.search(word):\n",
    "        print(\"{:s}\".format(pattern.search(word).group('match_word')))"
   ]
  },
  {
   "cell_type": "code",
   "execution_count": 36,
   "metadata": {},
   "outputs": [
    {
     "name": "stdout",
     "output_type": "stream",
     "text": [
      "Output #40: a quick brown fox jumps over a lazy dog.\n"
     ]
    }
   ],
   "source": [
    "# Substitute the letter \"a\" for the word \"the\" in the string\n",
    "string = \"The quick brown fox jumps over the lazy dog.\"\n",
    "string_to_find = r\"The\"\n",
    "pattern = re.compile(string_to_find, re.I)  ## 將正規表達式指派給變數 pattern\n",
    "print(\"Output #40: {:s}\".format(pattern.sub(\"a\", string))) ## 使用 re.sub 函式在 string 變數中尋找文字組合 The，不分大小寫\n",
    "                                                           ## 並將每一個文字組合換成字母 a "
   ]
  },
  {
   "cell_type": "markdown",
   "metadata": {},
   "source": [
    "## DATES"
   ]
  },
  {
   "cell_type": "code",
   "execution_count": 40,
   "metadata": {},
   "outputs": [
    {
     "name": "stdout",
     "output_type": "stream",
     "text": [
      "Output #41: today: 2019-04-02\n",
      "Output #42: Year: 2019\n",
      "Output #43: Month: 4\n",
      "Output #44: Day:2\n",
      "Output #45: Datetime: 2019-04-02 16:56:07.686664\n"
     ]
    }
   ],
   "source": [
    "# Print today's date, as well as the year, month, and day elements\n",
    "today = date.today()\n",
    "print(\"Output #41: today: {0!s}\".format(today))  ## {0!s} 裡面的 !s 代表被傳入 print 陳述式裡的值會格式化成字串，即使是數字也是。\n",
    "print(\"Output #42: Year: {0!s}\".format(today.year))\n",
    "print(\"Output #43: Month: {0!s}\".format(today.month))\n",
    "print(\"Output #44: Day:{0!s}\".format(today.day))\n",
    "current_datetime = datetime.today()\n",
    "print(\"Output #45: Datetime: {0!s}\".format(current_datetime))"
   ]
  },
  {
   "cell_type": "code",
   "execution_count": 44,
   "metadata": {},
   "outputs": [
    {
     "name": "stdout",
     "output_type": "stream",
     "text": [
      "one_day: -1 day, 0:00:00\n",
      "Output #46: yesterday: 2019-04-01\n",
      "Output #47: -1 day, 16:00:00 -1 57600\n"
     ]
    }
   ],
   "source": [
    "# Calculate a new date using a timedelta\n",
    "one_day = timedelta(days=-1)  ## 1天前\n",
    "yesterday = today + one_day\n",
    "print(\"one_day: {0!s}\".format(one_day))\n",
    "print(\"Output #46: yesterday: {0!s}\".format(yesterday))\n",
    "eight_hours = timedelta(hours = -8) ## 以今天零點為基礎的 8 個小前，即前一天的 16:00(24-8=16)，3600*16 = 57600(1小時 3600秒)\n",
    "print(\"Output #47: {0!s} {1!s} {2!s}\".format(eight_hours, eight_hours.days, eight_hours.seconds))"
   ]
  },
  {
   "cell_type": "code",
   "execution_count": 46,
   "metadata": {},
   "outputs": [
    {
     "name": "stdout",
     "output_type": "stream",
     "text": [
      "Output #48: 1 day, 0:00:00\n",
      "Output #49: 1\n"
     ]
    }
   ],
   "source": [
    "# Calculate the amount of time between two dates and grab the first element, the number of days\n",
    "\n",
    "date_diff = today - yesterday\n",
    "print(\"Output #48: {0!s}\".format(date_diff))\n",
    "print(\"Output #49: {0!s}\".format(str(date_diff).split()[0]))  ## str 函式將結果轉成字串，split 函式將字串以空格分開，並且讓每一個\n",
    "                                                              ## 子字串成為一個串列元素，而 [0] 代表抓取串列的第一個元素"
   ]
  },
  {
   "cell_type": "code",
   "execution_count": 5,
   "metadata": {},
   "outputs": [
    {
     "name": "stdout",
     "output_type": "stream",
     "text": [
      "Output #50: 04/03/2019\n",
      "Output #51: Apr 03, 2019\n",
      "Output #52: 2019-04-03\n",
      "Output #53: April 03, 2019\n"
     ]
    }
   ],
   "source": [
    "# 使用 strftime 函式，以特定格式的日期字串來建立 date 物件\n",
    "# Create a string with a specific format from a date object\n",
    "today = date.today()\n",
    "print(\"Output #50: {:s}\".format(today.strftime('%m/%d/%Y')))\n",
    "print(\"Output #51: {:s}\".format(today.strftime('%b %d, %Y')))\n",
    "print(\"Output #52: {:s}\".format(today.strftime('%Y-%m-%d')))\n",
    "print(\"Output #53: {:s}\".format(today.strftime('%B %d, %Y')))"
   ]
  },
  {
   "cell_type": "code",
   "execution_count": 15,
   "metadata": {},
   "outputs": [
    {
     "name": "stdout",
     "output_type": "stream",
     "text": [
      "Output #54: 2019-04-03 00:00:00\n",
      "Output #55: 2019-04-03 00:00:00\n",
      "Output #56: 2019-04-03\n",
      "Output #57: 2019-04-03\n"
     ]
    }
   ],
   "source": [
    "# 使用 strptime 函式，以特定格式的日期字串來建立 datetime 物件\n",
    "# Create a datetime object with a specific format\n",
    "# from a string representing a date\n",
    "date1 = today.strftime('%m/%d/%Y')\n",
    "date2 = today.strftime('%b %d, %Y')\n",
    "date3 = today.strftime('%Y-%m-%d')\n",
    "date4 = today.strftime('%B %d, %Y')\n",
    "\n",
    "# Two datetime objects and two date objects\n",
    "# based on the four strings that have different date formats\n",
    "print(\"Output #54: {!s}\".format(datetime.strptime(date1, '%m/%d/%Y')))\n",
    "print(\"Output #55: {!s}\".format(datetime.strptime(date2, '%b %d, %Y')))\n",
    "\n",
    "# Show the date portion only\n",
    "print(\"Output #56: {!s}\".format(datetime.date(datetime.strptime(date3, '%Y-%m-%d'))))\n",
    "print(\"Output #57: {!s}\".format(datetime.date(datetime.strptime(date4, '%B %d, %Y'))))"
   ]
  },
  {
   "cell_type": "markdown",
   "metadata": {},
   "source": [
    "## LISTS"
   ]
  },
  {
   "cell_type": "code",
   "execution_count": 3,
   "metadata": {},
   "outputs": [
    {
     "name": "stdout",
     "output_type": "stream",
     "text": [
      "Output #58: [1, 2, 3]\n",
      "Output #59: a_list has 3 elements.\n",
      "Output #60: the maximum value in a_list is 3.\n",
      "Output #61: the minimum value in a_list is 1.\n",
      "Output #62: ['printer', 5, ['star', 'circle', 9]]\n",
      "Output #63: another_list also has 3 elements.\n",
      "Output #64: 5 is in another_list 1 time.\n",
      "Output #65: 1\n",
      "Output #66: 2\n",
      "Output #67: 3\n",
      "Output #68: 3\n",
      "Output #69: 2\n",
      "Output #70: 1\n",
      "Output #71: ['star', 'circle', 9]\n",
      "Output #72: ['star', 'circle', 9]\n"
     ]
    }
   ],
   "source": [
    "# Use square brackets to create a list\n",
    "# len() counts the number of elements in a list\n",
    "# max() and min() find the maximum and minimum numbers in numeric lists\n",
    "# count() counts the number of times a value appears in a list\n",
    "a_list = [1, 2, 3]\n",
    "print(\"Output #58: {}\".format(a_list))\n",
    "print(\"Output #59: a_list has {} elements.\".format(len(a_list)))\n",
    "print(\"Output #60: the maximum value in a_list is {}.\".format(max(a_list)))\n",
    "print(\"Output #61: the minimum value in a_list is {}.\".format(min(a_list)))\n",
    "another_list = ['printer', 5, ['star', 'circle', 9]]\n",
    "print(\"Output #62: {}\".format(another_list))\n",
    "print(\"Output #63: another_list also has {} elements.\".format(len(another_list)))\n",
    "print(\"Output #64: 5 is in another_list {} time.\".format(another_list.count(5)))\n",
    "\n",
    "# Use list indices to access specific values in a list\n",
    "# [0] is the first value; [-1] is the last value\n",
    "print(\"Output #65: {}\".format(a_list[0]))\n",
    "print(\"Output #66: {}\".format(a_list[1]))\n",
    "print(\"Output #67: {}\".format(a_list[2]))\n",
    "print(\"Output #68: {}\".format(a_list[-1]))\n",
    "print(\"Output #69: {}\".format(a_list[-2]))\n",
    "print(\"Output #70: {}\".format(a_list[-3]))\n",
    "print(\"Output #71: {}\".format(another_list[2]))\n",
    "print(\"Output #72: {}\".format(another_list[-1]))"
   ]
  },
  {
   "cell_type": "code",
   "execution_count": 8,
   "metadata": {},
   "outputs": [
    {
     "name": "stdout",
     "output_type": "stream",
     "text": [
      "Output #73: [1, 2]\n",
      "Output #74: ['printer', 5]\n",
      "Output #75: [2, 3]\n",
      "Output #76: [5, ['star', 'circle', 9]]\n",
      "Output #77: [1, 2, 3]\n",
      "Output #78: [1, 2, 3, 'printer', 5, ['star', 'circle', 9]]\n",
      "Output #79: True\n",
      "Output #80: 2 is in [1, 2, 3].\n",
      "Output #81: True\n",
      "Output #82: 6 is not in [1, 2, 3].\n"
     ]
    }
   ],
   "source": [
    "# Use list slices to access a subset of list values\n",
    "# Do not include the starting indice to start from the beginning\n",
    "# Do not include the ending indice to go all of the way to the end\n",
    "a_list = [1, 2, 3]\n",
    "another_list = ['printer', 5, ['star', 'circle', 9]]\n",
    "\n",
    "print(\"Output #73: {}\".format(a_list[0:2]))\n",
    "print(\"Output #74: {}\".format(another_list[:2]))\n",
    "print(\"Output #75: {}\".format(a_list[1:3]))\n",
    "print(\"Output #76: {}\".format(another_list[1:]))\n",
    "\n",
    "# Use [:] to make a copy of a list\n",
    "a_new_list = a_list[:]\n",
    "print(\"Output #77: {}\".format(a_new_list))\n",
    "\n",
    "# Use + to add two or more lists together\n",
    "a_longer_list = a_list + another_list    # to add lists together\n",
    "print(\"Output #78: {}\".format(a_longer_list))\n",
    "\n",
    "# Use 'in' and 'not in' to check whether specific values are or are not in a list\n",
    "a = 2 in a_list\n",
    "print(\"Output #79: {}\".format(a))\n",
    "if 2 in a_list:\n",
    "    print(\"Output #80: 2 is in {}.\".format(a_list))\n",
    "b = 6 not in a_list\n",
    "print(\"Output #81: {}\".format(b))\n",
    "if 6 not in a_list:\n",
    "    print(\"Output #82: 6 is not in {}.\".format(a_list))"
   ]
  },
  {
   "cell_type": "code",
   "execution_count": 10,
   "metadata": {},
   "outputs": [
    {
     "name": "stdout",
     "output_type": "stream",
     "text": [
      "Output #83: [1, 2, 3, 4, 5, 6]\n",
      "Output #84: [1, 2, 3, 4, 6]\n",
      "Output #85: [1, 2, 3]\n",
      "Output #86: [3, 2, 1]\n",
      "Output #87: [1, 2, 3]\n"
     ]
    }
   ],
   "source": [
    "# Use append() to add additional values to the end of the list\n",
    "# Use remove() to remove specific values from the list\n",
    "# Use pop() to remove values from the end of the list\n",
    "a_list = [1, 2, 3]\n",
    "a_list.append(4)\n",
    "a_list.append(5)\n",
    "a_list.append(6)\n",
    "print(\"Output #83: {}\".format(a_list))\n",
    "a_list.remove(5)\n",
    "print(\"Output #84: {}\".format(a_list))\n",
    "a_list.pop()\n",
    "a_list.pop()\n",
    "print(\"Output #85: {}\".format(a_list))\n",
    "\n",
    "# Use reverse() to reverse a list, in-place, meaning it changes the list\n",
    "# To reverse a list without changing the original list, make a copy first\n",
    "a_list.reverse()\n",
    "print(\"Output #86: {}\".format(a_list))\n",
    "a_list_copy = a_list[:]\n",
    "a_list_copy.reverse()\n",
    "print(\"Output #87: {}\".format(a_list_copy))"
   ]
  },
  {
   "cell_type": "code",
   "execution_count": 11,
   "metadata": {},
   "outputs": [
    {
     "name": "stdout",
     "output_type": "stream",
     "text": [
      "Output #88: [3, 5, 1, 7, 2, 8, 4, 9, 0, 6]\n",
      "Output #89: [0, 1, 2, 3, 4, 5, 6, 7, 8, 9]\n",
      "Output #90: [3, 5, 1, 7, 2, 8, 4, 9, 0, 6]\n"
     ]
    }
   ],
   "source": [
    "# Use sort() to sort a list, in-place, meaning it changes the list\n",
    "# To sort a list without changing the original list, make a copy first\n",
    "unordered_list = [3, 5, 1, 7, 2, 8, 4, 9, 0, 6]\n",
    "print(\"Output #88: {}\".format(unordered_list))\n",
    "list_copy = unordered_list[:]\n",
    "list_copy.sort()\n",
    "print(\"Output #89: {}\".format(list_copy))\n",
    "print(\"Output #90: {}\".format(unordered_list))"
   ]
  },
  {
   "cell_type": "code",
   "execution_count": 3,
   "metadata": {},
   "outputs": [
    {
     "name": "stdout",
     "output_type": "stream",
     "text": [
      "Output #91: [[4, 3, 2, 1], [2, 4, 1, 3], [1, 2, 3, 4]]\n"
     ]
    }
   ],
   "source": [
    "# Use sorted() to sort a collection of lists by a position in the lists\n",
    "my_lists = [[1,2,3,4], [4,3,2,1], [2,4,1,3]]\n",
    "my_lists_sorted_by_index_3 = sorted(my_lists, key=lambda index_value: index_value[3]) ## 會按照索引位置 3 的值來排序（串列的\n",
    "                                                                                      ## 第四個值）\n",
    "print(\"Output #91: {}\".format(my_lists_sorted_by_index_3))"
   ]
  },
  {
   "cell_type": "code",
   "execution_count": 16,
   "metadata": {},
   "outputs": [
    {
     "name": "stdout",
     "output_type": "stream",
     "text": [
      "Output #92: [[461, 1, 1, 290], [578, 1, 1, 290], [22, 6, 6, 444], [123, 2, 2, 444], [236, 5, 5, 678], [354, 4, 4, 678]]\n"
     ]
    }
   ],
   "source": [
    "# 要先 import itemgetter\n",
    "# Use itemgetter() to sort a collection of lists by two index positions\n",
    "my_lists = [[123,2,2,444], [22,6,6,444], [354,4,4,678], [236,5,5,678], \\\n",
    "[578,1,1,290], [461,1,1,290]]\n",
    "my_lists_sorted_by_index_3_and_0 = sorted(my_lists, key=itemgetter(3,0)) ## 先用索引位置 3 的值來排序串列，接著保持排序後的順序\n",
    "                                                                         ## 再以索引位置 0 的值來排序串列\n",
    "print(\"Output #92: {}\".format(my_lists_sorted_by_index_3_and_0))"
   ]
  },
  {
   "cell_type": "markdown",
   "metadata": {},
   "source": [
    "## TUPLES"
   ]
  },
  {
   "cell_type": "code",
   "execution_count": 4,
   "metadata": {},
   "outputs": [
    {
     "name": "stdout",
     "output_type": "stream",
     "text": [
      "Output #93: ('x', 'y', 'z')\n",
      "Output #94: my_tuple has 3 elements\n",
      "Output #95: y\n",
      "Output #96: ('x', 'y', 'z', 'x', 'y', 'z')\n"
     ]
    }
   ],
   "source": [
    "# Use parentheses to create a tuple\n",
    "my_tuple = ('x', 'y', 'z')\n",
    "print(\"Output #93: {}\".format(my_tuple))\n",
    "print(\"Output #94: my_tuple has {} elements\".format(len(my_tuple)))\n",
    "print(\"Output #95: {}\".format(my_tuple[1]))\n",
    "longer_tuple = my_tuple + my_tuple\n",
    "print(\"Output #96: {}\".format(longer_tuple))"
   ]
  },
  {
   "cell_type": "code",
   "execution_count": 5,
   "metadata": {},
   "outputs": [
    {
     "name": "stdout",
     "output_type": "stream",
     "text": [
      "Output #97: x y z\n",
      "Output #98: red robin\n",
      "Output #99: robin red\n"
     ]
    }
   ],
   "source": [
    "# Unpack tuples with the left-hand side of an assignment operator\n",
    "one, two, three = my_tuple  ## my_tuple 的 x,y,z 被拆解並放入變數 one, two, three\n",
    "print(\"Output #97: {0} {1} {2}\".format(one, two, three))\n",
    "var1 = 'red'\n",
    "var2 = 'robin'\n",
    "print(\"Output #98: {} {}\".format(var1, var2))\n",
    "# Swap values between variables\n",
    "var1, var2 = var2, var1\n",
    "print(\"Output #99: {} {}\".format(var1, var2))"
   ]
  },
  {
   "cell_type": "code",
   "execution_count": 6,
   "metadata": {},
   "outputs": [
    {
     "name": "stdout",
     "output_type": "stream",
     "text": [
      "Output #100: (1, 2, 3)\n",
      "Output #101: ['x', 'y', 'z']\n"
     ]
    }
   ],
   "source": [
    "# Convert tuples to lists and lists to tuples\n",
    "my_list = [1, 2, 3]            ## list 是中括弧\n",
    "my_tuple = ('x', 'y', 'z')     ## tuple 是小括弧\n",
    "print(\"Output #100: {}\".format(tuple(my_list)))\n",
    "print(\"Output #101: {}\".format(list(my_tuple)))"
   ]
  },
  {
   "cell_type": "markdown",
   "metadata": {},
   "source": [
    "## DICTIONARIES"
   ]
  },
  {
   "cell_type": "code",
   "execution_count": 8,
   "metadata": {},
   "outputs": [
    {
     "name": "stdout",
     "output_type": "stream",
     "text": [
      "Output #102: {'one': 1, 'two': 2, 'three': 3}\n",
      "Output #103: a_dict has 3 elements\n",
      "Output #104: {'x': 'printer', 'y': 5, 'z': ['star', 'circle', 9]}\n",
      "Output #105: another_dict also has 3 elements\n",
      "Output #106: 2\n",
      "Output #107: ['star', 'circle', 9]\n",
      "Output #108: {'one': 1, 'two': 2, 'three': 3}\n",
      "Output #109: dict_keys(['one', 'two', 'three'])\n",
      "Output #110: dict_keys(['one', 'two', 'three'])\n",
      "Output #111: dict_values([1, 2, 3])\n",
      "Output #112: dict_items([('one', 1), ('two', 2), ('three', 3)])\n",
      "Output #114: y is a key in another_dict: dict_keys(['x', 'y', 'z']).\n",
      "Output #115: c is not a key in another_dict: dict_keys(['x', 'y', 'z']).\n",
      "Output #116: 3\n",
      "Output #117: None\n",
      "Output #118: Not in dict\n",
      "Output #119: {'one': 1, 'two': 2, 'three': 3}\n",
      "Output #120 (order by keys): [('one', 1), ('three', 3), ('two', 2)]\n",
      "Output #121 (order by values): [('one', 1), ('two', 2), ('three', 3)]\n",
      "Output #122 (order by values, descending): [('three', 3), ('two', 2), ('one', 1)]\n",
      "Output #123 (order by values, ascending): [('one', 1), ('two', 2), ('three', 3)]\n"
     ]
    }
   ],
   "source": [
    "# Use curly braces to create a dictionary\n",
    "# Use a colon between keys and values in each pair\n",
    "# len() counts the number of key-value pairs in a dictionary\n",
    "empty_dict = { }    ## dictionary 是大括弧\n",
    "a_dict = {'one':1, 'two':2, 'three':3}\n",
    "print(\"Output #102: {}\".format(a_dict))\n",
    "print(\"Output #103: a_dict has {!s} elements\".format(len(a_dict)))\n",
    "another_dict = {'x':'printer', 'y':5, 'z':['star', 'circle', 9]}\n",
    "print(\"Output #104: {}\".format(another_dict))\n",
    "print(\"Output #105: another_dict also has {!s} elements\"\\\n",
    ".format(len(another_dict)))\n",
    "\n",
    "# Use keys to access specific values in a dictionary\n",
    "print(\"Output #106: {}\".format(a_dict['two']))\n",
    "print(\"Output #107: {}\".format(another_dict['z']))\n",
    "\n",
    "# Use copy() to make a copy of a dictionary\n",
    "a_new_dict = a_dict.copy()\n",
    "print(\"Output #108: {}\".format(a_new_dict))\n",
    "\n",
    "# Use keys(), values(), and items() to access\n",
    "# a dictionary's keys, values, and key-value pairs, respectively\n",
    "print(\"Output #109: {}\".format(a_dict.keys()))\n",
    "a_dict_keys = a_dict.keys()\n",
    "print(\"Output #110: {}\".format(a_dict_keys))\n",
    "print(\"Output #111: {}\".format(a_dict.values()))\n",
    "print(\"Output #112: {}\".format(a_dict.items()))\n",
    "\n",
    "# Use in, not in, and get to test\n",
    "# whether a key is in a dictionary\n",
    "if 'y' in another_dict:\n",
    "\tprint(\"Output #114: y is a key in another_dict: {}.\"\\\n",
    "    .format(another_dict.keys()))\n",
    "\n",
    "if 'c' not in another_dict:\n",
    "\tprint(\"Output #115: c is not a key in another_dict: {}.\"\\\n",
    "    .format(another_dict.keys()))\n",
    "\n",
    "print(\"Output #116: {!s}\".format(a_dict.get('three')))\n",
    "print(\"Output #117: {!s}\".format(a_dict.get('four')))\n",
    "print(\"Output #118: {!s}\".format(a_dict.get('four', 'Not in dict')))\n",
    "\n",
    "# Use sorted() to sort a dictionary\n",
    "# To sort a dictionary without changing the original dictionary,\n",
    "# make a copy first\n",
    "print(\"Output #119: \" + str(a_dict))\n",
    "dict_copy = a_dict.copy()\n",
    "ordered_dict1 = sorted(dict_copy.items(), key=lambda item: item[0])\n",
    "print(\"Output #120 (order by keys): {}\".format(ordered_dict1))\n",
    "ordered_dict2 = sorted(dict_copy.items(), key=lambda item: item[1])\n",
    "print(\"Output #121 (order by values): {}\".format(ordered_dict2))\n",
    "ordered_dict3 = sorted(dict_copy.items(), key=lambda x: x[1], reverse=True)\n",
    "print(\"Output #122 (order by values, descending): {}\".format(ordered_dict3))\n",
    "ordered_dict4 = sorted(dict_copy.items(), key=lambda x: x[1], reverse=False)\n",
    "print(\"Output #123 (order by values, ascending): {}\".format(ordered_dict4))"
   ]
  },
  {
   "cell_type": "markdown",
   "metadata": {},
   "source": [
    "## CONTROL FLOW"
   ]
  },
  {
   "cell_type": "code",
   "execution_count": 9,
   "metadata": {},
   "outputs": [
    {
     "name": "stdout",
     "output_type": "stream",
     "text": [
      "Output #124: 5\n"
     ]
    }
   ],
   "source": [
    "# if-else statement\n",
    "x = 5\n",
    "if x > 4 or x != 9:\n",
    "    print(\"Output #124: {}\".format(x))\n",
    "else:\n",
    "    print(\"Output #125: x is not greater than 4\")"
   ]
  },
  {
   "cell_type": "code",
   "execution_count": 10,
   "metadata": {},
   "outputs": [
    {
     "name": "stdout",
     "output_type": "stream",
     "text": [
      "Output #127: 25\n"
     ]
    }
   ],
   "source": [
    "# if-elif-else statement\n",
    "if x > 6:\n",
    "    print(\"Output #126: x is greater than six\")\n",
    "elif x > 4 and x == 5:\n",
    "    print(\"Output #127: {}\".format(x*x))\n",
    "else:\n",
    "    print(\"Output #128: x is not greater than 4\")"
   ]
  },
  {
   "cell_type": "code",
   "execution_count": 11,
   "metadata": {},
   "outputs": [
    {
     "name": "stdout",
     "output_type": "stream",
     "text": [
      "Output #129:\n",
      "Jan\n",
      "Feb\n",
      "Mar\n",
      "Apr\n",
      "May\n",
      "Jun\n",
      "Jul\n",
      "Aug\n",
      "Sep\n",
      "Oct\n",
      "Nov\n",
      "Dec\n",
      "Output #130: (index value: name in list)\n",
      "0: Annie\n",
      "1: Betty\n",
      "2: Claire\n",
      "3: Daphne\n",
      "4: Ellie\n",
      "5: Franchesca\n",
      "6: Greta\n",
      "7: Holly\n",
      "8: Isabel\n",
      "9: Jenny\n",
      "Output #131: (access elements in y with z's index values)\n",
      "Jan\n",
      "Jun\n",
      "Jul\n",
      "Output #132:\n",
      "x, printer\n",
      "y, 5\n",
      "z, ['star', 'circle', 9]\n"
     ]
    }
   ],
   "source": [
    "# for loop\n",
    "y = ['Jan', 'Feb', 'Mar', 'Apr', 'May', 'Jun', 'Jul', 'Aug', 'Sep', 'Oct', \\\n",
    "'Nov', 'Dec']\n",
    "z = ['Annie', 'Betty', 'Claire', 'Daphne', 'Ellie', 'Franchesca', 'Greta', \\\n",
    "'Holly', 'Isabel', 'Jenny']\n",
    "another_dict = {'x':'printer', 'y':5, 'z':['star', 'circle', 9]}\n",
    "\n",
    "print(\"Output #129:\")\n",
    "for month in y:\n",
    "    print(\"{!s}\".format(month))\n",
    "\n",
    "print(\"Output #130: (index value: name in list)\")\n",
    "for i in range(len(z)):\n",
    "    print(\"{0!s}: {1:s}\".format(i, z[i]))\n",
    "\n",
    "print(\"Output #131: (access elements in y with z's index values)\")\n",
    "for j in range(len(z)):\n",
    "    if y[j].startswith('J'):\n",
    "        print(\"{!s}\".format(y[j]))\n",
    "\n",
    "print(\"Output #132:\")\n",
    "for key, value in another_dict.items():\n",
    "    print(\"{0:s}, {1}\".format(key, value))"
   ]
  },
  {
   "cell_type": "code",
   "execution_count": 2,
   "metadata": {},
   "outputs": [
    {
     "name": "stdout",
     "output_type": "stream",
     "text": [
      "Output #133 (list comprehension): [[4, 5, 6], [7, 8, 9]]\n"
     ]
    }
   ],
   "source": [
    "# compact for loops\n",
    "# list, set, and dictionary comprehensions\n",
    "# Select specific rows using a list comprehension\n",
    "my_data = [[1,2,3], [4,5,6], [7,8,9]]\n",
    "rows_to_keep = [row for row in my_data if row[2] > 5]  ## 對於 my_data 內的每一個資料列，如果資料列中，索引位置 2 的值\n",
    "                                                       ## （即第三個值）大於 5，則保留該列。\n",
    "print(\"Output #133 (list comprehension): {}\".format(rows_to_keep))"
   ]
  },
  {
   "cell_type": "code",
   "execution_count": 3,
   "metadata": {},
   "outputs": [
    {
     "name": "stdout",
     "output_type": "stream",
     "text": [
      "Output #134 (set comprehension): {(4, 5, 6), (7, 8, 9), (1, 2, 3)}\n",
      "Output #135 (set function): {(4, 5, 6), (7, 8, 9), (1, 2, 3)}\n"
     ]
    }
   ],
   "source": [
    "# Select a set of unique tuples in a list using a set comprehension\n",
    "my_data = [(1,2,3), (4,5,6), (7,8,9), (7,8,9)]\n",
    "set_of_tuples1 = {x for x in my_data}  ## 對於 my_data 內的每一個 tuple，若他是獨一的 tuple，則保留它\n",
    "print(\"Output #134 (set comprehension): {}\".format(set_of_tuples1))\n",
    "set_of_tuples2 = set(my_data)\n",
    "print(\"Output #135 (set function): {}\".format(set_of_tuples2))\n",
    "\n",
    "## 之所以知道這個運算式是個集合生成式（set comprehension），而不是串列生成式（list comprehension），是因為它使用大括號，\n",
    "## 而不是中括號，而且它不是字典生成式（dictionary comprehension），因為它沒有使用任何鍵值配對語法。"
   ]
  },
  {
   "cell_type": "code",
   "execution_count": 4,
   "metadata": {},
   "outputs": [
    {
     "name": "stdout",
     "output_type": "stream",
     "text": [
      "Output #136 (dictionary comprehension): {'customer3': 11}\n"
     ]
    }
   ],
   "source": [
    "# Select specific key-value pairs using a dictionary comprehension\n",
    "my_dictionary = {'customer1': 7, 'customer2': 9, 'customer3': 11}\n",
    "my_results = {key : value for key, value in my_dictionary.items() if value > 10} ## 對於每一個 my_dictionary 內的鍵值配對，若值\n",
    "                                                                                 ## 大於 10，則保留該鍵值配對。\n",
    "print(\"Output #136 (dictionary comprehension): {}\".format(my_results))"
   ]
  },
  {
   "cell_type": "code",
   "execution_count": 5,
   "metadata": {},
   "outputs": [
    {
     "name": "stdout",
     "output_type": "stream",
     "text": [
      "Output #137:\n",
      "0\n",
      "1\n",
      "2\n",
      "3\n",
      "4\n",
      "5\n",
      "6\n",
      "7\n",
      "8\n",
      "9\n",
      "10\n"
     ]
    }
   ],
   "source": [
    "# while loop\n",
    "print(\"Output #137:\")\n",
    "x = 0\n",
    "while x < 11:\n",
    "    print(\"{!s}\".format(x))\n",
    "    x += 1"
   ]
  },
  {
   "cell_type": "markdown",
   "metadata": {},
   "source": [
    "## FUNCTIONS"
   ]
  },
  {
   "cell_type": "code",
   "execution_count": 10,
   "metadata": {},
   "outputs": [
    {
     "name": "stdout",
     "output_type": "stream",
     "text": [
      "Output #138 (mean): 5.0\n",
      "5.0\n"
     ]
    }
   ],
   "source": [
    "# Calculate the mean of a sequence of numeric values\n",
    "def getMean(numericValues):\n",
    "    return sum(numericValues)/len(numericValues) if len(numericValues) > 0 \\\n",
    "    else float('nan')\n",
    "\n",
    "my_list = [2, 2, 4, 4, 6, 6, 8, 8]\n",
    "print(\"Output #138 (mean): {!s}\".format(getMean(my_list)))\n",
    "\n",
    "import numpy as np      ## numpy 的 mean 函式的結果與 getMean 相同\n",
    "print(np.mean(my_list))"
   ]
  },
  {
   "cell_type": "markdown",
   "metadata": {},
   "source": [
    "## EXCEPTIONS"
   ]
  },
  {
   "cell_type": "code",
   "execution_count": 14,
   "metadata": {},
   "outputs": [
    {
     "name": "stdout",
     "output_type": "stream",
     "text": [
      "Output #139-2 (Error): nan\n",
      "Output #139-3 (Error): division by zero\n",
      "Output #140-1 (Error): nan\n",
      "Output #140-2 (Error): division by zero\n",
      "Output #140-4 (Finally): The finally block is executed every time\n"
     ]
    }
   ],
   "source": [
    "# Calculate the mean of a sequence of numeric values\n",
    "def getMean(numericValues):\n",
    "    return sum(numericValues)/len(numericValues)\n",
    "\n",
    "my_list2 = [ ]\n",
    "\n",
    "# Short version\n",
    "try:\n",
    "    print(\"Output #139-1: {}\".format(getMean(my_list2)))\n",
    "except ZeroDivisionError as detail:\n",
    "    print(\"Output #139-2 (Error): {}\".format(float('nan')))\n",
    "    print(\"Output #139-3 (Error): {}\".format(detail))\n",
    "\n",
    "# Long version\n",
    "try:\n",
    "    result = getMean(my_list2)\n",
    "except ZeroDivisionError as detail:\n",
    "    print(\"Output #140-1 (Error): {}\".format(float('nan')))\n",
    "    print(\"Output #140-2 (Error): {}\".format(detail))\n",
    "else:  ## try 成功會執行 else\n",
    "    print(\"Output #140-3 (The mean is): {}\".format(result))\n",
    "finally:\n",
    "    print(\"Output #140-4 (Finally): The finally block is executed every time\")    "
   ]
  },
  {
   "cell_type": "markdown",
   "metadata": {},
   "source": [
    "### READ A FILE"
   ]
  },
  {
   "cell_type": "code",
   "execution_count": 28,
   "metadata": {},
   "outputs": [
    {
     "name": "stdout",
     "output_type": "stream",
     "text": [
      "Output #141:         0\n",
      "0      I'm\n",
      "1  already\n",
      "2     much\n",
      "3   better\n",
      "4       at\n",
      "5   Python\n"
     ]
    }
   ],
   "source": [
    "# Read a single text file\n",
    "\n",
    "#input_file = sys.argv[1]\n",
    "input_file = pd.read_csv('file_to_read.txt', header = None)\n",
    "\n",
    "## Read a text file (older method) ##\n",
    "#input_file.head(10)\n",
    "print(\"Output #141:{}\".format(input_file[[0]]))\n",
    "#filereader = open(input_file, 'r', newline='')\n",
    "#for row in filereader:\n",
    "#    print(\"{}\".format(row.strip()))\n",
    "#filereader.close()"
   ]
  }
 ],
 "metadata": {
  "kernelspec": {
   "display_name": "Python 3",
   "language": "python",
   "name": "python3"
  },
  "language_info": {
   "codemirror_mode": {
    "name": "ipython",
    "version": 3
   },
   "file_extension": ".py",
   "mimetype": "text/x-python",
   "name": "python",
   "nbconvert_exporter": "python",
   "pygments_lexer": "ipython3",
   "version": "3.7.1"
  }
 },
 "nbformat": 4,
 "nbformat_minor": 2
}
