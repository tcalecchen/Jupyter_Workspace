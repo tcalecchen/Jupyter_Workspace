{
 "cells": [
  {
   "cell_type": "code",
   "execution_count": 37,
   "metadata": {},
   "outputs": [],
   "source": [
    "from math import exp, log, sqrt\n",
    "import re    ## 可以在文字中搜尋特定的文字組合（即正規表達式）\n",
    "from datetime import date, time, datetime, timedelta"
   ]
  },
  {
   "cell_type": "markdown",
   "metadata": {},
   "source": [
    "Print a simple string"
   ]
  },
  {
   "cell_type": "code",
   "execution_count": 1,
   "metadata": {},
   "outputs": [
    {
     "name": "stdout",
     "output_type": "stream",
     "text": [
      "Output #1: I'm excited to learn Python.\n"
     ]
    }
   ],
   "source": [
    "print(\"Output #1: I'm excited to learn Python.\") "
   ]
  },
  {
   "cell_type": "markdown",
   "metadata": {},
   "source": [
    " Add two numbers together"
   ]
  },
  {
   "cell_type": "code",
   "execution_count": 3,
   "metadata": {},
   "outputs": [
    {
     "name": "stdout",
     "output_type": "stream",
     "text": [
      "Output #2: Four plus five equals 9\n"
     ]
    }
   ],
   "source": [
    "x = 4\n",
    "y = 5\n",
    "z = x + y\n",
    "print(\"Output #2: Four plus five equals {0:d}\".format(z))"
   ]
  },
  {
   "cell_type": "markdown",
   "metadata": {},
   "source": [
    "Add two lists together"
   ]
  },
  {
   "cell_type": "code",
   "execution_count": 4,
   "metadata": {},
   "outputs": [
    {
     "name": "stdout",
     "output_type": "stream",
     "text": [
      "Output #3: [1, 2, 3, 4], ['first', 'second', 'third', 'fourth'], [1, 2, 3, 4, 'first', 'second', 'third', 'fourth']\n"
     ]
    }
   ],
   "source": [
    "a = [1, 2, 3, 4]\n",
    "b = [\"first\", \"second\", \"third\", \"fourth\"]\n",
    "c = a + b\n",
    "print(\"Output #3: {0}, {1}, {2}\".format(a, b, c))"
   ]
  },
  {
   "cell_type": "markdown",
   "metadata": {},
   "source": [
    "integer"
   ]
  },
  {
   "cell_type": "code",
   "execution_count": 15,
   "metadata": {},
   "outputs": [
    {
     "name": "stdout",
     "output_type": "stream",
     "text": [
      "Output #4: 9\n",
      "Output #5: 81\n",
      "Output #6: 4.0\n"
     ]
    }
   ],
   "source": [
    "x = 9\n",
    "print(\"Output #4: {0}\".format(x))\n",
    "print(\"Output #5: {0}\".format(3**4))  ## 3 的 4 次方\n",
    "print(\"Output #6: {0}\".format(int(8.3)/int(2.7)))"
   ]
  },
  {
   "cell_type": "markdown",
   "metadata": {},
   "source": [
    "floating"
   ]
  },
  {
   "cell_type": "code",
   "execution_count": 8,
   "metadata": {},
   "outputs": [
    {
     "name": "stdout",
     "output_type": "stream",
     "text": [
      "Output #7: 3.074\n",
      "Output #8: 12.0\n",
      "Output #9: 2.67\n",
      "Output #10: 2.6667\n"
     ]
    }
   ],
   "source": [
    "print(\"Output #7: {0:.3f}\".format(8.3/2.7))\n",
    "y = 2.5 * 4.8\n",
    "print(\"Output #8: {0:.1f}\".format(y))\n",
    "r = 8/float(3)\n",
    "print(\"Output #9: {0:.2f}\".format(r))\n",
    "print(\"Output #10: {0:.4f}\".format(8.0/3))"
   ]
  },
  {
   "cell_type": "code",
   "execution_count": 23,
   "metadata": {},
   "outputs": [
    {
     "name": "stdout",
     "output_type": "stream",
     "text": [
      "Output #11: 20.0855\n",
      "Output #12: 1.39\n",
      "Output #13: 9.0\n"
     ]
    }
   ],
   "source": [
    "# 在程式最前面有 import exp, log, sqrt，所以這一段可以正常執行\n",
    "\n",
    "print(\"Output #11: {0:.4f}\".format(exp(3)))\n",
    "print(\"Output #12: {0:.2f}\".format(log(4)))\n",
    "print(\"Output #13: {0:.1f}\".format(sqrt(81)))  ## 開根號"
   ]
  },
  {
   "cell_type": "markdown",
   "metadata": {},
   "source": [
    "string"
   ]
  },
  {
   "cell_type": "code",
   "execution_count": 13,
   "metadata": {},
   "outputs": [
    {
     "name": "stdout",
     "output_type": "stream",
     "text": [
      "Output #14: I'm enjoying learning Python.\n",
      "Output #15: This is a long string. Without the backslash it would run off of the page on the right in the text editor and be very difficult to read and edit. By using the backslash you can split the long string into smaller strings on separate lines so that the whole string is easy to view in the text editor.\n",
      "Output #16: You can use triple single quotes for multi-line comment strings.\n",
      "Output #17: You can also use triple double quotes for multi-line comment strings.\n"
     ]
    }
   ],
   "source": [
    "print(\"Output #14: {0:s}\".format('I\\'m enjoying learning Python.'))\n",
    "\n",
    "print(\"Output #15: {0:s}\".format(\"This is a long string. Without the backslash\\\n",
    " it would run off of the page on the right in the text editor and be very\\\n",
    " difficult to read and edit. By using the backslash you can split the long\\\n",
    " string into smaller strings on separate lines so that the whole string is easy\\\n",
    " to view in the text editor.\"))\n",
    "\n",
    "print(\"Output #16: {0:s}\".format('''You can use triple single quotes for multi-line comment strings.'''))\n",
    "\n",
    "print(\"Output #17: {0:s}\".format(\"\"\"You can also use triple double quotes for multi-line comment strings.\"\"\"))\n"
   ]
  },
  {
   "cell_type": "code",
   "execution_count": 16,
   "metadata": {},
   "outputs": [
    {
     "name": "stdout",
     "output_type": "stream",
     "text": [
      "Output #18: This is ashort string.\n",
      "Output #19: She is very very very very  befautiful.\n",
      "Output #20: 22\n"
     ]
    }
   ],
   "source": [
    "string1 = \"This is a\"\n",
    "string2 = \"short string.\"\n",
    "sentence = string1 + string2\n",
    "print(\"Output #18: {0:s}\".format(sentence))\n",
    "print(\"Output #19: {0:s} {1:s} {2:s}\".format(\"She is\",\"very \"*4,\"befautiful.\"))\n",
    "m = len(sentence)\n",
    "print(\"Output #20: {0:d}\".format(m))"
   ]
  },
  {
   "cell_type": "markdown",
   "metadata": {},
   "source": [
    "split"
   ]
  },
  {
   "cell_type": "code",
   "execution_count": 4,
   "metadata": {},
   "outputs": [
    {
     "name": "stdout",
     "output_type": "stream",
     "text": [
      "Output #21: ['My', 'deliverable', 'is', 'due', 'in', 'May']\n",
      "Output #22: FIRST PIECE:My SECOND PIECE:deliverable THIRD PIECE:is due in May\n",
      "Output #23: ['Your', 'deliverable', 'is', 'due', 'in', 'June']\n",
      "Output #24: deliverable June June\n"
     ]
    }
   ],
   "source": [
    "string1 = \"My deliverable is due in May\"\n",
    "string1_list1 = string1.split()\n",
    "string1_list2 = string1.split(\" \",2)  ## 以一個空格字元分割字串，只要在前兩個空格字元進行分割\n",
    "print(\"Output #21: {0}\".format(string1_list1))\n",
    "print(\"Output #22: FIRST PIECE:{0} SECOND PIECE:{1} THIRD PIECE:{2}\"\\\n",
    "     .format(string1_list2[0], string1_list2[1], string1_list2[2]))\n",
    "string2 = \"Your,deliverable,is,due,in,June\"\n",
    "string2_list = string2.split(',')\n",
    "print(\"Output #23: {0}\".format(string2_list))\n",
    "print(\"Output #24: {0} {1} {2}\".format(string2_list[1], string2_list[5],\\\n",
    "                                      string2_list[-1]))  ## -1 是指從後面算起來第一個"
   ]
  },
  {
   "cell_type": "markdown",
   "metadata": {},
   "source": [
    "join"
   ]
  },
  {
   "cell_type": "code",
   "execution_count": 5,
   "metadata": {},
   "outputs": [
    {
     "name": "stdout",
     "output_type": "stream",
     "text": [
      "Output #25: Your,deliverable,is,due,in,June\n"
     ]
    }
   ],
   "source": [
    "string2 = \"Your,deliverable,is,due,in,June\"\n",
    "string2_list = string2.split(',')\n",
    "print(\"Output #25: {0}\".format(','.join(string2_list)))"
   ]
  },
  {
   "cell_type": "markdown",
   "metadata": {},
   "source": [
    "strip"
   ]
  },
  {
   "cell_type": "code",
   "execution_count": 10,
   "metadata": {},
   "outputs": [
    {
     "name": "stdout",
     "output_type": "stream",
     "text": [
      "Output #26: string3:  Remove  unwant characters    from this string.\t\t   \n",
      "\n",
      "Output #27: lstrip:Remove  unwant characters    from this string.\t\t   \n",
      "\n",
      "Output #28: rstrip: Remove  unwant characters    from this string.\n",
      "Output #29: strip:Remove  unwant characters    from this string.\n"
     ]
    }
   ],
   "source": [
    "string3 = \" Remove  unwant characters    from this string.\\t\\t   \\n\"  ## \\t tab, \\n new line\n",
    "print(\"Output #26: string3: {0:s}\".format(string3)) \n",
    "string3_lstrip = string3.lstrip()\n",
    "print(\"Output #27: lstrip:{0:s}\".format(string3_lstrip))\n",
    "string3_rstrip = string3.rstrip()\n",
    "print(\"Output #28: rstrip:{0:s}\".format(string3_rstrip))\n",
    "string3_strip = string3.strip()\n",
    "print(\"Output #29: strip:{0:s}\".format(string3_strip))"
   ]
  },
  {
   "cell_type": "code",
   "execution_count": 12,
   "metadata": {},
   "outputs": [
    {
     "name": "stdout",
     "output_type": "stream",
     "text": [
      "Output #30: $$Here's another string that has unwanted characters.__---++\n",
      "Output #31: The unwanted characters have been removed.\n"
     ]
    }
   ],
   "source": [
    "string4 = \"$$Here's another string that has unwanted characters.__---++\"\n",
    "print(\"Output #30: {0:s}\".format(string4))\n",
    "string4 = \"$$The unwanted characters have been removed.__---++\"\n",
    "sthing4_strip = string4.strip('$_-+')\n",
    "print(\"Output #31: {0:s}\".format(sthing4_strip))"
   ]
  },
  {
   "cell_type": "markdown",
   "metadata": {},
   "source": [
    "replace"
   ]
  },
  {
   "cell_type": "code",
   "execution_count": 17,
   "metadata": {},
   "outputs": [
    {
     "name": "stdout",
     "output_type": "stream",
     "text": [
      "Output #32 (with !@!): Let's!@!replace!@!the!@!space!@!in!@!this!@!sentence!@!with!@!other!@!characters.\n",
      "Output #32 (with commas): Let's,replace,the,space,in,this,sentence,with,other,characters.\n"
     ]
    }
   ],
   "source": [
    "string5 = \"Let's replace the space in this sentence with other characters.\"\n",
    "string5_replace = string5.replace(\" \",\"!@!\")\n",
    "print(\"Output #32 (with !@!): {0:s}\".format(string5_replace))\n",
    "string5_replace = string5.replace(\" \",\",\")\n",
    "print(\"Output #33 (with commas): {0:s}\".format(string5_replace))"
   ]
  },
  {
   "cell_type": "markdown",
   "metadata": {},
   "source": [
    "lowr, upper, capitalize"
   ]
  },
  {
   "cell_type": "code",
   "execution_count": 25,
   "metadata": {},
   "outputs": [
    {
     "name": "stdout",
     "output_type": "stream",
     "text": [
      "Output #34: here's what happens when you use lower.\n",
      "Output #35: HERE'S WHAT HAPPENS WHEN YOU USE UPPER.\n",
      "Output #36: Here's what happens when you use capitalize.\n",
      "Output #37: (on each word):\n",
      "Here's\n",
      "What\n",
      "Happens\n",
      "When\n",
      "You\n",
      "Use\n",
      "Capitalize.\n"
     ]
    }
   ],
   "source": [
    "string6 = \"Here's WHAT Happens WHEN You Use lower.\"\n",
    "print(\"Output #34: {0:s}\".format(string6.lower()))\n",
    "string7 = \"Here's WHAT Happens WHEN You Use UPPER.\"\n",
    "print(\"Output #35: {0:s}\".format(string7.upper()))\n",
    "string8 = \"here's WHAT Happens WHEN you use Capitalize.\"\n",
    "print(\"Output #36: {0:s}\".format(string8.capitalize()))  ## 將字串第一個字元變大寫，其餘字元變成小寫\n",
    "string8_list = string8.split()\n",
    "print(\"Output #37: (on each word):\")\n",
    "for word in string8_list:\n",
    "    print(\"{0:s}\".format(word.capitalize()))"
   ]
  },
  {
   "cell_type": "markdown",
   "metadata": {},
   "source": [
    "正規表達式與匹配文字組合"
   ]
  },
  {
   "cell_type": "code",
   "execution_count": 26,
   "metadata": {},
   "outputs": [
    {
     "name": "stdout",
     "output_type": "stream",
     "text": [
      "Output #38:2\n"
     ]
    }
   ],
   "source": [
    "# 在程式最前面有 import re\n",
    "# 計算一個文字組合在字串中出現的次數\n",
    "\n",
    "string = \"The quick brown fox jumps over the lazy dog.\"\n",
    "string_list = string.split()\n",
    "pattern = re.compile(r\"The\", re.I)  ## re.compile 將文字組合編譯成正規表達式（可大幅增加程式速度）\n",
    "                                    ## re.I 確保這個文字組合會區分大小寫\n",
    "                                    ## 原始字串標記 r 可確保 Python 不處理字串的特殊序列，例如 \\、\\t、\\n\n",
    "count = 0\n",
    "for word in string_list:\n",
    "    if pattern.search(word):\n",
    "        count += 1\n",
    "print(\"Output #38:{0:d}\".format(count))       "
   ]
  },
  {
   "cell_type": "code",
   "execution_count": 32,
   "metadata": {},
   "outputs": [
    {
     "name": "stdout",
     "output_type": "stream",
     "text": [
      "Output #39:\n",
      "The\n",
      "the\n"
     ]
    }
   ],
   "source": [
    "# 每次在字串中發現文字組合時，就印出它\n",
    "\n",
    "string = \"The quick brown fox jumps over the lazy dog.\"\n",
    "string_list = string.split()\n",
    "pattern = re.compile(r\"(?P<match_word>The)\", re.I) ## (?P<name>)是中繼字元。這個中繼字元可讓之後的程式透過符號群組名稱<name>\n",
    "                                                   ## 來使用匹配的字串，此例的群組為<match_word> \n",
    "print(\"Output #39:\")\n",
    "for word in string_list:\n",
    "    if pattern.search(word):\n",
    "        print(\"{:s}\".format(pattern.search(word).group('match_word')))"
   ]
  },
  {
   "cell_type": "code",
   "execution_count": 36,
   "metadata": {},
   "outputs": [
    {
     "name": "stdout",
     "output_type": "stream",
     "text": [
      "Output #40: a quick brown fox jumps over a lazy dog.\n"
     ]
    }
   ],
   "source": [
    "# 將字串中的單字 \"the\" 換成字母 \"a\"\n",
    "\n",
    "string = \"The quick brown fox jumps over the lazy dog.\"\n",
    "string_to_find = r\"The\"\n",
    "pattern = re.compile(string_to_find, re.I)  ## 將正規表達式指派給變數 pattern\n",
    "print(\"Output #40: {:s}\".format(pattern.sub(\"a\", string))) ## 使用 re.sub 函式在 string 變數中尋找文字組合 The，不分大小寫\n",
    "                                                           ## 並將每一個文字組合換成字母 a "
   ]
  },
  {
   "cell_type": "markdown",
   "metadata": {},
   "source": [
    "日期"
   ]
  },
  {
   "cell_type": "code",
   "execution_count": 40,
   "metadata": {},
   "outputs": [
    {
     "name": "stdout",
     "output_type": "stream",
     "text": [
      "Output #41: today: 2019-04-02\n",
      "Output #42: Year: 2019\n",
      "Output #43: Month: 4\n",
      "Output #44: Day:2\n",
      "Output #45: Datetime: 2019-04-02 16:56:07.686664\n"
     ]
    }
   ],
   "source": [
    "# 印出今天的日期以及年、月與日元素\n",
    "\n",
    "today = date.today()\n",
    "print(\"Output #41: today: {0!s}\".format(today))  ## {0!s} 裡面的 !s 代表被傳入 print 陳述式裡的值會格式化成字串，即使是數字也是。\n",
    "print(\"Output #42: Year: {0!s}\".format(today.year))\n",
    "print(\"Output #43: Month: {0!s}\".format(today.month))\n",
    "print(\"Output #44: Day:{0!s}\".format(today.day))\n",
    "current_datetime = datetime.today()\n",
    "print(\"Output #45: Datetime: {0!s}\".format(current_datetime))"
   ]
  },
  {
   "cell_type": "code",
   "execution_count": 44,
   "metadata": {},
   "outputs": [
    {
     "name": "stdout",
     "output_type": "stream",
     "text": [
      "one_day: -1 day, 0:00:00\n",
      "Output #46: yesterday: 2019-04-01\n",
      "Output #47: -1 day, 16:00:00 -1 57600\n"
     ]
    }
   ],
   "source": [
    "# 使用 timedelta 來計算新日期\n",
    "\n",
    "one_day = timedelta(days=-1)\n",
    "yesterday = today + one_day\n",
    "print(\"one_day: {0!s}\".format(one_day))\n",
    "print(\"Output #46: yesterday: {0!s}\".format(yesterday))\n",
    "eight_hours = timedelta(hours = -8) ## 以今天零點為基礎的 8 個小前，即前一天的 16:00(24-8=16)，3600*16 = 57600(1小時 3600秒)\n",
    "print(\"Output #47: {0!s} {1!s} {2!s}\".format(eight_hours, eight_hours.days, eight_hours.seconds))"
   ]
  },
  {
   "cell_type": "code",
   "execution_count": 46,
   "metadata": {},
   "outputs": [
    {
     "name": "stdout",
     "output_type": "stream",
     "text": [
      "Output #48: 1 day, 0:00:00\n",
      "Output #49: 1\n"
     ]
    }
   ],
   "source": [
    "# 計算兩個日期差幾天\n",
    "\n",
    "date_diff = today - yesterday\n",
    "print(\"Output #48: {0!s}\".format(date_diff))\n",
    "print(\"Output #49: {0!s}\".format(str(date_diff).split()[0]))  ## str 函式將結果轉成字串，split 函式將字串以空格分開，並且讓每一個\n",
    "                                                              ## 子字串成為一個串列元素，而 [0] 代表抓取串列的第一個元素"
   ]
  }
 ],
 "metadata": {
  "kernelspec": {
   "display_name": "Python 3",
   "language": "python",
   "name": "python3"
  },
  "language_info": {
   "codemirror_mode": {
    "name": "ipython",
    "version": 3
   },
   "file_extension": ".py",
   "mimetype": "text/x-python",
   "name": "python",
   "nbconvert_exporter": "python",
   "pygments_lexer": "ipython3",
   "version": "3.7.1"
  }
 },
 "nbformat": 4,
 "nbformat_minor": 2
}
