{
 "cells": [
  {
   "cell_type": "code",
   "execution_count": 3,
   "metadata": {},
   "outputs": [],
   "source": [
    "%matplotlib inline\n",
    "import numpy as np\n",
    "import matplotlib.pyplot as plt"
   ]
  },
  {
   "cell_type": "code",
   "execution_count": 22,
   "metadata": {},
   "outputs": [],
   "source": [
    "p = [1095.95, 596.95, 896.95]"
   ]
  },
  {
   "cell_type": "code",
   "execution_count": 23,
   "metadata": {},
   "outputs": [],
   "source": [
    "c = 30.1"
   ]
  },
  {
   "cell_type": "code",
   "execution_count": 24,
   "metadata": {},
   "outputs": [],
   "source": [
    "prices = np.array(p)"
   ]
  },
  {
   "cell_type": "code",
   "execution_count": 25,
   "metadata": {},
   "outputs": [
    {
     "data": {
      "text/plain": [
       "array([32988.095, 17968.195, 26998.195])"
      ]
     },
     "execution_count": 25,
     "metadata": {},
     "output_type": "execute_result"
    }
   ],
   "source": [
    "prices * c"
   ]
  },
  {
   "cell_type": "code",
   "execution_count": 26,
   "metadata": {},
   "outputs": [],
   "source": [
    "grades = np.array([85, 70, 82])"
   ]
  },
  {
   "cell_type": "code",
   "execution_count": 28,
   "metadata": {},
   "outputs": [],
   "source": [
    "weights = np.array([0.3, 0.4, 0.3])"
   ]
  },
  {
   "cell_type": "code",
   "execution_count": 31,
   "metadata": {},
   "outputs": [],
   "source": [
    "g = grades * weights"
   ]
  },
  {
   "cell_type": "code",
   "execution_count": 32,
   "metadata": {},
   "outputs": [
    {
     "data": {
      "text/plain": [
       "array([25.5, 28. , 24.6])"
      ]
     },
     "execution_count": 32,
     "metadata": {},
     "output_type": "execute_result"
    }
   ],
   "source": [
    "g"
   ]
  },
  {
   "cell_type": "code",
   "execution_count": 33,
   "metadata": {},
   "outputs": [
    {
     "data": {
      "text/plain": [
       "78.1"
      ]
     },
     "execution_count": 33,
     "metadata": {},
     "output_type": "execute_result"
    }
   ],
   "source": [
    "g.sum()"
   ]
  },
  {
   "cell_type": "code",
   "execution_count": 34,
   "metadata": {},
   "outputs": [
    {
     "data": {
      "text/plain": [
       "78.1"
      ]
     },
     "execution_count": 34,
     "metadata": {},
     "output_type": "execute_result"
    }
   ],
   "source": [
    "np.dot(grades, weights)  # np.dot() 是乘積"
   ]
  },
  {
   "cell_type": "code",
   "execution_count": 4,
   "metadata": {},
   "outputs": [],
   "source": [
    "grades = np.array([[85, 70, 82], [75, 92, 85], [66, 67, 64], [87, 94, 60]])"
   ]
  },
  {
   "cell_type": "code",
   "execution_count": 5,
   "metadata": {},
   "outputs": [
    {
     "data": {
      "text/plain": [
       "array([[85, 70, 82],\n",
       "       [75, 92, 85],\n",
       "       [66, 67, 64],\n",
       "       [87, 94, 60]])"
      ]
     },
     "execution_count": 5,
     "metadata": {},
     "output_type": "execute_result"
    }
   ],
   "source": [
    "grades"
   ]
  },
  {
   "cell_type": "code",
   "execution_count": 6,
   "metadata": {},
   "outputs": [],
   "source": [
    "weights = np.array([0.3, 0.4, 0.3])"
   ]
  },
  {
   "cell_type": "code",
   "execution_count": 7,
   "metadata": {},
   "outputs": [
    {
     "data": {
      "text/plain": [
       "array([78.1, 84.8, 65.8, 81.7])"
      ]
     },
     "execution_count": 7,
     "metadata": {},
     "output_type": "execute_result"
    }
   ],
   "source": [
    "np.dot(grades, weights)"
   ]
  },
  {
   "cell_type": "code",
   "execution_count": 8,
   "metadata": {},
   "outputs": [],
   "source": [
    "A = np.random.randn(100)  # 平均值 0，標準差 1 的一維矩陣"
   ]
  },
  {
   "cell_type": "code",
   "execution_count": 9,
   "metadata": {},
   "outputs": [
    {
     "data": {
      "text/plain": [
       "array([-1.68147394,  0.68722338, -0.01327964,  0.6653662 ,  0.44326763,\n",
       "       -0.06664379,  0.67599484,  1.23370362,  1.21216824,  0.85202125,\n",
       "        0.21525865, -0.69563025,  1.03164891,  2.23873428, -0.22050894,\n",
       "       -1.27117351, -0.73741588,  0.39667367, -0.13166957,  0.06232832,\n",
       "       -0.49377347,  1.23133972,  0.3728124 ,  2.058877  , -3.03317598,\n",
       "       -0.58332974,  0.0678439 ,  2.69883192, -0.47710949, -0.32299049,\n",
       "        0.25561044, -0.18327074, -0.56236933,  0.14967623,  1.47084434,\n",
       "        3.0925911 , -0.26709081,  0.75050892, -0.04763712, -0.04406301,\n",
       "       -0.77932637, -0.12743591, -2.23250391,  1.07519346, -1.15460842,\n",
       "        0.34663648,  0.29484   ,  1.14679801, -0.35024361,  2.32716064,\n",
       "        1.50916955,  0.21638792, -0.11656637,  0.07316025,  0.01933755,\n",
       "        1.38197473, -0.12970284, -0.2335126 , -0.65295594, -0.16865131,\n",
       "        0.10406141,  0.78846259, -0.3923369 , -0.45970012,  0.22578791,\n",
       "        0.03351704,  0.47078747,  0.78179377, -0.27384457, -1.66079941,\n",
       "       -2.00964489, -1.46868858,  0.97309578, -1.40140637,  0.16175983,\n",
       "        0.24226022, -0.79384264, -0.01690224, -1.28701005,  0.40235053,\n",
       "        1.05444057, -0.8967747 ,  0.59807332,  0.6676425 ,  0.53280677,\n",
       "        0.20820416, -0.95854619,  0.75021984, -2.06193085,  0.0216063 ,\n",
       "       -1.82292841, -1.82300209,  1.30840097,  0.85559019, -0.12528923,\n",
       "       -1.85748355,  1.78824485,  0.3906807 , -1.01500081, -1.13151903])"
      ]
     },
     "execution_count": 9,
     "metadata": {},
     "output_type": "execute_result"
    }
   ],
   "source": [
    "A"
   ]
  },
  {
   "cell_type": "code",
   "execution_count": 10,
   "metadata": {},
   "outputs": [],
   "source": [
    "A = 10*A + 50  # 標準差 10，平均值 50 的一維矩陣"
   ]
  },
  {
   "cell_type": "code",
   "execution_count": 11,
   "metadata": {},
   "outputs": [
    {
     "data": {
      "text/plain": [
       "array([33.18526063, 56.87223381, 49.86720357, 56.65366202, 54.43267634,\n",
       "       49.3335621 , 56.75994838, 62.33703623, 62.1216824 , 58.52021249,\n",
       "       52.15258652, 43.0436975 , 60.31648914, 72.38734282, 47.79491064,\n",
       "       37.28826488, 42.62584116, 53.96673668, 48.68330427, 50.62328315,\n",
       "       45.06226534, 62.31339724, 53.72812403, 70.58877001, 19.66824025,\n",
       "       44.16670262, 50.678439  , 76.98831924, 45.22890505, 46.77009506,\n",
       "       52.55610437, 48.16729257, 44.37630665, 51.4967623 , 64.70844343,\n",
       "       80.925911  , 47.32909187, 57.50508921, 49.5236288 , 49.55936988,\n",
       "       42.20673629, 48.72564085, 27.67496092, 60.75193461, 38.45391581,\n",
       "       53.46636477, 52.94839998, 61.46798015, 46.4975639 , 73.27160643,\n",
       "       65.09169547, 52.16387923, 48.83433635, 50.73160254, 50.19337546,\n",
       "       63.81974733, 48.70297162, 47.66487396, 43.47044063, 48.31348687,\n",
       "       51.0406141 , 57.88462592, 46.07663097, 45.40299877, 52.25787908,\n",
       "       50.3351704 , 54.70787468, 57.8179377 , 47.26155429, 33.39200591,\n",
       "       29.90355108, 35.31311419, 59.73095783, 35.98593633, 51.61759828,\n",
       "       52.42260219, 42.06157356, 49.83097762, 37.12989948, 54.02350534,\n",
       "       60.54440567, 41.03225295, 55.9807332 , 56.67642503, 55.32806768,\n",
       "       52.08204161, 40.41453809, 57.50219836, 29.38069147, 50.21606297,\n",
       "       31.77071591, 31.76997911, 63.08400974, 58.55590194, 48.74710774,\n",
       "       31.42516445, 67.88244846, 53.90680703, 39.84999191, 38.68480972])"
      ]
     },
     "execution_count": 11,
     "metadata": {},
     "output_type": "execute_result"
    }
   ],
   "source": [
    "A"
   ]
  },
  {
   "cell_type": "code",
   "execution_count": 13,
   "metadata": {},
   "outputs": [
    {
     "data": {
      "text/plain": [
       "(100,)"
      ]
     },
     "execution_count": 13,
     "metadata": {},
     "output_type": "execute_result"
    }
   ],
   "source": [
    "A.shape    # 矩陣 A 的維度，一維：100、二維：0"
   ]
  },
  {
   "cell_type": "code",
   "execution_count": 14,
   "metadata": {},
   "outputs": [],
   "source": [
    "A.shape = (5, 20) # 將矩陣 A 轉變成一維：5、二維：20 的二維矩陣，一維與二維相乘必須是 100"
   ]
  },
  {
   "cell_type": "code",
   "execution_count": 15,
   "metadata": {},
   "outputs": [
    {
     "data": {
      "text/plain": [
       "array([[33.18526063, 56.87223381, 49.86720357, 56.65366202, 54.43267634,\n",
       "        49.3335621 , 56.75994838, 62.33703623, 62.1216824 , 58.52021249,\n",
       "        52.15258652, 43.0436975 , 60.31648914, 72.38734282, 47.79491064,\n",
       "        37.28826488, 42.62584116, 53.96673668, 48.68330427, 50.62328315],\n",
       "       [45.06226534, 62.31339724, 53.72812403, 70.58877001, 19.66824025,\n",
       "        44.16670262, 50.678439  , 76.98831924, 45.22890505, 46.77009506,\n",
       "        52.55610437, 48.16729257, 44.37630665, 51.4967623 , 64.70844343,\n",
       "        80.925911  , 47.32909187, 57.50508921, 49.5236288 , 49.55936988],\n",
       "       [42.20673629, 48.72564085, 27.67496092, 60.75193461, 38.45391581,\n",
       "        53.46636477, 52.94839998, 61.46798015, 46.4975639 , 73.27160643,\n",
       "        65.09169547, 52.16387923, 48.83433635, 50.73160254, 50.19337546,\n",
       "        63.81974733, 48.70297162, 47.66487396, 43.47044063, 48.31348687],\n",
       "       [51.0406141 , 57.88462592, 46.07663097, 45.40299877, 52.25787908,\n",
       "        50.3351704 , 54.70787468, 57.8179377 , 47.26155429, 33.39200591,\n",
       "        29.90355108, 35.31311419, 59.73095783, 35.98593633, 51.61759828,\n",
       "        52.42260219, 42.06157356, 49.83097762, 37.12989948, 54.02350534],\n",
       "       [60.54440567, 41.03225295, 55.9807332 , 56.67642503, 55.32806768,\n",
       "        52.08204161, 40.41453809, 57.50219836, 29.38069147, 50.21606297,\n",
       "        31.77071591, 31.76997911, 63.08400974, 58.55590194, 48.74710774,\n",
       "        31.42516445, 67.88244846, 53.90680703, 39.84999191, 38.68480972]])"
      ]
     },
     "execution_count": 15,
     "metadata": {},
     "output_type": "execute_result"
    }
   ],
   "source": [
    "A"
   ]
  },
  {
   "cell_type": "code",
   "execution_count": 17,
   "metadata": {},
   "outputs": [
    {
     "data": {
      "text/plain": [
       "array([[33.18526063],\n",
       "       [56.87223381],\n",
       "       [49.86720357],\n",
       "       [56.65366202],\n",
       "       [54.43267634],\n",
       "       [49.3335621 ],\n",
       "       [56.75994838],\n",
       "       [62.33703623],\n",
       "       [62.1216824 ],\n",
       "       [58.52021249],\n",
       "       [52.15258652],\n",
       "       [43.0436975 ],\n",
       "       [60.31648914],\n",
       "       [72.38734282],\n",
       "       [47.79491064],\n",
       "       [37.28826488],\n",
       "       [42.62584116],\n",
       "       [53.96673668],\n",
       "       [48.68330427],\n",
       "       [50.62328315],\n",
       "       [45.06226534],\n",
       "       [62.31339724],\n",
       "       [53.72812403],\n",
       "       [70.58877001],\n",
       "       [19.66824025],\n",
       "       [44.16670262],\n",
       "       [50.678439  ],\n",
       "       [76.98831924],\n",
       "       [45.22890505],\n",
       "       [46.77009506],\n",
       "       [52.55610437],\n",
       "       [48.16729257],\n",
       "       [44.37630665],\n",
       "       [51.4967623 ],\n",
       "       [64.70844343],\n",
       "       [80.925911  ],\n",
       "       [47.32909187],\n",
       "       [57.50508921],\n",
       "       [49.5236288 ],\n",
       "       [49.55936988],\n",
       "       [42.20673629],\n",
       "       [48.72564085],\n",
       "       [27.67496092],\n",
       "       [60.75193461],\n",
       "       [38.45391581],\n",
       "       [53.46636477],\n",
       "       [52.94839998],\n",
       "       [61.46798015],\n",
       "       [46.4975639 ],\n",
       "       [73.27160643],\n",
       "       [65.09169547],\n",
       "       [52.16387923],\n",
       "       [48.83433635],\n",
       "       [50.73160254],\n",
       "       [50.19337546],\n",
       "       [63.81974733],\n",
       "       [48.70297162],\n",
       "       [47.66487396],\n",
       "       [43.47044063],\n",
       "       [48.31348687],\n",
       "       [51.0406141 ],\n",
       "       [57.88462592],\n",
       "       [46.07663097],\n",
       "       [45.40299877],\n",
       "       [52.25787908],\n",
       "       [50.3351704 ],\n",
       "       [54.70787468],\n",
       "       [57.8179377 ],\n",
       "       [47.26155429],\n",
       "       [33.39200591],\n",
       "       [29.90355108],\n",
       "       [35.31311419],\n",
       "       [59.73095783],\n",
       "       [35.98593633],\n",
       "       [51.61759828],\n",
       "       [52.42260219],\n",
       "       [42.06157356],\n",
       "       [49.83097762],\n",
       "       [37.12989948],\n",
       "       [54.02350534],\n",
       "       [60.54440567],\n",
       "       [41.03225295],\n",
       "       [55.9807332 ],\n",
       "       [56.67642503],\n",
       "       [55.32806768],\n",
       "       [52.08204161],\n",
       "       [40.41453809],\n",
       "       [57.50219836],\n",
       "       [29.38069147],\n",
       "       [50.21606297],\n",
       "       [31.77071591],\n",
       "       [31.76997911],\n",
       "       [63.08400974],\n",
       "       [58.55590194],\n",
       "       [48.74710774],\n",
       "       [31.42516445],\n",
       "       [67.88244846],\n",
       "       [53.90680703],\n",
       "       [39.84999191],\n",
       "       [38.68480972]])"
      ]
     },
     "execution_count": 17,
     "metadata": {},
     "output_type": "execute_result"
    }
   ],
   "source": [
    "A.reshape(100,1)  # 會在記憶體內產生一個新的 Array，不會改變原來的 A "
   ]
  },
  {
   "cell_type": "code",
   "execution_count": 18,
   "metadata": {},
   "outputs": [
    {
     "data": {
      "text/plain": [
       "array([[33.18526063, 56.87223381, 49.86720357, 56.65366202, 54.43267634,\n",
       "        49.3335621 , 56.75994838, 62.33703623, 62.1216824 , 58.52021249,\n",
       "        52.15258652, 43.0436975 , 60.31648914, 72.38734282, 47.79491064,\n",
       "        37.28826488, 42.62584116, 53.96673668, 48.68330427, 50.62328315],\n",
       "       [45.06226534, 62.31339724, 53.72812403, 70.58877001, 19.66824025,\n",
       "        44.16670262, 50.678439  , 76.98831924, 45.22890505, 46.77009506,\n",
       "        52.55610437, 48.16729257, 44.37630665, 51.4967623 , 64.70844343,\n",
       "        80.925911  , 47.32909187, 57.50508921, 49.5236288 , 49.55936988],\n",
       "       [42.20673629, 48.72564085, 27.67496092, 60.75193461, 38.45391581,\n",
       "        53.46636477, 52.94839998, 61.46798015, 46.4975639 , 73.27160643,\n",
       "        65.09169547, 52.16387923, 48.83433635, 50.73160254, 50.19337546,\n",
       "        63.81974733, 48.70297162, 47.66487396, 43.47044063, 48.31348687],\n",
       "       [51.0406141 , 57.88462592, 46.07663097, 45.40299877, 52.25787908,\n",
       "        50.3351704 , 54.70787468, 57.8179377 , 47.26155429, 33.39200591,\n",
       "        29.90355108, 35.31311419, 59.73095783, 35.98593633, 51.61759828,\n",
       "        52.42260219, 42.06157356, 49.83097762, 37.12989948, 54.02350534],\n",
       "       [60.54440567, 41.03225295, 55.9807332 , 56.67642503, 55.32806768,\n",
       "        52.08204161, 40.41453809, 57.50219836, 29.38069147, 50.21606297,\n",
       "        31.77071591, 31.76997911, 63.08400974, 58.55590194, 48.74710774,\n",
       "        31.42516445, 67.88244846, 53.90680703, 39.84999191, 38.68480972]])"
      ]
     },
     "execution_count": 18,
     "metadata": {},
     "output_type": "execute_result"
    }
   ],
   "source": [
    "A  # reshape 後 A 還是沒變"
   ]
  },
  {
   "cell_type": "code",
   "execution_count": 19,
   "metadata": {},
   "outputs": [],
   "source": [
    "# 如果要改變 A，可以重新指派\n",
    "\n",
    "A = A.reshape(100,1)  "
   ]
  },
  {
   "cell_type": "code",
   "execution_count": 20,
   "metadata": {},
   "outputs": [
    {
     "data": {
      "text/plain": [
       "array([[33.18526063],\n",
       "       [56.87223381],\n",
       "       [49.86720357],\n",
       "       [56.65366202],\n",
       "       [54.43267634],\n",
       "       [49.3335621 ],\n",
       "       [56.75994838],\n",
       "       [62.33703623],\n",
       "       [62.1216824 ],\n",
       "       [58.52021249],\n",
       "       [52.15258652],\n",
       "       [43.0436975 ],\n",
       "       [60.31648914],\n",
       "       [72.38734282],\n",
       "       [47.79491064],\n",
       "       [37.28826488],\n",
       "       [42.62584116],\n",
       "       [53.96673668],\n",
       "       [48.68330427],\n",
       "       [50.62328315],\n",
       "       [45.06226534],\n",
       "       [62.31339724],\n",
       "       [53.72812403],\n",
       "       [70.58877001],\n",
       "       [19.66824025],\n",
       "       [44.16670262],\n",
       "       [50.678439  ],\n",
       "       [76.98831924],\n",
       "       [45.22890505],\n",
       "       [46.77009506],\n",
       "       [52.55610437],\n",
       "       [48.16729257],\n",
       "       [44.37630665],\n",
       "       [51.4967623 ],\n",
       "       [64.70844343],\n",
       "       [80.925911  ],\n",
       "       [47.32909187],\n",
       "       [57.50508921],\n",
       "       [49.5236288 ],\n",
       "       [49.55936988],\n",
       "       [42.20673629],\n",
       "       [48.72564085],\n",
       "       [27.67496092],\n",
       "       [60.75193461],\n",
       "       [38.45391581],\n",
       "       [53.46636477],\n",
       "       [52.94839998],\n",
       "       [61.46798015],\n",
       "       [46.4975639 ],\n",
       "       [73.27160643],\n",
       "       [65.09169547],\n",
       "       [52.16387923],\n",
       "       [48.83433635],\n",
       "       [50.73160254],\n",
       "       [50.19337546],\n",
       "       [63.81974733],\n",
       "       [48.70297162],\n",
       "       [47.66487396],\n",
       "       [43.47044063],\n",
       "       [48.31348687],\n",
       "       [51.0406141 ],\n",
       "       [57.88462592],\n",
       "       [46.07663097],\n",
       "       [45.40299877],\n",
       "       [52.25787908],\n",
       "       [50.3351704 ],\n",
       "       [54.70787468],\n",
       "       [57.8179377 ],\n",
       "       [47.26155429],\n",
       "       [33.39200591],\n",
       "       [29.90355108],\n",
       "       [35.31311419],\n",
       "       [59.73095783],\n",
       "       [35.98593633],\n",
       "       [51.61759828],\n",
       "       [52.42260219],\n",
       "       [42.06157356],\n",
       "       [49.83097762],\n",
       "       [37.12989948],\n",
       "       [54.02350534],\n",
       "       [60.54440567],\n",
       "       [41.03225295],\n",
       "       [55.9807332 ],\n",
       "       [56.67642503],\n",
       "       [55.32806768],\n",
       "       [52.08204161],\n",
       "       [40.41453809],\n",
       "       [57.50219836],\n",
       "       [29.38069147],\n",
       "       [50.21606297],\n",
       "       [31.77071591],\n",
       "       [31.76997911],\n",
       "       [63.08400974],\n",
       "       [58.55590194],\n",
       "       [48.74710774],\n",
       "       [31.42516445],\n",
       "       [67.88244846],\n",
       "       [53.90680703],\n",
       "       [39.84999191],\n",
       "       [38.68480972]])"
      ]
     },
     "execution_count": 20,
     "metadata": {},
     "output_type": "execute_result"
    }
   ],
   "source": [
    "A   # 重新指派後，A 就改變了"
   ]
  },
  {
   "cell_type": "code",
   "execution_count": 24,
   "metadata": {},
   "outputs": [
    {
     "name": "stdout",
     "output_type": "stream",
     "text": [
      "two_multi_res: [[ 6  6]\n",
      " [15 15]]\n"
     ]
    }
   ],
   "source": [
    "two_dim_matrix_one = np.array([[1, 2, 3], [4, 5, 6]])\n",
    "two_dim_matrix_two = np.array([[1, 1], [1, 1], [1, 1]])\n",
    "two_multi_res = np.dot(two_dim_matrix_one, two_dim_matrix_two)\n",
    "print('two_multi_res: %s' %(two_multi_res))"
   ]
  },
  {
   "cell_type": "markdown",
   "metadata": {},
   "source": [
    "### Array 的快速生成法"
   ]
  },
  {
   "cell_type": "code",
   "execution_count": 2,
   "metadata": {},
   "outputs": [],
   "source": [
    "xy = [[x, y] for x in range(10) for y in range(5)]"
   ]
  },
  {
   "cell_type": "code",
   "execution_count": 3,
   "metadata": {},
   "outputs": [
    {
     "data": {
      "text/plain": [
       "[[0, 0],\n",
       " [0, 1],\n",
       " [0, 2],\n",
       " [0, 3],\n",
       " [0, 4],\n",
       " [1, 0],\n",
       " [1, 1],\n",
       " [1, 2],\n",
       " [1, 3],\n",
       " [1, 4],\n",
       " [2, 0],\n",
       " [2, 1],\n",
       " [2, 2],\n",
       " [2, 3],\n",
       " [2, 4],\n",
       " [3, 0],\n",
       " [3, 1],\n",
       " [3, 2],\n",
       " [3, 3],\n",
       " [3, 4],\n",
       " [4, 0],\n",
       " [4, 1],\n",
       " [4, 2],\n",
       " [4, 3],\n",
       " [4, 4],\n",
       " [5, 0],\n",
       " [5, 1],\n",
       " [5, 2],\n",
       " [5, 3],\n",
       " [5, 4],\n",
       " [6, 0],\n",
       " [6, 1],\n",
       " [6, 2],\n",
       " [6, 3],\n",
       " [6, 4],\n",
       " [7, 0],\n",
       " [7, 1],\n",
       " [7, 2],\n",
       " [7, 3],\n",
       " [7, 4],\n",
       " [8, 0],\n",
       " [8, 1],\n",
       " [8, 2],\n",
       " [8, 3],\n",
       " [8, 4],\n",
       " [9, 0],\n",
       " [9, 1],\n",
       " [9, 2],\n",
       " [9, 3],\n",
       " [9, 4]]"
      ]
     },
     "execution_count": 3,
     "metadata": {},
     "output_type": "execute_result"
    }
   ],
   "source": [
    "xy"
   ]
  },
  {
   "cell_type": "code",
   "execution_count": 4,
   "metadata": {},
   "outputs": [],
   "source": [
    "xy = np.array(xy)"
   ]
  },
  {
   "cell_type": "code",
   "execution_count": 5,
   "metadata": {},
   "outputs": [
    {
     "data": {
      "text/plain": [
       "array([[0, 0],\n",
       "       [0, 1],\n",
       "       [0, 2],\n",
       "       [0, 3],\n",
       "       [0, 4],\n",
       "       [1, 0],\n",
       "       [1, 1],\n",
       "       [1, 2],\n",
       "       [1, 3],\n",
       "       [1, 4],\n",
       "       [2, 0],\n",
       "       [2, 1],\n",
       "       [2, 2],\n",
       "       [2, 3],\n",
       "       [2, 4],\n",
       "       [3, 0],\n",
       "       [3, 1],\n",
       "       [3, 2],\n",
       "       [3, 3],\n",
       "       [3, 4],\n",
       "       [4, 0],\n",
       "       [4, 1],\n",
       "       [4, 2],\n",
       "       [4, 3],\n",
       "       [4, 4],\n",
       "       [5, 0],\n",
       "       [5, 1],\n",
       "       [5, 2],\n",
       "       [5, 3],\n",
       "       [5, 4],\n",
       "       [6, 0],\n",
       "       [6, 1],\n",
       "       [6, 2],\n",
       "       [6, 3],\n",
       "       [6, 4],\n",
       "       [7, 0],\n",
       "       [7, 1],\n",
       "       [7, 2],\n",
       "       [7, 3],\n",
       "       [7, 4],\n",
       "       [8, 0],\n",
       "       [8, 1],\n",
       "       [8, 2],\n",
       "       [8, 3],\n",
       "       [8, 4],\n",
       "       [9, 0],\n",
       "       [9, 1],\n",
       "       [9, 2],\n",
       "       [9, 3],\n",
       "       [9, 4]])"
      ]
     },
     "execution_count": 5,
     "metadata": {},
     "output_type": "execute_result"
    }
   ],
   "source": [
    "xy"
   ]
  },
  {
   "cell_type": "code",
   "execution_count": 6,
   "metadata": {},
   "outputs": [
    {
     "data": {
      "text/plain": [
       "array([0., 0., 0., 0., 0., 0., 0., 0., 0., 0.])"
      ]
     },
     "execution_count": 6,
     "metadata": {},
     "output_type": "execute_result"
    }
   ],
   "source": [
    "np.zeros(10)"
   ]
  },
  {
   "cell_type": "code",
   "execution_count": 7,
   "metadata": {},
   "outputs": [
    {
     "data": {
      "text/plain": [
       "array([[0., 0., 0., 0.],\n",
       "       [0., 0., 0., 0.],\n",
       "       [0., 0., 0., 0.]])"
      ]
     },
     "execution_count": 7,
     "metadata": {},
     "output_type": "execute_result"
    }
   ],
   "source": [
    "np.zeros((3, 4))"
   ]
  },
  {
   "cell_type": "code",
   "execution_count": 8,
   "metadata": {},
   "outputs": [
    {
     "data": {
      "text/plain": [
       "array([1., 1., 1., 1., 1.])"
      ]
     },
     "execution_count": 8,
     "metadata": {},
     "output_type": "execute_result"
    }
   ],
   "source": [
    "np.ones(5)"
   ]
  },
  {
   "cell_type": "code",
   "execution_count": 9,
   "metadata": {},
   "outputs": [
    {
     "data": {
      "text/plain": [
       "array([[1., 0., 0., 0., 0.],\n",
       "       [0., 1., 0., 0., 0.],\n",
       "       [0., 0., 1., 0., 0.],\n",
       "       [0., 0., 0., 1., 0.],\n",
       "       [0., 0., 0., 0., 1.]])"
      ]
     },
     "execution_count": 9,
     "metadata": {},
     "output_type": "execute_result"
    }
   ],
   "source": [
    "np.eye(5)"
   ]
  },
  {
   "cell_type": "markdown",
   "metadata": {},
   "source": [
    "### Array 畫圖超方便"
   ]
  },
  {
   "cell_type": "code",
   "execution_count": 10,
   "metadata": {},
   "outputs": [],
   "source": [
    "y = np.random.rand(50)"
   ]
  },
  {
   "cell_type": "code",
   "execution_count": 11,
   "metadata": {},
   "outputs": [
    {
     "data": {
      "text/plain": [
       "array([0.60319687, 0.76760035, 0.53077125, 0.58137327, 0.68323529,\n",
       "       0.8467779 , 0.31655456, 0.2565573 , 0.89039342, 0.75422539,\n",
       "       0.19745437, 0.37650252, 0.41283325, 0.16051716, 0.63908197,\n",
       "       0.61769991, 0.04432584, 0.89029886, 0.96635411, 0.41861316,\n",
       "       0.38904183, 0.28091783, 0.94330516, 0.96614243, 0.24032166,\n",
       "       0.93906132, 0.94012562, 0.72090793, 0.86715204, 0.8818404 ,\n",
       "       0.20764837, 0.07223874, 0.12402937, 0.01067571, 0.87804731,\n",
       "       0.2183727 , 0.52983343, 0.31422574, 0.3370777 , 0.41714126,\n",
       "       0.59762569, 0.81952254, 0.80729215, 0.14075924, 0.07398669,\n",
       "       0.44721797, 0.57882882, 0.55253089, 0.89472222, 0.35158574])"
      ]
     },
     "execution_count": 11,
     "metadata": {},
     "output_type": "execute_result"
    }
   ],
   "source": [
    "y"
   ]
  },
  {
   "cell_type": "code",
   "execution_count": 12,
   "metadata": {},
   "outputs": [
    {
     "data": {
      "text/plain": [
       "[<matplotlib.lines.Line2D at 0x1d1fda19a20>]"
      ]
     },
     "execution_count": 12,
     "metadata": {},
     "output_type": "execute_result"
    },
    {
     "data": {
      "image/png": "[encoded data removed]",
      "text/plain": [
       "<Figure size 432x288 with 1 Axes>"
      ]
     },
     "metadata": {
      "needs_background": "light"
     },
     "output_type": "display_data"
    }
   ],
   "source": [
    "plt.plot(y)"
   ]
  },
  {
   "cell_type": "code",
   "execution_count": 13,
   "metadata": {},
   "outputs": [],
   "source": [
    "x = np.linspace(0, 10, 100)"
   ]
  },
  {
   "cell_type": "code",
   "execution_count": 14,
   "metadata": {},
   "outputs": [
    {
     "data": {
      "text/plain": [
       "array([ 0.        ,  0.1010101 ,  0.2020202 ,  0.3030303 ,  0.4040404 ,\n",
       "        0.50505051,  0.60606061,  0.70707071,  0.80808081,  0.90909091,\n",
       "        1.01010101,  1.11111111,  1.21212121,  1.31313131,  1.41414141,\n",
       "        1.51515152,  1.61616162,  1.71717172,  1.81818182,  1.91919192,\n",
       "        2.02020202,  2.12121212,  2.22222222,  2.32323232,  2.42424242,\n",
       "        2.52525253,  2.62626263,  2.72727273,  2.82828283,  2.92929293,\n",
       "        3.03030303,  3.13131313,  3.23232323,  3.33333333,  3.43434343,\n",
       "        3.53535354,  3.63636364,  3.73737374,  3.83838384,  3.93939394,\n",
       "        4.04040404,  4.14141414,  4.24242424,  4.34343434,  4.44444444,\n",
       "        4.54545455,  4.64646465,  4.74747475,  4.84848485,  4.94949495,\n",
       "        5.05050505,  5.15151515,  5.25252525,  5.35353535,  5.45454545,\n",
       "        5.55555556,  5.65656566,  5.75757576,  5.85858586,  5.95959596,\n",
       "        6.06060606,  6.16161616,  6.26262626,  6.36363636,  6.46464646,\n",
       "        6.56565657,  6.66666667,  6.76767677,  6.86868687,  6.96969697,\n",
       "        7.07070707,  7.17171717,  7.27272727,  7.37373737,  7.47474747,\n",
       "        7.57575758,  7.67676768,  7.77777778,  7.87878788,  7.97979798,\n",
       "        8.08080808,  8.18181818,  8.28282828,  8.38383838,  8.48484848,\n",
       "        8.58585859,  8.68686869,  8.78787879,  8.88888889,  8.98989899,\n",
       "        9.09090909,  9.19191919,  9.29292929,  9.39393939,  9.49494949,\n",
       "        9.5959596 ,  9.6969697 ,  9.7979798 ,  9.8989899 , 10.        ])"
      ]
     },
     "execution_count": 14,
     "metadata": {},
     "output_type": "execute_result"
    }
   ],
   "source": [
    "x"
   ]
  },
  {
   "cell_type": "code",
   "execution_count": 17,
   "metadata": {},
   "outputs": [
    {
     "data": {
      "text/plain": [
       "[<matplotlib.lines.Line2D at 0x1d1fcf78080>]"
      ]
     },
     "execution_count": 17,
     "metadata": {},
     "output_type": "execute_result"
    },
    {
     "data": {
      "image/png": "[encoded data removed]",
      "text/plain": [
       "<Figure size 432x288 with 1 Axes>"
      ]
     },
     "metadata": {
      "needs_background": "light"
     },
     "output_type": "display_data"
    }
   ],
   "source": [
    "plt.plot(x, np.sin(x)+x)"
   ]
  },
  {
   "cell_type": "code",
   "execution_count": 19,
   "metadata": {},
   "outputs": [
    {
     "data": {
      "text/plain": [
       "[<matplotlib.lines.Line2D at 0x1d1fd92e518>]"
      ]
     },
     "execution_count": 19,
     "metadata": {},
     "output_type": "execute_result"
    },
    {
     "data": {
      "image/png": "[encoded data removed]",
      "text/plain": [
       "<Figure size 432x288 with 1 Axes>"
      ]
     },
     "metadata": {
      "needs_background": "light"
     },
     "output_type": "display_data"
    }
   ],
   "source": [
    "plt.plot(x, np.sin(x)+x)\n",
    "plt.plot(x, np.cos(x))"
   ]
  },
  {
   "cell_type": "markdown",
   "metadata": {},
   "source": [
    "### Array 快篩法"
   ]
  },
  {
   "cell_type": "code",
   "execution_count": 20,
   "metadata": {},
   "outputs": [],
   "source": [
    "L = np.array([3, -2, 4, -5, 333, -555, -60])"
   ]
  },
  {
   "cell_type": "code",
   "execution_count": 21,
   "metadata": {},
   "outputs": [
    {
     "data": {
      "text/plain": [
       "array([False,  True, False,  True, False,  True,  True])"
      ]
     },
     "execution_count": 21,
     "metadata": {},
     "output_type": "execute_result"
    }
   ],
   "source": [
    "L < 0"
   ]
  },
  {
   "cell_type": "code",
   "execution_count": 22,
   "metadata": {},
   "outputs": [
    {
     "data": {
      "text/plain": [
       "3"
      ]
     },
     "execution_count": 22,
     "metadata": {},
     "output_type": "execute_result"
    }
   ],
   "source": [
    "L[0]"
   ]
  },
  {
   "cell_type": "code",
   "execution_count": 23,
   "metadata": {},
   "outputs": [
    {
     "data": {
      "text/plain": [
       "array([ 4, -5])"
      ]
     },
     "execution_count": 23,
     "metadata": {},
     "output_type": "execute_result"
    }
   ],
   "source": [
    "L[2:4]"
   ]
  },
  {
   "cell_type": "code",
   "execution_count": 24,
   "metadata": {},
   "outputs": [
    {
     "data": {
      "text/plain": [
       "array([  -2,   -5, -555,  -60])"
      ]
     },
     "execution_count": 24,
     "metadata": {},
     "output_type": "execute_result"
    }
   ],
   "source": [
    "L[L<0]"
   ]
  },
  {
   "cell_type": "code",
   "execution_count": 26,
   "metadata": {},
   "outputs": [
    {
     "data": {
      "text/plain": [
       "[<matplotlib.lines.Line2D at 0x1d1fd6a0fd0>]"
      ]
     },
     "execution_count": 26,
     "metadata": {},
     "output_type": "execute_result"
    },
    {
     "data": {
      "image/png": "[encoded data removed]",
      "text/plain": [
       "<Figure size 432x288 with 1 Axes>"
      ]
     },
     "metadata": {
      "needs_background": "light"
     },
     "output_type": "display_data"
    }
   ],
   "source": [
    "x = np.linspace(-5, 5, 500)\n",
    "y = np.sinc(x)\n",
    "\n",
    "plt.plot(x, y)"
   ]
  },
  {
   "cell_type": "code",
   "execution_count": 27,
   "metadata": {},
   "outputs": [
    {
     "data": {
      "text/plain": [
       "[<matplotlib.lines.Line2D at 0x1d1fd7d93c8>]"
      ]
     },
     "execution_count": 27,
     "metadata": {},
     "output_type": "execute_result"
    },
    {
     "data": {
      "image/png": "[encoded data removed]",
      "text/plain": [
       "<Figure size 432x288 with 1 Axes>"
      ]
     },
     "metadata": {
      "needs_background": "light"
     },
     "output_type": "display_data"
    }
   ],
   "source": [
    "plt.plot(x, y)\n",
    "plt.plot(x[y>0], y[y>0], 'o')"
   ]
  },
  {
   "cell_type": "code",
   "execution_count": 28,
   "metadata": {},
   "outputs": [
    {
     "data": {
      "text/plain": [
       "array([56.])"
      ]
     },
     "execution_count": 28,
     "metadata": {},
     "output_type": "execute_result"
    }
   ],
   "source": [
    "五五六六 = np.linspace(56,5566)\n",
    "五五六六[五五六六<87]"
   ]
  }
 ],
 "metadata": {
  "kernelspec": {
   "display_name": "Python 3",
   "language": "python",
   "name": "python3"
  },
  "language_info": {
   "codemirror_mode": {
    "name": "ipython",
    "version": 3
   },
   "file_extension": ".py",
   "mimetype": "text/x-python",
   "name": "python",
   "nbconvert_exporter": "python",
   "pygments_lexer": "ipython3",
   "version": "3.7.1"
  }
 },
 "nbformat": 4,
 "nbformat_minor": 2
}
