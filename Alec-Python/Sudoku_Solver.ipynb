{
 "cells": [
  {
   "cell_type": "code",
   "execution_count": null,
   "metadata": {},
   "outputs": [],
   "source": [
    "# -*- coding: utf-8 -*-\n",
    "\n",
    "def runBoard(board,times=0): #遞迴檢測所用之函數\n",
    "    you_want_calculate_times = True #控制是否統計運算次數並回傳\n",
    "\n",
    "    def numInclude(inp_row,inp_col,board): #輸入座標，目前版面\n",
    "        boardrow = board[inp_row] #定義檢測數值所在之橫列\n",
    "        boardcolumn = [board[r][inp_col] for r in range(9)] #定義檢測數值所在之直欄\n",
    "        row , col = inp_row//3*3 , inp_col//3*3\n",
    "        boardsquare = [board[row+x][col+y]for x in range(3) for y in range(3)] #定義檢測數值所在之九宮格\n",
    "        return set(boardrow + boardcolumn + boardsquare) #回傳列、欄、宮所有值\n",
    "        \n",
    "    possibleNum = [0]*9 #讓possiblenum原始長度為9以便進行長度比對\n",
    "    row=col=None #先設定座標值為None供後續檢測\n",
    "    for prow in range(9):\n",
    "        for pcol in range(9):\n",
    "            if not board[prow][pcol]:#如果有格子為0則進入\n",
    "                area=numInclude(prow,pcol,board) #讀取列、欄、宮所有值\n",
    "                possibleNum1 = [num for num in range(1,10) if not num in area] #過濾出此格的所有可能數字\n",
    "                if not possibleNum1:return None,times #如果有格子填不下去了則退回一層\n",
    "                if len(possibleNum1) < len(possibleNum) : #尋找可能性最少的格子\n",
    "                    row,col,possibleNum = prow,pcol,possibleNum1\n",
    "                    \n",
    "    if row==col==None: #如果找不到空格(0)，在跑完9*9=81格後row and col依舊為None，這時就可以回傳答案了\n",
    "        if you_want_calculate_times:\n",
    "            return [[col for col in row]for row in board],times \n",
    "            #這樣寫是為了不用deepcopy達成deepcopy的效果，防止回傳的答案後面又全被改回0\n",
    "        else:\n",
    "            return [[col for col in row]for row in board]\n",
    "            \n",
    "    if possibleNum: #如果possibleNum不為空則為True\n",
    "        for fillNum in possibleNum: #由possibleNum讀取可能的數字\n",
    "            board[row][col] = fillNum #填入可能數字\n",
    "            #[print(''.join([str(i) for i in j])) for j in board]\n",
    "            #預留監測運行過程用的CODE\n",
    "            times += 1\n",
    "            if you_want_calculate_times:\n",
    "                answer , times = runBoard(board,times) #尋找下一個空格(0)繼續填入數字\n",
    "            else:\n",
    "                answer = runBoard(board)\n",
    "            if answer : #如果answer有接收到回傳的LIST就把answer一層層回傳\n",
    "                board[row][col] = 0 #把題目的list回歸原狀\n",
    "                if you_want_calculate_times:\n",
    "                    return answer,times\n",
    "                else:return answer\n",
    "                \n",
    "    #若後面的空格都檢查過，這邊跑完possibleNum也沒有答案，則此座標的數值歸0並退回一層\n",
    "    board[row][col] = 0\n",
    "    if you_want_calculate_times:return None,times\n",
    "    else:return None\n"
   ]
  }
 ],
 "metadata": {
  "kernelspec": {
   "display_name": "Python 3",
   "language": "python",
   "name": "python3"
  },
  "language_info": {
   "codemirror_mode": {
    "name": "ipython",
    "version": 3
   },
   "file_extension": ".py",
   "mimetype": "text/x-python",
   "name": "python",
   "nbconvert_exporter": "python",
   "pygments_lexer": "ipython3",
   "version": "3.7.3"
  }
 },
 "nbformat": 4,
 "nbformat_minor": 2
}
